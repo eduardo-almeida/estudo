{
 "cells": [
  {
   "cell_type": "markdown",
   "metadata": {},
   "source": [
    "# Desafio Final - 21/12/2019\n",
    "\n",
    "![Codenation](img/codenation_ds.png) <br><br>\n",
    "![Banco Inter](img/banco-inter-logo.png)\n",
    "## Squad 4\n",
    "> Autores \n",
    "```\n",
    ">- Nilson Cunha    | nilsoncunha\n",
    ">- Otávio Miranda  | otavioacm\n",
    ">- Rafael Barbosa  | rlbarbosa\n",
    ">- Roberth Macedo  | macedoroberth\n",
    "```"
   ]
  },
  {
   "cell_type": "code",
   "execution_count": 1,
   "metadata": {},
   "outputs": [],
   "source": [
    "import pandas as pd\n",
    "import numpy as np\n",
    "import seaborn as sns\n",
    "import matplotlib.pyplot as plt\n",
    "from plotnine import *\n",
    "sns.set(style='darkgrid')\n",
    "\n",
    "import warnings\n",
    "warnings.filterwarnings('ignore')"
   ]
  },
  {
   "cell_type": "code",
   "execution_count": 2,
   "metadata": {},
   "outputs": [],
   "source": [
    "%matplotlib inline\n",
    "\n",
    "from IPython.core.pylabtools import figsize\n",
    "\n",
    "figsize(12, 6)\n",
    "\n",
    "sns.set()"
   ]
  },
  {
   "cell_type": "code",
   "execution_count": 3,
   "metadata": {},
   "outputs": [],
   "source": [
    "# Carregando a base\n",
    "\n",
    "market = pd.read_csv('../desafio/estaticos_market.csv')\n",
    "port1 = pd.read_csv('../desafio/port1.csv')\n",
    "port2 = pd.read_csv('../desafio/port2.csv')\n",
    "port3 = pd.read_csv('../desafio/port3.csv')"
   ]
  },
  {
   "cell_type": "code",
   "execution_count": 4,
   "metadata": {},
   "outputs": [
    {
     "data": {
      "text/html": [
       "<div>\n",
       "<style scoped>\n",
       "    .dataframe tbody tr th:only-of-type {\n",
       "        vertical-align: middle;\n",
       "    }\n",
       "\n",
       "    .dataframe tbody tr th {\n",
       "        vertical-align: top;\n",
       "    }\n",
       "\n",
       "    .dataframe thead th {\n",
       "        text-align: right;\n",
       "    }\n",
       "</style>\n",
       "<table border=\"1\" class=\"dataframe\">\n",
       "  <thead>\n",
       "    <tr style=\"text-align: right;\">\n",
       "      <th></th>\n",
       "      <th>Unnamed: 0</th>\n",
       "      <th>id</th>\n",
       "      <th>fl_matriz</th>\n",
       "      <th>de_natureza_juridica</th>\n",
       "      <th>sg_uf</th>\n",
       "      <th>natureza_juridica_macro</th>\n",
       "      <th>de_ramo</th>\n",
       "      <th>setor</th>\n",
       "      <th>idade_empresa_anos</th>\n",
       "      <th>idade_emp_cat</th>\n",
       "      <th>...</th>\n",
       "      <th>media_meses_servicos</th>\n",
       "      <th>max_meses_servicos</th>\n",
       "      <th>min_meses_servicos</th>\n",
       "      <th>qt_funcionarios</th>\n",
       "      <th>qt_funcionarios_12meses</th>\n",
       "      <th>qt_funcionarios_24meses</th>\n",
       "      <th>tx_crescimento_12meses</th>\n",
       "      <th>tx_crescimento_24meses</th>\n",
       "      <th>tx_rotatividade</th>\n",
       "      <th>qt_filiais</th>\n",
       "    </tr>\n",
       "  </thead>\n",
       "  <tbody>\n",
       "    <tr>\n",
       "      <td>0</td>\n",
       "      <td>0</td>\n",
       "      <td>a6984c3ae395090e3bee8ad63c3758b110de096d5d8195...</td>\n",
       "      <td>True</td>\n",
       "      <td>SOCIEDADE EMPRESARIA LIMITADA</td>\n",
       "      <td>RN</td>\n",
       "      <td>ENTIDADES EMPRESARIAIS</td>\n",
       "      <td>INDUSTRIA DA CONSTRUCAO</td>\n",
       "      <td>CONSTRUÇÃO CIVIL</td>\n",
       "      <td>14.457534</td>\n",
       "      <td>10 a 15</td>\n",
       "      <td>...</td>\n",
       "      <td>43.738462</td>\n",
       "      <td>93.266667</td>\n",
       "      <td>19.166667</td>\n",
       "      <td>26.0</td>\n",
       "      <td>26.0</td>\n",
       "      <td>27.0</td>\n",
       "      <td>0.0</td>\n",
       "      <td>-3.703704</td>\n",
       "      <td>0.0</td>\n",
       "      <td>0</td>\n",
       "    </tr>\n",
       "    <tr>\n",
       "      <td>1</td>\n",
       "      <td>1</td>\n",
       "      <td>6178f41ade1365e44bc2c46654c2c8c0eaae27dcb476c4...</td>\n",
       "      <td>True</td>\n",
       "      <td>EMPRESARIO INDIVIDUAL</td>\n",
       "      <td>PI</td>\n",
       "      <td>OUTROS</td>\n",
       "      <td>SERVICOS DE ALOJAMENTO/ALIMENTACAO</td>\n",
       "      <td>SERVIÇO</td>\n",
       "      <td>1.463014</td>\n",
       "      <td>1 a 5</td>\n",
       "      <td>...</td>\n",
       "      <td>NaN</td>\n",
       "      <td>NaN</td>\n",
       "      <td>NaN</td>\n",
       "      <td>NaN</td>\n",
       "      <td>NaN</td>\n",
       "      <td>NaN</td>\n",
       "      <td>NaN</td>\n",
       "      <td>NaN</td>\n",
       "      <td>NaN</td>\n",
       "      <td>0</td>\n",
       "    </tr>\n",
       "  </tbody>\n",
       "</table>\n",
       "<p>2 rows × 182 columns</p>\n",
       "</div>"
      ],
      "text/plain": [
       "   Unnamed: 0                                                 id  fl_matriz  \\\n",
       "0           0  a6984c3ae395090e3bee8ad63c3758b110de096d5d8195...       True   \n",
       "1           1  6178f41ade1365e44bc2c46654c2c8c0eaae27dcb476c4...       True   \n",
       "\n",
       "            de_natureza_juridica sg_uf natureza_juridica_macro  \\\n",
       "0  SOCIEDADE EMPRESARIA LIMITADA    RN  ENTIDADES EMPRESARIAIS   \n",
       "1          EMPRESARIO INDIVIDUAL    PI                  OUTROS   \n",
       "\n",
       "                              de_ramo             setor  idade_empresa_anos  \\\n",
       "0             INDUSTRIA DA CONSTRUCAO  CONSTRUÇÃO CIVIL           14.457534   \n",
       "1  SERVICOS DE ALOJAMENTO/ALIMENTACAO           SERVIÇO            1.463014   \n",
       "\n",
       "  idade_emp_cat  ...  media_meses_servicos  max_meses_servicos  \\\n",
       "0       10 a 15  ...             43.738462           93.266667   \n",
       "1         1 a 5  ...                   NaN                 NaN   \n",
       "\n",
       "   min_meses_servicos  qt_funcionarios  qt_funcionarios_12meses  \\\n",
       "0           19.166667             26.0                     26.0   \n",
       "1                 NaN              NaN                      NaN   \n",
       "\n",
       "  qt_funcionarios_24meses  tx_crescimento_12meses  tx_crescimento_24meses  \\\n",
       "0                    27.0                     0.0               -3.703704   \n",
       "1                     NaN                     NaN                     NaN   \n",
       "\n",
       "   tx_rotatividade qt_filiais  \n",
       "0              0.0          0  \n",
       "1              NaN          0  \n",
       "\n",
       "[2 rows x 182 columns]"
      ]
     },
     "execution_count": 4,
     "metadata": {},
     "output_type": "execute_result"
    }
   ],
   "source": [
    "market.head(2)"
   ]
  },
  {
   "cell_type": "code",
   "execution_count": 5,
   "metadata": {},
   "outputs": [],
   "source": [
    "market.drop('Unnamed: 0', axis=1, inplace=True)"
   ]
  },
  {
   "cell_type": "code",
   "execution_count": 6,
   "metadata": {},
   "outputs": [
    {
     "data": {
      "text/plain": [
       "id                         0.000000\n",
       "fl_matriz                  0.000000\n",
       "de_natureza_juridica       0.000000\n",
       "sg_uf                      0.000000\n",
       "natureza_juridica_macro    0.000000\n",
       "                             ...   \n",
       "qt_funcionarios_24meses    0.775958\n",
       "tx_crescimento_12meses     0.840172\n",
       "tx_crescimento_24meses     0.839900\n",
       "tx_rotatividade            0.775958\n",
       "qt_filiais                 0.000000\n",
       "Length: 181, dtype: float64"
      ]
     },
     "execution_count": 6,
     "metadata": {},
     "output_type": "execute_result"
    }
   ],
   "source": [
    "market.isnull().mean()"
   ]
  },
  {
   "cell_type": "markdown",
   "metadata": {},
   "source": [
    "> *Primeiramente iniciamos nossa análise verificando a informação de dados faltantes e, conforme dados acima, observamos que em algum momento chegamos a ter mais de 70% de dados faltantes. Com isso definimos que iriamos trabalhar somente com aquelas variáveis que tivessem menos de 50% de dados nulos. Removendo essas que fugiam do limite estipulado, no qual dividimos por categorias:*"
   ]
  },
  {
   "cell_type": "markdown",
   "metadata": {},
   "source": [
    "### Informações Cadastrais - 12 Variáveis\n",
    "| Coluna                                | Percentual | Descrição                                   | Anotações                             |\n",
    "|---------------------------------------|------------|---------------------------------------------|---------------------------------------|\n",
    "| fl_matriz                             | 0%         | Verdadeiro se o CNPJ corresponder a matriz  |                                       |\n",
    "| de_natureza_juridica                  | 0%         | Carрter da natureza jurьdica                | LTDA, SA,  Empresario individual      |\n",
    "| SG_UF                                 | 0%         | Estado da companhia                         | Estado geogrрfico                     |\n",
    "| idade_empresa_anos                    | 0%         | Idade da empresa                            |                                       |\n",
    "| idade_emp_cat                         | 0%         | intervalo de anos que a empresa possui      |                                       |\n",
    "| fl_email                              | 0%         | Se hр email registrado na receita           | Pode identificar aptidсo a tecnologia |\n",
    "| fl_telefone                           | 0%         | Se hр telefone registrado na receita        |                                       |\n",
    "| fl_rm                                 | 0%         | Indicador de рrea metropolitana             | Indicador de рrea metropolitana       |\n",
    "| sg_uf_matriz                          | 0%         | Localização da matriz                       |                                       |\n",
    "| empsetorcensitariofaixarendapopulacao | 31%        | Renda média da região                       |                                       |\n",
    "| nm_meso_regiao                        | 13%        | Nome da mesorregiсo onde a cia estр alocada |                                       |\n",
    "| nm_micro_regiao                       | 13%        | Nome da microregiсo onde a cia estр alocada |\n",
    "\n",
    "### Informações financeiras - 20\n",
    "| Coluna                              | Percentual | Descritivo                                                      | Anotações                           |\n",
    "|-------------------------------------|------------|----------------------------------------------------------------|-------------------------------------|\n",
    "| fl_me                               | 0%         | Microempresa Individual                                        | Atж 360 mil reais/ ano              |\n",
    "| fl_sa                               | 0%         | Sociedade anЗnima                                              | Sociedade grande porte (normalmene) |\n",
    "| fl_epp                              | 0%         | Empresa de porte pequeno                                       | entre R$ 360 mil e R$ 3,6 milhшes   |\n",
    "| fl_mei                              | 0%         | Microempreendedor Individual                                   | Atж 60 mil reais/ ano               |\n",
    "| fl_ltda                             | 0%         | Limitada                                                       | Sociedade mжdio porte (normalmente) |\n",
    "| dt_situacao                         | 0%         | Data da situaусo na Receita                                    |                                     |\n",
    "| fl_st_especial                      | 0%         |                                                                | Falido, em liquidaусo judicial...   |\n",
    "| fl_optante_simples                  | 18%        | Optante pelo SIMPLES                                       | Correlaусo com a variрvel 14        |\n",
    "| fl_optante_simei                    | 18%        | Optante pelo SIMEI                                       |                                     |\n",
    "| de_saude_tributaria                 | 3%         | SE impostos pagos; verde; vermelho                             |                                     |\n",
    "| de_saude_rescencia                  | 3%         | Tempo de atualizaусo da saude tributaria                       |                                     |\n",
    "| nu_meses_rescencia                  | 10%        | Número de meses desde a última atualizações de saúde tributária |                                     |\n",
    "| de_nivel_atividade                  | 2%         | Probabilidade de estar operando                                |                                     |\n",
    "| fl_simples_irregular                | 0%         | Simples irregular por tipo de atividade ou receita             |                                     |\n",
    "| fl_passivel_iss                     | 0%         | Verdadeiro caso realize atividades tributрveis                 |                                     |\n",
    "| de_faixa_faturamento_estimado       | 6%         | Faixa do faturamento estimado                                  |                                     |\n",
    "| de_faixa_faturamento_estimado_grupo | 6%         | Faixa de faturamento estimado do grupo                         |                                     |\n",
    "| vl_faturamento_estimado_aux         | 6%         | Valor da receita estimada                                      |                                     |\n",
    "| vl_faturamento_estimado_grupo_aux   | 6%         | Valor da receita estimada do grupo                             |                                     |\n",
    "| qt_filiais                          | 0%         | Quantidade de filiais                                          |                                     |\n",
    "\n",
    "### Informações de veículos - 5\n",
    "| Coluna                          | Percentual | Descritivo                                         | Anotações                               |\n",
    "|---------------------------------|------------|---------------------------------------------------|-----------------------------------------|\n",
    "| fl_spa                          | 0%         | Se a empresa tem seu prзprio posto de combustьvel | Grupo de variрveis setor de transportes |\n",
    "| fl_antt                         | 0%         | Certificada para fins de transporte               |                                         |\n",
    "| fl_veiculo                      | 0%         | Se a empresa possuь ao menos um veьculo           |                                         |\n",
    "| vl_total_veiculos_pesados_grupo | 0%         | Valor dos veьculos leves da empresa               |                                         |\n",
    "| vl_total_veiculos_leves_grupo   | 0%         | Valor dos veьculos pesados da empresa             |                                         |\n",
    "\n",
    "### Setor de Atuação - 5\n",
    "| Coluna                  | Percentual | Descritivo                        | Anotações                                                                        |\n",
    "|-------------------------|------------|----------------------------------|----------------------------------------------------------------------------------|\n",
    "| natureza_juridica_macro | 0%         | Natureza da empresa              | Administracao publica, cargo politico...                                         |\n",
    "| de_ramo                 | 0%         | Ramo de atuaусo da empresa       | Verificar o ramo de atuaусo das empresas por portfзlio e verificar similaridades |\n",
    "| setor                   | 0%         | setor de atuaусo                 | Comercio, serviуo, indЩstria...                                                  |\n",
    "| nm_divisao              | 0%         | Descriусo da atividade econЗmica | Descriусo mais completa sobre o setor de atuaусo                                 |\n",
    "| nm_segmento             | 0%         | Descriусo da atividade econЗmica |                                                                                  \n",
    "\n",
    "### Informações dos sócios - 7\n",
    "| Coluna               | Percentual | Descrição                                | Anotações                        |\n",
    "|----------------------|------------|------------------------------------------|----------------------------------|\n",
    "| qt_socios            | 25%        | Quantidade de sзcios                     | Se relaciona com LTDA/AS -> GRP2 |\n",
    "| qt_socios_pf         | 25%        | Quantidade de sзcios PF                  |                                  |\n",
    "| qt_socios_pj         | 25%        | Quanidade de sзcios PJ                   |                                  |\n",
    "| idade_media_socios   | 33%        | Idade mжdia dos sзcios                   |                                  |\n",
    "| idade_maxima_socios  | 33%        | Idade mрxima dos sзcios                  |                                  |\n",
    "| idade_minima_socios  | 33%        | Idade mьnima dos sзcios                  |                                  |\n",
    "| qt_socios_st_regular | 34%        | Quanidade de sзcios regulares na Receita |                                  |\n"
   ]
  },
  {
   "cell_type": "markdown",
   "metadata": {},
   "source": [
    "## > Iniciando a análise exploratória em cada grupo"
   ]
  },
  {
   "cell_type": "code",
   "execution_count": 7,
   "metadata": {},
   "outputs": [],
   "source": [
    "# Seleciona apenas os dados com menos de 50% de nulos \n",
    "market = market.loc[:, market.isnull().mean() < 0.5]"
   ]
  },
  {
   "cell_type": "code",
   "execution_count": 8,
   "metadata": {},
   "outputs": [
    {
     "data": {
      "text/plain": [
       "(462298, 50)"
      ]
     },
     "execution_count": 8,
     "metadata": {},
     "output_type": "execute_result"
    }
   ],
   "source": [
    "market.shape"
   ]
  },
  {
   "cell_type": "markdown",
   "metadata": {},
   "source": [
    "> *Inserindo os portifólios na base de market*"
   ]
  },
  {
   "cell_type": "code",
   "execution_count": 9,
   "metadata": {},
   "outputs": [],
   "source": [
    "market['port1'] = market.id.isin(port1.id)\n",
    "market['port2'] = market.id.isin(port2.id)\n",
    "market['port3'] = market.id.isin(port3.id)\n",
    "market['idc_market'] = 1"
   ]
  },
  {
   "cell_type": "code",
   "execution_count": 10,
   "metadata": {},
   "outputs": [
    {
     "data": {
      "text/html": [
       "<div>\n",
       "<style scoped>\n",
       "    .dataframe tbody tr th:only-of-type {\n",
       "        vertical-align: middle;\n",
       "    }\n",
       "\n",
       "    .dataframe tbody tr th {\n",
       "        vertical-align: top;\n",
       "    }\n",
       "\n",
       "    .dataframe thead th {\n",
       "        text-align: right;\n",
       "    }\n",
       "</style>\n",
       "<table border=\"1\" class=\"dataframe\">\n",
       "  <thead>\n",
       "    <tr style=\"text-align: right;\">\n",
       "      <th></th>\n",
       "      <th>id</th>\n",
       "      <th>port1</th>\n",
       "      <th>port2</th>\n",
       "      <th>port3</th>\n",
       "      <th>idc_market</th>\n",
       "    </tr>\n",
       "  </thead>\n",
       "  <tbody>\n",
       "    <tr>\n",
       "      <td>0</td>\n",
       "      <td>a6984c3ae395090e3bee8ad63c3758b110de096d5d8195...</td>\n",
       "      <td>False</td>\n",
       "      <td>False</td>\n",
       "      <td>False</td>\n",
       "      <td>1</td>\n",
       "    </tr>\n",
       "    <tr>\n",
       "      <td>1</td>\n",
       "      <td>6178f41ade1365e44bc2c46654c2c8c0eaae27dcb476c4...</td>\n",
       "      <td>False</td>\n",
       "      <td>False</td>\n",
       "      <td>False</td>\n",
       "      <td>1</td>\n",
       "    </tr>\n",
       "    <tr>\n",
       "      <td>2</td>\n",
       "      <td>4a7e5069a397f12fdd7fd57111d6dc5d3ba558958efc02...</td>\n",
       "      <td>False</td>\n",
       "      <td>False</td>\n",
       "      <td>False</td>\n",
       "      <td>1</td>\n",
       "    </tr>\n",
       "    <tr>\n",
       "      <td>3</td>\n",
       "      <td>3348900fe63216a439d2e5238c79ddd46ede454df7b9d8...</td>\n",
       "      <td>False</td>\n",
       "      <td>False</td>\n",
       "      <td>False</td>\n",
       "      <td>1</td>\n",
       "    </tr>\n",
       "    <tr>\n",
       "      <td>4</td>\n",
       "      <td>1f9bcabc9d3173c1fe769899e4fac14b053037b953a1e4...</td>\n",
       "      <td>False</td>\n",
       "      <td>False</td>\n",
       "      <td>False</td>\n",
       "      <td>1</td>\n",
       "    </tr>\n",
       "  </tbody>\n",
       "</table>\n",
       "</div>"
      ],
      "text/plain": [
       "                                                  id  port1  port2  port3  \\\n",
       "0  a6984c3ae395090e3bee8ad63c3758b110de096d5d8195...  False  False  False   \n",
       "1  6178f41ade1365e44bc2c46654c2c8c0eaae27dcb476c4...  False  False  False   \n",
       "2  4a7e5069a397f12fdd7fd57111d6dc5d3ba558958efc02...  False  False  False   \n",
       "3  3348900fe63216a439d2e5238c79ddd46ede454df7b9d8...  False  False  False   \n",
       "4  1f9bcabc9d3173c1fe769899e4fac14b053037b953a1e4...  False  False  False   \n",
       "\n",
       "   idc_market  \n",
       "0           1  \n",
       "1           1  \n",
       "2           1  \n",
       "3           1  \n",
       "4           1  "
      ]
     },
     "execution_count": 10,
     "metadata": {},
     "output_type": "execute_result"
    }
   ],
   "source": [
    "market[['id','port1', 'port2', 'port3','idc_market']].head()"
   ]
  },
  {
   "cell_type": "markdown",
   "metadata": {},
   "source": [
    "### Análise referente ao grupo `Cadastros`"
   ]
  },
  {
   "cell_type": "code",
   "execution_count": 11,
   "metadata": {},
   "outputs": [],
   "source": [
    "features_cadastrais = [\n",
    "'id',\n",
    "'fl_matriz',\n",
    "'de_natureza_juridica',\n",
    "'sg_uf',\n",
    "'idade_empresa_anos',\n",
    "'idade_emp_cat',\n",
    "'fl_email',\n",
    "'fl_telefone',\n",
    "'fl_rm',\n",
    "'sg_uf_matriz',\n",
    "'empsetorcensitariofaixarendapopulacao',\n",
    "'nm_meso_regiao',\n",
    "'nm_micro_regiao',\n",
    "'port1',\n",
    "'port2',\n",
    "'port3']"
   ]
  },
  {
   "cell_type": "markdown",
   "metadata": {},
   "source": [
    "> *Criando nova coluna que diz se é do `Setor privado` ou `Setor público`*"
   ]
  },
  {
   "cell_type": "code",
   "execution_count": 12,
   "metadata": {},
   "outputs": [],
   "source": [
    "natureza_privado = ['SOCIEDADE EMPRESARIA LIMITADA', 'EMPRESARIO INDIVIDUAL', 'COOPERATIVA', 'ASSOCIACAO PRIVADA', \n",
    "'ENTIDADE SINDICAL', 'CONSORCIO DE SOCIEDADES', 'SOCIEDADE DE ECONOMIA MISTA', 'CONDOMINIO EDILICIO', 'SOCIEDADE ANONIMA ABERTA',\n",
    "'EMPRESA INDIVIDUAL DE RESPONSABILIDADE LIMITADA DE NATUREZA EMPRESARIA', 'EMPRESA INDIVIDUAL IMOBILIARIA',\n",
    "'SOCIEDADE SIMPLES LIMITADA', 'FUNDACAO PRIVADA', 'SOCIEDADE ANONIMA FECHADA',  'ORGANIZACAO RELIGIOSA',\n",
    "'SOCIEDADE UNIPESSOAL DE ADVOCACIA', 'SOCIEDADE SIMPLES PURA', 'SOCIEDADE EMPRESARIA EM NOME COLETIVO',\n",
    "'EMPRESA INDIVIDUAL DE RESPONSABILIDADE LIMITADA DE NATUREZA SIMPLES', 'SERVICO NOTARIAL E REGISTRAL CARTORIO', \n",
    "'ORGANIZACAO SOCIAL OS', 'CONSORCIO PUBDE DIREITO PUB ASS PUB', 'SERVICO SOCIAL AUTONOMO', 'SOCIEDADE EM CONTA DE PARTICIPACAO',\n",
    "'GRUPO DE SOCIEDADES', 'SOCIEDADE MERCANTIL DE CAPITAL E INDUSTRIA', 'SOCIEDADE EMPRESARIA EM COMANDITA POR ACOES',\n",
    "'ESTABELECIMENTO NO BRASIL DE SOCIEDADE ESTRANGEIRA', 'ENTIDADE DE MEDIACAO E ARBITRAGEM', 'COMUNIDADE INDIGENA',\n",
    "'ESTABELECIMENTO NO BRASIL DE FUNDACAO OU ASSOCIACAO ESTRANGEIRAS','CLUBE FUNDO DE INVESTIMENTO', 'REPRESENTACAO DIPLOMATICA ESTRANGEIRA',\n",
    "'SOCIEDADE SIMPLES EM COMANDITA SIMPLES', 'FRENTE PLEBISCITARIA OU REFERENDARIA', 'SOCIEDADE EMPRESARIA EM COMANDITA SIMPLES',\n",
    "'CONSORCIO DE EMPREGADORES', 'SOCIEDADE SIMPLES EM NOME COLETIVO', 'FUNDO PRIVADO']\n",
    "\n",
    "natureza_publico = ['ORGAO PUBLICO DO PODER EXECUTIVO FEDERAL', 'MUNICIPIO', 'ORGAO DE DIRECAO LOCAL DE PARTIDO POLITICO',\n",
    "'CANDIDATO A CARGO POLITICO ELETIVO', 'ORGAO PUBLICO DO PODER EXECUTIVO ESTADUAL OU DO DISTRITO FEDERAL',\n",
    "'ORGAO PUBLICO DO PODER EXECUTIVO MUNICIPAL', 'AUTARQUIA FEDERAL', 'ORGAO PUBLICO DO PODER JUDICIARIO ESTADUAL',\n",
    "'EMPRESA PUBLICA', 'AUTARQUIA MUNICIPAL', 'FUNDO PUBLICO', 'AUTARQUIA ESTADUAL OU DO DISTRITO FEDERAL',\n",
    "'FUNDACAO PUBLICA DE DIREITO PUB MUNICIPAL', 'ORGAO PUBLICO DO PODER LEGISLATIVO MUNICIPAL', 'ORGAO DE DIRECAO REGIONAL DE PARTIDO POLITICO',\n",
    "'FUNDACAO PUBLICA DE DIREITO PRIVADO MUNICIPAL', 'ORGAO PUBLICO AUTONOMO MUNICIPAL', 'ORGAO PUBLICO DO PODER JUDICIARIO FEDERAL',\n",
    "'FUNDACAO PUBLICA DE DIREITO PUBFEDERAL', 'ORGAO PUBLICO AUTONOMO ESTADUAL OU DO DISTRITO FEDERAL', 'FUNDACAO PUB DE DIREITO PUB EST OU DO DF',\n",
    "'ORGAO PUBLICO DO PODER LEGISLATIVO ESTADUAL OU DO DISTRITO FEDERAL', 'FUNDACAO PUBLICA DE DIREITO PRIVADO FEFERAL',\n",
    "'CONSORCIO PUBLICO DE DIREITO PRIVADO', 'ESTADO OU DISTRITO FEDERAL', 'ORGAO PUBLICO DO PODER LEGISLATIVO FEDERAL',\n",
    "'ORGAO DE DIRECAO NACIONAL DE PARTIDO POLITICO']"
   ]
  },
  {
   "cell_type": "code",
   "execution_count": 13,
   "metadata": {},
   "outputs": [],
   "source": [
    "market['setor_privado'] = np.where(market['de_natureza_juridica'].isin(natureza_privado), True, False)"
   ]
  },
  {
   "cell_type": "markdown",
   "metadata": {},
   "source": [
    "> *Fazendo a transformação da variável `fl_rm` para bool*"
   ]
  },
  {
   "cell_type": "code",
   "execution_count": 14,
   "metadata": {},
   "outputs": [],
   "source": [
    "market['fl_rm'] = market['fl_rm'].map({'SIM': True, 'NAO': False})"
   ]
  },
  {
   "cell_type": "markdown",
   "metadata": {},
   "source": [
    "> *Verificando a quantidade de matriz que existe no portfólio*"
   ]
  },
  {
   "cell_type": "code",
   "execution_count": 15,
   "metadata": {},
   "outputs": [
    {
     "data": {
      "text/plain": [
       "Text(0.5, 1.0, 'Quantidade de Matriz')"
      ]
     },
     "execution_count": 15,
     "metadata": {},
     "output_type": "execute_result"
    },
    {
     "data": {
      "image/png": "[encoded data removed]",
      "text/plain": [
       "<Figure size 1440x360 with 2 Axes>"
      ]
     },
     "metadata": {},
     "output_type": "display_data"
    }
   ],
   "source": [
    "cliente_matriz = pd.DataFrame()\n",
    "portfolio1 = market.loc[market['port1'], 'fl_matriz']\n",
    "portfolio2 = market.loc[market['port2'], 'fl_matriz']\n",
    "portfolio3 = market.loc[market['port3'], 'fl_matriz']\n",
    "\n",
    "\n",
    "portfolio1 = portfolio1.to_frame()\n",
    "portfolio1.reset_index(drop=True, inplace=True)\n",
    "portfolio1['portfolio'] = 'port1'\n",
    "\n",
    "portfolio2 = portfolio2.to_frame()\n",
    "portfolio2.reset_index(drop=True, inplace=True)\n",
    "portfolio2['portfolio'] = 'port2'\n",
    "\n",
    "portfolio3 = portfolio3.to_frame()\n",
    "portfolio3.reset_index(drop=True, inplace=True)\n",
    "portfolio3['portfolio'] = 'port3'\n",
    "\n",
    "\n",
    "cliente_matriz = pd.concat([portfolio1, portfolio2, portfolio3])\n",
    "\n",
    "f, axs = plt.subplots(1, 2, figsize=(20, 5))\n",
    "sns.countplot(x='portfolio', hue='fl_matriz', data=cliente_matriz, ax=axs[0]);\n",
    "axs[0].set_title(\"Matriz em cada portfólio\", fontsize=20)\n",
    "\n",
    "sns.countplot(x='fl_matriz', hue='fl_matriz', data=market, ax=axs[1]);\n",
    "axs[1].set_title(\"Quantidade de Matriz\", fontsize=20)"
   ]
  },
  {
   "cell_type": "markdown",
   "metadata": {},
   "source": [
    "> *Verificando como está distribuido as empresas em relação a `Natureza Jurídica`*"
   ]
  },
  {
   "cell_type": "code",
   "execution_count": 16,
   "metadata": {},
   "outputs": [
    {
     "data": {
      "image/png": "[encoded data removed]",
      "text/plain": [
       "<Figure size 864x432 with 1 Axes>"
      ]
     },
     "metadata": {},
     "output_type": "display_data"
    },
    {
     "name": "stdout",
     "output_type": "stream",
     "text": [
      "\n"
     ]
    },
    {
     "data": {
      "image/png": "[encoded data removed]",
      "text/plain": [
       "<Figure size 864x432 with 1 Axes>"
      ]
     },
     "metadata": {},
     "output_type": "display_data"
    },
    {
     "name": "stdout",
     "output_type": "stream",
     "text": [
      "\n"
     ]
    },
    {
     "data": {
      "image/png": "[encoded data removed]",
      "text/plain": [
       "<Figure size 864x432 with 1 Axes>"
      ]
     },
     "metadata": {},
     "output_type": "display_data"
    }
   ],
   "source": [
    "sns.countplot(y='de_natureza_juridica', data=market.loc[market['port1']])\n",
    "plt.title('Portfólio 1 - Natureza Jurídica', fontsize=20)\n",
    "plt.show()\n",
    "print('')\n",
    "sns.countplot(y='de_natureza_juridica', data=market.loc[market['port2']])\n",
    "plt.title('Portfólio 2 - Natureza Jurídica', fontsize=20)\n",
    "plt.show()\n",
    "print('')\n",
    "sns.countplot(y='de_natureza_juridica', data=market.loc[market['port3']])\n",
    "plt.title('Portfólio 3 - Natureza Jurídica', fontsize=20)\n",
    "plt.show()"
   ]
  },
  {
   "cell_type": "markdown",
   "metadata": {},
   "source": [
    "> *Temos varios tipos de natureza jurídica em nossa base*"
   ]
  },
  {
   "cell_type": "code",
   "execution_count": 17,
   "metadata": {},
   "outputs": [
    {
     "data": {
      "text/plain": [
       "array(['SOCIEDADE EMPRESARIA LIMITADA', 'EMPRESARIO INDIVIDUAL',\n",
       "       'COOPERATIVA', 'ASSOCIACAO PRIVADA', 'ENTIDADE SINDICAL',\n",
       "       'CONSORCIO DE SOCIEDADES', 'SOCIEDADE DE ECONOMIA MISTA',\n",
       "       'CONDOMINIO EDILICIO', 'ORGAO PUBLICO DO PODER EXECUTIVO FEDERAL',\n",
       "       'MUNICIPIO', 'ORGAO DE DIRECAO LOCAL DE PARTIDO POLITICO',\n",
       "       'SOCIEDADE ANONIMA ABERTA',\n",
       "       'EMPRESA INDIVIDUAL DE RESPONSABILIDADE LIMITADA DE NATUREZA EMPRESARIA',\n",
       "       'CANDIDATO A CARGO POLITICO ELETIVO',\n",
       "       'EMPRESA INDIVIDUAL IMOBILIARIA',\n",
       "       'ORGAO PUBLICO DO PODER EXECUTIVO ESTADUAL OU DO DISTRITO FEDERAL',\n",
       "       'SOCIEDADE SIMPLES LIMITADA', 'FUNDACAO PRIVADA',\n",
       "       'ORGAO PUBLICO DO PODER EXECUTIVO MUNICIPAL',\n",
       "       'SOCIEDADE ANONIMA FECHADA', 'ORGANIZACAO RELIGIOSA',\n",
       "       'SOCIEDADE UNIPESSOAL DE ADVOCACIA', 'SOCIEDADE SIMPLES PURA',\n",
       "       'AUTARQUIA FEDERAL', 'ORGAO PUBLICO DO PODER JUDICIARIO ESTADUAL',\n",
       "       'EMPRESA PUBLICA', 'SOCIEDADE EMPRESARIA EM NOME COLETIVO',\n",
       "       'AUTARQUIA MUNICIPAL', 'FUNDO PUBLICO',\n",
       "       'AUTARQUIA ESTADUAL OU DO DISTRITO FEDERAL',\n",
       "       'FUNDACAO PUBLICA DE DIREITO PUB MUNICIPAL',\n",
       "       'EMPRESA INDIVIDUAL DE RESPONSABILIDADE LIMITADA DE NATUREZA SIMPLES',\n",
       "       'ORGAO PUBLICO DO PODER LEGISLATIVO MUNICIPAL',\n",
       "       'SERVICO NOTARIAL E REGISTRAL CARTORIO', 'ORGANIZACAO SOCIAL OS',\n",
       "       'CONSORCIO PUBDE DIREITO PUB ASS PUB',\n",
       "       'ORGAO DE DIRECAO REGIONAL DE PARTIDO POLITICO',\n",
       "       'SERVICO SOCIAL AUTONOMO', 'SOCIEDADE EM CONTA DE PARTICIPACAO',\n",
       "       'GRUPO DE SOCIEDADES',\n",
       "       'SOCIEDADE MERCANTIL DE CAPITAL E INDUSTRIA',\n",
       "       'FUNDACAO PUBLICA DE DIREITO PRIVADO MUNICIPAL',\n",
       "       'ORGAO PUBLICO AUTONOMO MUNICIPAL',\n",
       "       'ORGAO PUBLICO DO PODER JUDICIARIO FEDERAL',\n",
       "       'NATUREZA JURIDICA INVALIDA',\n",
       "       'SOCIEDADE EMPRESARIA EM COMANDITA POR ACOES',\n",
       "       'FUNDACAO PUBLICA DE DIREITO PUBFEDERAL',\n",
       "       'ORGAO PUBLICO AUTONOMO ESTADUAL OU DO DISTRITO FEDERAL',\n",
       "       'ESTABELECIMENTO NO BRASIL DE SOCIEDADE ESTRANGEIRA',\n",
       "       'FUNDACAO PUB DE DIREITO PUB EST OU DO DF',\n",
       "       'ORGAO PUBLICO DO PODER LEGISLATIVO ESTADUAL OU DO DISTRITO FEDERAL',\n",
       "       'ENTIDADE DE MEDIACAO E ARBITRAGEM', 'COMUNIDADE INDIGENA',\n",
       "       'FUNDACAO PUBLICA DE DIREITO PRIVADO FEFERAL',\n",
       "       'ESTABELECIMENTO NO BRASIL DE FUNDACAO OU ASSOCIACAO ESTRANGEIRAS',\n",
       "       'CLUBE FUNDO DE INVESTIMENTO',\n",
       "       'REPRESENTACAO DIPLOMATICA ESTRANGEIRA',\n",
       "       'SOCIEDADE SIMPLES EM COMANDITA SIMPLES',\n",
       "       'CONSORCIO PUBLICO DE DIREITO PRIVADO',\n",
       "       'FRENTE PLEBISCITARIA OU REFERENDARIA',\n",
       "       'SOCIEDADE EMPRESARIA EM COMANDITA SIMPLES',\n",
       "       'CONSORCIO DE EMPREGADORES', 'SOCIEDADE SIMPLES EM NOME COLETIVO',\n",
       "       'FUNDO PRIVADO', 'ESTADO OU DISTRITO FEDERAL',\n",
       "       'ORGAO PUBLICO DO PODER LEGISLATIVO FEDERAL',\n",
       "       'ORGAO DE DIRECAO NACIONAL DE PARTIDO POLITICO'], dtype=object)"
      ]
     },
     "execution_count": 17,
     "metadata": {},
     "output_type": "execute_result"
    }
   ],
   "source": [
    "market['de_natureza_juridica'].unique()"
   ]
  },
  {
   "cell_type": "code",
   "execution_count": 18,
   "metadata": {},
   "outputs": [
    {
     "data": {
      "text/html": [
       "<div>\n",
       "<style scoped>\n",
       "    .dataframe tbody tr th:only-of-type {\n",
       "        vertical-align: middle;\n",
       "    }\n",
       "\n",
       "    .dataframe tbody tr th {\n",
       "        vertical-align: top;\n",
       "    }\n",
       "\n",
       "    .dataframe thead th {\n",
       "        text-align: right;\n",
       "    }\n",
       "</style>\n",
       "<table border=\"1\" class=\"dataframe\">\n",
       "  <thead>\n",
       "    <tr style=\"text-align: right;\">\n",
       "      <th></th>\n",
       "      <th>de_natureza_juridica</th>\n",
       "      <th>counts</th>\n",
       "    </tr>\n",
       "  </thead>\n",
       "  <tbody>\n",
       "    <tr>\n",
       "      <td>17</td>\n",
       "      <td>EMPRESARIO INDIVIDUAL</td>\n",
       "      <td>295756</td>\n",
       "    </tr>\n",
       "    <tr>\n",
       "      <td>60</td>\n",
       "      <td>SOCIEDADE EMPRESARIA LIMITADA</td>\n",
       "      <td>91231</td>\n",
       "    </tr>\n",
       "    <tr>\n",
       "      <td>0</td>\n",
       "      <td>ASSOCIACAO PRIVADA</td>\n",
       "      <td>29694</td>\n",
       "    </tr>\n",
       "    <tr>\n",
       "      <td>13</td>\n",
       "      <td>EMPRESA INDIVIDUAL DE RESPONSABILIDADE LIMITAD...</td>\n",
       "      <td>15183</td>\n",
       "    </tr>\n",
       "    <tr>\n",
       "      <td>37</td>\n",
       "      <td>ORGAO DE DIRECAO LOCAL DE PARTIDO POLITICO</td>\n",
       "      <td>7301</td>\n",
       "    </tr>\n",
       "    <tr>\n",
       "      <td>...</td>\n",
       "      <td>...</td>\n",
       "      <td>...</td>\n",
       "    </tr>\n",
       "    <tr>\n",
       "      <td>8</td>\n",
       "      <td>CONSORCIO DE EMPREGADORES</td>\n",
       "      <td>1</td>\n",
       "    </tr>\n",
       "    <tr>\n",
       "      <td>11</td>\n",
       "      <td>CONSORCIO PUBLICO DE DIREITO PRIVADO</td>\n",
       "      <td>1</td>\n",
       "    </tr>\n",
       "    <tr>\n",
       "      <td>30</td>\n",
       "      <td>FUNDO PRIVADO</td>\n",
       "      <td>1</td>\n",
       "    </tr>\n",
       "    <tr>\n",
       "      <td>38</td>\n",
       "      <td>ORGAO DE DIRECAO NACIONAL DE PARTIDO POLITICO</td>\n",
       "      <td>1</td>\n",
       "    </tr>\n",
       "    <tr>\n",
       "      <td>63</td>\n",
       "      <td>SOCIEDADE SIMPLES EM NOME COLETIVO</td>\n",
       "      <td>1</td>\n",
       "    </tr>\n",
       "  </tbody>\n",
       "</table>\n",
       "<p>67 rows × 2 columns</p>\n",
       "</div>"
      ],
      "text/plain": [
       "                                 de_natureza_juridica  counts\n",
       "17                              EMPRESARIO INDIVIDUAL  295756\n",
       "60                      SOCIEDADE EMPRESARIA LIMITADA   91231\n",
       "0                                  ASSOCIACAO PRIVADA   29694\n",
       "13  EMPRESA INDIVIDUAL DE RESPONSABILIDADE LIMITAD...   15183\n",
       "37         ORGAO DE DIRECAO LOCAL DE PARTIDO POLITICO    7301\n",
       "..                                                ...     ...\n",
       "8                           CONSORCIO DE EMPREGADORES       1\n",
       "11               CONSORCIO PUBLICO DE DIREITO PRIVADO       1\n",
       "30                                      FUNDO PRIVADO       1\n",
       "38      ORGAO DE DIRECAO NACIONAL DE PARTIDO POLITICO       1\n",
       "63                 SOCIEDADE SIMPLES EM NOME COLETIVO       1\n",
       "\n",
       "[67 rows x 2 columns]"
      ]
     },
     "execution_count": 18,
     "metadata": {},
     "output_type": "execute_result"
    }
   ],
   "source": [
    "group_natureza = market.groupby(['de_natureza_juridica']).size().reset_index(name='counts')\n",
    "group_natureza.sort_values('counts', ascending=False)"
   ]
  },
  {
   "cell_type": "code",
   "execution_count": 19,
   "metadata": {},
   "outputs": [
    {
     "data": {
      "text/plain": [
       "Text(0.5, 1.0, 'Portfólio 3')"
      ]
     },
     "execution_count": 19,
     "metadata": {},
     "output_type": "execute_result"
    },
    {
     "data": {
      "image/png": "[encoded data removed]",
      "text/plain": [
       "<Figure size 1440x360 with 3 Axes>"
      ]
     },
     "metadata": {},
     "output_type": "display_data"
    }
   ],
   "source": [
    "f, axs = plt.subplots(1, 3, figsize=(20,5))\n",
    "sns.countplot(x='setor_privado', data=market.loc[market['port1']], ax=axs[0])\n",
    "axs[0].set_title(\"Portfólio 1\", fontsize=20)\n",
    "sns.countplot(x='setor_privado', data=market.loc[market['port2']], ax=axs[1])\n",
    "axs[1].set_title(\"Portfólio 2\", fontsize=20)\n",
    "sns.countplot(x='setor_privado', data=market.loc[market['port3']], ax=axs[2])\n",
    "axs[2].set_title(\"Portfólio 3\", fontsize=20)"
   ]
  },
  {
   "cell_type": "markdown",
   "metadata": {},
   "source": [
    "> Verificando em quais estados estão as matriz"
   ]
  },
  {
   "cell_type": "code",
   "execution_count": 20,
   "metadata": {},
   "outputs": [
    {
     "data": {
      "text/html": [
       "<div>\n",
       "<style scoped>\n",
       "    .dataframe tbody tr th:only-of-type {\n",
       "        vertical-align: middle;\n",
       "    }\n",
       "\n",
       "    .dataframe tbody tr th {\n",
       "        vertical-align: top;\n",
       "    }\n",
       "\n",
       "    .dataframe thead th {\n",
       "        text-align: right;\n",
       "    }\n",
       "</style>\n",
       "<table border=\"1\" class=\"dataframe\">\n",
       "  <thead>\n",
       "    <tr style=\"text-align: right;\">\n",
       "      <th></th>\n",
       "      <th>sg_uf_matriz</th>\n",
       "      <th>counts</th>\n",
       "    </tr>\n",
       "  </thead>\n",
       "  <tbody>\n",
       "    <tr>\n",
       "      <td>9</td>\n",
       "      <td>MA</td>\n",
       "      <td>124823</td>\n",
       "    </tr>\n",
       "    <tr>\n",
       "      <td>19</td>\n",
       "      <td>RN</td>\n",
       "      <td>96743</td>\n",
       "    </tr>\n",
       "    <tr>\n",
       "      <td>2</td>\n",
       "      <td>AM</td>\n",
       "      <td>80032</td>\n",
       "    </tr>\n",
       "    <tr>\n",
       "      <td>16</td>\n",
       "      <td>PI</td>\n",
       "      <td>75201</td>\n",
       "    </tr>\n",
       "    <tr>\n",
       "      <td>20</td>\n",
       "      <td>RO</td>\n",
       "      <td>54876</td>\n",
       "    </tr>\n",
       "    <tr>\n",
       "      <td>0</td>\n",
       "      <td>AC</td>\n",
       "      <td>20028</td>\n",
       "    </tr>\n",
       "    <tr>\n",
       "      <td>25</td>\n",
       "      <td>SP</td>\n",
       "      <td>2845</td>\n",
       "    </tr>\n",
       "    <tr>\n",
       "      <td>6</td>\n",
       "      <td>DF</td>\n",
       "      <td>1225</td>\n",
       "    </tr>\n",
       "    <tr>\n",
       "      <td>5</td>\n",
       "      <td>CE</td>\n",
       "      <td>927</td>\n",
       "    </tr>\n",
       "    <tr>\n",
       "      <td>18</td>\n",
       "      <td>RJ</td>\n",
       "      <td>669</td>\n",
       "    </tr>\n",
       "    <tr>\n",
       "      <td>15</td>\n",
       "      <td>PE</td>\n",
       "      <td>455</td>\n",
       "    </tr>\n",
       "    <tr>\n",
       "      <td>13</td>\n",
       "      <td>PA</td>\n",
       "      <td>425</td>\n",
       "    </tr>\n",
       "    <tr>\n",
       "      <td>10</td>\n",
       "      <td>MG</td>\n",
       "      <td>319</td>\n",
       "    </tr>\n",
       "    <tr>\n",
       "      <td>17</td>\n",
       "      <td>PR</td>\n",
       "      <td>303</td>\n",
       "    </tr>\n",
       "    <tr>\n",
       "      <td>12</td>\n",
       "      <td>MT</td>\n",
       "      <td>257</td>\n",
       "    </tr>\n",
       "    <tr>\n",
       "      <td>4</td>\n",
       "      <td>BA</td>\n",
       "      <td>238</td>\n",
       "    </tr>\n",
       "    <tr>\n",
       "      <td>14</td>\n",
       "      <td>PB</td>\n",
       "      <td>208</td>\n",
       "    </tr>\n",
       "    <tr>\n",
       "      <td>8</td>\n",
       "      <td>GO</td>\n",
       "      <td>199</td>\n",
       "    </tr>\n",
       "    <tr>\n",
       "      <td>22</td>\n",
       "      <td>RS</td>\n",
       "      <td>134</td>\n",
       "    </tr>\n",
       "    <tr>\n",
       "      <td>23</td>\n",
       "      <td>SC</td>\n",
       "      <td>123</td>\n",
       "    </tr>\n",
       "    <tr>\n",
       "      <td>7</td>\n",
       "      <td>ES</td>\n",
       "      <td>100</td>\n",
       "    </tr>\n",
       "    <tr>\n",
       "      <td>26</td>\n",
       "      <td>TO</td>\n",
       "      <td>65</td>\n",
       "    </tr>\n",
       "    <tr>\n",
       "      <td>21</td>\n",
       "      <td>RR</td>\n",
       "      <td>53</td>\n",
       "    </tr>\n",
       "    <tr>\n",
       "      <td>11</td>\n",
       "      <td>MS</td>\n",
       "      <td>51</td>\n",
       "    </tr>\n",
       "    <tr>\n",
       "      <td>1</td>\n",
       "      <td>AL</td>\n",
       "      <td>25</td>\n",
       "    </tr>\n",
       "    <tr>\n",
       "      <td>24</td>\n",
       "      <td>SE</td>\n",
       "      <td>20</td>\n",
       "    </tr>\n",
       "    <tr>\n",
       "      <td>3</td>\n",
       "      <td>AP</td>\n",
       "      <td>15</td>\n",
       "    </tr>\n",
       "  </tbody>\n",
       "</table>\n",
       "</div>"
      ],
      "text/plain": [
       "   sg_uf_matriz  counts\n",
       "9            MA  124823\n",
       "19           RN   96743\n",
       "2            AM   80032\n",
       "16           PI   75201\n",
       "20           RO   54876\n",
       "0            AC   20028\n",
       "25           SP    2845\n",
       "6            DF    1225\n",
       "5            CE     927\n",
       "18           RJ     669\n",
       "15           PE     455\n",
       "13           PA     425\n",
       "10           MG     319\n",
       "17           PR     303\n",
       "12           MT     257\n",
       "4            BA     238\n",
       "14           PB     208\n",
       "8            GO     199\n",
       "22           RS     134\n",
       "23           SC     123\n",
       "7            ES     100\n",
       "26           TO      65\n",
       "21           RR      53\n",
       "11           MS      51\n",
       "1            AL      25\n",
       "24           SE      20\n",
       "3            AP      15"
      ]
     },
     "execution_count": 20,
     "metadata": {},
     "output_type": "execute_result"
    }
   ],
   "source": [
    "group_uf_matriz = market.groupby(['sg_uf_matriz']).size().reset_index(name='counts')\n",
    "group_uf_matriz.sort_values('counts', ascending=False)"
   ]
  },
  {
   "cell_type": "code",
   "execution_count": 21,
   "metadata": {},
   "outputs": [
    {
     "name": "stdout",
     "output_type": "stream",
     "text": [
      "Estados - ['RN' 'PI' 'AM' 'MA' 'RO' 'AC'] - total 6\n",
      "Estados da Matriz - ['RN' 'PI' 'AM' 'MA' 'RO' 'AC' 'DF' nan 'CE' 'PB' 'SP' 'PR' 'ES' 'PE' 'MG'\n",
      " 'RJ' 'RS' 'GO' 'SC' 'BA' 'MT' 'MS' 'PA' 'RR' 'TO' 'AP' 'SE' 'AL'] - total 28\n"
     ]
    }
   ],
   "source": [
    "print(\"Estados - {} - total {}\".format(market['sg_uf'].unique(), len(market['sg_uf'].unique())))\n",
    "print(\"Estados da Matriz - {} - total {}\".format(market['sg_uf_matriz'].unique(), len(market['sg_uf_matriz'].unique())))"
   ]
  },
  {
   "cell_type": "code",
   "execution_count": 22,
   "metadata": {},
   "outputs": [
    {
     "name": "stdout",
     "output_type": "stream",
     "text": [
      "['AC', 'AM', 'MA', 'PI', 'RN', 'RO']\n",
      "['AC', 'AM', 'MA', 'PI', 'RN', 'RO']\n",
      "['AC', 'AM', 'MA', 'PI', 'RN', 'RO']\n"
     ]
    }
   ],
   "source": [
    "estados_port1 = sorted(market.loc[market['port1'], 'sg_uf'].unique().tolist())\n",
    "estados_port2 = sorted(market.loc[market['port2'], 'sg_uf'].unique().tolist())\n",
    "estados_port3 = sorted(market.loc[market['port3'], 'sg_uf'].unique().tolist())\n",
    "print(estados_port1)\n",
    "print(estados_port2)\n",
    "print(estados_port3)"
   ]
  },
  {
   "cell_type": "code",
   "execution_count": 23,
   "metadata": {},
   "outputs": [
    {
     "data": {
      "image/png": "[encoded data removed]",
      "text/plain": [
       "<Figure size 1440x360 with 3 Axes>"
      ]
     },
     "metadata": {},
     "output_type": "display_data"
    }
   ],
   "source": [
    "fig, axs = plt.subplots(1,3, figsize=(20,5), sharey=True)\n",
    "\n",
    "sns.countplot(x='sg_uf_matriz', data = market.loc[market['port1']], ax=axs[0])\n",
    "sns.countplot(x='sg_uf_matriz', data = market.loc[market['port2']], ax=axs[1])\n",
    "sns.countplot(x='sg_uf_matriz', data = market.loc[market['port3']], ax=axs[2])\n",
    "axs[0].set_title(\"Portfólio 1\", fontsize=20)\n",
    "axs[1].set_title(\"Portfólio 2\", fontsize=20)\n",
    "axs[2].set_title(\"Portfólio 3\", fontsize=20)\n",
    "plt.show()"
   ]
  },
  {
   "cell_type": "code",
   "execution_count": 24,
   "metadata": {},
   "outputs": [
    {
     "data": {
      "image/png": "[encoded data removed]",
      "text/plain": [
       "<Figure size 1440x360 with 3 Axes>"
      ]
     },
     "metadata": {},
     "output_type": "display_data"
    }
   ],
   "source": [
    "fig, axs = plt.subplots(1,3, figsize=(20,5), sharey=True)\n",
    "\n",
    "sns.countplot(x='sg_uf', order=estados_port1, data = market.loc[market['port1']], ax=axs[0])\n",
    "sns.countplot(x='sg_uf', order=estados_port2, data = market.loc[market['port2']], ax=axs[1])\n",
    "sns.countplot(x='sg_uf', order=estados_port3, data = market.loc[market['port3']], ax=axs[2])\n",
    "axs[0].set_title(\"Portfólio 1\", fontsize=20)\n",
    "axs[1].set_title(\"Portfólio 2\", fontsize=20)\n",
    "axs[2].set_title(\"Portfólio 3\", fontsize=20)\n",
    "plt.show()"
   ]
  },
  {
   "cell_type": "code",
   "execution_count": 25,
   "metadata": {},
   "outputs": [
    {
     "data": {
      "image/png": "[encoded data removed]",
      "text/plain": [
       "<Figure size 1440x360 with 4 Axes>"
      ]
     },
     "metadata": {},
     "output_type": "display_data"
    }
   ],
   "source": [
    "fig, axs = plt.subplots(1,4, figsize=(20,5))\n",
    "market.loc[market['port1'], 'idade_empresa_anos'].hist(ax=axs[0])\n",
    "market.loc[market['port2'], 'idade_empresa_anos'].hist(ax=axs[1])\n",
    "market.loc[market['port3'], 'idade_empresa_anos'].hist(ax=axs[2])\n",
    "market.loc[~market['port1'], 'idade_empresa_anos'].hist(ax=axs[3])\n",
    "axs[0].set_title(\"Portfólio 1\", fontsize=20)\n",
    "axs[1].set_title(\"Portfólio 2\", fontsize=20)\n",
    "axs[2].set_title(\"Portfólio 3\", fontsize=20)\n",
    "axs[3].set_title('market')\n",
    "plt.show()"
   ]
  },
  {
   "cell_type": "code",
   "execution_count": 26,
   "metadata": {},
   "outputs": [
    {
     "name": "stdout",
     "output_type": "stream",
     "text": [
      "port1 ['<= 1', '5 a 10', '> 20', '15 a 20', '1 a 5', '10 a 15']\n",
      "port2 ['10 a 15', '> 20', '15 a 20']\n",
      "port3 ['> 20', '15 a 20', '5 a 10', '10 a 15', '1 a 5', '<= 1']\n"
     ]
    }
   ],
   "source": [
    "print('port1', market.loc[market['port1'], 'idade_emp_cat'].unique().tolist())\n",
    "print('port2', market.loc[market['port2'], 'idade_emp_cat'].unique().tolist())\n",
    "print('port3', market.loc[market['port3'], 'idade_emp_cat'].unique().tolist())"
   ]
  },
  {
   "cell_type": "code",
   "execution_count": 27,
   "metadata": {},
   "outputs": [],
   "source": [
    "order_idade_emp_cat_port1 = ['<= 1', '1 a 5', '5 a 10', '10 a 15', '15 a 20', '> 20']\n",
    "order_idade_emp_cat_port2 = ['10 a 15', '15 a 20', '> 20']\n",
    "order_idade_emp_cat_port3 = ['<= 1', '1 a 5', '5 a 10', '10 a 15', '15 a 20', '> 20']"
   ]
  },
  {
   "cell_type": "code",
   "execution_count": 28,
   "metadata": {},
   "outputs": [
    {
     "data": {
      "image/png": "[encoded data removed]",
      "text/plain": [
       "<Figure size 1440x360 with 3 Axes>"
      ]
     },
     "metadata": {},
     "output_type": "display_data"
    }
   ],
   "source": [
    "fig, axs = plt.subplots(1,3, figsize=(20,5), sharey=True)\n",
    "sns.countplot(x='idade_emp_cat', order = order_idade_emp_cat_port1, data = market.loc[market['port1']], ax=axs[0])\n",
    "sns.countplot(x='idade_emp_cat', order = order_idade_emp_cat_port2, data = market.loc[market['port2']], ax=axs[1])\n",
    "sns.countplot(x='idade_emp_cat', order = order_idade_emp_cat_port3, data = market.loc[market['port3']], ax=axs[2])\n",
    "axs[0].set_title(\"Portfólio 1\", fontsize=20)\n",
    "axs[1].set_title(\"Portfólio 2\", fontsize=20)\n",
    "axs[2].set_title(\"Portfólio 3\", fontsize=20)\n",
    "fig = plt.gcf()\n",
    "#fig.set_size_inches(15, 7)\n",
    "plt.show()"
   ]
  },
  {
   "cell_type": "code",
   "execution_count": 29,
   "metadata": {},
   "outputs": [
    {
     "data": {
      "image/png": "[encoded data removed]",
      "text/plain": [
       "<Figure size 1440x360 with 1 Axes>"
      ]
     },
     "metadata": {},
     "output_type": "display_data"
    }
   ],
   "source": [
    "plt.figure(figsize=(20,5))\n",
    "sns.countplot(x='idade_emp_cat', order = order_idade_emp_cat_port1, data = market)\n",
    "plt.show()"
   ]
  },
  {
   "cell_type": "code",
   "execution_count": 30,
   "metadata": {},
   "outputs": [
    {
     "name": "stdout",
     "output_type": "stream",
     "text": [
      "[nan 'SUL AMAZONENSE']\n",
      "[nan]\n",
      "[nan]\n",
      "[nan]\n",
      "[nan]\n",
      "[nan 'SUL AMAZONENSE']\n"
     ]
    }
   ],
   "source": [
    "port1_nm_meso_regiao = market.loc[market['port1'], 'nm_meso_regiao'].unique()\n",
    "port2_nm_meso_regiao = market.loc[market['port2'], 'nm_meso_regiao'].unique()\n",
    "port3_nm_meso_regiao = market.loc[market['port3'], 'nm_meso_regiao'].unique()\n",
    "\n",
    "print(port1_nm_meso_regiao[~np.isin(port1_nm_meso_regiao, port2_nm_meso_regiao)])\n",
    "print(port1_nm_meso_regiao[~np.isin(port1_nm_meso_regiao, port3_nm_meso_regiao)])\n",
    "\n",
    "print(port2_nm_meso_regiao[~np.isin(port2_nm_meso_regiao, port1_nm_meso_regiao)])\n",
    "print(port2_nm_meso_regiao[~np.isin(port2_nm_meso_regiao, port3_nm_meso_regiao)])\n",
    "\n",
    "print(port3_nm_meso_regiao[~np.isin(port3_nm_meso_regiao, port1_nm_meso_regiao)])\n",
    "print(port3_nm_meso_regiao[~np.isin(port3_nm_meso_regiao, port2_nm_meso_regiao)])"
   ]
  },
  {
   "cell_type": "code",
   "execution_count": 31,
   "metadata": {},
   "outputs": [
    {
     "name": "stdout",
     "output_type": "stream",
     "text": [
      "[nan 'LENCOIS MARANHENSES' 'LITORAL NORDESTE' 'CHAPADINHA' 'JURUA'\n",
      " 'SENA MADUREIRA' 'MACAU' 'ANGICOS' 'MADEIRA' 'BOCA DO ACRE']\n",
      "[nan 'CHAPADAS DO EXTREMO SUL PIAUIENSE' 'ITACOATIARA' 'CHAPADINHA' 'CODO'\n",
      " 'MACAU' 'MADEIRA' 'ALTO PARNAIBA PIAUIENSE' 'CHAPADA DO APODI'\n",
      " 'PARINTINS' 'BOCA DO ACRE' 'BRASILEIA' 'TEFE']\n",
      "[nan 'ROSARIO' 'CRUZEIRO DO SUL' 'RIO PRETO DA EVA']\n",
      "[nan 'TEFE' 'ALTO PARNAIBA PIAUIENSE' 'ITACOATIARA' 'ROSARIO'\n",
      " 'CRUZEIRO DO SUL' 'BRASILEIA' 'CHAPADA DO APODI' 'CODO' 'PARINTINS'\n",
      " 'RIO PRETO DA EVA' 'CHAPADAS DO EXTREMO SUL PIAUIENSE']\n",
      "[nan 'MEDIO OESTE' 'PURUS']\n",
      "[nan 'MEDIO OESTE' 'LENCOIS MARANHENSES' 'SENA MADUREIRA' 'JURUA' 'PURUS'\n",
      " 'LITORAL NORDESTE' 'ANGICOS']\n"
     ]
    }
   ],
   "source": [
    "port1_nm_micro_regiao = market.loc[market['port1'], 'nm_micro_regiao'].unique()\n",
    "port2_nm_micro_regiao = market.loc[market['port2'], 'nm_micro_regiao'].unique()\n",
    "port3_nm_micro_regiao = market.loc[market['port3'], 'nm_micro_regiao'].unique()\n",
    "\n",
    "print(port1_nm_micro_regiao[~np.isin(port1_nm_micro_regiao, port2_nm_micro_regiao)])\n",
    "print(port1_nm_micro_regiao[~np.isin(port1_nm_micro_regiao, port3_nm_micro_regiao)])\n",
    "\n",
    "print(port2_nm_micro_regiao[~np.isin(port2_nm_micro_regiao, port1_nm_micro_regiao)])\n",
    "print(port2_nm_micro_regiao[~np.isin(port2_nm_micro_regiao, port3_nm_micro_regiao)])\n",
    "\n",
    "print(port3_nm_micro_regiao[~np.isin(port3_nm_micro_regiao, port1_nm_micro_regiao)])\n",
    "print(port3_nm_micro_regiao[~np.isin(port3_nm_micro_regiao, port2_nm_micro_regiao)])"
   ]
  },
  {
   "cell_type": "code",
   "execution_count": 32,
   "metadata": {},
   "outputs": [
    {
     "data": {
      "text/plain": [
       "74"
      ]
     },
     "execution_count": 32,
     "metadata": {},
     "output_type": "execute_result"
    }
   ],
   "source": [
    "len(market.nm_micro_regiao.unique().tolist())"
   ]
  },
  {
   "cell_type": "markdown",
   "metadata": {},
   "source": [
    "### Análise referente ao grupo `Financeiro`"
   ]
  },
  {
   "cell_type": "code",
   "execution_count": 33,
   "metadata": {},
   "outputs": [
    {
     "data": {
      "text/html": [
       "<div>\n",
       "<style scoped>\n",
       "    .dataframe tbody tr th:only-of-type {\n",
       "        vertical-align: middle;\n",
       "    }\n",
       "\n",
       "    .dataframe tbody tr th {\n",
       "        vertical-align: top;\n",
       "    }\n",
       "\n",
       "    .dataframe thead th {\n",
       "        text-align: right;\n",
       "    }\n",
       "</style>\n",
       "<table border=\"1\" class=\"dataframe\">\n",
       "  <thead>\n",
       "    <tr style=\"text-align: right;\">\n",
       "      <th></th>\n",
       "      <th>port1</th>\n",
       "      <th>port2</th>\n",
       "      <th>port3</th>\n",
       "      <th>idc_market</th>\n",
       "    </tr>\n",
       "    <tr>\n",
       "      <th>fl_mei</th>\n",
       "      <th></th>\n",
       "      <th></th>\n",
       "      <th></th>\n",
       "      <th></th>\n",
       "    </tr>\n",
       "  </thead>\n",
       "  <tbody>\n",
       "    <tr>\n",
       "      <td>False</td>\n",
       "      <td>337.0</td>\n",
       "      <td>566.0</td>\n",
       "      <td>265.0</td>\n",
       "      <td>311398</td>\n",
       "    </tr>\n",
       "    <tr>\n",
       "      <td>True</td>\n",
       "      <td>218.0</td>\n",
       "      <td>0.0</td>\n",
       "      <td>0.0</td>\n",
       "      <td>150900</td>\n",
       "    </tr>\n",
       "  </tbody>\n",
       "</table>\n",
       "</div>"
      ],
      "text/plain": [
       "        port1  port2  port3  idc_market\n",
       "fl_mei                                 \n",
       "False   337.0  566.0  265.0      311398\n",
       "True    218.0    0.0    0.0      150900"
      ]
     },
     "execution_count": 33,
     "metadata": {},
     "output_type": "execute_result"
    }
   ],
   "source": [
    "market.groupby(by='fl_mei')['port1', 'port2', 'port3', 'idc_market'].sum()"
   ]
  },
  {
   "cell_type": "markdown",
   "metadata": {},
   "source": [
    "> *Quantos de nossos clientes são MEI?*"
   ]
  },
  {
   "cell_type": "code",
   "execution_count": 34,
   "metadata": {},
   "outputs": [
    {
     "data": {
      "text/html": [
       "<div>\n",
       "<style scoped>\n",
       "    .dataframe tbody tr th:only-of-type {\n",
       "        vertical-align: middle;\n",
       "    }\n",
       "\n",
       "    .dataframe tbody tr th {\n",
       "        vertical-align: top;\n",
       "    }\n",
       "\n",
       "    .dataframe thead th {\n",
       "        text-align: right;\n",
       "    }\n",
       "</style>\n",
       "<table border=\"1\" class=\"dataframe\">\n",
       "  <thead>\n",
       "    <tr style=\"text-align: right;\">\n",
       "      <th></th>\n",
       "      <th>id</th>\n",
       "      <th>fl_matriz</th>\n",
       "      <th>de_natureza_juridica</th>\n",
       "      <th>sg_uf</th>\n",
       "      <th>natureza_juridica_macro</th>\n",
       "      <th>de_ramo</th>\n",
       "      <th>setor</th>\n",
       "      <th>idade_empresa_anos</th>\n",
       "      <th>idade_emp_cat</th>\n",
       "      <th>fl_me</th>\n",
       "      <th>...</th>\n",
       "      <th>de_faixa_faturamento_estimado</th>\n",
       "      <th>de_faixa_faturamento_estimado_grupo</th>\n",
       "      <th>vl_faturamento_estimado_aux</th>\n",
       "      <th>vl_faturamento_estimado_grupo_aux</th>\n",
       "      <th>qt_filiais</th>\n",
       "      <th>port1</th>\n",
       "      <th>port2</th>\n",
       "      <th>port3</th>\n",
       "      <th>idc_market</th>\n",
       "      <th>setor_privado</th>\n",
       "    </tr>\n",
       "    <tr>\n",
       "      <th>fl_mei</th>\n",
       "      <th></th>\n",
       "      <th></th>\n",
       "      <th></th>\n",
       "      <th></th>\n",
       "      <th></th>\n",
       "      <th></th>\n",
       "      <th></th>\n",
       "      <th></th>\n",
       "      <th></th>\n",
       "      <th></th>\n",
       "      <th></th>\n",
       "      <th></th>\n",
       "      <th></th>\n",
       "      <th></th>\n",
       "      <th></th>\n",
       "      <th></th>\n",
       "      <th></th>\n",
       "      <th></th>\n",
       "      <th></th>\n",
       "      <th></th>\n",
       "      <th></th>\n",
       "    </tr>\n",
       "  </thead>\n",
       "  <tbody>\n",
       "    <tr>\n",
       "      <td>False</td>\n",
       "      <td>311398</td>\n",
       "      <td>311398</td>\n",
       "      <td>311398</td>\n",
       "      <td>311398</td>\n",
       "      <td>311398</td>\n",
       "      <td>311398</td>\n",
       "      <td>309471</td>\n",
       "      <td>311398</td>\n",
       "      <td>311398</td>\n",
       "      <td>311398</td>\n",
       "      <td>...</td>\n",
       "      <td>303295</td>\n",
       "      <td>303295</td>\n",
       "      <td>303295</td>\n",
       "      <td>303295</td>\n",
       "      <td>311398</td>\n",
       "      <td>311398</td>\n",
       "      <td>311398</td>\n",
       "      <td>311398</td>\n",
       "      <td>311398</td>\n",
       "      <td>311398</td>\n",
       "    </tr>\n",
       "    <tr>\n",
       "      <td>True</td>\n",
       "      <td>150900</td>\n",
       "      <td>150900</td>\n",
       "      <td>150900</td>\n",
       "      <td>150900</td>\n",
       "      <td>150900</td>\n",
       "      <td>150900</td>\n",
       "      <td>150900</td>\n",
       "      <td>150900</td>\n",
       "      <td>150900</td>\n",
       "      <td>150900</td>\n",
       "      <td>...</td>\n",
       "      <td>131490</td>\n",
       "      <td>131490</td>\n",
       "      <td>131490</td>\n",
       "      <td>131490</td>\n",
       "      <td>150900</td>\n",
       "      <td>150900</td>\n",
       "      <td>150900</td>\n",
       "      <td>150900</td>\n",
       "      <td>150900</td>\n",
       "      <td>150900</td>\n",
       "    </tr>\n",
       "  </tbody>\n",
       "</table>\n",
       "<p>2 rows × 54 columns</p>\n",
       "</div>"
      ],
      "text/plain": [
       "            id  fl_matriz  de_natureza_juridica   sg_uf  \\\n",
       "fl_mei                                                    \n",
       "False   311398     311398                311398  311398   \n",
       "True    150900     150900                150900  150900   \n",
       "\n",
       "        natureza_juridica_macro  de_ramo   setor  idade_empresa_anos  \\\n",
       "fl_mei                                                                 \n",
       "False                    311398   311398  309471              311398   \n",
       "True                     150900   150900  150900              150900   \n",
       "\n",
       "        idade_emp_cat   fl_me  ...  de_faixa_faturamento_estimado  \\\n",
       "fl_mei                         ...                                  \n",
       "False          311398  311398  ...                         303295   \n",
       "True           150900  150900  ...                         131490   \n",
       "\n",
       "        de_faixa_faturamento_estimado_grupo  vl_faturamento_estimado_aux  \\\n",
       "fl_mei                                                                     \n",
       "False                                303295                       303295   \n",
       "True                                 131490                       131490   \n",
       "\n",
       "        vl_faturamento_estimado_grupo_aux  qt_filiais   port1   port2   port3  \\\n",
       "fl_mei                                                                          \n",
       "False                              303295      311398  311398  311398  311398   \n",
       "True                               131490      150900  150900  150900  150900   \n",
       "\n",
       "        idc_market  setor_privado  \n",
       "fl_mei                             \n",
       "False       311398         311398  \n",
       "True        150900         150900  \n",
       "\n",
       "[2 rows x 54 columns]"
      ]
     },
     "execution_count": 34,
     "metadata": {},
     "output_type": "execute_result"
    }
   ],
   "source": [
    "market.groupby(by='fl_mei').count()"
   ]
  },
  {
   "cell_type": "code",
   "execution_count": 35,
   "metadata": {},
   "outputs": [],
   "source": [
    "clientes_mei = pd.get_dummies(market['fl_mei'], 'col1', 'col2')\n",
    "market['cli_mei'] = clientes_mei.col1col2True  # Adicionando uma nova coluna no market"
   ]
  },
  {
   "cell_type": "markdown",
   "metadata": {},
   "source": [
    "> *Quantos de nossos clientes são optantes pelo Simples?*"
   ]
  },
  {
   "cell_type": "code",
   "execution_count": 36,
   "metadata": {},
   "outputs": [],
   "source": [
    "cliente_simples = pd.get_dummies(market['fl_optante_simples'], 'col1', 'col2')\n",
    "market['cli_simples'] = cliente_simples.col1col2True"
   ]
  },
  {
   "cell_type": "markdown",
   "metadata": {},
   "source": [
    "> *Conseguimos encontrar uma grande variação na faixa de faturamento dos portfólios <br>\n",
    "Aqui estamos ordenando de forma decrescente pela coluna `idc_market`*"
   ]
  },
  {
   "cell_type": "code",
   "execution_count": 37,
   "metadata": {},
   "outputs": [
    {
     "data": {
      "text/html": [
       "<div>\n",
       "<style scoped>\n",
       "    .dataframe tbody tr th:only-of-type {\n",
       "        vertical-align: middle;\n",
       "    }\n",
       "\n",
       "    .dataframe tbody tr th {\n",
       "        vertical-align: top;\n",
       "    }\n",
       "\n",
       "    .dataframe thead th {\n",
       "        text-align: right;\n",
       "    }\n",
       "</style>\n",
       "<table border=\"1\" class=\"dataframe\">\n",
       "  <thead>\n",
       "    <tr style=\"text-align: right;\">\n",
       "      <th></th>\n",
       "      <th>port1</th>\n",
       "      <th>port2</th>\n",
       "      <th>port3</th>\n",
       "      <th>idc_market</th>\n",
       "    </tr>\n",
       "    <tr>\n",
       "      <th>de_faixa_faturamento_estimado_grupo</th>\n",
       "      <th></th>\n",
       "      <th></th>\n",
       "      <th></th>\n",
       "      <th></th>\n",
       "    </tr>\n",
       "  </thead>\n",
       "  <tbody>\n",
       "    <tr>\n",
       "      <td>DE R$ 81.000,01 A R$ 360.000,00</td>\n",
       "      <td>296.0</td>\n",
       "      <td>0.0</td>\n",
       "      <td>0.0</td>\n",
       "      <td>252602</td>\n",
       "    </tr>\n",
       "    <tr>\n",
       "      <td>ATE R$ 81.000,00</td>\n",
       "      <td>143.0</td>\n",
       "      <td>0.0</td>\n",
       "      <td>0.0</td>\n",
       "      <td>98118</td>\n",
       "    </tr>\n",
       "    <tr>\n",
       "      <td>DE R$ 360.000,01 A R$ 1.500.000,00</td>\n",
       "      <td>58.0</td>\n",
       "      <td>0.0</td>\n",
       "      <td>0.0</td>\n",
       "      <td>53492</td>\n",
       "    </tr>\n",
       "    <tr>\n",
       "      <td>DE R$ 1.500.000,01 A R$ 4.800.000,00</td>\n",
       "      <td>18.0</td>\n",
       "      <td>0.0</td>\n",
       "      <td>0.0</td>\n",
       "      <td>13465</td>\n",
       "    </tr>\n",
       "    <tr>\n",
       "      <td>DE R$ 4.800.000,01 A R$ 10.000.000,00</td>\n",
       "      <td>6.0</td>\n",
       "      <td>0.0</td>\n",
       "      <td>0.0</td>\n",
       "      <td>4055</td>\n",
       "    </tr>\n",
       "    <tr>\n",
       "      <td>ACIMA DE 1 BILHAO DE REAIS</td>\n",
       "      <td>1.0</td>\n",
       "      <td>8.0</td>\n",
       "      <td>3.0</td>\n",
       "      <td>3613</td>\n",
       "    </tr>\n",
       "    <tr>\n",
       "      <td>DE R$ 10.000.000,01 A R$ 30.000.000,00</td>\n",
       "      <td>5.0</td>\n",
       "      <td>247.0</td>\n",
       "      <td>59.0</td>\n",
       "      <td>3598</td>\n",
       "    </tr>\n",
       "    <tr>\n",
       "      <td>DE R$ 30.000.000,01 A R$ 100.000.000,00</td>\n",
       "      <td>2.0</td>\n",
       "      <td>210.0</td>\n",
       "      <td>135.0</td>\n",
       "      <td>3061</td>\n",
       "    </tr>\n",
       "    <tr>\n",
       "      <td>DE R$ 100.000.000,01 A R$ 300.000.000,00</td>\n",
       "      <td>0.0</td>\n",
       "      <td>78.0</td>\n",
       "      <td>54.0</td>\n",
       "      <td>1583</td>\n",
       "    </tr>\n",
       "    <tr>\n",
       "      <td>DE R$ 500.000.000,01 A 1 BILHAO DE REAIS</td>\n",
       "      <td>0.0</td>\n",
       "      <td>9.0</td>\n",
       "      <td>7.0</td>\n",
       "      <td>676</td>\n",
       "    </tr>\n",
       "    <tr>\n",
       "      <td>DE R$ 300.000.000,01 A R$ 500.000.000,00</td>\n",
       "      <td>1.0</td>\n",
       "      <td>14.0</td>\n",
       "      <td>7.0</td>\n",
       "      <td>522</td>\n",
       "    </tr>\n",
       "  </tbody>\n",
       "</table>\n",
       "</div>"
      ],
      "text/plain": [
       "                                          port1  port2  port3  idc_market\n",
       "de_faixa_faturamento_estimado_grupo                                      \n",
       "DE R$ 81.000,01 A R$ 360.000,00           296.0    0.0    0.0      252602\n",
       "ATE R$ 81.000,00                          143.0    0.0    0.0       98118\n",
       "DE R$ 360.000,01 A R$ 1.500.000,00         58.0    0.0    0.0       53492\n",
       "DE R$ 1.500.000,01 A R$ 4.800.000,00       18.0    0.0    0.0       13465\n",
       "DE R$ 4.800.000,01 A R$ 10.000.000,00       6.0    0.0    0.0        4055\n",
       "ACIMA DE 1 BILHAO DE REAIS                  1.0    8.0    3.0        3613\n",
       "DE R$ 10.000.000,01 A R$ 30.000.000,00      5.0  247.0   59.0        3598\n",
       "DE R$ 30.000.000,01 A R$ 100.000.000,00     2.0  210.0  135.0        3061\n",
       "DE R$ 100.000.000,01 A R$ 300.000.000,00    0.0   78.0   54.0        1583\n",
       "DE R$ 500.000.000,01 A 1 BILHAO DE REAIS    0.0    9.0    7.0         676\n",
       "DE R$ 300.000.000,01 A R$ 500.000.000,00    1.0   14.0    7.0         522"
      ]
     },
     "execution_count": 37,
     "metadata": {},
     "output_type": "execute_result"
    }
   ],
   "source": [
    "market.groupby(by='de_faixa_faturamento_estimado_grupo')['port1','port2','port3', 'idc_market'].sum().sort_values(by=['idc_market'], ascending=False)"
   ]
  },
  {
   "cell_type": "code",
   "execution_count": 38,
   "metadata": {},
   "outputs": [
    {
     "data": {
      "text/plain": [
       "array(['DE R$ 1.500.000,01 A R$ 4.800.000,00',\n",
       "       'DE R$ 81.000,01 A R$ 360.000,00', 'ATE R$ 81.000,00', nan,\n",
       "       'DE R$ 360.000,01 A R$ 1.500.000,00',\n",
       "       'DE R$ 500.000.000,01 A 1 BILHAO DE REAIS',\n",
       "       'ACIMA DE 1 BILHAO DE REAIS',\n",
       "       'DE R$ 4.800.000,01 A R$ 10.000.000,00',\n",
       "       'DE R$ 10.000.000,01 A R$ 30.000.000,00',\n",
       "       'DE R$ 30.000.000,01 A R$ 100.000.000,00',\n",
       "       'DE R$ 300.000.000,01 A R$ 500.000.000,00',\n",
       "       'DE R$ 100.000.000,01 A R$ 300.000.000,00'], dtype=object)"
      ]
     },
     "execution_count": 38,
     "metadata": {},
     "output_type": "execute_result"
    }
   ],
   "source": [
    "market['de_faixa_faturamento_estimado_grupo'].unique()"
   ]
  },
  {
   "cell_type": "markdown",
   "metadata": {},
   "source": [
    "> *Para uma melhor análise fizemos a transformação da faixa para a forma discreta*"
   ]
  },
  {
   "cell_type": "code",
   "execution_count": 39,
   "metadata": {},
   "outputs": [],
   "source": [
    "variacao_faixa = {'ATE R$ 81.000,00': 1, \n",
    "                  'DE R$ 81.000,01 A R$ 360.000,00' : 2,\n",
    "                  'DE R$ 360.000,01 A R$ 1.500.000,00' : 3, \n",
    "                  'DE R$ 1.500.000,01 A R$ 4.800.000,00' : 4, \n",
    "                  'DE R$ 4.800.000,01 A R$ 10.000.000,00' : 5,\n",
    "                  'DE R$ 10.000.000,01 A R$ 30.000.000,00' : 6,\n",
    "                  'DE R$ 30.000.000,01 A R$ 100.000.000,00' : 7,\n",
    "                  'DE R$ 100.000.000,01 A R$ 300.000.000,00': 8, \n",
    "                  'DE R$ 300.000.000,01 A R$ 500.000.000,00' : 9, \n",
    "                  'DE R$ 500.000.000,01 A 1 BILHAO DE REAIS' : 10, \n",
    "                  'ACIMA DE 1 BILHAO DE REAIS' : 11} \n",
    "\n",
    "market['faturamento_cat'] = market['de_faixa_faturamento_estimado_grupo'].map(variacao_faixa)"
   ]
  },
  {
   "cell_type": "markdown",
   "metadata": {},
   "source": [
    "> *Substituição da taxa de faturamento para clientes MEI e SIMPLES*"
   ]
  },
  {
   "cell_type": "code",
   "execution_count": 40,
   "metadata": {},
   "outputs": [],
   "source": [
    "# Mei\n",
    "market['faturamento_cat'] = np.where(market['de_faixa_faturamento_estimado_grupo'].isnull() & market['fl_mei'] == True, 1, market['faturamento_cat'])\n",
    "market.faturamento_cat = np.where(market['faturamento_cat'].isnull() & market['fl_optante_simei'] == True, 1, market.faturamento_cat)\n",
    "\n",
    "# Simples\n",
    "market.faturamento_cat = np.where(market['faturamento_cat'].isnull() & market['fl_optante_simples'] == True, 2, market.faturamento_cat)\n",
    "market.faturamento_cat = np.where(market['faturamento_cat'].isnull() & market['fl_me'] == True, 2, market.faturamento_cat)"
   ]
  },
  {
   "cell_type": "markdown",
   "metadata": {},
   "source": [
    "> *Mesmo com esses tratamentos ainda temos valores nulos*"
   ]
  },
  {
   "cell_type": "code",
   "execution_count": 41,
   "metadata": {},
   "outputs": [
    {
     "name": "stdout",
     "output_type": "stream",
     "text": [
      "Valores nulos restantes: 7992\n"
     ]
    }
   ],
   "source": [
    "print(f\"Valores nulos restantes: {market['faturamento_cat'].isnull().sum()}\")"
   ]
  },
  {
   "cell_type": "code",
   "execution_count": 42,
   "metadata": {},
   "outputs": [
    {
     "data": {
      "text/plain": [
       "setor\n",
       "AGROPECUARIA          73\n",
       "COMERCIO            2365\n",
       "CONSTRUÇÃO CIVIL     379\n",
       "INDUSTRIA            242\n",
       "SERVIÇO             4931\n",
       "Name: setor, dtype: int64"
      ]
     },
     "execution_count": 42,
     "metadata": {},
     "output_type": "execute_result"
    }
   ],
   "source": [
    "# Fazendo o agrupamento, por setor, desses valores nulos restantes\n",
    "market['setor'][market['faturamento_cat'].isnull()].groupby(by=market['setor']).count()"
   ]
  },
  {
   "cell_type": "code",
   "execution_count": 43,
   "metadata": {},
   "outputs": [
    {
     "data": {
      "text/plain": [
       "idade_emp_cat\n",
       "1 a 5       149\n",
       "10 a 15      26\n",
       "15 a 20      19\n",
       "5 a 10       51\n",
       "<= 1       7708\n",
       "> 20         37\n",
       "Name: setor, dtype: int64"
      ]
     },
     "execution_count": 43,
     "metadata": {},
     "output_type": "execute_result"
    }
   ],
   "source": [
    "# Fazendo o agrupamento, por idade_emp_cat, desses valores nulos restantes\n",
    "market['setor'][market['faturamento_cat'].isnull()].groupby(by=market['idade_emp_cat']).count()"
   ]
  },
  {
   "cell_type": "code",
   "execution_count": 44,
   "metadata": {},
   "outputs": [],
   "source": [
    "market['faturamento_cat'] = np.where(market['faturamento_cat'].isnull(), 1.5, market['faturamento_cat'])"
   ]
  },
  {
   "cell_type": "markdown",
   "metadata": {},
   "source": [
    "> *Decidimos por colocar as empresas faltantes no grupo 1.5 porque os clientes possuem em geral menos de 1 ano e são dos setores de Comercio ou Serviços. Ambas as características estão majoritariamente nas faixas de faturamento 1 e 2.*"
   ]
  },
  {
   "cell_type": "code",
   "execution_count": 45,
   "metadata": {},
   "outputs": [],
   "source": [
    "market['faturamento_cat'] = np.where(market['faturamento_cat'].isnull(), 1.5, market['faturamento_cat'])"
   ]
  },
  {
   "cell_type": "markdown",
   "metadata": {},
   "source": [
    "> *Quantas filiais temos em nosso data set?*"
   ]
  },
  {
   "cell_type": "code",
   "execution_count": 46,
   "metadata": {},
   "outputs": [
    {
     "data": {
      "text/plain": [
       "count    462298.000000\n",
       "mean         28.737044\n",
       "std         468.626094\n",
       "min           0.000000\n",
       "25%           0.000000\n",
       "50%           0.000000\n",
       "75%           0.000000\n",
       "max        9647.000000\n",
       "Name: qt_filiais, dtype: float64"
      ]
     },
     "execution_count": 46,
     "metadata": {},
     "output_type": "execute_result"
    }
   ],
   "source": [
    "market['qt_filiais'].describe()"
   ]
  },
  {
   "cell_type": "markdown",
   "metadata": {},
   "source": [
    "> *Fazendo a separação pela faixa na quantidade de filiais*"
   ]
  },
  {
   "cell_type": "code",
   "execution_count": 47,
   "metadata": {},
   "outputs": [
    {
     "data": {
      "text/html": [
       "<div>\n",
       "<style scoped>\n",
       "    .dataframe tbody tr th:only-of-type {\n",
       "        vertical-align: middle;\n",
       "    }\n",
       "\n",
       "    .dataframe tbody tr th {\n",
       "        vertical-align: top;\n",
       "    }\n",
       "\n",
       "    .dataframe thead th {\n",
       "        text-align: right;\n",
       "    }\n",
       "</style>\n",
       "<table border=\"1\" class=\"dataframe\">\n",
       "  <thead>\n",
       "    <tr style=\"text-align: right;\">\n",
       "      <th></th>\n",
       "      <th>port1</th>\n",
       "      <th>port2</th>\n",
       "      <th>port3</th>\n",
       "      <th>idc_market</th>\n",
       "    </tr>\n",
       "    <tr>\n",
       "      <th>qt_filiais_range</th>\n",
       "      <th></th>\n",
       "      <th></th>\n",
       "      <th></th>\n",
       "      <th></th>\n",
       "    </tr>\n",
       "  </thead>\n",
       "  <tbody>\n",
       "    <tr>\n",
       "      <td>0-1</td>\n",
       "      <td>525.0</td>\n",
       "      <td>378.0</td>\n",
       "      <td>208.0</td>\n",
       "      <td>437604</td>\n",
       "    </tr>\n",
       "    <tr>\n",
       "      <td>1-2</td>\n",
       "      <td>4.0</td>\n",
       "      <td>49.0</td>\n",
       "      <td>17.0</td>\n",
       "      <td>5943</td>\n",
       "    </tr>\n",
       "    <tr>\n",
       "      <td>2-5</td>\n",
       "      <td>14.0</td>\n",
       "      <td>57.0</td>\n",
       "      <td>17.0</td>\n",
       "      <td>5817</td>\n",
       "    </tr>\n",
       "    <tr>\n",
       "      <td>5-9</td>\n",
       "      <td>6.0</td>\n",
       "      <td>39.0</td>\n",
       "      <td>9.0</td>\n",
       "      <td>2484</td>\n",
       "    </tr>\n",
       "    <tr>\n",
       "      <td>9-65</td>\n",
       "      <td>5.0</td>\n",
       "      <td>40.0</td>\n",
       "      <td>13.0</td>\n",
       "      <td>5646</td>\n",
       "    </tr>\n",
       "    <tr>\n",
       "      <td>65+</td>\n",
       "      <td>1.0</td>\n",
       "      <td>3.0</td>\n",
       "      <td>1.0</td>\n",
       "      <td>4804</td>\n",
       "    </tr>\n",
       "  </tbody>\n",
       "</table>\n",
       "</div>"
      ],
      "text/plain": [
       "                  port1  port2  port3  idc_market\n",
       "qt_filiais_range                                 \n",
       "0-1               525.0  378.0  208.0      437604\n",
       "1-2                 4.0   49.0   17.0        5943\n",
       "2-5                14.0   57.0   17.0        5817\n",
       "5-9                 6.0   39.0    9.0        2484\n",
       "9-65                5.0   40.0   13.0        5646\n",
       "65+                 1.0    3.0    1.0        4804"
      ]
     },
     "execution_count": 47,
     "metadata": {},
     "output_type": "execute_result"
    }
   ],
   "source": [
    "bins = [0, 1, 2, 5, 9, 65,  np.inf]\n",
    "names = ['0-1','1-2', '2-5', '5-9', '9-65', '65+']\n",
    "market['qt_filiais_range'] = pd.cut(market['qt_filiais'], bins, labels=names, include_lowest=True)\n",
    "market.groupby(by='qt_filiais_range')['port1', 'port2', 'port3', 'idc_market'].sum()"
   ]
  },
  {
   "cell_type": "markdown",
   "metadata": {},
   "source": [
    "> *Como está o nível de operação dessas empresas?*"
   ]
  },
  {
   "cell_type": "code",
   "execution_count": 48,
   "metadata": {},
   "outputs": [],
   "source": [
    "operacao = market.groupby(by='de_nivel_atividade')['port1', 'port2', 'port3', 'idc_market'].sum().reset_index()\n",
    "operacao_alta = operacao[operacao['de_nivel_atividade'] == 'ALTA']"
   ]
  },
  {
   "cell_type": "code",
   "execution_count": 49,
   "metadata": {},
   "outputs": [
    {
     "data": {
      "text/html": [
       "<div>\n",
       "<style scoped>\n",
       "    .dataframe tbody tr th:only-of-type {\n",
       "        vertical-align: middle;\n",
       "    }\n",
       "\n",
       "    .dataframe tbody tr th {\n",
       "        vertical-align: top;\n",
       "    }\n",
       "\n",
       "    .dataframe thead th {\n",
       "        text-align: right;\n",
       "    }\n",
       "</style>\n",
       "<table border=\"1\" class=\"dataframe\">\n",
       "  <thead>\n",
       "    <tr style=\"text-align: right;\">\n",
       "      <th></th>\n",
       "      <th>de_nivel_atividade</th>\n",
       "      <th>port1</th>\n",
       "      <th>port2</th>\n",
       "      <th>port3</th>\n",
       "      <th>idc_market</th>\n",
       "    </tr>\n",
       "  </thead>\n",
       "  <tbody>\n",
       "    <tr>\n",
       "      <td>0</td>\n",
       "      <td>ALTA</td>\n",
       "      <td>153.0</td>\n",
       "      <td>523.0</td>\n",
       "      <td>236.0</td>\n",
       "      <td>152245</td>\n",
       "    </tr>\n",
       "    <tr>\n",
       "      <td>1</td>\n",
       "      <td>BAIXA</td>\n",
       "      <td>116.0</td>\n",
       "      <td>6.0</td>\n",
       "      <td>3.0</td>\n",
       "      <td>76080</td>\n",
       "    </tr>\n",
       "    <tr>\n",
       "      <td>2</td>\n",
       "      <td>MEDIA</td>\n",
       "      <td>280.0</td>\n",
       "      <td>37.0</td>\n",
       "      <td>26.0</td>\n",
       "      <td>217949</td>\n",
       "    </tr>\n",
       "    <tr>\n",
       "      <td>3</td>\n",
       "      <td>MUITO BAIXA</td>\n",
       "      <td>2.0</td>\n",
       "      <td>0.0</td>\n",
       "      <td>0.0</td>\n",
       "      <td>4856</td>\n",
       "    </tr>\n",
       "  </tbody>\n",
       "</table>\n",
       "</div>"
      ],
      "text/plain": [
       "  de_nivel_atividade  port1  port2  port3  idc_market\n",
       "0               ALTA  153.0  523.0  236.0      152245\n",
       "1              BAIXA  116.0    6.0    3.0       76080\n",
       "2              MEDIA  280.0   37.0   26.0      217949\n",
       "3        MUITO BAIXA    2.0    0.0    0.0        4856"
      ]
     },
     "execution_count": 49,
     "metadata": {},
     "output_type": "execute_result"
    }
   ],
   "source": [
    "operacao"
   ]
  },
  {
   "cell_type": "markdown",
   "metadata": {},
   "source": [
    "> *Temos alguns clientes que realizam atividades tributárias*"
   ]
  },
  {
   "cell_type": "code",
   "execution_count": 50,
   "metadata": {},
   "outputs": [
    {
     "data": {
      "text/html": [
       "<div>\n",
       "<style scoped>\n",
       "    .dataframe tbody tr th:only-of-type {\n",
       "        vertical-align: middle;\n",
       "    }\n",
       "\n",
       "    .dataframe tbody tr th {\n",
       "        vertical-align: top;\n",
       "    }\n",
       "\n",
       "    .dataframe thead th {\n",
       "        text-align: right;\n",
       "    }\n",
       "</style>\n",
       "<table border=\"1\" class=\"dataframe\">\n",
       "  <thead>\n",
       "    <tr style=\"text-align: right;\">\n",
       "      <th></th>\n",
       "      <th>port1</th>\n",
       "      <th>port2</th>\n",
       "      <th>port3</th>\n",
       "      <th>idc_market</th>\n",
       "    </tr>\n",
       "    <tr>\n",
       "      <th>fl_passivel_iss</th>\n",
       "      <th></th>\n",
       "      <th></th>\n",
       "      <th></th>\n",
       "      <th></th>\n",
       "    </tr>\n",
       "  </thead>\n",
       "  <tbody>\n",
       "    <tr>\n",
       "      <td>False</td>\n",
       "      <td>442.0</td>\n",
       "      <td>76.0</td>\n",
       "      <td>0.0</td>\n",
       "      <td>195630</td>\n",
       "    </tr>\n",
       "    <tr>\n",
       "      <td>True</td>\n",
       "      <td>113.0</td>\n",
       "      <td>490.0</td>\n",
       "      <td>265.0</td>\n",
       "      <td>264741</td>\n",
       "    </tr>\n",
       "  </tbody>\n",
       "</table>\n",
       "</div>"
      ],
      "text/plain": [
       "                 port1  port2  port3  idc_market\n",
       "fl_passivel_iss                                 \n",
       "False            442.0   76.0    0.0      195630\n",
       "True             113.0  490.0  265.0      264741"
      ]
     },
     "execution_count": 50,
     "metadata": {},
     "output_type": "execute_result"
    }
   ],
   "source": [
    "market.groupby(by='fl_passivel_iss')['port1', 'port2', 'port3', 'idc_market'].sum()"
   ]
  },
  {
   "cell_type": "code",
   "execution_count": 51,
   "metadata": {},
   "outputs": [
    {
     "data": {
      "text/plain": [
       "id                                          0\n",
       "fl_matriz                                   0\n",
       "de_natureza_juridica                        0\n",
       "sg_uf                                       0\n",
       "natureza_juridica_macro                     0\n",
       "de_ramo                                     0\n",
       "setor                                    1927\n",
       "idade_empresa_anos                          0\n",
       "idade_emp_cat                               0\n",
       "fl_me                                       0\n",
       "fl_sa                                       0\n",
       "fl_epp                                      0\n",
       "fl_mei                                      0\n",
       "fl_ltda                                     0\n",
       "dt_situacao                                 0\n",
       "fl_st_especial                              0\n",
       "fl_email                                    0\n",
       "fl_telefone                                 0\n",
       "fl_rm                                       0\n",
       "nm_divisao                               1927\n",
       "nm_segmento                              1927\n",
       "fl_spa                                   1927\n",
       "fl_antt                                  1927\n",
       "fl_veiculo                               1927\n",
       "fl_optante_simples                       1927\n",
       "vl_total_veiculos_pesados_grupo          1927\n",
       "vl_total_veiculos_leves_grupo            1927\n",
       "fl_optante_simei                         1927\n",
       "sg_uf_matriz                             1927\n",
       "de_saude_tributaria                      1927\n",
       "de_saude_rescencia                       1927\n",
       "nu_meses_rescencia                       1927\n",
       "de_nivel_atividade                       1927\n",
       "fl_simples_irregular                     1927\n",
       "empsetorcensitariofaixarendapopulacao    1927\n",
       "nm_meso_regiao                           1927\n",
       "nm_micro_regiao                          1927\n",
       "fl_passivel_iss                          1927\n",
       "qt_socios                                1355\n",
       "qt_socios_pf                             1355\n",
       "qt_socios_pj                             1355\n",
       "idade_media_socios                       1611\n",
       "idade_maxima_socios                      1611\n",
       "idade_minima_socios                      1611\n",
       "qt_socios_st_regular                     1650\n",
       "de_faixa_faturamento_estimado               2\n",
       "de_faixa_faturamento_estimado_grupo         2\n",
       "vl_faturamento_estimado_aux                 2\n",
       "vl_faturamento_estimado_grupo_aux           2\n",
       "qt_filiais                                  0\n",
       "port1                                       0\n",
       "port2                                       0\n",
       "port3                                       0\n",
       "idc_market                                  0\n",
       "setor_privado                               0\n",
       "cli_mei                                     0\n",
       "cli_simples                                 0\n",
       "faturamento_cat                             0\n",
       "qt_filiais_range                            0\n",
       "dtype: int64"
      ]
     },
     "execution_count": 51,
     "metadata": {},
     "output_type": "execute_result"
    }
   ],
   "source": [
    "market[market.fl_passivel_iss.isnull()].isnull().sum()"
   ]
  },
  {
   "cell_type": "code",
   "execution_count": 52,
   "metadata": {},
   "outputs": [
    {
     "data": {
      "text/html": [
       "<div>\n",
       "<style scoped>\n",
       "    .dataframe tbody tr th:only-of-type {\n",
       "        vertical-align: middle;\n",
       "    }\n",
       "\n",
       "    .dataframe tbody tr th {\n",
       "        vertical-align: top;\n",
       "    }\n",
       "\n",
       "    .dataframe thead th {\n",
       "        text-align: right;\n",
       "    }\n",
       "</style>\n",
       "<table border=\"1\" class=\"dataframe\">\n",
       "  <thead>\n",
       "    <tr style=\"text-align: right;\">\n",
       "      <th></th>\n",
       "      <th>port1</th>\n",
       "      <th>port2</th>\n",
       "      <th>port3</th>\n",
       "      <th>idc_market</th>\n",
       "    </tr>\n",
       "    <tr>\n",
       "      <th>idade_emp_cat</th>\n",
       "      <th></th>\n",
       "      <th></th>\n",
       "      <th></th>\n",
       "      <th></th>\n",
       "    </tr>\n",
       "  </thead>\n",
       "  <tbody>\n",
       "    <tr>\n",
       "      <td>15 a 20</td>\n",
       "      <td>False</td>\n",
       "      <td>False</td>\n",
       "      <td>False</td>\n",
       "      <td>2</td>\n",
       "    </tr>\n",
       "    <tr>\n",
       "      <td>&gt; 20</td>\n",
       "      <td>False</td>\n",
       "      <td>False</td>\n",
       "      <td>False</td>\n",
       "      <td>1925</td>\n",
       "    </tr>\n",
       "  </tbody>\n",
       "</table>\n",
       "</div>"
      ],
      "text/plain": [
       "               port1  port2  port3  idc_market\n",
       "idade_emp_cat                                 \n",
       "15 a 20        False  False  False           2\n",
       "> 20           False  False  False        1925"
      ]
     },
     "execution_count": 52,
     "metadata": {},
     "output_type": "execute_result"
    }
   ],
   "source": [
    "market[market['fl_passivel_iss'].isnull()].groupby(by='idade_emp_cat')['port1', 'port2', 'port3', 'idc_market'].sum()"
   ]
  },
  {
   "cell_type": "code",
   "execution_count": 53,
   "metadata": {},
   "outputs": [
    {
     "data": {
      "text/html": [
       "<div>\n",
       "<style scoped>\n",
       "    .dataframe tbody tr th:only-of-type {\n",
       "        vertical-align: middle;\n",
       "    }\n",
       "\n",
       "    .dataframe tbody tr th {\n",
       "        vertical-align: top;\n",
       "    }\n",
       "\n",
       "    .dataframe thead th {\n",
       "        text-align: right;\n",
       "    }\n",
       "</style>\n",
       "<table border=\"1\" class=\"dataframe\">\n",
       "  <thead>\n",
       "    <tr style=\"text-align: right;\">\n",
       "      <th></th>\n",
       "      <th>port1</th>\n",
       "      <th>port2</th>\n",
       "      <th>port3</th>\n",
       "      <th>idc_market</th>\n",
       "    </tr>\n",
       "    <tr>\n",
       "      <th>fl_passivel_iss</th>\n",
       "      <th></th>\n",
       "      <th></th>\n",
       "      <th></th>\n",
       "      <th></th>\n",
       "    </tr>\n",
       "  </thead>\n",
       "  <tbody>\n",
       "    <tr>\n",
       "      <td>False</td>\n",
       "      <td>87.0</td>\n",
       "      <td>43.0</td>\n",
       "      <td>0.0</td>\n",
       "      <td>39030</td>\n",
       "    </tr>\n",
       "    <tr>\n",
       "      <td>True</td>\n",
       "      <td>5.0</td>\n",
       "      <td>336.0</td>\n",
       "      <td>176.0</td>\n",
       "      <td>34617</td>\n",
       "    </tr>\n",
       "  </tbody>\n",
       "</table>\n",
       "</div>"
      ],
      "text/plain": [
       "                 port1  port2  port3  idc_market\n",
       "fl_passivel_iss                                 \n",
       "False             87.0   43.0    0.0       39030\n",
       "True               5.0  336.0  176.0       34617"
      ]
     },
     "execution_count": 53,
     "metadata": {},
     "output_type": "execute_result"
    }
   ],
   "source": [
    "market[market['idade_emp_cat'] == '> 20'].groupby(by='fl_passivel_iss')['port1', 'port2', 'port3', 'idc_market'].sum()"
   ]
  },
  {
   "cell_type": "code",
   "execution_count": 54,
   "metadata": {},
   "outputs": [
    {
     "data": {
      "text/html": [
       "<div>\n",
       "<style scoped>\n",
       "    .dataframe tbody tr th:only-of-type {\n",
       "        vertical-align: middle;\n",
       "    }\n",
       "\n",
       "    .dataframe tbody tr th {\n",
       "        vertical-align: top;\n",
       "    }\n",
       "\n",
       "    .dataframe thead th {\n",
       "        text-align: right;\n",
       "    }\n",
       "</style>\n",
       "<table border=\"1\" class=\"dataframe\">\n",
       "  <thead>\n",
       "    <tr style=\"text-align: right;\">\n",
       "      <th></th>\n",
       "      <th>port1</th>\n",
       "      <th>port2</th>\n",
       "      <th>port3</th>\n",
       "      <th>idc_market</th>\n",
       "    </tr>\n",
       "    <tr>\n",
       "      <th>vl_faturamento_estimado_aux</th>\n",
       "      <th></th>\n",
       "      <th></th>\n",
       "      <th></th>\n",
       "      <th></th>\n",
       "    </tr>\n",
       "  </thead>\n",
       "  <tbody>\n",
       "    <tr>\n",
       "      <td>210000.0</td>\n",
       "      <td>False</td>\n",
       "      <td>False</td>\n",
       "      <td>False</td>\n",
       "      <td>1902</td>\n",
       "    </tr>\n",
       "    <tr>\n",
       "      <td>930000.0</td>\n",
       "      <td>False</td>\n",
       "      <td>False</td>\n",
       "      <td>False</td>\n",
       "      <td>22</td>\n",
       "    </tr>\n",
       "    <tr>\n",
       "      <td>2110000.0</td>\n",
       "      <td>False</td>\n",
       "      <td>False</td>\n",
       "      <td>False</td>\n",
       "      <td>1</td>\n",
       "    </tr>\n",
       "  </tbody>\n",
       "</table>\n",
       "</div>"
      ],
      "text/plain": [
       "                             port1  port2  port3  idc_market\n",
       "vl_faturamento_estimado_aux                                 \n",
       "210000.0                     False  False  False        1902\n",
       "930000.0                     False  False  False          22\n",
       "2110000.0                    False  False  False           1"
      ]
     },
     "execution_count": 54,
     "metadata": {},
     "output_type": "execute_result"
    }
   ],
   "source": [
    "market[market['fl_passivel_iss'].isnull()].groupby(by='vl_faturamento_estimado_aux')['port1', 'port2', 'port3', 'idc_market'].sum()"
   ]
  },
  {
   "cell_type": "code",
   "execution_count": 55,
   "metadata": {},
   "outputs": [
    {
     "data": {
      "text/html": [
       "<div>\n",
       "<style scoped>\n",
       "    .dataframe tbody tr th:only-of-type {\n",
       "        vertical-align: middle;\n",
       "    }\n",
       "\n",
       "    .dataframe tbody tr th {\n",
       "        vertical-align: top;\n",
       "    }\n",
       "\n",
       "    .dataframe thead th {\n",
       "        text-align: right;\n",
       "    }\n",
       "</style>\n",
       "<table border=\"1\" class=\"dataframe\">\n",
       "  <thead>\n",
       "    <tr style=\"text-align: right;\">\n",
       "      <th></th>\n",
       "      <th>port1</th>\n",
       "      <th>port2</th>\n",
       "      <th>port3</th>\n",
       "      <th>idc_market</th>\n",
       "    </tr>\n",
       "    <tr>\n",
       "      <th>fl_passivel_iss</th>\n",
       "      <th></th>\n",
       "      <th></th>\n",
       "      <th></th>\n",
       "      <th></th>\n",
       "    </tr>\n",
       "  </thead>\n",
       "  <tbody>\n",
       "    <tr>\n",
       "      <td>False</td>\n",
       "      <td>238.0</td>\n",
       "      <td>0.0</td>\n",
       "      <td>0.0</td>\n",
       "      <td>108211</td>\n",
       "    </tr>\n",
       "    <tr>\n",
       "      <td>True</td>\n",
       "      <td>51.0</td>\n",
       "      <td>0.0</td>\n",
       "      <td>0.0</td>\n",
       "      <td>139755</td>\n",
       "    </tr>\n",
       "  </tbody>\n",
       "</table>\n",
       "</div>"
      ],
      "text/plain": [
       "                 port1  port2  port3  idc_market\n",
       "fl_passivel_iss                                 \n",
       "False            238.0    0.0    0.0      108211\n",
       "True              51.0    0.0    0.0      139755"
      ]
     },
     "execution_count": 55,
     "metadata": {},
     "output_type": "execute_result"
    }
   ],
   "source": [
    "market[market['vl_faturamento_estimado_aux'] == 210000.0].groupby(by='fl_passivel_iss')['port1', 'port2', 'port3', 'idc_market'].sum()"
   ]
  },
  {
   "cell_type": "code",
   "execution_count": 56,
   "metadata": {},
   "outputs": [
    {
     "data": {
      "text/html": [
       "<div>\n",
       "<style scoped>\n",
       "    .dataframe tbody tr th:only-of-type {\n",
       "        vertical-align: middle;\n",
       "    }\n",
       "\n",
       "    .dataframe tbody tr th {\n",
       "        vertical-align: top;\n",
       "    }\n",
       "\n",
       "    .dataframe thead th {\n",
       "        text-align: right;\n",
       "    }\n",
       "</style>\n",
       "<table border=\"1\" class=\"dataframe\">\n",
       "  <thead>\n",
       "    <tr style=\"text-align: right;\">\n",
       "      <th></th>\n",
       "      <th>port1</th>\n",
       "      <th>port2</th>\n",
       "      <th>port3</th>\n",
       "      <th>idc_market</th>\n",
       "    </tr>\n",
       "    <tr>\n",
       "      <th>de_faixa_faturamento_estimado</th>\n",
       "      <th></th>\n",
       "      <th></th>\n",
       "      <th></th>\n",
       "      <th></th>\n",
       "    </tr>\n",
       "  </thead>\n",
       "  <tbody>\n",
       "    <tr>\n",
       "      <td>DE R$ 1.500.000,01 A R$ 4.800.000,00</td>\n",
       "      <td>False</td>\n",
       "      <td>False</td>\n",
       "      <td>False</td>\n",
       "      <td>1</td>\n",
       "    </tr>\n",
       "    <tr>\n",
       "      <td>DE R$ 360.000,01 A R$ 1.500.000,00</td>\n",
       "      <td>False</td>\n",
       "      <td>False</td>\n",
       "      <td>False</td>\n",
       "      <td>22</td>\n",
       "    </tr>\n",
       "    <tr>\n",
       "      <td>DE R$ 81.000,01 A R$ 360.000,00</td>\n",
       "      <td>False</td>\n",
       "      <td>False</td>\n",
       "      <td>False</td>\n",
       "      <td>1902</td>\n",
       "    </tr>\n",
       "  </tbody>\n",
       "</table>\n",
       "</div>"
      ],
      "text/plain": [
       "                                      port1  port2  port3  idc_market\n",
       "de_faixa_faturamento_estimado                                        \n",
       "DE R$ 1.500.000,01 A R$ 4.800.000,00  False  False  False           1\n",
       "DE R$ 360.000,01 A R$ 1.500.000,00    False  False  False          22\n",
       "DE R$ 81.000,01 A R$ 360.000,00       False  False  False        1902"
      ]
     },
     "execution_count": 56,
     "metadata": {},
     "output_type": "execute_result"
    }
   ],
   "source": [
    "market[market['fl_passivel_iss'].isnull()].groupby(by='de_faixa_faturamento_estimado')['port1', 'port2', 'port3', 'idc_market'].sum()"
   ]
  },
  {
   "cell_type": "code",
   "execution_count": 57,
   "metadata": {},
   "outputs": [
    {
     "data": {
      "text/html": [
       "<div>\n",
       "<style scoped>\n",
       "    .dataframe tbody tr th:only-of-type {\n",
       "        vertical-align: middle;\n",
       "    }\n",
       "\n",
       "    .dataframe tbody tr th {\n",
       "        vertical-align: top;\n",
       "    }\n",
       "\n",
       "    .dataframe thead th {\n",
       "        text-align: right;\n",
       "    }\n",
       "</style>\n",
       "<table border=\"1\" class=\"dataframe\">\n",
       "  <thead>\n",
       "    <tr style=\"text-align: right;\">\n",
       "      <th></th>\n",
       "      <th>port1</th>\n",
       "      <th>port2</th>\n",
       "      <th>port3</th>\n",
       "      <th>idc_market</th>\n",
       "    </tr>\n",
       "    <tr>\n",
       "      <th>fl_passivel_iss</th>\n",
       "      <th></th>\n",
       "      <th></th>\n",
       "      <th></th>\n",
       "      <th></th>\n",
       "    </tr>\n",
       "  </thead>\n",
       "  <tbody>\n",
       "    <tr>\n",
       "      <td>False</td>\n",
       "      <td>266.0</td>\n",
       "      <td>0.0</td>\n",
       "      <td>0.0</td>\n",
       "      <td>117461</td>\n",
       "    </tr>\n",
       "    <tr>\n",
       "      <td>True</td>\n",
       "      <td>59.0</td>\n",
       "      <td>0.0</td>\n",
       "      <td>0.0</td>\n",
       "      <td>154498</td>\n",
       "    </tr>\n",
       "  </tbody>\n",
       "</table>\n",
       "</div>"
      ],
      "text/plain": [
       "                 port1  port2  port3  idc_market\n",
       "fl_passivel_iss                                 \n",
       "False            266.0    0.0    0.0      117461\n",
       "True              59.0    0.0    0.0      154498"
      ]
     },
     "execution_count": 57,
     "metadata": {},
     "output_type": "execute_result"
    }
   ],
   "source": [
    "market[market['de_faixa_faturamento_estimado'] == 'DE R$ 81.000,01 A R$ 360.000,00'].groupby(by='fl_passivel_iss')['port1', 'port2', 'port3', 'idc_market'].sum()"
   ]
  },
  {
   "cell_type": "markdown",
   "metadata": {},
   "source": [
    "### Análise referente ao grupo `Veículos`\n",
    "> *Podemos ver que temos uma quantidade de núlos na base que não é relevante, porém verificamos quais são os valores mais frequente e inserimos onde estava nulo.*"
   ]
  },
  {
   "cell_type": "code",
   "execution_count": 58,
   "metadata": {},
   "outputs": [
    {
     "data": {
      "text/plain": [
       "fl_spa                             1927\n",
       "fl_antt                            1927\n",
       "fl_veiculo                         1927\n",
       "vl_total_veiculos_pesados_grupo    1927\n",
       "vl_total_veiculos_leves_grupo      1927\n",
       "dtype: int64"
      ]
     },
     "execution_count": 58,
     "metadata": {},
     "output_type": "execute_result"
    }
   ],
   "source": [
    "market[['fl_spa','fl_antt','fl_veiculo','vl_total_veiculos_pesados_grupo','vl_total_veiculos_leves_grupo']].isnull().sum()"
   ]
  },
  {
   "cell_type": "code",
   "execution_count": 59,
   "metadata": {},
   "outputs": [
    {
     "data": {
      "text/html": [
       "<div>\n",
       "<style scoped>\n",
       "    .dataframe tbody tr th:only-of-type {\n",
       "        vertical-align: middle;\n",
       "    }\n",
       "\n",
       "    .dataframe tbody tr th {\n",
       "        vertical-align: top;\n",
       "    }\n",
       "\n",
       "    .dataframe thead th {\n",
       "        text-align: right;\n",
       "    }\n",
       "</style>\n",
       "<table border=\"1\" class=\"dataframe\">\n",
       "  <thead>\n",
       "    <tr style=\"text-align: right;\">\n",
       "      <th></th>\n",
       "      <th>fl_spa</th>\n",
       "      <th>fl_antt</th>\n",
       "      <th>fl_veiculo</th>\n",
       "    </tr>\n",
       "  </thead>\n",
       "  <tbody>\n",
       "    <tr>\n",
       "      <td>count</td>\n",
       "      <td>460371</td>\n",
       "      <td>460371</td>\n",
       "      <td>460371</td>\n",
       "    </tr>\n",
       "    <tr>\n",
       "      <td>unique</td>\n",
       "      <td>2</td>\n",
       "      <td>2</td>\n",
       "      <td>2</td>\n",
       "    </tr>\n",
       "    <tr>\n",
       "      <td>top</td>\n",
       "      <td>False</td>\n",
       "      <td>False</td>\n",
       "      <td>False</td>\n",
       "    </tr>\n",
       "    <tr>\n",
       "      <td>freq</td>\n",
       "      <td>460091</td>\n",
       "      <td>457095</td>\n",
       "      <td>429687</td>\n",
       "    </tr>\n",
       "  </tbody>\n",
       "</table>\n",
       "</div>"
      ],
      "text/plain": [
       "        fl_spa fl_antt fl_veiculo\n",
       "count   460371  460371     460371\n",
       "unique       2       2          2\n",
       "top      False   False      False\n",
       "freq    460091  457095     429687"
      ]
     },
     "execution_count": 59,
     "metadata": {},
     "output_type": "execute_result"
    }
   ],
   "source": [
    "market[['fl_spa','fl_antt','fl_veiculo']].describe()"
   ]
  },
  {
   "cell_type": "code",
   "execution_count": 60,
   "metadata": {},
   "outputs": [],
   "source": [
    "market[['fl_spa','fl_antt','fl_veiculo']] = market[['fl_spa','fl_antt','fl_veiculo']].fillna(0)"
   ]
  },
  {
   "cell_type": "markdown",
   "metadata": {},
   "source": [
    "> *Conseguimos identificar algumas diferenças e semelhanças entre os portfólios*"
   ]
  },
  {
   "cell_type": "code",
   "execution_count": 61,
   "metadata": {},
   "outputs": [
    {
     "data": {
      "text/html": [
       "<div>\n",
       "<style scoped>\n",
       "    .dataframe tbody tr th:only-of-type {\n",
       "        vertical-align: middle;\n",
       "    }\n",
       "\n",
       "    .dataframe tbody tr th {\n",
       "        vertical-align: top;\n",
       "    }\n",
       "\n",
       "    .dataframe thead th {\n",
       "        text-align: right;\n",
       "    }\n",
       "</style>\n",
       "<table border=\"1\" class=\"dataframe\">\n",
       "  <thead>\n",
       "    <tr style=\"text-align: right;\">\n",
       "      <th></th>\n",
       "      <th>port1</th>\n",
       "      <th>port2</th>\n",
       "      <th>port3</th>\n",
       "    </tr>\n",
       "    <tr>\n",
       "      <th>fl_spa</th>\n",
       "      <th></th>\n",
       "      <th></th>\n",
       "      <th></th>\n",
       "    </tr>\n",
       "  </thead>\n",
       "  <tbody>\n",
       "    <tr>\n",
       "      <td>False</td>\n",
       "      <td>555.0</td>\n",
       "      <td>539.0</td>\n",
       "      <td>255.0</td>\n",
       "    </tr>\n",
       "    <tr>\n",
       "      <td>True</td>\n",
       "      <td>0.0</td>\n",
       "      <td>27.0</td>\n",
       "      <td>10.0</td>\n",
       "    </tr>\n",
       "  </tbody>\n",
       "</table>\n",
       "</div>"
      ],
      "text/plain": [
       "        port1  port2  port3\n",
       "fl_spa                     \n",
       "False   555.0  539.0  255.0\n",
       "True      0.0   27.0   10.0"
      ]
     },
     "execution_count": 61,
     "metadata": {},
     "output_type": "execute_result"
    }
   ],
   "source": [
    "market.groupby(['fl_spa'])['port1','port2','port3'].sum()"
   ]
  },
  {
   "cell_type": "code",
   "execution_count": 62,
   "metadata": {},
   "outputs": [
    {
     "data": {
      "text/html": [
       "<div>\n",
       "<style scoped>\n",
       "    .dataframe tbody tr th:only-of-type {\n",
       "        vertical-align: middle;\n",
       "    }\n",
       "\n",
       "    .dataframe tbody tr th {\n",
       "        vertical-align: top;\n",
       "    }\n",
       "\n",
       "    .dataframe thead th {\n",
       "        text-align: right;\n",
       "    }\n",
       "</style>\n",
       "<table border=\"1\" class=\"dataframe\">\n",
       "  <thead>\n",
       "    <tr style=\"text-align: right;\">\n",
       "      <th></th>\n",
       "      <th>port1</th>\n",
       "      <th>port2</th>\n",
       "      <th>port3</th>\n",
       "    </tr>\n",
       "    <tr>\n",
       "      <th>fl_antt</th>\n",
       "      <th></th>\n",
       "      <th></th>\n",
       "      <th></th>\n",
       "    </tr>\n",
       "  </thead>\n",
       "  <tbody>\n",
       "    <tr>\n",
       "      <td>False</td>\n",
       "      <td>551.0</td>\n",
       "      <td>474.0</td>\n",
       "      <td>253.0</td>\n",
       "    </tr>\n",
       "    <tr>\n",
       "      <td>True</td>\n",
       "      <td>4.0</td>\n",
       "      <td>92.0</td>\n",
       "      <td>12.0</td>\n",
       "    </tr>\n",
       "  </tbody>\n",
       "</table>\n",
       "</div>"
      ],
      "text/plain": [
       "         port1  port2  port3\n",
       "fl_antt                     \n",
       "False    551.0  474.0  253.0\n",
       "True       4.0   92.0   12.0"
      ]
     },
     "execution_count": 62,
     "metadata": {},
     "output_type": "execute_result"
    }
   ],
   "source": [
    "market.groupby(['fl_antt'])['port1', 'port2', 'port3'].sum()"
   ]
  },
  {
   "cell_type": "code",
   "execution_count": 63,
   "metadata": {},
   "outputs": [
    {
     "data": {
      "text/html": [
       "<div>\n",
       "<style scoped>\n",
       "    .dataframe tbody tr th:only-of-type {\n",
       "        vertical-align: middle;\n",
       "    }\n",
       "\n",
       "    .dataframe tbody tr th {\n",
       "        vertical-align: top;\n",
       "    }\n",
       "\n",
       "    .dataframe thead th {\n",
       "        text-align: right;\n",
       "    }\n",
       "</style>\n",
       "<table border=\"1\" class=\"dataframe\">\n",
       "  <thead>\n",
       "    <tr style=\"text-align: right;\">\n",
       "      <th></th>\n",
       "      <th>port1</th>\n",
       "      <th>port2</th>\n",
       "      <th>port3</th>\n",
       "    </tr>\n",
       "    <tr>\n",
       "      <th>fl_veiculo</th>\n",
       "      <th></th>\n",
       "      <th></th>\n",
       "      <th></th>\n",
       "    </tr>\n",
       "  </thead>\n",
       "  <tbody>\n",
       "    <tr>\n",
       "      <td>False</td>\n",
       "      <td>517.0</td>\n",
       "      <td>76.0</td>\n",
       "      <td>44.0</td>\n",
       "    </tr>\n",
       "    <tr>\n",
       "      <td>True</td>\n",
       "      <td>38.0</td>\n",
       "      <td>490.0</td>\n",
       "      <td>221.0</td>\n",
       "    </tr>\n",
       "  </tbody>\n",
       "</table>\n",
       "</div>"
      ],
      "text/plain": [
       "            port1  port2  port3\n",
       "fl_veiculo                     \n",
       "False       517.0   76.0   44.0\n",
       "True         38.0  490.0  221.0"
      ]
     },
     "execution_count": 63,
     "metadata": {},
     "output_type": "execute_result"
    }
   ],
   "source": [
    "market.groupby(['fl_veiculo'])['port1', 'port2', 'port3'].sum()"
   ]
  },
  {
   "cell_type": "code",
   "execution_count": 64,
   "metadata": {},
   "outputs": [
    {
     "data": {
      "text/html": [
       "<div>\n",
       "<style scoped>\n",
       "    .dataframe tbody tr th:only-of-type {\n",
       "        vertical-align: middle;\n",
       "    }\n",
       "\n",
       "    .dataframe tbody tr th {\n",
       "        vertical-align: top;\n",
       "    }\n",
       "\n",
       "    .dataframe thead th {\n",
       "        text-align: right;\n",
       "    }\n",
       "</style>\n",
       "<table border=\"1\" class=\"dataframe\">\n",
       "  <thead>\n",
       "    <tr style=\"text-align: right;\">\n",
       "      <th></th>\n",
       "      <th>port1</th>\n",
       "      <th>port2</th>\n",
       "      <th>port3</th>\n",
       "    </tr>\n",
       "    <tr>\n",
       "      <th>vl_total_veiculos_pesados_grupo</th>\n",
       "      <th></th>\n",
       "      <th></th>\n",
       "      <th></th>\n",
       "    </tr>\n",
       "  </thead>\n",
       "  <tbody>\n",
       "    <tr>\n",
       "      <td>0.0</td>\n",
       "      <td>535.0</td>\n",
       "      <td>237.0</td>\n",
       "      <td>105.0</td>\n",
       "    </tr>\n",
       "    <tr>\n",
       "      <td>1.0</td>\n",
       "      <td>9.0</td>\n",
       "      <td>54.0</td>\n",
       "      <td>34.0</td>\n",
       "    </tr>\n",
       "    <tr>\n",
       "      <td>2.0</td>\n",
       "      <td>2.0</td>\n",
       "      <td>41.0</td>\n",
       "      <td>11.0</td>\n",
       "    </tr>\n",
       "    <tr>\n",
       "      <td>3.0</td>\n",
       "      <td>0.0</td>\n",
       "      <td>28.0</td>\n",
       "      <td>11.0</td>\n",
       "    </tr>\n",
       "    <tr>\n",
       "      <td>4.0</td>\n",
       "      <td>2.0</td>\n",
       "      <td>25.0</td>\n",
       "      <td>17.0</td>\n",
       "    </tr>\n",
       "    <tr>\n",
       "      <td>5.0</td>\n",
       "      <td>1.0</td>\n",
       "      <td>17.0</td>\n",
       "      <td>11.0</td>\n",
       "    </tr>\n",
       "    <tr>\n",
       "      <td>6.0</td>\n",
       "      <td>0.0</td>\n",
       "      <td>15.0</td>\n",
       "      <td>12.0</td>\n",
       "    </tr>\n",
       "    <tr>\n",
       "      <td>7.0</td>\n",
       "      <td>2.0</td>\n",
       "      <td>16.0</td>\n",
       "      <td>7.0</td>\n",
       "    </tr>\n",
       "    <tr>\n",
       "      <td>8.0</td>\n",
       "      <td>2.0</td>\n",
       "      <td>10.0</td>\n",
       "      <td>12.0</td>\n",
       "    </tr>\n",
       "    <tr>\n",
       "      <td>9.0</td>\n",
       "      <td>0.0</td>\n",
       "      <td>13.0</td>\n",
       "      <td>7.0</td>\n",
       "    </tr>\n",
       "  </tbody>\n",
       "</table>\n",
       "</div>"
      ],
      "text/plain": [
       "                                 port1  port2  port3\n",
       "vl_total_veiculos_pesados_grupo                     \n",
       "0.0                              535.0  237.0  105.0\n",
       "1.0                                9.0   54.0   34.0\n",
       "2.0                                2.0   41.0   11.0\n",
       "3.0                                0.0   28.0   11.0\n",
       "4.0                                2.0   25.0   17.0\n",
       "5.0                                1.0   17.0   11.0\n",
       "6.0                                0.0   15.0   12.0\n",
       "7.0                                2.0   16.0    7.0\n",
       "8.0                                2.0   10.0   12.0\n",
       "9.0                                0.0   13.0    7.0"
      ]
     },
     "execution_count": 64,
     "metadata": {},
     "output_type": "execute_result"
    }
   ],
   "source": [
    "market.groupby(['vl_total_veiculos_pesados_grupo'])['port1','port2','port3'].sum().head(10)"
   ]
  },
  {
   "cell_type": "code",
   "execution_count": 65,
   "metadata": {},
   "outputs": [
    {
     "data": {
      "text/html": [
       "<div>\n",
       "<style scoped>\n",
       "    .dataframe tbody tr th:only-of-type {\n",
       "        vertical-align: middle;\n",
       "    }\n",
       "\n",
       "    .dataframe tbody tr th {\n",
       "        vertical-align: top;\n",
       "    }\n",
       "\n",
       "    .dataframe thead th {\n",
       "        text-align: right;\n",
       "    }\n",
       "</style>\n",
       "<table border=\"1\" class=\"dataframe\">\n",
       "  <thead>\n",
       "    <tr style=\"text-align: right;\">\n",
       "      <th></th>\n",
       "      <th>port1</th>\n",
       "      <th>port2</th>\n",
       "      <th>port3</th>\n",
       "    </tr>\n",
       "    <tr>\n",
       "      <th>vl_total_veiculos_leves_grupo</th>\n",
       "      <th></th>\n",
       "      <th></th>\n",
       "      <th></th>\n",
       "    </tr>\n",
       "  </thead>\n",
       "  <tbody>\n",
       "    <tr>\n",
       "      <td>0.0</td>\n",
       "      <td>513.0</td>\n",
       "      <td>118.0</td>\n",
       "      <td>66.0</td>\n",
       "    </tr>\n",
       "    <tr>\n",
       "      <td>1.0</td>\n",
       "      <td>23.0</td>\n",
       "      <td>56.0</td>\n",
       "      <td>31.0</td>\n",
       "    </tr>\n",
       "    <tr>\n",
       "      <td>2.0</td>\n",
       "      <td>5.0</td>\n",
       "      <td>49.0</td>\n",
       "      <td>22.0</td>\n",
       "    </tr>\n",
       "    <tr>\n",
       "      <td>3.0</td>\n",
       "      <td>7.0</td>\n",
       "      <td>43.0</td>\n",
       "      <td>20.0</td>\n",
       "    </tr>\n",
       "    <tr>\n",
       "      <td>4.0</td>\n",
       "      <td>1.0</td>\n",
       "      <td>34.0</td>\n",
       "      <td>17.0</td>\n",
       "    </tr>\n",
       "    <tr>\n",
       "      <td>5.0</td>\n",
       "      <td>1.0</td>\n",
       "      <td>39.0</td>\n",
       "      <td>13.0</td>\n",
       "    </tr>\n",
       "    <tr>\n",
       "      <td>6.0</td>\n",
       "      <td>2.0</td>\n",
       "      <td>20.0</td>\n",
       "      <td>14.0</td>\n",
       "    </tr>\n",
       "    <tr>\n",
       "      <td>7.0</td>\n",
       "      <td>0.0</td>\n",
       "      <td>20.0</td>\n",
       "      <td>14.0</td>\n",
       "    </tr>\n",
       "    <tr>\n",
       "      <td>8.0</td>\n",
       "      <td>0.0</td>\n",
       "      <td>16.0</td>\n",
       "      <td>9.0</td>\n",
       "    </tr>\n",
       "    <tr>\n",
       "      <td>9.0</td>\n",
       "      <td>0.0</td>\n",
       "      <td>15.0</td>\n",
       "      <td>3.0</td>\n",
       "    </tr>\n",
       "  </tbody>\n",
       "</table>\n",
       "</div>"
      ],
      "text/plain": [
       "                               port1  port2  port3\n",
       "vl_total_veiculos_leves_grupo                     \n",
       "0.0                            513.0  118.0   66.0\n",
       "1.0                             23.0   56.0   31.0\n",
       "2.0                              5.0   49.0   22.0\n",
       "3.0                              7.0   43.0   20.0\n",
       "4.0                              1.0   34.0   17.0\n",
       "5.0                              1.0   39.0   13.0\n",
       "6.0                              2.0   20.0   14.0\n",
       "7.0                              0.0   20.0   14.0\n",
       "8.0                              0.0   16.0    9.0\n",
       "9.0                              0.0   15.0    3.0"
      ]
     },
     "execution_count": 65,
     "metadata": {},
     "output_type": "execute_result"
    }
   ],
   "source": [
    "market.groupby(['vl_total_veiculos_leves_grupo'])['port1','port2','port3'].sum().head(10)"
   ]
  },
  {
   "cell_type": "markdown",
   "metadata": {},
   "source": [
    "### Análise referente ao grupo `Setor de Atuação`\n",
    "> *Verificando primeiro a variação entre os setores*"
   ]
  },
  {
   "cell_type": "code",
   "execution_count": 66,
   "metadata": {},
   "outputs": [
    {
     "data": {
      "image/png": "[encoded data removed]",
      "text/plain": [
       "<Figure size 640x480 with 4 Axes>"
      ]
     },
     "metadata": {},
     "output_type": "display_data"
    },
    {
     "data": {
      "text/plain": [
       "<ggplot: (8769778038481)>"
      ]
     },
     "execution_count": 66,
     "metadata": {},
     "output_type": "execute_result"
    }
   ],
   "source": [
    "d_setor = market.groupby('setor')['port1', 'port2', 'port3','idc_market'].sum().reset_index()\n",
    "d_setor[['port1', 'port2', 'port3','idc_market']] = d_setor[['port1', 'port2', 'port3','idc_market']]/d_setor[['port1', 'port2', 'port3','idc_market']].sum()\n",
    "d_setor = d_setor.melt('setor', ['port1', 'port2', 'port3','idc_market'])\n",
    "\n",
    "# Plotando o gráfico\n",
    "(ggplot(d_setor, aes(x = 'setor', y = 'value', fill = 'setor')) +\n",
    "    geom_bar(stat = 'identity') + coord_flip() + facet_wrap('variable') + ggtitle('Setor'))"
   ]
  },
  {
   "cell_type": "markdown",
   "metadata": {},
   "source": [
    "> *Verificando a distribuição da Natureza Juridica Macro*"
   ]
  },
  {
   "cell_type": "code",
   "execution_count": 67,
   "metadata": {},
   "outputs": [
    {
     "data": {
      "image/png": "[encoded data removed]",
      "text/plain": [
       "<Figure size 640x480 with 4 Axes>"
      ]
     },
     "metadata": {},
     "output_type": "display_data"
    },
    {
     "data": {
      "text/plain": [
       "<ggplot: (8769771292513)>"
      ]
     },
     "execution_count": 67,
     "metadata": {},
     "output_type": "execute_result"
    }
   ],
   "source": [
    "d_nat_jur = market.groupby('natureza_juridica_macro')['port1', 'port2', 'port3','idc_market'].sum().reset_index()\n",
    "d_nat_jur[['port1', 'port2', 'port3','idc_market']] = d_nat_jur[['port1', 'port2', 'port3','idc_market']]/d_nat_jur[['port1', 'port2', 'port3','idc_market']].sum()\n",
    "d_nat_jur = d_nat_jur.melt('natureza_juridica_macro', ['port1', 'port2', 'port3','idc_market'])\n",
    "\n",
    "# Plotando o gráfico\n",
    "(ggplot(d_nat_jur, aes(x = 'natureza_juridica_macro', y = 'value', fill = 'natureza_juridica_macro')) +\n",
    "    geom_bar(stat = 'identity') + coord_flip() + facet_wrap('variable'))"
   ]
  },
  {
   "cell_type": "markdown",
   "metadata": {},
   "source": [
    "> *Como está a divisão pelo Segmento*"
   ]
  },
  {
   "cell_type": "code",
   "execution_count": 68,
   "metadata": {},
   "outputs": [
    {
     "data": {
      "image/png": "[encoded data removed]",
      "text/plain": [
       "<Figure size 640x480 with 4 Axes>"
      ]
     },
     "metadata": {},
     "output_type": "display_data"
    },
    {
     "data": {
      "text/plain": [
       "<ggplot: (8769772711077)>"
      ]
     },
     "execution_count": 68,
     "metadata": {},
     "output_type": "execute_result"
    }
   ],
   "source": [
    "d_nm_seg = market.groupby('nm_segmento')['port1', 'port2', 'port3','idc_market'].sum().reset_index()\n",
    "d_nm_seg[['port1', 'port2', 'port3','idc_market']] = d_nm_seg[['port1', 'port2', 'port3','idc_market']]/d_nm_seg[['port1', 'port2', 'port3','idc_market']].sum()\n",
    "d_nm_seg = d_nm_seg.melt('nm_segmento', ['port1', 'port2', 'port3','idc_market'])\n",
    "\n",
    "# Plotando o gráfico\n",
    "(ggplot(d_nm_seg, aes(x = 'nm_segmento', y = 'value', fill = 'nm_segmento')) +\n",
    "    geom_bar(stat = 'identity') + coord_flip() + facet_wrap('variable') +\n",
    "    theme(legend_position = \"none\", axis_text_y = element_text(size=5.5)))"
   ]
  },
  {
   "cell_type": "markdown",
   "metadata": {},
   "source": [
    "> *Divisão por tipo de atividade*"
   ]
  },
  {
   "cell_type": "code",
   "execution_count": 69,
   "metadata": {},
   "outputs": [
    {
     "data": {
      "text/html": [
       "<div>\n",
       "<style scoped>\n",
       "    .dataframe tbody tr th:only-of-type {\n",
       "        vertical-align: middle;\n",
       "    }\n",
       "\n",
       "    .dataframe tbody tr th {\n",
       "        vertical-align: top;\n",
       "    }\n",
       "\n",
       "    .dataframe thead th {\n",
       "        text-align: right;\n",
       "    }\n",
       "</style>\n",
       "<table border=\"1\" class=\"dataframe\">\n",
       "  <thead>\n",
       "    <tr style=\"text-align: right;\">\n",
       "      <th></th>\n",
       "      <th>nm_divisao</th>\n",
       "      <th>port1</th>\n",
       "      <th>port2</th>\n",
       "      <th>port3</th>\n",
       "      <th>idc_market</th>\n",
       "    </tr>\n",
       "  </thead>\n",
       "  <tbody>\n",
       "    <tr>\n",
       "      <td>30</td>\n",
       "      <td>COMERCIO VAREJISTA</td>\n",
       "      <td>0.893694</td>\n",
       "      <td>0.081272</td>\n",
       "      <td>0.000000</td>\n",
       "      <td>0.374489</td>\n",
       "    </tr>\n",
       "    <tr>\n",
       "      <td>14</td>\n",
       "      <td>ATIVIDADES DE ORGANIZACOES ASSOCIATIVAS</td>\n",
       "      <td>0.000000</td>\n",
       "      <td>0.019435</td>\n",
       "      <td>0.011321</td>\n",
       "      <td>0.082507</td>\n",
       "    </tr>\n",
       "    <tr>\n",
       "      <td>3</td>\n",
       "      <td>ALIMENTACAO</td>\n",
       "      <td>0.000000</td>\n",
       "      <td>0.010601</td>\n",
       "      <td>0.015094</td>\n",
       "      <td>0.059821</td>\n",
       "    </tr>\n",
       "    <tr>\n",
       "      <td>28</td>\n",
       "      <td>COMERCIO E REPARACAO DE VEICULOS AUTOMOTORES E...</td>\n",
       "      <td>0.000000</td>\n",
       "      <td>0.037102</td>\n",
       "      <td>0.000000</td>\n",
       "      <td>0.048561</td>\n",
       "    </tr>\n",
       "    <tr>\n",
       "      <td>29</td>\n",
       "      <td>COMERCIO POR ATACADO EXCETO VEICULOS AUTOMOTOR...</td>\n",
       "      <td>0.000000</td>\n",
       "      <td>0.070671</td>\n",
       "      <td>0.000000</td>\n",
       "      <td>0.035762</td>\n",
       "    </tr>\n",
       "    <tr>\n",
       "      <td>...</td>\n",
       "      <td>...</td>\n",
       "      <td>...</td>\n",
       "      <td>...</td>\n",
       "      <td>...</td>\n",
       "      <td>...</td>\n",
       "    </tr>\n",
       "    <tr>\n",
       "      <td>58</td>\n",
       "      <td>FABRICACAO DE PRODUTOS FARMOQUIMICOS E FARMACE...</td>\n",
       "      <td>0.000000</td>\n",
       "      <td>0.000000</td>\n",
       "      <td>0.000000</td>\n",
       "      <td>0.000048</td>\n",
       "    </tr>\n",
       "    <tr>\n",
       "      <td>34</td>\n",
       "      <td>DESCONTAMINACAO E OUTROS SERVICOS DE GESTAO DE...</td>\n",
       "      <td>0.000000</td>\n",
       "      <td>0.000000</td>\n",
       "      <td>0.000000</td>\n",
       "      <td>0.000026</td>\n",
       "    </tr>\n",
       "    <tr>\n",
       "      <td>66</td>\n",
       "      <td>ORGANISMOS INTERNACIONAIS E OUTRAS INSTITUICOE...</td>\n",
       "      <td>0.000000</td>\n",
       "      <td>0.000000</td>\n",
       "      <td>0.000000</td>\n",
       "      <td>0.000020</td>\n",
       "    </tr>\n",
       "    <tr>\n",
       "      <td>57</td>\n",
       "      <td>FABRICACAO DE PRODUTOS DO FUMO</td>\n",
       "      <td>0.000000</td>\n",
       "      <td>0.000000</td>\n",
       "      <td>0.000000</td>\n",
       "      <td>0.000004</td>\n",
       "    </tr>\n",
       "    <tr>\n",
       "      <td>39</td>\n",
       "      <td>EXTRACAO DE CARVAO MINERAL</td>\n",
       "      <td>0.000000</td>\n",
       "      <td>0.000000</td>\n",
       "      <td>0.000000</td>\n",
       "      <td>0.000002</td>\n",
       "    </tr>\n",
       "  </tbody>\n",
       "</table>\n",
       "<p>87 rows × 5 columns</p>\n",
       "</div>"
      ],
      "text/plain": [
       "                                           nm_divisao     port1     port2  \\\n",
       "30                                 COMERCIO VAREJISTA  0.893694  0.081272   \n",
       "14            ATIVIDADES DE ORGANIZACOES ASSOCIATIVAS  0.000000  0.019435   \n",
       "3                                         ALIMENTACAO  0.000000  0.010601   \n",
       "28  COMERCIO E REPARACAO DE VEICULOS AUTOMOTORES E...  0.000000  0.037102   \n",
       "29  COMERCIO POR ATACADO EXCETO VEICULOS AUTOMOTOR...  0.000000  0.070671   \n",
       "..                                                ...       ...       ...   \n",
       "58  FABRICACAO DE PRODUTOS FARMOQUIMICOS E FARMACE...  0.000000  0.000000   \n",
       "34  DESCONTAMINACAO E OUTROS SERVICOS DE GESTAO DE...  0.000000  0.000000   \n",
       "66  ORGANISMOS INTERNACIONAIS E OUTRAS INSTITUICOE...  0.000000  0.000000   \n",
       "57                     FABRICACAO DE PRODUTOS DO FUMO  0.000000  0.000000   \n",
       "39                         EXTRACAO DE CARVAO MINERAL  0.000000  0.000000   \n",
       "\n",
       "       port3  idc_market  \n",
       "30  0.000000    0.374489  \n",
       "14  0.011321    0.082507  \n",
       "3   0.015094    0.059821  \n",
       "28  0.000000    0.048561  \n",
       "29  0.000000    0.035762  \n",
       "..       ...         ...  \n",
       "58  0.000000    0.000048  \n",
       "34  0.000000    0.000026  \n",
       "66  0.000000    0.000020  \n",
       "57  0.000000    0.000004  \n",
       "39  0.000000    0.000002  \n",
       "\n",
       "[87 rows x 5 columns]"
      ]
     },
     "execution_count": 69,
     "metadata": {},
     "output_type": "execute_result"
    }
   ],
   "source": [
    "d_nm_divisao = market.groupby('nm_divisao')['port1', 'port2', 'port3','idc_market'].sum().reset_index()\n",
    "d_nm_divisao[['port1', 'port2', 'port3','idc_market']] = d_nm_divisao[['port1', 'port2', 'port3','idc_market']]/d_nm_divisao[['port1', 'port2', 'port3','idc_market']].sum()\n",
    "d_nm_divisao.sort_values('idc_market', ascending = False)"
   ]
  },
  {
   "cell_type": "markdown",
   "metadata": {},
   "source": [
    "> *Inserimos o valor OUTROS caso seja nulo nas variáveis `setor` e `nm_segmento`*"
   ]
  },
  {
   "cell_type": "code",
   "execution_count": 70,
   "metadata": {},
   "outputs": [],
   "source": [
    "market['setor'] = np.where(market['setor'].isnull(), 'OUTROS', market['setor'])\n",
    "market['nm_segmento'] = np.where(market['nm_segmento'].isnull(), 'OUTROS', market['nm_segmento'])"
   ]
  },
  {
   "cell_type": "markdown",
   "metadata": {},
   "source": [
    "> Análise referente ao grupo `Sócios` <br>\n",
    "> *Conseguimos observar que a quantidade de dados faltantes nos sócios são um pouco grande*"
   ]
  },
  {
   "cell_type": "code",
   "execution_count": 71,
   "metadata": {},
   "outputs": [
    {
     "data": {
      "text/plain": [
       "qt_socios               33.147661\n",
       "qt_socios_pf            33.147661\n",
       "qt_socios_pj            33.147661\n",
       "idade_media_socios      48.794320\n",
       "idade_maxima_socios     48.794320\n",
       "idade_minima_socios     48.794320\n",
       "qt_socios_st_regular    50.399016\n",
       "dtype: float64"
      ]
     },
     "execution_count": 71,
     "metadata": {},
     "output_type": "execute_result"
    }
   ],
   "source": [
    "features_socios = ['qt_socios','qt_socios_pf','qt_socios_pj','idade_media_socios','idade_maxima_socios','idade_minima_socios','qt_socios_st_regular']\n",
    "market[features_socios].isnull().sum() / market[features_socios].count() * 100"
   ]
  },
  {
   "cell_type": "markdown",
   "metadata": {},
   "source": [
    "> *Inputamos nesses valores faltantes a mediana*"
   ]
  },
  {
   "cell_type": "code",
   "execution_count": 72,
   "metadata": {},
   "outputs": [],
   "source": [
    "market[features_socios] = market[features_socios].fillna(0)"
   ]
  },
  {
   "cell_type": "code",
   "execution_count": 73,
   "metadata": {},
   "outputs": [
    {
     "data": {
      "text/html": [
       "<div>\n",
       "<style scoped>\n",
       "    .dataframe tbody tr th:only-of-type {\n",
       "        vertical-align: middle;\n",
       "    }\n",
       "\n",
       "    .dataframe tbody tr th {\n",
       "        vertical-align: top;\n",
       "    }\n",
       "\n",
       "    .dataframe thead th {\n",
       "        text-align: right;\n",
       "    }\n",
       "</style>\n",
       "<table border=\"1\" class=\"dataframe\">\n",
       "  <thead>\n",
       "    <tr style=\"text-align: right;\">\n",
       "      <th></th>\n",
       "      <th>port1</th>\n",
       "      <th>port2</th>\n",
       "      <th>port3</th>\n",
       "    </tr>\n",
       "    <tr>\n",
       "      <th>qt_socios</th>\n",
       "      <th></th>\n",
       "      <th></th>\n",
       "      <th></th>\n",
       "    </tr>\n",
       "  </thead>\n",
       "  <tbody>\n",
       "    <tr>\n",
       "      <td>0.0</td>\n",
       "      <td>147.0</td>\n",
       "      <td>184.0</td>\n",
       "      <td>167.0</td>\n",
       "    </tr>\n",
       "    <tr>\n",
       "      <td>1.0</td>\n",
       "      <td>315.0</td>\n",
       "      <td>55.0</td>\n",
       "      <td>21.0</td>\n",
       "    </tr>\n",
       "    <tr>\n",
       "      <td>2.0</td>\n",
       "      <td>81.0</td>\n",
       "      <td>181.0</td>\n",
       "      <td>45.0</td>\n",
       "    </tr>\n",
       "    <tr>\n",
       "      <td>3.0</td>\n",
       "      <td>9.0</td>\n",
       "      <td>65.0</td>\n",
       "      <td>15.0</td>\n",
       "    </tr>\n",
       "    <tr>\n",
       "      <td>4.0</td>\n",
       "      <td>1.0</td>\n",
       "      <td>42.0</td>\n",
       "      <td>7.0</td>\n",
       "    </tr>\n",
       "    <tr>\n",
       "      <td>5.0</td>\n",
       "      <td>1.0</td>\n",
       "      <td>14.0</td>\n",
       "      <td>3.0</td>\n",
       "    </tr>\n",
       "    <tr>\n",
       "      <td>6.0</td>\n",
       "      <td>0.0</td>\n",
       "      <td>13.0</td>\n",
       "      <td>2.0</td>\n",
       "    </tr>\n",
       "    <tr>\n",
       "      <td>7.0</td>\n",
       "      <td>0.0</td>\n",
       "      <td>3.0</td>\n",
       "      <td>0.0</td>\n",
       "    </tr>\n",
       "    <tr>\n",
       "      <td>8.0</td>\n",
       "      <td>0.0</td>\n",
       "      <td>1.0</td>\n",
       "      <td>0.0</td>\n",
       "    </tr>\n",
       "    <tr>\n",
       "      <td>9.0</td>\n",
       "      <td>1.0</td>\n",
       "      <td>3.0</td>\n",
       "      <td>2.0</td>\n",
       "    </tr>\n",
       "  </tbody>\n",
       "</table>\n",
       "</div>"
      ],
      "text/plain": [
       "           port1  port2  port3\n",
       "qt_socios                     \n",
       "0.0        147.0  184.0  167.0\n",
       "1.0        315.0   55.0   21.0\n",
       "2.0         81.0  181.0   45.0\n",
       "3.0          9.0   65.0   15.0\n",
       "4.0          1.0   42.0    7.0\n",
       "5.0          1.0   14.0    3.0\n",
       "6.0          0.0   13.0    2.0\n",
       "7.0          0.0    3.0    0.0\n",
       "8.0          0.0    1.0    0.0\n",
       "9.0          1.0    3.0    2.0"
      ]
     },
     "execution_count": 73,
     "metadata": {},
     "output_type": "execute_result"
    }
   ],
   "source": [
    "market.groupby(['qt_socios'])['port1','port2','port3'].sum().head(10)"
   ]
  },
  {
   "cell_type": "code",
   "execution_count": 74,
   "metadata": {},
   "outputs": [
    {
     "data": {
      "text/html": [
       "<div>\n",
       "<style scoped>\n",
       "    .dataframe tbody tr th:only-of-type {\n",
       "        vertical-align: middle;\n",
       "    }\n",
       "\n",
       "    .dataframe tbody tr th {\n",
       "        vertical-align: top;\n",
       "    }\n",
       "\n",
       "    .dataframe thead th {\n",
       "        text-align: right;\n",
       "    }\n",
       "</style>\n",
       "<table border=\"1\" class=\"dataframe\">\n",
       "  <thead>\n",
       "    <tr style=\"text-align: right;\">\n",
       "      <th></th>\n",
       "      <th>port1</th>\n",
       "      <th>port2</th>\n",
       "      <th>port3</th>\n",
       "    </tr>\n",
       "    <tr>\n",
       "      <th>qt_socios_pf</th>\n",
       "      <th></th>\n",
       "      <th></th>\n",
       "      <th></th>\n",
       "    </tr>\n",
       "  </thead>\n",
       "  <tbody>\n",
       "    <tr>\n",
       "      <td>0.0</td>\n",
       "      <td>147.0</td>\n",
       "      <td>184.0</td>\n",
       "      <td>167.0</td>\n",
       "    </tr>\n",
       "    <tr>\n",
       "      <td>1.0</td>\n",
       "      <td>317.0</td>\n",
       "      <td>71.0</td>\n",
       "      <td>24.0</td>\n",
       "    </tr>\n",
       "    <tr>\n",
       "      <td>2.0</td>\n",
       "      <td>80.0</td>\n",
       "      <td>190.0</td>\n",
       "      <td>50.0</td>\n",
       "    </tr>\n",
       "    <tr>\n",
       "      <td>3.0</td>\n",
       "      <td>8.0</td>\n",
       "      <td>53.0</td>\n",
       "      <td>10.0</td>\n",
       "    </tr>\n",
       "    <tr>\n",
       "      <td>4.0</td>\n",
       "      <td>1.0</td>\n",
       "      <td>34.0</td>\n",
       "      <td>7.0</td>\n",
       "    </tr>\n",
       "    <tr>\n",
       "      <td>5.0</td>\n",
       "      <td>1.0</td>\n",
       "      <td>12.0</td>\n",
       "      <td>3.0</td>\n",
       "    </tr>\n",
       "    <tr>\n",
       "      <td>6.0</td>\n",
       "      <td>0.0</td>\n",
       "      <td>10.0</td>\n",
       "      <td>0.0</td>\n",
       "    </tr>\n",
       "    <tr>\n",
       "      <td>7.0</td>\n",
       "      <td>0.0</td>\n",
       "      <td>4.0</td>\n",
       "      <td>0.0</td>\n",
       "    </tr>\n",
       "    <tr>\n",
       "      <td>8.0</td>\n",
       "      <td>0.0</td>\n",
       "      <td>0.0</td>\n",
       "      <td>0.0</td>\n",
       "    </tr>\n",
       "    <tr>\n",
       "      <td>9.0</td>\n",
       "      <td>1.0</td>\n",
       "      <td>3.0</td>\n",
       "      <td>1.0</td>\n",
       "    </tr>\n",
       "  </tbody>\n",
       "</table>\n",
       "</div>"
      ],
      "text/plain": [
       "              port1  port2  port3\n",
       "qt_socios_pf                     \n",
       "0.0           147.0  184.0  167.0\n",
       "1.0           317.0   71.0   24.0\n",
       "2.0            80.0  190.0   50.0\n",
       "3.0             8.0   53.0   10.0\n",
       "4.0             1.0   34.0    7.0\n",
       "5.0             1.0   12.0    3.0\n",
       "6.0             0.0   10.0    0.0\n",
       "7.0             0.0    4.0    0.0\n",
       "8.0             0.0    0.0    0.0\n",
       "9.0             1.0    3.0    1.0"
      ]
     },
     "execution_count": 74,
     "metadata": {},
     "output_type": "execute_result"
    }
   ],
   "source": [
    "market.groupby(['qt_socios_pf'])['port1','port2','port3'].sum().head(10)"
   ]
  },
  {
   "cell_type": "code",
   "execution_count": 75,
   "metadata": {},
   "outputs": [
    {
     "data": {
      "text/html": [
       "<div>\n",
       "<style scoped>\n",
       "    .dataframe tbody tr th:only-of-type {\n",
       "        vertical-align: middle;\n",
       "    }\n",
       "\n",
       "    .dataframe tbody tr th {\n",
       "        vertical-align: top;\n",
       "    }\n",
       "\n",
       "    .dataframe thead th {\n",
       "        text-align: right;\n",
       "    }\n",
       "</style>\n",
       "<table border=\"1\" class=\"dataframe\">\n",
       "  <thead>\n",
       "    <tr style=\"text-align: right;\">\n",
       "      <th></th>\n",
       "      <th>port1</th>\n",
       "      <th>port2</th>\n",
       "      <th>port3</th>\n",
       "    </tr>\n",
       "    <tr>\n",
       "      <th>qt_socios_pj</th>\n",
       "      <th></th>\n",
       "      <th></th>\n",
       "      <th></th>\n",
       "    </tr>\n",
       "  </thead>\n",
       "  <tbody>\n",
       "    <tr>\n",
       "      <td>0.0</td>\n",
       "      <td>553.0</td>\n",
       "      <td>515.0</td>\n",
       "      <td>250.0</td>\n",
       "    </tr>\n",
       "    <tr>\n",
       "      <td>1.0</td>\n",
       "      <td>1.0</td>\n",
       "      <td>35.0</td>\n",
       "      <td>9.0</td>\n",
       "    </tr>\n",
       "    <tr>\n",
       "      <td>2.0</td>\n",
       "      <td>1.0</td>\n",
       "      <td>15.0</td>\n",
       "      <td>4.0</td>\n",
       "    </tr>\n",
       "    <tr>\n",
       "      <td>3.0</td>\n",
       "      <td>0.0</td>\n",
       "      <td>1.0</td>\n",
       "      <td>1.0</td>\n",
       "    </tr>\n",
       "    <tr>\n",
       "      <td>4.0</td>\n",
       "      <td>0.0</td>\n",
       "      <td>0.0</td>\n",
       "      <td>0.0</td>\n",
       "    </tr>\n",
       "    <tr>\n",
       "      <td>5.0</td>\n",
       "      <td>0.0</td>\n",
       "      <td>0.0</td>\n",
       "      <td>1.0</td>\n",
       "    </tr>\n",
       "    <tr>\n",
       "      <td>6.0</td>\n",
       "      <td>0.0</td>\n",
       "      <td>0.0</td>\n",
       "      <td>0.0</td>\n",
       "    </tr>\n",
       "    <tr>\n",
       "      <td>7.0</td>\n",
       "      <td>0.0</td>\n",
       "      <td>0.0</td>\n",
       "      <td>0.0</td>\n",
       "    </tr>\n",
       "    <tr>\n",
       "      <td>8.0</td>\n",
       "      <td>0.0</td>\n",
       "      <td>0.0</td>\n",
       "      <td>0.0</td>\n",
       "    </tr>\n",
       "    <tr>\n",
       "      <td>9.0</td>\n",
       "      <td>0.0</td>\n",
       "      <td>0.0</td>\n",
       "      <td>0.0</td>\n",
       "    </tr>\n",
       "  </tbody>\n",
       "</table>\n",
       "</div>"
      ],
      "text/plain": [
       "              port1  port2  port3\n",
       "qt_socios_pj                     \n",
       "0.0           553.0  515.0  250.0\n",
       "1.0             1.0   35.0    9.0\n",
       "2.0             1.0   15.0    4.0\n",
       "3.0             0.0    1.0    1.0\n",
       "4.0             0.0    0.0    0.0\n",
       "5.0             0.0    0.0    1.0\n",
       "6.0             0.0    0.0    0.0\n",
       "7.0             0.0    0.0    0.0\n",
       "8.0             0.0    0.0    0.0\n",
       "9.0             0.0    0.0    0.0"
      ]
     },
     "execution_count": 75,
     "metadata": {},
     "output_type": "execute_result"
    }
   ],
   "source": [
    "market.groupby(['qt_socios_pj'])['port1','port2','port3'].sum().head(10)"
   ]
  },
  {
   "cell_type": "code",
   "execution_count": 76,
   "metadata": {},
   "outputs": [
    {
     "data": {
      "text/html": [
       "<div>\n",
       "<style scoped>\n",
       "    .dataframe tbody tr th:only-of-type {\n",
       "        vertical-align: middle;\n",
       "    }\n",
       "\n",
       "    .dataframe tbody tr th {\n",
       "        vertical-align: top;\n",
       "    }\n",
       "\n",
       "    .dataframe thead th {\n",
       "        text-align: right;\n",
       "    }\n",
       "</style>\n",
       "<table border=\"1\" class=\"dataframe\">\n",
       "  <thead>\n",
       "    <tr style=\"text-align: right;\">\n",
       "      <th></th>\n",
       "      <th>port1</th>\n",
       "      <th>port2</th>\n",
       "      <th>port3</th>\n",
       "    </tr>\n",
       "    <tr>\n",
       "      <th>idade_media_socios</th>\n",
       "      <th></th>\n",
       "      <th></th>\n",
       "      <th></th>\n",
       "    </tr>\n",
       "  </thead>\n",
       "  <tbody>\n",
       "    <tr>\n",
       "      <td>-2.0</td>\n",
       "      <td>0.0</td>\n",
       "      <td>0.0</td>\n",
       "      <td>0.0</td>\n",
       "    </tr>\n",
       "    <tr>\n",
       "      <td>0.0</td>\n",
       "      <td>193.0</td>\n",
       "      <td>213.0</td>\n",
       "      <td>172.0</td>\n",
       "    </tr>\n",
       "    <tr>\n",
       "      <td>3.0</td>\n",
       "      <td>0.0</td>\n",
       "      <td>0.0</td>\n",
       "      <td>0.0</td>\n",
       "    </tr>\n",
       "    <tr>\n",
       "      <td>4.0</td>\n",
       "      <td>0.0</td>\n",
       "      <td>0.0</td>\n",
       "      <td>1.0</td>\n",
       "    </tr>\n",
       "    <tr>\n",
       "      <td>5.0</td>\n",
       "      <td>0.0</td>\n",
       "      <td>0.0</td>\n",
       "      <td>0.0</td>\n",
       "    </tr>\n",
       "    <tr>\n",
       "      <td>6.0</td>\n",
       "      <td>0.0</td>\n",
       "      <td>0.0</td>\n",
       "      <td>0.0</td>\n",
       "    </tr>\n",
       "    <tr>\n",
       "      <td>7.0</td>\n",
       "      <td>0.0</td>\n",
       "      <td>0.0</td>\n",
       "      <td>0.0</td>\n",
       "    </tr>\n",
       "    <tr>\n",
       "      <td>7.5</td>\n",
       "      <td>1.0</td>\n",
       "      <td>0.0</td>\n",
       "      <td>0.0</td>\n",
       "    </tr>\n",
       "    <tr>\n",
       "      <td>8.0</td>\n",
       "      <td>0.0</td>\n",
       "      <td>0.0</td>\n",
       "      <td>0.0</td>\n",
       "    </tr>\n",
       "    <tr>\n",
       "      <td>9.0</td>\n",
       "      <td>0.0</td>\n",
       "      <td>0.0</td>\n",
       "      <td>0.0</td>\n",
       "    </tr>\n",
       "  </tbody>\n",
       "</table>\n",
       "</div>"
      ],
      "text/plain": [
       "                    port1  port2  port3\n",
       "idade_media_socios                     \n",
       "-2.0                  0.0    0.0    0.0\n",
       " 0.0                193.0  213.0  172.0\n",
       " 3.0                  0.0    0.0    0.0\n",
       " 4.0                  0.0    0.0    1.0\n",
       " 5.0                  0.0    0.0    0.0\n",
       " 6.0                  0.0    0.0    0.0\n",
       " 7.0                  0.0    0.0    0.0\n",
       " 7.5                  1.0    0.0    0.0\n",
       " 8.0                  0.0    0.0    0.0\n",
       " 9.0                  0.0    0.0    0.0"
      ]
     },
     "execution_count": 76,
     "metadata": {},
     "output_type": "execute_result"
    }
   ],
   "source": [
    "market.groupby(['idade_media_socios'])['port1','port2','port3'].sum().head(10)"
   ]
  },
  {
   "cell_type": "code",
   "execution_count": 77,
   "metadata": {},
   "outputs": [
    {
     "data": {
      "text/html": [
       "<div>\n",
       "<style scoped>\n",
       "    .dataframe tbody tr th:only-of-type {\n",
       "        vertical-align: middle;\n",
       "    }\n",
       "\n",
       "    .dataframe tbody tr th {\n",
       "        vertical-align: top;\n",
       "    }\n",
       "\n",
       "    .dataframe thead th {\n",
       "        text-align: right;\n",
       "    }\n",
       "</style>\n",
       "<table border=\"1\" class=\"dataframe\">\n",
       "  <thead>\n",
       "    <tr style=\"text-align: right;\">\n",
       "      <th></th>\n",
       "      <th>port1</th>\n",
       "      <th>port2</th>\n",
       "      <th>port3</th>\n",
       "    </tr>\n",
       "    <tr>\n",
       "      <th>idade_maxima_socios</th>\n",
       "      <th></th>\n",
       "      <th></th>\n",
       "      <th></th>\n",
       "    </tr>\n",
       "  </thead>\n",
       "  <tbody>\n",
       "    <tr>\n",
       "      <td>-2.0</td>\n",
       "      <td>0.0</td>\n",
       "      <td>0.0</td>\n",
       "      <td>0.0</td>\n",
       "    </tr>\n",
       "    <tr>\n",
       "      <td>0.0</td>\n",
       "      <td>193.0</td>\n",
       "      <td>213.0</td>\n",
       "      <td>172.0</td>\n",
       "    </tr>\n",
       "    <tr>\n",
       "      <td>3.0</td>\n",
       "      <td>0.0</td>\n",
       "      <td>0.0</td>\n",
       "      <td>0.0</td>\n",
       "    </tr>\n",
       "    <tr>\n",
       "      <td>4.0</td>\n",
       "      <td>0.0</td>\n",
       "      <td>0.0</td>\n",
       "      <td>1.0</td>\n",
       "    </tr>\n",
       "    <tr>\n",
       "      <td>5.0</td>\n",
       "      <td>0.0</td>\n",
       "      <td>0.0</td>\n",
       "      <td>0.0</td>\n",
       "    </tr>\n",
       "    <tr>\n",
       "      <td>6.0</td>\n",
       "      <td>0.0</td>\n",
       "      <td>0.0</td>\n",
       "      <td>0.0</td>\n",
       "    </tr>\n",
       "    <tr>\n",
       "      <td>7.0</td>\n",
       "      <td>0.0</td>\n",
       "      <td>0.0</td>\n",
       "      <td>0.0</td>\n",
       "    </tr>\n",
       "    <tr>\n",
       "      <td>8.0</td>\n",
       "      <td>0.0</td>\n",
       "      <td>0.0</td>\n",
       "      <td>0.0</td>\n",
       "    </tr>\n",
       "    <tr>\n",
       "      <td>9.0</td>\n",
       "      <td>1.0</td>\n",
       "      <td>0.0</td>\n",
       "      <td>0.0</td>\n",
       "    </tr>\n",
       "    <tr>\n",
       "      <td>10.0</td>\n",
       "      <td>0.0</td>\n",
       "      <td>0.0</td>\n",
       "      <td>0.0</td>\n",
       "    </tr>\n",
       "  </tbody>\n",
       "</table>\n",
       "</div>"
      ],
      "text/plain": [
       "                     port1  port2  port3\n",
       "idade_maxima_socios                     \n",
       "-2.0                   0.0    0.0    0.0\n",
       " 0.0                 193.0  213.0  172.0\n",
       " 3.0                   0.0    0.0    0.0\n",
       " 4.0                   0.0    0.0    1.0\n",
       " 5.0                   0.0    0.0    0.0\n",
       " 6.0                   0.0    0.0    0.0\n",
       " 7.0                   0.0    0.0    0.0\n",
       " 8.0                   0.0    0.0    0.0\n",
       " 9.0                   1.0    0.0    0.0\n",
       " 10.0                  0.0    0.0    0.0"
      ]
     },
     "execution_count": 77,
     "metadata": {},
     "output_type": "execute_result"
    }
   ],
   "source": [
    "market.groupby(['idade_maxima_socios'])['port1','port2','port3'].sum().head(10)"
   ]
  },
  {
   "cell_type": "code",
   "execution_count": 78,
   "metadata": {},
   "outputs": [
    {
     "data": {
      "text/html": [
       "<div>\n",
       "<style scoped>\n",
       "    .dataframe tbody tr th:only-of-type {\n",
       "        vertical-align: middle;\n",
       "    }\n",
       "\n",
       "    .dataframe tbody tr th {\n",
       "        vertical-align: top;\n",
       "    }\n",
       "\n",
       "    .dataframe thead th {\n",
       "        text-align: right;\n",
       "    }\n",
       "</style>\n",
       "<table border=\"1\" class=\"dataframe\">\n",
       "  <thead>\n",
       "    <tr style=\"text-align: right;\">\n",
       "      <th></th>\n",
       "      <th>port1</th>\n",
       "      <th>port2</th>\n",
       "      <th>port3</th>\n",
       "    </tr>\n",
       "    <tr>\n",
       "      <th>idade_minima_socios</th>\n",
       "      <th></th>\n",
       "      <th></th>\n",
       "      <th></th>\n",
       "    </tr>\n",
       "  </thead>\n",
       "  <tbody>\n",
       "    <tr>\n",
       "      <td>-2.0</td>\n",
       "      <td>0.0</td>\n",
       "      <td>0.0</td>\n",
       "      <td>0.0</td>\n",
       "    </tr>\n",
       "    <tr>\n",
       "      <td>0.0</td>\n",
       "      <td>193.0</td>\n",
       "      <td>213.0</td>\n",
       "      <td>172.0</td>\n",
       "    </tr>\n",
       "    <tr>\n",
       "      <td>2.0</td>\n",
       "      <td>0.0</td>\n",
       "      <td>0.0</td>\n",
       "      <td>0.0</td>\n",
       "    </tr>\n",
       "    <tr>\n",
       "      <td>3.0</td>\n",
       "      <td>0.0</td>\n",
       "      <td>0.0</td>\n",
       "      <td>0.0</td>\n",
       "    </tr>\n",
       "    <tr>\n",
       "      <td>4.0</td>\n",
       "      <td>0.0</td>\n",
       "      <td>0.0</td>\n",
       "      <td>1.0</td>\n",
       "    </tr>\n",
       "    <tr>\n",
       "      <td>5.0</td>\n",
       "      <td>0.0</td>\n",
       "      <td>0.0</td>\n",
       "      <td>0.0</td>\n",
       "    </tr>\n",
       "    <tr>\n",
       "      <td>6.0</td>\n",
       "      <td>1.0</td>\n",
       "      <td>0.0</td>\n",
       "      <td>0.0</td>\n",
       "    </tr>\n",
       "    <tr>\n",
       "      <td>7.0</td>\n",
       "      <td>0.0</td>\n",
       "      <td>0.0</td>\n",
       "      <td>0.0</td>\n",
       "    </tr>\n",
       "    <tr>\n",
       "      <td>8.0</td>\n",
       "      <td>0.0</td>\n",
       "      <td>0.0</td>\n",
       "      <td>0.0</td>\n",
       "    </tr>\n",
       "    <tr>\n",
       "      <td>9.0</td>\n",
       "      <td>0.0</td>\n",
       "      <td>0.0</td>\n",
       "      <td>0.0</td>\n",
       "    </tr>\n",
       "  </tbody>\n",
       "</table>\n",
       "</div>"
      ],
      "text/plain": [
       "                     port1  port2  port3\n",
       "idade_minima_socios                     \n",
       "-2.0                   0.0    0.0    0.0\n",
       " 0.0                 193.0  213.0  172.0\n",
       " 2.0                   0.0    0.0    0.0\n",
       " 3.0                   0.0    0.0    0.0\n",
       " 4.0                   0.0    0.0    1.0\n",
       " 5.0                   0.0    0.0    0.0\n",
       " 6.0                   1.0    0.0    0.0\n",
       " 7.0                   0.0    0.0    0.0\n",
       " 8.0                   0.0    0.0    0.0\n",
       " 9.0                   0.0    0.0    0.0"
      ]
     },
     "execution_count": 78,
     "metadata": {},
     "output_type": "execute_result"
    }
   ],
   "source": [
    "market.groupby(['idade_minima_socios'])['port1','port2','port3'].sum().head(10)"
   ]
  },
  {
   "cell_type": "code",
   "execution_count": 79,
   "metadata": {},
   "outputs": [
    {
     "data": {
      "text/html": [
       "<div>\n",
       "<style scoped>\n",
       "    .dataframe tbody tr th:only-of-type {\n",
       "        vertical-align: middle;\n",
       "    }\n",
       "\n",
       "    .dataframe tbody tr th {\n",
       "        vertical-align: top;\n",
       "    }\n",
       "\n",
       "    .dataframe thead th {\n",
       "        text-align: right;\n",
       "    }\n",
       "</style>\n",
       "<table border=\"1\" class=\"dataframe\">\n",
       "  <thead>\n",
       "    <tr style=\"text-align: right;\">\n",
       "      <th></th>\n",
       "      <th>port1</th>\n",
       "      <th>port2</th>\n",
       "      <th>port3</th>\n",
       "    </tr>\n",
       "    <tr>\n",
       "      <th>qt_socios_st_regular</th>\n",
       "      <th></th>\n",
       "      <th></th>\n",
       "      <th></th>\n",
       "    </tr>\n",
       "  </thead>\n",
       "  <tbody>\n",
       "    <tr>\n",
       "      <td>0.0</td>\n",
       "      <td>195.0</td>\n",
       "      <td>214.0</td>\n",
       "      <td>172.0</td>\n",
       "    </tr>\n",
       "    <tr>\n",
       "      <td>1.0</td>\n",
       "      <td>300.0</td>\n",
       "      <td>99.0</td>\n",
       "      <td>38.0</td>\n",
       "    </tr>\n",
       "    <tr>\n",
       "      <td>2.0</td>\n",
       "      <td>54.0</td>\n",
       "      <td>168.0</td>\n",
       "      <td>36.0</td>\n",
       "    </tr>\n",
       "    <tr>\n",
       "      <td>3.0</td>\n",
       "      <td>4.0</td>\n",
       "      <td>32.0</td>\n",
       "      <td>9.0</td>\n",
       "    </tr>\n",
       "    <tr>\n",
       "      <td>4.0</td>\n",
       "      <td>1.0</td>\n",
       "      <td>29.0</td>\n",
       "      <td>6.0</td>\n",
       "    </tr>\n",
       "    <tr>\n",
       "      <td>5.0</td>\n",
       "      <td>0.0</td>\n",
       "      <td>8.0</td>\n",
       "      <td>0.0</td>\n",
       "    </tr>\n",
       "    <tr>\n",
       "      <td>6.0</td>\n",
       "      <td>1.0</td>\n",
       "      <td>10.0</td>\n",
       "      <td>2.0</td>\n",
       "    </tr>\n",
       "    <tr>\n",
       "      <td>7.0</td>\n",
       "      <td>0.0</td>\n",
       "      <td>2.0</td>\n",
       "      <td>1.0</td>\n",
       "    </tr>\n",
       "    <tr>\n",
       "      <td>8.0</td>\n",
       "      <td>0.0</td>\n",
       "      <td>0.0</td>\n",
       "      <td>0.0</td>\n",
       "    </tr>\n",
       "    <tr>\n",
       "      <td>9.0</td>\n",
       "      <td>0.0</td>\n",
       "      <td>0.0</td>\n",
       "      <td>0.0</td>\n",
       "    </tr>\n",
       "  </tbody>\n",
       "</table>\n",
       "</div>"
      ],
      "text/plain": [
       "                      port1  port2  port3\n",
       "qt_socios_st_regular                     \n",
       "0.0                   195.0  214.0  172.0\n",
       "1.0                   300.0   99.0   38.0\n",
       "2.0                    54.0  168.0   36.0\n",
       "3.0                     4.0   32.0    9.0\n",
       "4.0                     1.0   29.0    6.0\n",
       "5.0                     0.0    8.0    0.0\n",
       "6.0                     1.0   10.0    2.0\n",
       "7.0                     0.0    2.0    1.0\n",
       "8.0                     0.0    0.0    0.0\n",
       "9.0                     0.0    0.0    0.0"
      ]
     },
     "execution_count": 79,
     "metadata": {},
     "output_type": "execute_result"
    }
   ],
   "source": [
    "market.groupby(['qt_socios_st_regular'])['port1','port2','port3'].sum().head(10)"
   ]
  },
  {
   "cell_type": "markdown",
   "metadata": {},
   "source": [
    "> *Criando uma nova coluna no qual saberemos a quantidade de sócios que estão pendente regularização na RF*"
   ]
  },
  {
   "cell_type": "code",
   "execution_count": 80,
   "metadata": {},
   "outputs": [],
   "source": [
    "market['nao_regular'] = market['qt_socios'] - market['qt_socios_st_regular']"
   ]
  },
  {
   "cell_type": "code",
   "execution_count": 81,
   "metadata": {},
   "outputs": [
    {
     "data": {
      "text/html": [
       "<div>\n",
       "<style scoped>\n",
       "    .dataframe tbody tr th:only-of-type {\n",
       "        vertical-align: middle;\n",
       "    }\n",
       "\n",
       "    .dataframe tbody tr th {\n",
       "        vertical-align: top;\n",
       "    }\n",
       "\n",
       "    .dataframe thead th {\n",
       "        text-align: right;\n",
       "    }\n",
       "</style>\n",
       "<table border=\"1\" class=\"dataframe\">\n",
       "  <thead>\n",
       "    <tr style=\"text-align: right;\">\n",
       "      <th></th>\n",
       "      <th>port1</th>\n",
       "      <th>port2</th>\n",
       "      <th>port3</th>\n",
       "    </tr>\n",
       "    <tr>\n",
       "      <th>nao_regular</th>\n",
       "      <th></th>\n",
       "      <th></th>\n",
       "      <th></th>\n",
       "    </tr>\n",
       "  </thead>\n",
       "  <tbody>\n",
       "    <tr>\n",
       "      <td>0.0</td>\n",
       "      <td>472.0</td>\n",
       "      <td>420.0</td>\n",
       "      <td>223.0</td>\n",
       "    </tr>\n",
       "    <tr>\n",
       "      <td>1.0</td>\n",
       "      <td>75.0</td>\n",
       "      <td>82.0</td>\n",
       "      <td>25.0</td>\n",
       "    </tr>\n",
       "    <tr>\n",
       "      <td>2.0</td>\n",
       "      <td>7.0</td>\n",
       "      <td>38.0</td>\n",
       "      <td>8.0</td>\n",
       "    </tr>\n",
       "    <tr>\n",
       "      <td>3.0</td>\n",
       "      <td>1.0</td>\n",
       "      <td>18.0</td>\n",
       "      <td>5.0</td>\n",
       "    </tr>\n",
       "    <tr>\n",
       "      <td>4.0</td>\n",
       "      <td>0.0</td>\n",
       "      <td>5.0</td>\n",
       "      <td>0.0</td>\n",
       "    </tr>\n",
       "    <tr>\n",
       "      <td>5.0</td>\n",
       "      <td>0.0</td>\n",
       "      <td>0.0</td>\n",
       "      <td>0.0</td>\n",
       "    </tr>\n",
       "    <tr>\n",
       "      <td>6.0</td>\n",
       "      <td>0.0</td>\n",
       "      <td>2.0</td>\n",
       "      <td>3.0</td>\n",
       "    </tr>\n",
       "  </tbody>\n",
       "</table>\n",
       "</div>"
      ],
      "text/plain": [
       "             port1  port2  port3\n",
       "nao_regular                     \n",
       "0.0          472.0  420.0  223.0\n",
       "1.0           75.0   82.0   25.0\n",
       "2.0            7.0   38.0    8.0\n",
       "3.0            1.0   18.0    5.0\n",
       "4.0            0.0    5.0    0.0\n",
       "5.0            0.0    0.0    0.0\n",
       "6.0            0.0    2.0    3.0"
      ]
     },
     "execution_count": 81,
     "metadata": {},
     "output_type": "execute_result"
    }
   ],
   "source": [
    "market.groupby(['nao_regular'])['port1','port2','port3'].sum().head(7)"
   ]
  },
  {
   "cell_type": "markdown",
   "metadata": {},
   "source": [
    "## > Início do modelo"
   ]
  },
  {
   "cell_type": "markdown",
   "metadata": {},
   "source": [
    "> *Após todas as análises selecionamos algumas features que entendemos ser as que mais serão importantes para o modelo*"
   ]
  },
  {
   "cell_type": "code",
   "execution_count": 82,
   "metadata": {},
   "outputs": [],
   "source": [
    "features = [\n",
    "    'de_natureza_juridica',\n",
    "    'idade_empresa_anos',\n",
    "    'idade_emp_cat',\n",
    "    'setor_privado',\n",
    "    'faturamento_cat',\n",
    "    'cli_mei',\n",
    "    'cli_simples',\n",
    "    'qt_filiais',\n",
    "    'fl_spa',\n",
    "    'nm_segmento',\n",
    "    'setor',\n",
    "    'nao_regular'\n",
    "]"
   ]
  },
  {
   "cell_type": "code",
   "execution_count": 83,
   "metadata": {},
   "outputs": [
    {
     "data": {
      "text/html": [
       "<div>\n",
       "<style scoped>\n",
       "    .dataframe tbody tr th:only-of-type {\n",
       "        vertical-align: middle;\n",
       "    }\n",
       "\n",
       "    .dataframe tbody tr th {\n",
       "        vertical-align: top;\n",
       "    }\n",
       "\n",
       "    .dataframe thead th {\n",
       "        text-align: right;\n",
       "    }\n",
       "</style>\n",
       "<table border=\"1\" class=\"dataframe\">\n",
       "  <thead>\n",
       "    <tr style=\"text-align: right;\">\n",
       "      <th></th>\n",
       "      <th>de_natureza_juridica</th>\n",
       "      <th>idade_empresa_anos</th>\n",
       "      <th>idade_emp_cat</th>\n",
       "      <th>setor_privado</th>\n",
       "      <th>faturamento_cat</th>\n",
       "      <th>cli_mei</th>\n",
       "      <th>cli_simples</th>\n",
       "      <th>qt_filiais</th>\n",
       "      <th>fl_spa</th>\n",
       "      <th>nm_segmento</th>\n",
       "      <th>setor</th>\n",
       "      <th>nao_regular</th>\n",
       "    </tr>\n",
       "  </thead>\n",
       "  <tbody>\n",
       "    <tr>\n",
       "      <td>0</td>\n",
       "      <td>SOCIEDADE EMPRESARIA LIMITADA</td>\n",
       "      <td>14.457534</td>\n",
       "      <td>10 a 15</td>\n",
       "      <td>True</td>\n",
       "      <td>4.0</td>\n",
       "      <td>0</td>\n",
       "      <td>1</td>\n",
       "      <td>0</td>\n",
       "      <td>False</td>\n",
       "      <td>CONSTRUCAO</td>\n",
       "      <td>CONSTRUÇÃO CIVIL</td>\n",
       "      <td>0.0</td>\n",
       "    </tr>\n",
       "    <tr>\n",
       "      <td>1</td>\n",
       "      <td>EMPRESARIO INDIVIDUAL</td>\n",
       "      <td>1.463014</td>\n",
       "      <td>1 a 5</td>\n",
       "      <td>True</td>\n",
       "      <td>2.0</td>\n",
       "      <td>1</td>\n",
       "      <td>0</td>\n",
       "      <td>0</td>\n",
       "      <td>False</td>\n",
       "      <td>ALOJAMENTO E ALIMENTACAO</td>\n",
       "      <td>SERVIÇO</td>\n",
       "      <td>0.0</td>\n",
       "    </tr>\n",
       "    <tr>\n",
       "      <td>2</td>\n",
       "      <td>EMPRESARIO INDIVIDUAL</td>\n",
       "      <td>7.093151</td>\n",
       "      <td>5 a 10</td>\n",
       "      <td>True</td>\n",
       "      <td>1.0</td>\n",
       "      <td>1</td>\n",
       "      <td>1</td>\n",
       "      <td>0</td>\n",
       "      <td>False</td>\n",
       "      <td>TRANSPORTE ARMAZENAGEM E CORREIO</td>\n",
       "      <td>SERVIÇO</td>\n",
       "      <td>1.0</td>\n",
       "    </tr>\n",
       "    <tr>\n",
       "      <td>3</td>\n",
       "      <td>EMPRESARIO INDIVIDUAL</td>\n",
       "      <td>6.512329</td>\n",
       "      <td>5 a 10</td>\n",
       "      <td>True</td>\n",
       "      <td>2.0</td>\n",
       "      <td>0</td>\n",
       "      <td>1</td>\n",
       "      <td>0</td>\n",
       "      <td>False</td>\n",
       "      <td>OUTRAS ATIVIDADES DE SERVICOS</td>\n",
       "      <td>SERVIÇO</td>\n",
       "      <td>0.0</td>\n",
       "    </tr>\n",
       "    <tr>\n",
       "      <td>4</td>\n",
       "      <td>EMPRESARIO INDIVIDUAL</td>\n",
       "      <td>3.200000</td>\n",
       "      <td>1 a 5</td>\n",
       "      <td>True</td>\n",
       "      <td>2.0</td>\n",
       "      <td>0</td>\n",
       "      <td>1</td>\n",
       "      <td>0</td>\n",
       "      <td>False</td>\n",
       "      <td>ATIVIDADES PROFISSIONAIS CIENTIFICAS E TECNICAS</td>\n",
       "      <td>SERVIÇO</td>\n",
       "      <td>1.0</td>\n",
       "    </tr>\n",
       "  </tbody>\n",
       "</table>\n",
       "</div>"
      ],
      "text/plain": [
       "            de_natureza_juridica  idade_empresa_anos idade_emp_cat  \\\n",
       "0  SOCIEDADE EMPRESARIA LIMITADA           14.457534       10 a 15   \n",
       "1          EMPRESARIO INDIVIDUAL            1.463014         1 a 5   \n",
       "2          EMPRESARIO INDIVIDUAL            7.093151        5 a 10   \n",
       "3          EMPRESARIO INDIVIDUAL            6.512329        5 a 10   \n",
       "4          EMPRESARIO INDIVIDUAL            3.200000         1 a 5   \n",
       "\n",
       "   setor_privado  faturamento_cat  cli_mei  cli_simples  qt_filiais fl_spa  \\\n",
       "0           True              4.0        0            1           0  False   \n",
       "1           True              2.0        1            0           0  False   \n",
       "2           True              1.0        1            1           0  False   \n",
       "3           True              2.0        0            1           0  False   \n",
       "4           True              2.0        0            1           0  False   \n",
       "\n",
       "                                       nm_segmento             setor  \\\n",
       "0                                       CONSTRUCAO  CONSTRUÇÃO CIVIL   \n",
       "1                         ALOJAMENTO E ALIMENTACAO           SERVIÇO   \n",
       "2                 TRANSPORTE ARMAZENAGEM E CORREIO           SERVIÇO   \n",
       "3                    OUTRAS ATIVIDADES DE SERVICOS           SERVIÇO   \n",
       "4  ATIVIDADES PROFISSIONAIS CIENTIFICAS E TECNICAS           SERVIÇO   \n",
       "\n",
       "   nao_regular  \n",
       "0          0.0  \n",
       "1          0.0  \n",
       "2          1.0  \n",
       "3          0.0  \n",
       "4          1.0  "
      ]
     },
     "execution_count": 83,
     "metadata": {},
     "output_type": "execute_result"
    }
   ],
   "source": [
    "market[features].head()"
   ]
  },
  {
   "cell_type": "code",
   "execution_count": null,
   "metadata": {},
   "outputs": [],
   "source": []
  }
 ],
 "metadata": {
  "kernelspec": {
   "display_name": "Python 3",
   "language": "python",
   "name": "python3"
  },
  "language_info": {
   "codemirror_mode": {
    "name": "ipython",
    "version": 3
   },
   "file_extension": ".py",
   "mimetype": "text/x-python",
   "name": "python",
   "nbconvert_exporter": "python",
   "pygments_lexer": "ipython3",
   "version": "3.7.4"
  }
 },
 "nbformat": 4,
 "nbformat_minor": 4
}
