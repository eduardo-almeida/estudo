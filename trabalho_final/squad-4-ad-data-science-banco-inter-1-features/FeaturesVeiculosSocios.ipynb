{
 "cells": [
  {
   "cell_type": "markdown",
   "metadata": {},
   "source": [
    "# Features de Veículos e Sócios"
   ]
  },
  {
   "cell_type": "markdown",
   "metadata": {},
   "source": [
    "## `Veículos`\n",
    "### Será necessário realizar apenas a limpeza das linhas nulas"
   ]
  },
  {
   "cell_type": "code",
   "execution_count": 7,
   "metadata": {},
   "outputs": [],
   "source": [
    "import pandas as pd\n",
    "import numpy as np\n",
    "import seaborn as sns\n",
    "import matplotlib.pyplot as plt\n",
    "sns.set(style='darkgrid')"
   ]
  },
  {
   "cell_type": "code",
   "execution_count": 8,
   "metadata": {},
   "outputs": [],
   "source": [
    "# Carregando as bases\n",
    "market = pd.read_csv('../desafio/estaticos_market.csv')\n",
    "port1 = pd.read_csv('../desafio/port1.csv')\n",
    "port2 = pd.read_csv('../desafio/port2.csv')\n",
    "port3 = pd.read_csv('../desafio/port3.csv')"
   ]
  },
  {
   "cell_type": "code",
   "execution_count": 9,
   "metadata": {},
   "outputs": [],
   "source": [
    "veiculos = market[['id','fl_spa','fl_antt','fl_veiculo']]"
   ]
  },
  {
   "cell_type": "markdown",
   "metadata": {},
   "source": [
    "**Tem 1927 valores nulos apenas, na extração feita pelo Roberth foi descartado esses valores, por isso removi na hora das análises**"
   ]
  },
  {
   "cell_type": "code",
   "execution_count": 10,
   "metadata": {},
   "outputs": [
    {
     "data": {
      "text/plain": [
       "id               0\n",
       "fl_spa        1927\n",
       "fl_antt       1927\n",
       "fl_veiculo    1927\n",
       "dtype: int64"
      ]
     },
     "execution_count": 10,
     "metadata": {},
     "output_type": "execute_result"
    }
   ],
   "source": [
    "veiculos.isnull().sum()"
   ]
  },
  {
   "cell_type": "code",
   "execution_count": 11,
   "metadata": {},
   "outputs": [
    {
     "name": "stderr",
     "output_type": "stream",
     "text": [
      "/home/nilson/anaconda3/lib/python3.7/site-packages/ipykernel_launcher.py:2: SettingWithCopyWarning: \n",
      "A value is trying to be set on a copy of a slice from a DataFrame\n",
      "\n",
      "See the caveats in the documentation: http://pandas.pydata.org/pandas-docs/stable/user_guide/indexing.html#returning-a-view-versus-a-copy\n",
      "  \n"
     ]
    }
   ],
   "source": [
    "# Limpando os valores nulos, pois a qunatidade é mínima em relação aos total\n",
    "veiculos.dropna(axis=0, inplace=True)"
   ]
  },
  {
   "cell_type": "markdown",
   "metadata": {},
   "source": [
    "## `Sócios`\n",
    "### Como os dados são quantitativos e haviam muitos dados nulos eu coloquei os valores com a mediana."
   ]
  },
  {
   "cell_type": "code",
   "execution_count": 12,
   "metadata": {},
   "outputs": [],
   "source": [
    "socios = market[['id','qt_socios','qt_socios_pf','qt_socios_pj','idade_media_socios',\n",
    "                 'idade_maxima_socios','idade_minima_socios','qt_socios_st_regular']]"
   ]
  },
  {
   "cell_type": "markdown",
   "metadata": {},
   "source": [
    "- **qt_socios** -> quantidade sócios\n",
    "- **qt_socios_pf** -> quantidade de sócios PF\n",
    "- **qt_socios_pj** -> quantidade de sócios PJ\n",
    "- **idade_media_socios** -> idade média dos sócios\n",
    "- **idade_maxima_socios** -> igual máxima dos sócios\n",
    "- **idade_minima_socios** -> igual mínima dos sócios\n",
    "- **qt_socios_st_regular** -> quantidade dos sócios regulares na Receita Federal"
   ]
  },
  {
   "cell_type": "markdown",
   "metadata": {},
   "source": [
    "Podemos ver a quantidade de dados nulos abaixo e teremos que verificar como ficará o modelo com a variável `qt_socios_st_regular` pois ela contém\n",
    "50% de dados faltantes, no qual lancei a mediana"
   ]
  },
  {
   "cell_type": "code",
   "execution_count": 13,
   "metadata": {},
   "outputs": [
    {
     "data": {
      "text/plain": [
       "id                       0.000000\n",
       "qt_socios               33.147661\n",
       "qt_socios_pf            33.147661\n",
       "qt_socios_pj            33.147661\n",
       "idade_media_socios      48.794320\n",
       "idade_maxima_socios     48.794320\n",
       "idade_minima_socios     48.794320\n",
       "qt_socios_st_regular    50.399016\n",
       "dtype: float64"
      ]
     },
     "execution_count": 13,
     "metadata": {},
     "output_type": "execute_result"
    }
   ],
   "source": [
    "socios.isnull().sum() / socios.count() * 100"
   ]
  },
  {
   "cell_type": "code",
   "execution_count": 14,
   "metadata": {
    "collapsed": true,
    "jupyter": {
     "outputs_hidden": true
    }
   },
   "outputs": [
    {
     "name": "stderr",
     "output_type": "stream",
     "text": [
      "/home/nilson/anaconda3/lib/python3.7/site-packages/pandas/core/generic.py:6287: SettingWithCopyWarning: \n",
      "A value is trying to be set on a copy of a slice from a DataFrame\n",
      "\n",
      "See the caveats in the documentation: http://pandas.pydata.org/pandas-docs/stable/user_guide/indexing.html#returning-a-view-versus-a-copy\n",
      "  self._update_inplace(new_data)\n"
     ]
    }
   ],
   "source": [
    "socios.fillna(socios.quantile(0.5), inplace=True)"
   ]
  },
  {
   "cell_type": "markdown",
   "metadata": {},
   "source": [
    "Fiz também a criação de uma nova coluna que é a `nao_regular` que vai trazer a quantidade de sócios que não estão regular perante a Receita"
   ]
  },
  {
   "cell_type": "code",
   "execution_count": 15,
   "metadata": {
    "collapsed": true,
    "jupyter": {
     "outputs_hidden": true
    }
   },
   "outputs": [
    {
     "name": "stderr",
     "output_type": "stream",
     "text": [
      "/home/nilson/anaconda3/lib/python3.7/site-packages/ipykernel_launcher.py:1: SettingWithCopyWarning: \n",
      "A value is trying to be set on a copy of a slice from a DataFrame.\n",
      "Try using .loc[row_indexer,col_indexer] = value instead\n",
      "\n",
      "See the caveats in the documentation: http://pandas.pydata.org/pandas-docs/stable/user_guide/indexing.html#returning-a-view-versus-a-copy\n",
      "  \"\"\"Entry point for launching an IPython kernel.\n"
     ]
    }
   ],
   "source": [
    "socios['nao_regular'] = socios['qt_socios'] - socios['qt_socios_st_regular']"
   ]
  },
  {
   "cell_type": "markdown",
   "metadata": {},
   "source": [
    "## Variáveis a se utilizar"
   ]
  },
  {
   "cell_type": "code",
   "execution_count": 28,
   "metadata": {},
   "outputs": [
    {
     "name": "stdout",
     "output_type": "stream",
     "text": [
      "0    False\n",
      "1    False\n",
      "2    False\n",
      "3    False\n",
      "4    False\n",
      "Name: fl_spa, dtype: object\n",
      "0    0.0\n",
      "1    0.0\n",
      "2    0.0\n",
      "3    0.0\n",
      "4    0.0\n",
      "Name: nao_regular, dtype: float64\n"
     ]
    }
   ],
   "source": [
    "print(veiculos['fl_spa'].head())  # False -> Não tem posto / True -> Tem posto\n",
    "print(socios['nao_regular'].head())  # Quantidade de sócios não regulares"
   ]
  },
  {
   "cell_type": "code",
   "execution_count": null,
   "metadata": {},
   "outputs": [],
   "source": []
  }
 ],
 "metadata": {
  "kernelspec": {
   "display_name": "Python 3",
   "language": "python",
   "name": "python3"
  },
  "language_info": {
   "codemirror_mode": {
    "name": "ipython",
    "version": 3
   },
   "file_extension": ".py",
   "mimetype": "text/x-python",
   "name": "python",
   "nbconvert_exporter": "python",
   "pygments_lexer": "ipython3",
   "version": "3.7.4"
  }
 },
 "nbformat": 4,
 "nbformat_minor": 4
}
