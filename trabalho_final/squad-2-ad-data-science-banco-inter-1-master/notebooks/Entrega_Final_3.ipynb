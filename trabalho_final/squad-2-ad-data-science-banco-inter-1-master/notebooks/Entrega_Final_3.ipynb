{
 "cells": [
  {
   "cell_type": "markdown",
   "metadata": {
    "colab_type": "text",
    "id": "77F-U5Mdo-ZB"
   },
   "source": [
    "# IMPORTAR BIBLIOTECAS"
   ]
  },
  {
   "cell_type": "code",
   "execution_count": 1,
   "metadata": {
    "colab": {},
    "colab_type": "code",
    "id": "3tA-XTe6ZTsv"
   },
   "outputs": [],
   "source": [
    "from sklearn.feature_extraction.text import TfidfVectorizer\n",
    "from sklearn.metrics.pairwise import cosine_similarity\n",
    "from sklearn.metrics.pairwise import linear_kernel\n",
    "from sklearn.neighbors import NearestNeighbors\n",
    "from sklearn.preprocessing import MinMaxScaler\n",
    "#from google.colab import drive\n",
    "from matplotlib.pyplot import figure\n",
    "from sklearn.model_selection import train_test_split\n",
    "from plotly import offline as py\n",
    "from plotly import graph_objs as go\n",
    "#from plotly import io as pio\n",
    "import pandas as pd\n",
    "import numpy as np\n",
    "import time\n",
    "import warnings\n",
    "warnings.filterwarnings(\"ignore\", category=DeprecationWarning)\n",
    "#pio.renderers\n",
    "#pio.renderers.default = \"colab\""
   ]
  },
  {
   "cell_type": "code",
   "execution_count": 2,
   "metadata": {},
   "outputs": [],
   "source": [
    "import plotly"
   ]
  },
  {
   "cell_type": "markdown",
   "metadata": {
    "colab_type": "text",
    "id": "54B-iXE3pVUT"
   },
   "source": [
    "# FUNÇÕES USO GERAL"
   ]
  },
  {
   "cell_type": "code",
   "execution_count": 3,
   "metadata": {
    "colab": {},
    "colab_type": "code",
    "id": "F3QLDAoBf2RE"
   },
   "outputs": [],
   "source": [
    "def tic(name):\n",
    "    global _start_time\n",
    "    global _name\n",
    "    _start_time = time.time()\n",
    "    _name = name\n",
    "\n",
    "def tac():\n",
    "    t_sec = round(time.time() - _start_time)\n",
    "    (t_min, t_sec) = divmod(t_sec,60)\n",
    "    (t_hour,t_min) = divmod(t_min,60) \n",
    "    print('TIME '+_name+' : {}hour:{}min:{}sec'.format(t_hour,t_min,t_sec))\n",
    "def fast_clean(df):\n",
    "    booleandf = df.select_dtypes(include=[bool]).columns\n",
    "    booleanDictionary = {True: 'true', False: 'false'}\n",
    "    for column in booleandf:\n",
    "      df[column] = df[column].map(booleanDictionary)\n",
    "    df= df.astype(str)\n",
    "    objectdf  = df.select_dtypes(include=[object]).columns\n",
    "    for column in objectdf:\n",
    "      df[column] = df[column].str.replace(' ', '')\n",
    "      df[column] = np.where(df[column] == 'nan', str(df.index), df[column])\n",
    "      df[column] = df[column].str.replace(',', '')\n",
    "    indice = pd.Series(df.index, index=df['id']).drop_duplicates()\n",
    "    df_id = pd.DataFrame({'id': df['id']})\n",
    "    df = df.drop(['id'],axis=1)\n",
    "    df2 = df_join(df) \n",
    "    df['id'] = df_id['id']\n",
    "    df_clean = pd.DataFrame({'clean': df2})\n",
    "    return(indice,df_clean)\n",
    "def df_join(df):\n",
    "    df2 = df.apply(lambda x: ','.join(x.astype(str)), axis=1)\n",
    "    return(df2)\n"
   ]
  },
  {
   "cell_type": "markdown",
   "metadata": {
    "colab_type": "text",
    "id": "Ky7MDnT0pb47"
   },
   "source": [
    "# FUNÇÕES DE TESTE"
   ]
  },
  {
   "cell_type": "code",
   "execution_count": 4,
   "metadata": {
    "colab": {
     "base_uri": "https://localhost:8080/",
     "height": 135
    },
    "colab_type": "code",
    "id": "fMq6-6QkTa4r",
    "outputId": "12462761-c5c2-43bd-b2a0-488e7ae45343"
   },
   "outputs": [],
   "source": [
    "def metrica_test(df_pf):\n",
    "    X = df_pf\n",
    "    y = df_pf['id']\n",
    "    X_train, X_test, y_train, y_test = train_test_split(X, y, train_size = 0.8, test_size =0.2,random_state =50, shuffle = True )\n",
    "    return(X_train, X_test, y_train, y_test)\n",
    "def metrica_result(df_result,y_test):\n",
    "    print(\"METRICA DE TESTE\")\n",
    "    result = []\n",
    "    result_list2 = []\n",
    "    result = df_result.loc[np.in1d(df_result['id'],y_test)]\n",
    "    result_list2.append(result)\n",
    "    result_final2 = pd.concat(result_list2)\n",
    "    i1 = len(y_test)\n",
    "    l1,l2 = df_result.shape\n",
    "    f1,f2 = result_final2.shape\n",
    "    print(\"TAMANHO DA BASE: \"+str(i1))\n",
    "    print(\"QUANTIDADE DE RECOMENDAÇÕES: \"+str(l1))\n",
    "    print(\"PERCENTUAL DE ITEM SOLICITADO NO RESULTADO: \"+str(round(f1/i1*100,2))+'%')\n",
    "    tac()"
   ]
  },
  {
   "cell_type": "markdown",
   "metadata": {
    "colab_type": "text",
    "id": "l6x28adzpf2h"
   },
   "source": [
    "# FUNÇÃO PARA PLOTAR GRÁFICO DE ANÁLISE"
   ]
  },
  {
   "cell_type": "code",
   "execution_count": 5,
   "metadata": {
    "colab": {},
    "colab_type": "code",
    "id": "i1UwPAX2TnbR"
   },
   "outputs": [],
   "source": [
    "def print_grafico(df_mkt,result_market,var):\n",
    "    trace1 = go.Scatter(x = df_mkt[var].value_counts(normalize=True).sort_index().index,\n",
    "                        y = df_mkt[var].value_counts(normalize=True).sort_index().values,\n",
    "                        mode = 'markers+lines',\n",
    "                        name = 'Porfolio',\n",
    "                        line = {'dash': 'dot'})\n",
    "    trace2 = go.Scatter(x = result_market[var].value_counts(normalize=True).sort_index().index,\n",
    "                        y = result_market[var].value_counts(normalize=True).sort_index().values,\n",
    "                        mode = 'markers+lines',\n",
    "                        name = 'Resultado')\n",
    "    data = [trace1, trace2]\n",
    "    layout = go.Layout(\n",
    "    title=go.layout.Title(\n",
    "        text='Plot Title',\n",
    "        xref='paper',\n",
    "        x=0\n",
    "    ),\n",
    "    xaxis=go.layout.XAxis(\n",
    "        title=go.layout.xaxis.Title(\n",
    "            text=var,\n",
    "            font=dict(\n",
    "                family='Courier New, monospace',\n",
    "                size=18,\n",
    "                color='#7f7f7f'\n",
    "            )\n",
    "        )\n",
    "    ),\n",
    "    yaxis=go.layout.YAxis(\n",
    "        title=go.layout.yaxis.Title(\n",
    "            text='freq',\n",
    "            font=dict(\n",
    "                family='Courier New, monospace',\n",
    "                size=18,\n",
    "                color='#7f7f7f'\n",
    "            )\n",
    "        )\n",
    "    )\n",
    "    )\n",
    "    fig = go.Figure(data=data, layout=layout)\n",
    "    py.iplot(fig)"
   ]
  },
  {
   "cell_type": "markdown",
   "metadata": {
    "colab_type": "text",
    "id": "AnwsMQYbplwX"
   },
   "source": [
    "# CARREGAR ARQUVOS"
   ]
  },
  {
   "cell_type": "code",
   "execution_count": 6,
   "metadata": {
    "colab": {
     "base_uri": "https://localhost:8080/",
     "height": 70
    },
    "colab_type": "code",
    "id": "QYX9xEJ9Zv2a",
    "outputId": "c9996d6c-d4f9-4352-db1f-e21e4e0f1191"
   },
   "outputs": [
    {
     "name": "stdout",
     "output_type": "stream",
     "text": [
      "TIME Carregar Arquivos : 0hour:0min:15sec\n"
     ]
    }
   ],
   "source": [
    "tic('Carregar Arquivos')\n",
    "#drive.mount('/gdrive')\n",
    "#%cd /gdrive\n",
    "cCaminho='./Data/'\n",
    "df_mkt = pd.read_csv(cCaminho+'estaticos_market.csv',index_col = 0)\n",
    "df_pf1 = pd.read_csv(cCaminho+'estaticos_portfolio1.csv',index_col= 0 )\n",
    "df_pf2 = pd.read_csv(cCaminho+'estaticos_portfolio2.csv',index_col= 0 )\n",
    "df_pf2 = pd.merge(df_pf2,df_mkt, on='id', how='inner')\n",
    "df_pf3 = pd.read_csv(cCaminho+'estaticos_portfolio3.csv',index_col= 0 )\n",
    "df_pf3 = pd.merge(df_pf3,df_mkt, on='id', how='inner')\n",
    "tac()"
   ]
  },
  {
   "cell_type": "markdown",
   "metadata": {
    "colab_type": "text",
    "id": "6ueM9soNpq2S"
   },
   "source": [
    "# TRATAMENTO DE NULOS"
   ]
  },
  {
   "cell_type": "code",
   "execution_count": 7,
   "metadata": {},
   "outputs": [],
   "source": [
    "features = ['id', 'de_natureza_juridica', 'sg_uf', 'de_ramo', 'setor', 'idade_emp_cat', \n",
    "            'fl_st_especial', 'de_saude_tributaria', 'de_nivel_atividade']"
   ]
  },
  {
   "cell_type": "code",
   "execution_count": 8,
   "metadata": {
    "colab": {},
    "colab_type": "code",
    "id": "nYhXjHDKjUP4"
   },
   "outputs": [],
   "source": [
    "def TratamentoDataFrame():\n",
    "  portifolios = [df_mkt, df_pf1, df_pf2, df_pf3]\n",
    "  for portifolio in portifolios:\n",
    "    nome_port = portifolio\n",
    "    #Aplicando a correção da base de dados para valores nulos\n",
    "    def CorrigindoBase(coluna, df):\n",
    "        if coluna != 'setor':\n",
    "          df[coluna] = df[coluna].fillna('0')\n",
    "        elif coluna == 'setor':\n",
    "          df[coluna] = df[coluna].fillna('OUTROS')\n",
    "    def ContagemValoresNulos(nome_df):\n",
    "      matriz = [[0, 0, 0], [0, 0, 0], [0, 0, 0], [0, 0, 0], [0, 0, 0], [0, 0, 0], [0, 0, 0], [0, 0, 0], [0, 0, 0]]\n",
    "      count = 0\n",
    "      for coluna in range(0, 9):\n",
    "        nome_coluna = features[coluna]\n",
    "        for valor in range(0, 3):\n",
    "          if valor == 0:\n",
    "            matriz[coluna][valor] = nome_coluna\n",
    "          elif valor == 1:\n",
    "            total_nulo = int(nome_df[nome_coluna].isnull().sum())\n",
    "            matriz[coluna][valor] = total_nulo\n",
    "          elif valor == 2:\n",
    "            total_nulo = int(nome_df[nome_coluna].isnull().sum())\n",
    "            total_df = int(nome_df['de_nivel_atividade'].shape[0])\n",
    "            result = round(((total_nulo * 100)/(total_df))/100, 3)\n",
    "            matriz[coluna][valor] = result\n",
    "            if result > 0:\n",
    "              CorrigindoBase(nome_coluna, nome_df)\n",
    "    #Chamando a função de contagem de valores nulos      \n",
    "    ContagemValoresNulos(nome_port)"
   ]
  },
  {
   "cell_type": "code",
   "execution_count": 9,
   "metadata": {},
   "outputs": [],
   "source": [
    "TratamentoDataFrame()"
   ]
  },
  {
   "cell_type": "markdown",
   "metadata": {
    "colab_type": "text",
    "id": "EXc8p_ujptEf"
   },
   "source": [
    "# FUNÇÃO DE SIMILARIEDADE DE COSENO E KERNEL"
   ]
  },
  {
   "cell_type": "code",
   "execution_count": 10,
   "metadata": {
    "colab": {},
    "colab_type": "code",
    "id": "d-76UYLrULa-"
   },
   "outputs": [],
   "source": [
    "def market_similarity(df, df_pf,columns,name,mode):\n",
    "    print(\"START SIMILARITY \" + name.upper()) \n",
    "    df = pd.DataFrame(df, columns=columns)\n",
    "    df_pf = pd.DataFrame(df_pf, columns=columns)\n",
    "    tic(\"CLEAN \" + name.upper())\n",
    "    indice, df_clean = fast_clean(df)\n",
    "    indicepf, df_cleanpf = fast_clean(df_pf)\n",
    "    tac()\n",
    "    tic(\"TFID \" + name.upper())\n",
    "    tfidf = TfidfVectorizer(sublinear_tf=False,stop_words=None)\n",
    "    tfidf_vector =  tfidf.fit(df_clean['clean'])\n",
    "    tfidf_matrix = tfidf_vector.transform(df_clean['clean'])\n",
    "    tfidf_matrixpf = tfidf_vector.transform(df_cleanpf['clean'])\n",
    "    del df_clean\n",
    "    del df_cleanpf\n",
    "    tac()\n",
    "    tic(\"RECOMMENDER \" + name.upper())\n",
    "    if mode=='cosine':\n",
    "        similarity = cosine_similarity(tfidf_matrix,tfidf_matrixpf) \n",
    "    elif mode=='kernel':\n",
    "        similarity = linear_kernel(tfidf_matrix,tfidf_matrixpf) \n",
    "    else:\n",
    "        return    \n",
    "    del tfidf_matrix\n",
    "    del tfidf_matrixpf\n",
    "    df_final = pd.DataFrame(data=similarity,columns=df_pf['id'])\n",
    "    n,o= df_final.shape\n",
    "    tic(\"ORDER \" + name.upper())\n",
    "    data_day_list = []\n",
    "    for item_id in df_pf['id']:\n",
    "        n_largest =df_final[item_id].nlargest(n + 1)\n",
    "        n_largest = (n_largest[n_largest.values>0.8])\n",
    "        for item in n_largest.index:\n",
    "                idx = indice[item:item+1].index[0]\n",
    "                if item_id!=idx:\n",
    "                    data_day_list.append(idx)\n",
    "    del df_final\n",
    "    result = pd.DataFrame(list(data_day_list), columns=['id']).drop_duplicates()\n",
    "    result_final = pd.merge(result,df, on='id', how='inner')\n",
    "    result_final =  pd.DataFrame(result_final, columns=columns)\n",
    "    result_final.to_csv(cCaminho+name+'.csv')\n",
    "    tac()\n",
    "    print(\"FINISH \" + name.upper())\n",
    "    return(result_final)"
   ]
  },
  {
   "cell_type": "markdown",
   "metadata": {
    "colab_type": "text",
    "id": "Zb6CSx-_p162"
   },
   "source": [
    "# FUNÇÃO DE SIMILARIEDADE DE KNN"
   ]
  },
  {
   "cell_type": "code",
   "execution_count": 11,
   "metadata": {
    "colab": {},
    "colab_type": "code",
    "id": "hGUA8yn2j3-9"
   },
   "outputs": [],
   "source": [
    "def market_knn(df,df_pf,columns):\n",
    "    def get_index_from_name(name):\n",
    "        return df[df[\"id\"]==name].index.tolist()[0]\n",
    "    def print_similar_id(query=None):\n",
    "        data_day_list = []\n",
    "        found_id = get_index_from_name(query)\n",
    "        for id in indices[found_id][1:]:\n",
    "            data_day = (df.loc[id][\"id\"])\n",
    "            data_day_list.append(data_day)\n",
    "        return(data_day_list)\n",
    "    print(\"START MARKET_KNN\") \n",
    "    tic('CLEAN')  \n",
    "    df_mktclean = pd.DataFrame(df, columns=columns)\n",
    "    df_pf1clean = pd.DataFrame(df_pf, columns=columns)\n",
    "    cons = pd.DataFrame({'colunas' : df_mktclean.columns,'tipo' : df_mktclean.dtypes})\n",
    "    colunas_categoricas = list(cons[(cons['tipo'] == 'object') & (cons['colunas'] != 'id')]['colunas'])\n",
    "    columns2 = []\n",
    "    for coluna in colunas_categoricas:\n",
    "        df_mktclean[coluna] = df_mktclean[coluna].astype('category')\n",
    "        df_mktclean[coluna + '_cat'] = df_mktclean[coluna].cat.codes\n",
    "        df_pf1clean[coluna] = df_pf1clean[coluna].astype('category')\n",
    "        df_pf1clean[coluna + '_cat'] = df_pf1clean[coluna].cat.codes\n",
    "        columns2.append(coluna + '_cat')\n",
    "    df_mktclean = pd.DataFrame(df_mktclean, columns=columns2)\n",
    "    df_pf1clean = pd.DataFrame(df_pf1clean, columns=columns2)\n",
    "    X = df_mktclean.iloc[:, 1:9]\n",
    "    y = df_mktclean.iloc[:, 0]\n",
    "    Xp = df_pf1clean.iloc[:, 1:9]\n",
    "    yp = df_pf1clean.iloc[:, 0]\n",
    "    min_max_scaler = MinMaxScaler()\n",
    "    market_features = min_max_scaler.fit_transform(X)  \n",
    "    tac()\n",
    "    tic(\"NEIGHBORS\")\n",
    "    nbrs = NearestNeighbors(n_neighbors=6 ,algorithm='kd_tree', n_jobs=-1).fit(market_features)\n",
    "    tac()\n",
    "    tic(\"DISTANCE\")\n",
    "    distances, indices = nbrs.kneighbors(market_features)\n",
    "    tac()\n",
    "    tic(\"RECOMMENDATION\")\n",
    "    result_list=[]\n",
    "    data_day_list2 = []\n",
    "    requis=df_pf['id']\n",
    "    for element in requis:\n",
    "        data_day_list = []\n",
    "        data_day_list = (print_similar_id(query=element))\n",
    "        for item in data_day_list:\n",
    "            data_day = (df[df.id==item])\n",
    "            data_day_list2.append(data_day)\n",
    "        result = pd.concat(data_day_list2)\n",
    "        result_list.append(result)\n",
    "    result_final = pd.concat(result_list)\n",
    "    result_final.drop_duplicates(keep = 'first', inplace = True)\n",
    "    tac()\n",
    "    print(\"FIM MARKET_KNN\")\n",
    "    return(result_final)"
   ]
  },
  {
   "cell_type": "markdown",
   "metadata": {
    "colab_type": "text",
    "id": "3VV8CZR1qHRS"
   },
   "source": [
    "# VARIÁVEIS DEFINIDAS PARA UTILIZAÇÃO"
   ]
  },
  {
   "cell_type": "code",
   "execution_count": 12,
   "metadata": {
    "colab": {},
    "colab_type": "code",
    "id": "i416dFxRGCiL"
   },
   "outputs": [],
   "source": [
    "columns = features"
   ]
  },
  {
   "cell_type": "code",
   "execution_count": null,
   "metadata": {},
   "outputs": [
    {
     "name": "stdout",
     "output_type": "stream",
     "text": [
      "INICIO COSINE\n",
      "START SIMILARITY PF1_COSINE\n",
      "TIME CLEAN PF1_COSINE : 0hour:0min:46sec\n",
      "TIME TFID PF1_COSINE : 0hour:0min:9sec\n"
     ]
    }
   ],
   "source": [
    "print( 'INICIO COSINE')\n",
    "result_metrica = market_similarity(df_mkt,df_pf1,columns,'PF1_cosine','cosine')\n",
    "metrica_result(result_metrica,df_pf1['id'])\n",
    "result_metrica = market_similarity(df_mkt,df_pf2,columns,'PF2_cosine','cosine')\n",
    "metrica_result(result_metrica,df_pf2['id'])\n",
    "result_metrica = market_similarity(df_mkt,df_pf3,columns,'PF3_cosine','cosine')\n",
    "metrica_result(result_metrica,df_pf3['id'])\n",
    "print('FIM COSINE')"
   ]
  },
  {
   "cell_type": "code",
   "execution_count": null,
   "metadata": {},
   "outputs": [],
   "source": [
    "print( 'INICIO COSINE TESTE')\n",
    "X_train, X_test, y_train, y_test = metrica_test(df_pf1)\n",
    "result_metrica = market_similarity(df_mkt,X_train,columns,'Xtrain_cosine','cosine')\n",
    "metrica_result(result_metrica,y_test)\n",
    "X_train, X_test, y_train, y_test = metrica_test(df_pf2)\n",
    "result_metrica = market_similarity(df_mkt,X_train,columns,'Xtrain_cosine','cosine')\n",
    "metrica_result(result_metrica,y_test)\n",
    "X_train, X_test, y_train, y_test = metrica_test(df_pf3)\n",
    "result_metrica = market_similarity(df_mkt,X_train,columns,'Xtrain_cosine','cosine')\n",
    "metrica_result(result_metrica,y_test)\n",
    "print('FIM COSINE TESTE')"
   ]
  },
  {
   "cell_type": "code",
   "execution_count": null,
   "metadata": {
    "colab": {
     "base_uri": "https://localhost:8080/",
     "height": 1000
    },
    "colab_type": "code",
    "id": "vJAvdIuBmUbq",
    "outputId": "2e1a6685-6cdd-41f6-9afb-8a0c8c05e80e"
   },
   "outputs": [],
   "source": [
    "print( 'INICIO KERNEL')\n",
    "X_train, X_test, y_train, y_test = metrica_test(df_pf1)\n",
    "result_metrica = market_similarity(df_mkt,X_train,columns,'Xtrain_cosine','kernel')\n",
    "metrica_result(result_metrica,y_test)\n",
    "X_train, X_test, y_train, y_test = metrica_test(df_pf2)\n",
    "result_metrica = market_similarity(df_mkt,X_train,columns,'Xtrain_cosine','kernel')\n",
    "metrica_result(result_metrica,y_test)\n",
    "X_train, X_test, y_train, y_test = metrica_test(df_pf3)\n",
    "result_metrica = market_similarity(df_mkt,X_train,columns,'Xtrain_cosine','kernel')\n",
    "metrica_result(result_metrica,y_test)\n",
    "print('FIM KERNEL')\n",
    "\n",
    "print( 'INICIO KNN')\n",
    "X_train, X_test, y_train, y_test = metrica_test(df_pf1)\n",
    "result_metrica = market_knn(df_mkt,X_train,columns)\n",
    "metrica_result(result_metrica,y_test)\n",
    "X_train, X_test, y_train, y_test = metrica_test(df_pf2)\n",
    "result_metrica = market_knn(df_mkt,X_train,columns)\n",
    "metrica_result(result_metrica,y_test)\n",
    "X_train, X_test, y_train, y_test = metrica_test(df_pf3)\n",
    "result_metrica = market_knn(df_mkt,X_train,columns)\n",
    "metrica_result(result_metrica,y_test)\n",
    "print('FIM KNN')\n",
    "\n"
   ]
  },
  {
   "cell_type": "markdown",
   "metadata": {
    "colab_type": "text",
    "id": "GoNaMHh7tqe1"
   },
   "source": [
    "# ANALISE GRÁFICA METÓDO COSINE - PORTIFÓLIO 1"
   ]
  },
  {
   "cell_type": "code",
   "execution_count": null,
   "metadata": {
    "colab": {
     "base_uri": "https://localhost:8080/",
     "height": 1000
    },
    "colab_type": "code",
    "id": "v7xr5-H9T602",
    "outputId": "ef2f7eca-cf34-47e5-d76b-16960b983d5c"
   },
   "outputs": [],
   "source": [
    "result_market = market_similarity(df_mkt,df_pf2,columns,'df3_cosine','cosine')\n",
    "print_grafico(df_pf1,result_market,columns[1])\n",
    "print_grafico(df_pf1,result_market,columns[2])\n",
    "print_grafico(df_pf1,result_market,columns[3])\n",
    "print_grafico(df_pf1,result_market,columns[4])\n",
    "print_grafico(df_pf1,result_market,columns[5])\n",
    "print_grafico(df_pf1,result_market,columns[6])\n",
    "print_grafico(df_pf1,result_market,columns[7])\n",
    "print_grafico(df_pf1,result_market,columns[8])\n",
    "print_grafico(df_pf1,result_market,columns[9])"
   ]
  },
  {
   "cell_type": "markdown",
   "metadata": {
    "colab_type": "text",
    "id": "CW6tHMFkuKfb"
   },
   "source": [
    "# ANALISE GRÁFICA METÓDO COSINE - PORTIFÓLIO 2"
   ]
  },
  {
   "cell_type": "code",
   "execution_count": null,
   "metadata": {
    "colab": {
     "base_uri": "https://localhost:8080/",
     "height": 1000
    },
    "colab_type": "code",
    "id": "pR21RE09PVU1",
    "outputId": "18884288-ab7b-4ac0-8031-0b2233c24aab"
   },
   "outputs": [],
   "source": [
    "result_market = market_similarity(df_mkt,df_pf2,columns,'df2_cosine','cosine')\n",
    "print_grafico(df_pf2,result_market,columns[1])\n",
    "print_grafico(df_pf2,result_market,columns[2])\n",
    "print_grafico(df_pf2,result_market,columns[3])\n",
    "print_grafico(df_pf2,result_market,columns[4])\n",
    "print_grafico(df_pf2,result_market,columns[5])\n",
    "print_grafico(df_pf2,result_market,columns[6])\n",
    "print_grafico(df_pf2,result_market,columns[7])\n",
    "print_grafico(df_pf2,result_market,columns[8])\n",
    "print_grafico(df_pf2,result_market,columns[9])"
   ]
  },
  {
   "cell_type": "markdown",
   "metadata": {
    "colab_type": "text",
    "id": "MIcbpMq4uCTX"
   },
   "source": [
    "# ANALISE GRÁFICA METÓDO COSINE - PORTIFÓLIO 3"
   ]
  },
  {
   "cell_type": "code",
   "execution_count": null,
   "metadata": {
    "colab": {
     "base_uri": "https://localhost:8080/",
     "height": 1000
    },
    "colab_type": "code",
    "id": "IJ_mb697PjbO",
    "outputId": "dc48357b-4213-440c-c34d-7a84008a4fe9"
   },
   "outputs": [],
   "source": [
    "result_market = market_similarity(df_mkt,df_pf3,columns,'df3_cosine','cosine')\n",
    "print_grafico(df_pf3,result_market,columns[1])\n",
    "print_grafico(df_pf3,result_market,columns[2])\n",
    "print_grafico(df_pf3,result_market,columns[3])\n",
    "print_grafico(df_pf3,result_market,columns[4])\n",
    "print_grafico(df_pf3,result_market,columns[5])\n",
    "print_grafico(df_pf3,result_market,columns[6])\n",
    "print_grafico(df_pf3,result_market,columns[7])\n",
    "print_grafico(df_pf3,result_market,columns[8])\n",
    "print_grafico(df_pf3,result_market,columns[9])"
   ]
  }
 ],
 "metadata": {
  "colab": {
   "collapsed_sections": [],
   "machine_shape": "hm",
   "name": "Entrega_Final_3.ipynb",
   "provenance": []
  },
  "kernelspec": {
   "display_name": "Python 3",
   "language": "python",
   "name": "python3"
  },
  "language_info": {
   "codemirror_mode": {
    "name": "ipython",
    "version": 3
   },
   "file_extension": ".py",
   "mimetype": "text/x-python",
   "name": "python",
   "nbconvert_exporter": "python",
   "pygments_lexer": "ipython3",
   "version": "3.7.3"
  }
 },
 "nbformat": 4,
 "nbformat_minor": 1
}
