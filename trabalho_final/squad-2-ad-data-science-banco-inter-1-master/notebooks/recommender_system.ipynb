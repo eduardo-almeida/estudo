{
 "cells": [
  {
   "cell_type": "code",
   "execution_count": 1,
   "metadata": {},
   "outputs": [],
   "source": [
    "#!/usr/bin/env python -W ignore::DeprecationWarning\n",
    "import warnings\n",
    "warnings.filterwarnings(\"ignore\")\n",
    "import sys\n",
    "sys.path.append('../src')\n",
    "from sklearn.impute import SimpleImputer\n",
    "from feature_selection import FeatureSelection\n",
    "from sklearn.preprocessing import OneHotEncoder\n",
    "from config import Configure\n",
    "import pandas as pd\n",
    "import numpy as np\n",
    "\n",
    "def qcutting(df,col_names):\n",
    "    data = df.copy()\n",
    "    for col in col_names:\n",
    "        data[col] = pd.qcut(df[col].rank(method='first'), \n",
    "                            4, \n",
    "                            labels=[\"0\",\"1\",\"2\",\"3\"])\n",
    "    return data  \n",
    "\n",
    "def qt_socios_cut(x):\n",
    "    if x > 1:\n",
    "        return False\n",
    "    else:\n",
    "        return True\n",
    "    \n",
    "    \n",
    "def df_transform(df):\n",
    "    df['qt_socios'] = df['qt_socios'].apply(qt_socios_cut)\n",
    "    columns = df.columns\n",
    "    for col in columns:\n",
    "        var_type = df[col].dtype \n",
    "        if ((var_type == 'bool')|(var_type == 'object')):\n",
    "            df[col] = df[col].fillna(df[col].mode().values[0])\n",
    "        else:\n",
    "            df[col] = df[col].fillna(df[col].median())\n",
    "    df = qcutting(df, \n",
    "                  columns[(df.dtypes=='float64')|(df.dtypes=='int64')])\n",
    "    encoder = OneHotEncoder(categorical_features='all',sparse = False)\n",
    "    X = encoder.fit_transform(df)  \n",
    "    return X"
   ]
  },
  {
   "cell_type": "markdown",
   "metadata": {},
   "source": [
    "## Leitura e pre-processamento"
   ]
  },
  {
   "cell_type": "code",
   "execution_count": 2,
   "metadata": {
    "scrolled": false
   },
   "outputs": [
    {
     "name": "stdout",
     "output_type": "stream",
     "text": [
      "\n",
      " Aplicando algoritmo de seleção de parâmetros\n"
     ]
    }
   ],
   "source": [
    "print('\\n Aplicando algoritmo de seleção de parâmetros')\n",
    "settings = Configure()\n",
    "settings.set_fs_params()\n",
    "settings.set_pre_processing_params()\n",
    "pp_params = settings.pre_processing_params\n",
    "fs_params = settings.feature_selection_params\n",
    "df1 = pd.read_csv(settings.pf1_folder)\n",
    "df2 = pd.read_csv(settings.pf2_folder)\n",
    "df3 = pd.read_csv(settings.pf3_folder)\n",
    "mkt = pd.read_csv(settings.mkt_folder)"
   ]
  },
  {
   "cell_type": "markdown",
   "metadata": {},
   "source": [
    "## Seleção de parâmetros com LASSO"
   ]
  },
  {
   "cell_type": "code",
   "execution_count": 3,
   "metadata": {},
   "outputs": [],
   "source": [
    "fs = FeatureSelection(mkt,  df1, df2, df3, pp_params, fs_params)\n",
    "values, features = fs.feature_selection_algorithm(m='LASSO')"
   ]
  },
  {
   "cell_type": "code",
   "execution_count": 4,
   "metadata": {},
   "outputs": [
    {
     "name": "stdout",
     "output_type": "stream",
     "text": [
      " Resultado aproximado :  0.9295\n"
     ]
    },
    {
     "data": {
      "text/html": [
       "<div>\n",
       "<style scoped>\n",
       "    .dataframe tbody tr th:only-of-type {\n",
       "        vertical-align: middle;\n",
       "    }\n",
       "\n",
       "    .dataframe tbody tr th {\n",
       "        vertical-align: top;\n",
       "    }\n",
       "\n",
       "    .dataframe thead th {\n",
       "        text-align: right;\n",
       "    }\n",
       "</style>\n",
       "<table border=\"1\" class=\"dataframe\">\n",
       "  <thead>\n",
       "    <tr style=\"text-align: right;\">\n",
       "      <th></th>\n",
       "      <th>vl_faturamento_estimado_aux</th>\n",
       "      <th>de_saude_tributaria</th>\n",
       "      <th>fl_rm</th>\n",
       "      <th>fl_ltda</th>\n",
       "      <th>fl_telefone</th>\n",
       "      <th>vl_total_veiculos_leves_grupo</th>\n",
       "      <th>natureza_juridica_macro</th>\n",
       "      <th>fl_spa</th>\n",
       "      <th>dt_situacao</th>\n",
       "      <th>fl_veiculo</th>\n",
       "      <th>fl_optante_simei</th>\n",
       "    </tr>\n",
       "  </thead>\n",
       "  <tbody>\n",
       "    <tr>\n",
       "      <th>0</th>\n",
       "      <td>3132172.8</td>\n",
       "      <td>VERDE</td>\n",
       "      <td>SIM</td>\n",
       "      <td>False</td>\n",
       "      <td>True</td>\n",
       "      <td>0.0</td>\n",
       "      <td>ENTIDADES EMPRESARIAIS</td>\n",
       "      <td>False</td>\n",
       "      <td>2005-03-25</td>\n",
       "      <td>False</td>\n",
       "      <td>False</td>\n",
       "    </tr>\n",
       "    <tr>\n",
       "      <th>1</th>\n",
       "      <td>210000.0</td>\n",
       "      <td>CINZA</td>\n",
       "      <td>SIM</td>\n",
       "      <td>False</td>\n",
       "      <td>True</td>\n",
       "      <td>0.0</td>\n",
       "      <td>OUTROS</td>\n",
       "      <td>False</td>\n",
       "      <td>2017-05-12</td>\n",
       "      <td>False</td>\n",
       "      <td>NaN</td>\n",
       "    </tr>\n",
       "    <tr>\n",
       "      <th>2</th>\n",
       "      <td>50000.0</td>\n",
       "      <td>AMARELO</td>\n",
       "      <td>SIM</td>\n",
       "      <td>False</td>\n",
       "      <td>True</td>\n",
       "      <td>0.0</td>\n",
       "      <td>OUTROS</td>\n",
       "      <td>False</td>\n",
       "      <td>2011-09-26</td>\n",
       "      <td>False</td>\n",
       "      <td>True</td>\n",
       "    </tr>\n",
       "  </tbody>\n",
       "</table>\n",
       "</div>"
      ],
      "text/plain": [
       "   vl_faturamento_estimado_aux de_saude_tributaria fl_rm  fl_ltda  \\\n",
       "0                    3132172.8               VERDE   SIM    False   \n",
       "1                     210000.0               CINZA   SIM    False   \n",
       "2                      50000.0             AMARELO   SIM    False   \n",
       "\n",
       "   fl_telefone  vl_total_veiculos_leves_grupo natureza_juridica_macro fl_spa  \\\n",
       "0         True                            0.0  ENTIDADES EMPRESARIAIS  False   \n",
       "1         True                            0.0                  OUTROS  False   \n",
       "2         True                            0.0                  OUTROS  False   \n",
       "\n",
       "  dt_situacao fl_veiculo fl_optante_simei  \n",
       "0  2005-03-25      False            False  \n",
       "1  2017-05-12      False              NaN  \n",
       "2  2011-09-26      False             True  "
      ]
     },
     "execution_count": 4,
     "metadata": {},
     "output_type": "execute_result"
    }
   ],
   "source": [
    "columns = features[features != 'Unnamed: 0']\n",
    "id_column = mkt['id']\n",
    "mkt_lasso = mkt[columns]\n",
    "print(\" Resultado aproximado : \", values.max())\n",
    "mkt_lasso.head(3)"
   ]
  },
  {
   "cell_type": "markdown",
   "metadata": {},
   "source": [
    "## Seleção de parâmetros com RFECV"
   ]
  },
  {
   "cell_type": "code",
   "execution_count": 5,
   "metadata": {},
   "outputs": [],
   "source": [
    "fs = FeatureSelection(mkt,  df1, df2, df3, pp_params, fs_params)\n",
    "values, features = fs.feature_selection_algorithm(m='RFECV')"
   ]
  },
  {
   "cell_type": "code",
   "execution_count": 6,
   "metadata": {},
   "outputs": [
    {
     "name": "stdout",
     "output_type": "stream",
     "text": [
      " Resultado aproximado :  0.8317694307173836\n"
     ]
    },
    {
     "data": {
      "text/html": [
       "<div>\n",
       "<style scoped>\n",
       "    .dataframe tbody tr th:only-of-type {\n",
       "        vertical-align: middle;\n",
       "    }\n",
       "\n",
       "    .dataframe tbody tr th {\n",
       "        vertical-align: top;\n",
       "    }\n",
       "\n",
       "    .dataframe thead th {\n",
       "        text-align: right;\n",
       "    }\n",
       "</style>\n",
       "<table border=\"1\" class=\"dataframe\">\n",
       "  <thead>\n",
       "    <tr style=\"text-align: right;\">\n",
       "      <th></th>\n",
       "      <th>vl_faturamento_estimado_aux</th>\n",
       "      <th>de_saude_tributaria</th>\n",
       "      <th>fl_rm</th>\n",
       "      <th>vl_total_veiculos_leves_grupo</th>\n",
       "      <th>fl_optante_simples</th>\n",
       "      <th>qt_filiais</th>\n",
       "      <th>vl_total_veiculos_pesados_grupo</th>\n",
       "      <th>fl_ltda</th>\n",
       "      <th>natureza_juridica_macro</th>\n",
       "      <th>fl_antt</th>\n",
       "      <th>idade_media_socios</th>\n",
       "      <th>qt_socios</th>\n",
       "      <th>de_nivel_atividade</th>\n",
       "      <th>qt_socios_feminino</th>\n",
       "      <th>fl_sa</th>\n",
       "      <th>fl_passivel_iss</th>\n",
       "      <th>fl_telefone</th>\n",
       "    </tr>\n",
       "  </thead>\n",
       "  <tbody>\n",
       "    <tr>\n",
       "      <th>0</th>\n",
       "      <td>3132172.8</td>\n",
       "      <td>VERDE</td>\n",
       "      <td>SIM</td>\n",
       "      <td>0.0</td>\n",
       "      <td>True</td>\n",
       "      <td>0</td>\n",
       "      <td>0.0</td>\n",
       "      <td>False</td>\n",
       "      <td>ENTIDADES EMPRESARIAIS</td>\n",
       "      <td>False</td>\n",
       "      <td>44.0</td>\n",
       "      <td>2.0</td>\n",
       "      <td>ALTA</td>\n",
       "      <td>NaN</td>\n",
       "      <td>False</td>\n",
       "      <td>True</td>\n",
       "      <td>True</td>\n",
       "    </tr>\n",
       "    <tr>\n",
       "      <th>1</th>\n",
       "      <td>210000.0</td>\n",
       "      <td>CINZA</td>\n",
       "      <td>SIM</td>\n",
       "      <td>0.0</td>\n",
       "      <td>NaN</td>\n",
       "      <td>0</td>\n",
       "      <td>0.0</td>\n",
       "      <td>False</td>\n",
       "      <td>OUTROS</td>\n",
       "      <td>False</td>\n",
       "      <td>27.0</td>\n",
       "      <td>1.0</td>\n",
       "      <td>BAIXA</td>\n",
       "      <td>NaN</td>\n",
       "      <td>False</td>\n",
       "      <td>True</td>\n",
       "      <td>True</td>\n",
       "    </tr>\n",
       "    <tr>\n",
       "      <th>2</th>\n",
       "      <td>50000.0</td>\n",
       "      <td>AMARELO</td>\n",
       "      <td>SIM</td>\n",
       "      <td>0.0</td>\n",
       "      <td>True</td>\n",
       "      <td>0</td>\n",
       "      <td>0.0</td>\n",
       "      <td>False</td>\n",
       "      <td>OUTROS</td>\n",
       "      <td>False</td>\n",
       "      <td>32.0</td>\n",
       "      <td>1.0</td>\n",
       "      <td>MEDIA</td>\n",
       "      <td>NaN</td>\n",
       "      <td>False</td>\n",
       "      <td>True</td>\n",
       "      <td>True</td>\n",
       "    </tr>\n",
       "  </tbody>\n",
       "</table>\n",
       "</div>"
      ],
      "text/plain": [
       "   vl_faturamento_estimado_aux de_saude_tributaria fl_rm  \\\n",
       "0                    3132172.8               VERDE   SIM   \n",
       "1                     210000.0               CINZA   SIM   \n",
       "2                      50000.0             AMARELO   SIM   \n",
       "\n",
       "   vl_total_veiculos_leves_grupo fl_optante_simples  qt_filiais  \\\n",
       "0                            0.0               True           0   \n",
       "1                            0.0                NaN           0   \n",
       "2                            0.0               True           0   \n",
       "\n",
       "   vl_total_veiculos_pesados_grupo  fl_ltda natureza_juridica_macro fl_antt  \\\n",
       "0                              0.0    False  ENTIDADES EMPRESARIAIS   False   \n",
       "1                              0.0    False                  OUTROS   False   \n",
       "2                              0.0    False                  OUTROS   False   \n",
       "\n",
       "   idade_media_socios  qt_socios de_nivel_atividade  qt_socios_feminino  \\\n",
       "0                44.0        2.0               ALTA                 NaN   \n",
       "1                27.0        1.0              BAIXA                 NaN   \n",
       "2                32.0        1.0              MEDIA                 NaN   \n",
       "\n",
       "   fl_sa fl_passivel_iss  fl_telefone  \n",
       "0  False            True         True  \n",
       "1  False            True         True  \n",
       "2  False            True         True  "
      ]
     },
     "execution_count": 6,
     "metadata": {},
     "output_type": "execute_result"
    }
   ],
   "source": [
    "columns = features[features != 'Unnamed: 0']\n",
    "id_column = mkt['id']\n",
    "mkt_rfe_cv = mkt[columns]\n",
    "print(\" Resultado aproximado : \", values.max())\n",
    "mkt_rfe_cv.head(3)"
   ]
  },
  {
   "cell_type": "code",
   "execution_count": null,
   "metadata": {},
   "outputs": [],
   "source": []
  }
 ],
 "metadata": {
  "kernelspec": {
   "display_name": "Python 3",
   "language": "python",
   "name": "python3"
  },
  "language_info": {
   "codemirror_mode": {
    "name": "ipython",
    "version": 3
   },
   "file_extension": ".py",
   "mimetype": "text/x-python",
   "name": "python",
   "nbconvert_exporter": "python",
   "pygments_lexer": "ipython3",
   "version": "3.7.3"
  }
 },
 "nbformat": 4,
 "nbformat_minor": 2
}
