{
  "nbformat": 4,
  "nbformat_minor": 0,
  "metadata": {
    "colab": {
      "name": "kmeans_cosine.ipynb",
      "version": "0.3.2",
      "provenance": [],
      "collapsed_sections": [],
      "machine_shape": "hm"
    },
    "kernelspec": {
      "name": "python3",
      "display_name": "Python 3"
    },
    "accelerator": "GPU"
  },
  "cells": [
    {
      "cell_type": "code",
      "metadata": {
        "id": "Cih9bNmPf7ar",
        "colab_type": "code",
        "colab": {}
      },
      "source": [
        "import numpy as np\n",
        "import pandas as pd\n",
        "import seaborn as sns\n",
        "import matplotlib.pyplot as plt\n",
        "import os\n",
        "\n",
        "from sklearn.metrics.pairwise import cosine_similarity"
      ],
      "execution_count": 0,
      "outputs": []
    },
    {
      "cell_type": "code",
      "metadata": {
        "id": "rdw40m_fsgqK",
        "colab_type": "code",
        "outputId": "4aa9493e-976f-4ba8-8ca7-97ca326dd302",
        "colab": {
          "base_uri": "https://localhost:8080/",
          "height": 34
        }
      },
      "source": [
        "from google.colab import drive\n",
        "drive.mount('/content/gdrive')\n",
        "path_market = os.path.join('/content/gdrive/My Drive/datasets_codenation/',\n",
        "                          'estaticos_market.csv')\n",
        "path_portfolio1 = os.path.join('/content/gdrive/My Drive/datasets_codenation/',\n",
        "                          'estaticos_portfolio1.csv')\n",
        "path_portfolio2 = os.path.join('/content/gdrive/My Drive/datasets_codenation/',\n",
        "                          'estaticos_portfolio2.csv')\n",
        "path_portfolio3 = os.path.join('/content/gdrive/My Drive/datasets_codenation/',\n",
        "                          'estaticos_portfolio3.csv')"
      ],
      "execution_count": 14,
      "outputs": [
        {
          "output_type": "stream",
          "text": [
            "Drive already mounted at /content/gdrive; to attempt to forcibly remount, call drive.mount(\"/content/gdrive\", force_remount=True).\n"
          ],
          "name": "stdout"
        }
      ]
    },
    {
      "cell_type": "code",
      "metadata": {
        "id": "em5D5gLxtM5g",
        "colab_type": "code",
        "colab": {}
      },
      "source": [
        "pd.set_option('display.max_rows', 200)"
      ],
      "execution_count": 0,
      "outputs": []
    },
    {
      "cell_type": "code",
      "metadata": {
        "id": "5RY1k-PKtrYX",
        "colab_type": "code",
        "colab": {}
      },
      "source": [
        "df_market = pd.read_csv(path_market, index_col=0)\n",
        "df_portfolio1 = pd.read_csv(path_portfolio1, usecols=['id'])\n",
        "df_portfolio2 = pd.read_csv(path_portfolio2, index_col=0)\n",
        "df_portfolio3 = pd.read_csv(path_portfolio3, index_col=0)"
      ],
      "execution_count": 0,
      "outputs": []
    },
    {
      "cell_type": "code",
      "metadata": {
        "id": "OrfY_jIvt_GA",
        "colab_type": "code",
        "colab": {}
      },
      "source": [
        "# Apply threshold for dropping NaNs with more than 60%\n",
        "\n",
        "removed_columns = []\n",
        "null_count = df_market.isna().sum()\n",
        "percent = null_count/df_market.shape[0]\n",
        "for col in df_market.iloc[:, 1:]:\n",
        "    if df_market[col].isna().sum()/df_market[col].shape[0] > 0.6:\n",
        "        removed_columns.append(col)\n",
        "\n",
        "new_columns = list(set(df_market.columns) - set(removed_columns))\n",
        "df_market = df_market.loc[:, new_columns]"
      ],
      "execution_count": 0,
      "outputs": []
    },
    {
      "cell_type": "code",
      "metadata": {
        "id": "MN0bJmT-uD_D",
        "colab_type": "code",
        "colab": {}
      },
      "source": [
        "# Splitting between ID and variables\n",
        "df_id = df_market['id']\n",
        "df_dummy = df_market.drop('id',axis=1)"
      ],
      "execution_count": 0,
      "outputs": []
    },
    {
      "cell_type": "code",
      "metadata": {
        "id": "Jus8LemxvBAB",
        "colab_type": "code",
        "colab": {}
      },
      "source": [
        "# Fix True/False objects\n",
        "df_dummy['fl_passivel_iss'] = df_dummy['fl_passivel_iss'].astype('bool')\n",
        "df_dummy['fl_antt'] = df_dummy['fl_antt'].astype('bool')\n",
        "df_dummy['fl_spa'] = df_dummy['fl_spa'].astype('bool')\n",
        "df_dummy['fl_simples_irregular'] = df_dummy['fl_simples_irregular'].astype('bool')\n",
        "df_dummy['fl_veiculo'] = df_dummy['fl_veiculo'].astype('bool')"
      ],
      "execution_count": 0,
      "outputs": []
    },
    {
      "cell_type": "code",
      "metadata": {
        "id": "ZDcRKg-JvEUh",
        "colab_type": "code",
        "colab": {}
      },
      "source": [
        "# Filling NaNs in the rest of the Dataset\n",
        "\n",
        "df_dummy['empsetorcensitariofaixarendapopulacao'] = df_dummy['empsetorcensitariofaixarendapopulacao'].fillna(\n",
        "    df_dummy['empsetorcensitariofaixarendapopulacao'].mean()) # oreenchendo com a media\n",
        "df_dummy['sg_uf_matriz'] = df_dummy['sg_uf_matriz'].fillna('outro')\n",
        "df_dummy['qt_socios_st_regular'] = df_dummy['qt_socios_st_regular'].fillna(\n",
        "    df_dummy['qt_socios_st_regular'].mean()) \n",
        "df_dummy['empsetorcensitariofaixarendapopulacao'] = df_dummy['empsetorcensitariofaixarendapopulacao'].fillna(\n",
        "    df_dummy['empsetorcensitariofaixarendapopulacao'].median())\n",
        "df_dummy['nm_divisao'] = df_dummy['nm_divisao'].fillna('COMERCIO VAREJISTA')\n",
        "df_dummy['vl_total_veiculos_leves_grupo'] = df_dummy['vl_total_veiculos_leves_grupo'].fillna(0)\n",
        "df_dummy['vl_faturamento_estimado_aux'] = df_dummy['vl_faturamento_estimado_aux'].fillna(\n",
        "    df_dummy['vl_faturamento_estimado_aux'].median())\n",
        "df_dummy['idade_minima_socios'] = df_dummy['idade_minima_socios'].fillna(\n",
        "    df_dummy['idade_minima_socios'].mean())\n",
        "df_dummy['fl_optante_simples'] = df_dummy['fl_optante_simples'].fillna(True) # possui 20mil leituras a mais, o que pode ser uma fonte de erro\n",
        "df_dummy['nm_segmento'] = df_dummy['nm_segmento'].fillna('OUTRAS ATIVIDADES DE SERVICOS')\n",
        "df_dummy['qt_socios_pj'] = df_dummy['qt_socios_pj'].fillna(0) \n",
        "df_dummy['nm_meso_regiao'] = df_dummy['nm_meso_regiao'].fillna('OUTRO') \n",
        "df_dummy['fl_optante_simei'] = df_dummy['fl_optante_simei'].fillna(True) # maioria\n",
        "df_dummy['vl_faturamento_estimado_grupo_aux'] = df_dummy['vl_faturamento_estimado_grupo_aux'].fillna(\n",
        "    df_dummy['vl_faturamento_estimado_grupo_aux'].mean()) # distribuição com muita assimetria\n",
        "df_dummy['de_saude_tributaria'] = df_dummy['de_saude_tributaria'].fillna('VERDE') # assume-se que, ao nao preencher, esta no verde\n",
        "df_dummy['de_saude_rescencia'] = df_dummy['de_saude_rescencia'].fillna('ACIMA DE 1 ANO')\n",
        "df_dummy['idade_maxima_socios'] = df_dummy['idade_maxima_socios'].fillna(df_dummy['idade_maxima_socios'].mean())\n",
        "df_dummy['vl_total_veiculos_pesados_grupo'] = df_dummy['vl_total_veiculos_pesados_grupo'].fillna(0) \n",
        "df_dummy['qt_socios_pf'] = df_dummy['qt_socios_pf'].fillna(df_dummy['qt_socios_pf'].median())\n",
        "df_dummy['qt_socios_masculino'] = df_dummy['qt_socios_masculino'].fillna(\n",
        "    df_dummy['qt_socios_masculino'].median()) # talvez preencher com 0 seja melhor\n",
        "df_dummy['qt_socios'] = df_dummy['qt_socios'].fillna(\n",
        "    df_dummy['qt_socios'].median())\n",
        "df_dummy['de_faixa_faturamento_estimado'] = df_dummy['de_faixa_faturamento_estimado'].fillna(\n",
        "    'DE R$ 81.000,01 A R$ 360.000,00')\n",
        "df_dummy['nm_micro_regiao'] = df_dummy['nm_micro_regiao'].fillna('NAO ESPECIFICADO')\n",
        "df_dummy['idade_media_socios'] = df_dummy['idade_media_socios'].fillna(df_dummy['idade_media_socios'].median())\n",
        "df_dummy['setor'] = df_dummy['setor'].fillna('COMERCIO')\n",
        "df_dummy['nu_meses_rescencia'] = df_dummy['nu_meses_rescencia'].fillna(df_dummy['nu_meses_rescencia'].mean())\n",
        "df_dummy['de_faixa_faturamento_estimado_grupo'] = df_dummy['de_faixa_faturamento_estimado_grupo'].fillna(\n",
        "    'DE R$ 81.000,01 A R$ 360.000,00')\n",
        "df_dummy['de_nivel_atividade'] = df_dummy['de_nivel_atividade'].fillna('MEDIA')\n",
        "df_dummy['dt_situacao'] = df_dummy['dt_situacao'].fillna('2005-11-03')"
      ],
      "execution_count": 0,
      "outputs": []
    },
    {
      "cell_type": "code",
      "metadata": {
        "id": "325D4J85vQeJ",
        "colab_type": "code",
        "outputId": "8b43356f-c7e8-419e-dc6d-b382ccb7301e",
        "colab": {
          "base_uri": "https://localhost:8080/",
          "height": 34
        }
      },
      "source": [
        "# Check to see if there are any NaN cell left\n",
        "df_dummy.isna().any().sum()"
      ],
      "execution_count": 21,
      "outputs": [
        {
          "output_type": "execute_result",
          "data": {
            "text/plain": [
              "0"
            ]
          },
          "metadata": {
            "tags": []
          },
          "execution_count": 21
        }
      ]
    },
    {
      "cell_type": "code",
      "metadata": {
        "id": "QKXoZxE3vhtz",
        "colab_type": "code",
        "colab": {}
      },
      "source": [
        "# Define a \"dummyfied\" DataFrame without object columns with too many readings - \"macro\" approach\n",
        "\n",
        "df_new = pd.get_dummies(df_dummy.drop(['nm_micro_regiao','dt_situacao','de_natureza_juridica',\n",
        "                                       'de_ramo','nm_meso_regiao','nm_divisao'],\n",
        "                                      axis=1),sparse=True,drop_first=True)"
      ],
      "execution_count": 0,
      "outputs": []
    },
    {
      "cell_type": "code",
      "metadata": {
        "id": "gjQ7II4ovvCy",
        "colab_type": "code",
        "colab": {}
      },
      "source": [
        "from sklearn.cluster import KMeans\n",
        "\n",
        "# Define function to evaluate through the elbow method the optimal number of clusters\n",
        "\n",
        "def kmeans_elbow(number_of_clusters, data):\n",
        "    model = KMeans(n_clusters = number_of_clusters, n_jobs=4)\n",
        "    model.fit(data)\n",
        "    return [number_of_clusters, model.inertia_]\n"
      ],
      "execution_count": 0,
      "outputs": []
    },
    {
      "cell_type": "markdown",
      "metadata": {
        "id": "VX-0gNFvw5z3",
        "colab_type": "text"
      },
      "source": [
        "## Methods to test\n",
        "\n",
        "**1st  approach**: Dummyfied data\n",
        "\n",
        "**2nd  approach**: Dummyfied and scaled data\n",
        "\n",
        "\n",
        "**3rd  approach**: Ordinal encoded and unscaled data\n",
        "\n",
        "**4th approach**: Ordinal encoded and scaled data"
      ]
    },
    {
      "cell_type": "code",
      "metadata": {
        "id": "3lUPIGIQwhkr",
        "colab_type": "code",
        "colab": {}
      },
      "source": [
        "# 1st approach - Dummyfied, unscaled data\n",
        "\n",
        "#first_approach = []\n",
        "#for i in range(5,12):\n",
        "#    first_approach.append(kmeans_elbow(i, df_new))"
      ],
      "execution_count": 0,
      "outputs": []
    },
    {
      "cell_type": "code",
      "metadata": {
        "id": "Ztceso4Uxx-G",
        "colab_type": "code",
        "colab": {}
      },
      "source": [
        "#sns.lineplot(x=pd.DataFrame(first_approach)[0],\n",
        "#             y=pd.DataFrame(first_approach)[1])"
      ],
      "execution_count": 0,
      "outputs": []
    },
    {
      "cell_type": "code",
      "metadata": {
        "id": "HLLdle1MwkpP",
        "colab_type": "code",
        "colab": {}
      },
      "source": [
        "# 2nd approach - Dummyfied, scaled data\n",
        "\n",
        "from sklearn.preprocessing import StandardScaler\n",
        "\n",
        "scaler = StandardScaler()\n",
        "\n",
        "df_scaled = scaler.fit_transform(df_new)"
      ],
      "execution_count": 0,
      "outputs": []
    },
    {
      "cell_type": "code",
      "metadata": {
        "id": "O1NzLCpq1h5W",
        "colab_type": "code",
        "colab": {}
      },
      "source": [
        "#second_approach = []\n",
        "#for i in range(5,20):\n",
        "#    first_approach.append(kmeans_elbow(i, df_scaled))"
      ],
      "execution_count": 0,
      "outputs": []
    },
    {
      "cell_type": "code",
      "metadata": {
        "id": "8x-ZDgQi1lq1",
        "colab_type": "code",
        "colab": {}
      },
      "source": [
        "#sns.lineplot(x=pd.DataFrame(second_approach)[0],\n",
        " #            y=pd.DataFrame(second_approach)[1])"
      ],
      "execution_count": 0,
      "outputs": []
    },
    {
      "cell_type": "code",
      "metadata": {
        "id": "ynaBTHrpGuwg",
        "colab_type": "code",
        "colab": {
          "base_uri": "https://localhost:8080/",
          "height": 208
        },
        "outputId": "ffca4101-d2b5-43ec-e9ee-d028679c1159"
      },
      "source": [
        "!pip3 install category_encoders"
      ],
      "execution_count": 29,
      "outputs": [
        {
          "output_type": "stream",
          "text": [
            "Requirement already satisfied: category_encoders in /usr/local/lib/python3.6/dist-packages (2.0.0)\n",
            "Requirement already satisfied: scikit-learn>=0.20.0 in /usr/local/lib/python3.6/dist-packages (from category_encoders) (0.21.3)\n",
            "Requirement already satisfied: patsy>=0.4.1 in /usr/local/lib/python3.6/dist-packages (from category_encoders) (0.5.1)\n",
            "Requirement already satisfied: scipy>=0.19.0 in /usr/local/lib/python3.6/dist-packages (from category_encoders) (1.3.0)\n",
            "Requirement already satisfied: statsmodels>=0.6.1 in /usr/local/lib/python3.6/dist-packages (from category_encoders) (0.10.1)\n",
            "Requirement already satisfied: pandas>=0.21.1 in /usr/local/lib/python3.6/dist-packages (from category_encoders) (0.24.2)\n",
            "Requirement already satisfied: numpy>=1.11.3 in /usr/local/lib/python3.6/dist-packages (from category_encoders) (1.16.4)\n",
            "Requirement already satisfied: joblib>=0.11 in /usr/local/lib/python3.6/dist-packages (from scikit-learn>=0.20.0->category_encoders) (0.13.2)\n",
            "Requirement already satisfied: six in /usr/local/lib/python3.6/dist-packages (from patsy>=0.4.1->category_encoders) (1.12.0)\n",
            "Requirement already satisfied: pytz>=2011k in /usr/local/lib/python3.6/dist-packages (from pandas>=0.21.1->category_encoders) (2018.9)\n",
            "Requirement already satisfied: python-dateutil>=2.5.0 in /usr/local/lib/python3.6/dist-packages (from pandas>=0.21.1->category_encoders) (2.5.3)\n"
          ],
          "name": "stdout"
        }
      ]
    },
    {
      "cell_type": "code",
      "metadata": {
        "id": "q6yaB1xX1uP7",
        "colab_type": "code",
        "colab": {}
      },
      "source": [
        "# 3rd approach - Ordinal encoded, unscaled data\n",
        "\n",
        "from category_encoders.ordinal import OrdinalEncoder\n",
        "\n",
        "df_ord = df_dummy.drop(['nm_micro_regiao','dt_situacao','de_natureza_juridica',\n",
        "                                       'de_ramo','nm_meso_regiao','nm_divisao'],\n",
        "                                      axis=1)\n",
        "cols_to_ord = []\n",
        "for col in df_ord:\n",
        "    if df_ord[col].dtypes == np.object:\n",
        "        cols_to_ord.append(col)\n",
        "\n",
        "enc = OrdinalEncoder(cols=cols_to_ord)\n",
        "\n",
        "df_ord = enc.fit_transform(df_ord)"
      ],
      "execution_count": 0,
      "outputs": []
    },
    {
      "cell_type": "code",
      "metadata": {
        "id": "WR-j7Lju4EB_",
        "colab_type": "code",
        "colab": {}
      },
      "source": [
        "#third_approach = []\n",
        "#for i in range(5,20):\n",
        "#    third_approach.append(kmeans(i, df_ord))\n",
        "#    \n",
        "#sns.lineplot(x=pd.DataFrame(third_approach)[0],\n",
        "#             y=pd.DataFrame(third_approach)[1])"
      ],
      "execution_count": 0,
      "outputs": []
    },
    {
      "cell_type": "code",
      "metadata": {
        "id": "Wejba5aN4JyD",
        "colab_type": "code",
        "colab": {}
      },
      "source": [
        "# 4th approach - Ordinal encoded, scaled data\n",
        "\n",
        "df_ord_scaled = scaler.fit_transform(df_ord)"
      ],
      "execution_count": 0,
      "outputs": []
    },
    {
      "cell_type": "code",
      "metadata": {
        "id": "IMhdZ4xq4cML",
        "colab_type": "code",
        "colab": {}
      },
      "source": [
        "fourth_approach = []\n",
        "for i in range(20,25):\n",
        "    fourth_approach.append(kmeans_elbow(i, df_ord_scaled))"
      ],
      "execution_count": 0,
      "outputs": []
    },
    {
      "cell_type": "code",
      "metadata": {
        "id": "_1Km_u7v5ALL",
        "colab_type": "code",
        "colab": {
          "base_uri": "https://localhost:8080/",
          "height": 300
        },
        "outputId": "3ab5384b-ee25-4979-f975-e27f546a1437"
      },
      "source": [
        "sns.lineplot(x=pd.DataFrame(fourth_approach)[0],\n",
        "             y=pd.DataFrame(fourth_approach)[1])"
      ],
      "execution_count": 64,
      "outputs": [
        {
          "output_type": "execute_result",
          "data": {
            "text/plain": [
              "<matplotlib.axes._subplots.AxesSubplot at 0x7fc750187588>"
            ]
          },
          "metadata": {
            "tags": []
          },
          "execution_count": 64
        },
        {
          "output_type": "display_data",
          "data": {
            "image/png": "[encoded data removed]",
            "text/plain": [
              "<Figure size 432x288 with 1 Axes>"
            ]
          },
          "metadata": {
            "tags": []
          }
        }
      ]
    },
    {
      "cell_type": "code",
      "metadata": {
        "id": "CV9nlj945D-O",
        "colab_type": "code",
        "colab": {}
      },
      "source": [
        "#ord_un = kmeans_elbow(20,df_ord)\n",
        "#ord_sc = kmeans_elbow(20,df_ord_scaled)\n",
        "\n",
        "#print(ord_un,ord_sc)"
      ],
      "execution_count": 0,
      "outputs": []
    },
    {
      "cell_type": "code",
      "metadata": {
        "id": "vqNSQnJIELEw",
        "colab_type": "code",
        "colab": {}
      },
      "source": [
        "df = pd.DataFrame(df_ord_scaled)"
      ],
      "execution_count": 0,
      "outputs": []
    },
    {
      "cell_type": "code",
      "metadata": {
        "id": "6wS8bR6GKrDF",
        "colab_type": "code",
        "colab": {}
      },
      "source": [
        "X = pd.concat([df_id,df], axis='columns')"
      ],
      "execution_count": 0,
      "outputs": []
    },
    {
      "cell_type": "code",
      "metadata": {
        "id": "ZBzyVdeWLYnT",
        "colab_type": "code",
        "colab": {}
      },
      "source": [
        "def kmeans_labels(number_of_clusters, data):\n",
        "    model = KMeans(n_clusters = number_of_clusters, n_jobs=4)\n",
        "    model.fit(data)\n",
        "    return model.labels_"
      ],
      "execution_count": 0,
      "outputs": []
    },
    {
      "cell_type": "code",
      "metadata": {
        "id": "GH8hHwjkLPUk",
        "colab_type": "code",
        "colab": {}
      },
      "source": [
        "X['clusters'] = kmeans_labels(22,df_ord_scaled)"
      ],
      "execution_count": 0,
      "outputs": []
    },
    {
      "cell_type": "code",
      "metadata": {
        "id": "quL-bKiqLFAm",
        "colab_type": "code",
        "colab": {}
      },
      "source": [
        "#X.head()"
      ],
      "execution_count": 0,
      "outputs": []
    },
    {
      "cell_type": "code",
      "metadata": {
        "id": "9fx56hhxLkdV",
        "colab_type": "code",
        "colab": {}
      },
      "source": [
        "pf1_filled = X[X['id'].isin(df_portfolio1['id'].values)]"
      ],
      "execution_count": 0,
      "outputs": []
    },
    {
      "cell_type": "code",
      "metadata": {
        "id": "GPguY_aORZHE",
        "colab_type": "code",
        "colab": {}
      },
      "source": [
        "# part of the market that shares the same clusters\n",
        "\n",
        "pf1_out = X.loc[X['clusters'].isin(list(pf1_filled['clusters'].unique()))]"
      ],
      "execution_count": 0,
      "outputs": []
    },
    {
      "cell_type": "code",
      "metadata": {
        "id": "QtItrji2R4uZ",
        "colab_type": "code",
        "colab": {}
      },
      "source": [
        "# customer that are not yet on the company's portfolio\n",
        "\n",
        "pf1_rec = pf1_out.loc[~pf1_out['id'].isin(list(pf1_filled['id'].unique()))]"
      ],
      "execution_count": 0,
      "outputs": []
    },
    {
      "cell_type": "code",
      "metadata": {
        "id": "lm3KX9A8SBa_",
        "colab_type": "code",
        "colab": {}
      },
      "source": [
        "cosine_sim = cosine_similarity(pf1_rec.drop(['id','score'],axis='columns'),pf1_filled.drop('id',axis='columns'))\n",
        "#cosine_sim = np.amax(cosine_sim, axis=1)"
      ],
      "execution_count": 0,
      "outputs": []
    },
    {
      "cell_type": "code",
      "metadata": {
        "id": "2g4iHuhxSn9x",
        "colab_type": "code",
        "colab": {
          "base_uri": "https://localhost:8080/",
          "height": 121
        },
        "outputId": "284b162e-e184-4c42-add0-2aafff329270"
      },
      "source": [
        "pf1_rec['score'] = cosine_sim"
      ],
      "execution_count": 61,
      "outputs": [
        {
          "output_type": "stream",
          "text": [
            "/usr/local/lib/python3.6/dist-packages/ipykernel_launcher.py:1: SettingWithCopyWarning: \n",
            "A value is trying to be set on a copy of a slice from a DataFrame.\n",
            "Try using .loc[row_indexer,col_indexer] = value instead\n",
            "\n",
            "See the caveats in the documentation: http://pandas.pydata.org/pandas-docs/stable/indexing.html#indexing-view-versus-copy\n",
            "  \"\"\"Entry point for launching an IPython kernel.\n"
          ],
          "name": "stderr"
        }
      ]
    },
    {
      "cell_type": "code",
      "metadata": {
        "id": "jkU7OHLVURE3",
        "colab_type": "code",
        "colab": {
          "base_uri": "https://localhost:8080/",
          "height": 364
        },
        "outputId": "6519068b-11a9-4f5e-bb5b-082cd253b8fb"
      },
      "source": [
        "# list of new leads to recommend\n",
        "\n",
        "new_leads = 20\n",
        "\n",
        "list((pf1_rec.sort_values('score', ascending=False)[:new_leads])['id'])"
      ],
      "execution_count": 62,
      "outputs": [
        {
          "output_type": "execute_result",
          "data": {
            "text/plain": [
              "['bf902918ba493c68cc1ca1873c262912e1ffe7a7027670cba5e3329919bc8bdd',\n",
              " 'de23ee0ebd1fcf888268dba2388efe97a499d818e9c1120d0e6103290664cf74',\n",
              " 'e7956ad55e0cff3d3d815cc70fe6fa7019c55b6c7a2ee58d384258982e51f996',\n",
              " '1f0e5b04b4d79f6416dc18dccab17d602c45f9acb25e7e03c9e829f7309b4b71',\n",
              " 'b7b70640e76ed29163614d1828c0f86b1645d04b8644d9fae79bc8094a5ce094',\n",
              " '6dd9ff2dca3ce5faa548a667f285c038ed739308d31aba6d26c23b6e912c0b60',\n",
              " 'bcbc52ef9063689f158607e5e56279721384a82c011768c11019760e79ec1e4a',\n",
              " '8d04cccd6a0f173fff0c5ad81fbe0832ccd3ff05d99b5f45cdf49dd1cab8083b',\n",
              " '0755e0efaf7e317096f37b5da6eefe9cc676c851f5f4619e43b165fabcf3cbca',\n",
              " '9ba7c6fcf19ba360efecffe408acab5ef8192b4c4fc298236d29b60c0b2314c2',\n",
              " '82a029fee5819fcf59d9b2886861428b0199d8e096bc096433522798f6a567ab',\n",
              " '8e356168c1b2713e854079f6b88d77ec27842230fa1d0c53cdfe8b85d50681f4',\n",
              " 'd44af3127178d13543db01cee959df640b70f5eb1cb7d803e16b9fe6bccc849d',\n",
              " '275679a7dd590695fddfc502a889530b8b847483887d9d482855e37c505a849f',\n",
              " '4663c2a0640d42d5539cc466ce2dcc90a2e7dbc68ef8cca1967c8af7539a201f',\n",
              " '430b5ef81e732009be16d608112fd006ed3c5d1d321997e1e65b4970fd1b92bb',\n",
              " '9d91d141f509529201047817411bf170747464eb25db3ec4893e86eff38a60ac',\n",
              " '53f1b5bd52e635c937f984c41e80e6007d0f399539c99ccac75298f1785ebc40',\n",
              " '9e190765206b347c4508e709f48385227f1b37d76783059bbb20505fcb147aa0',\n",
              " '2d4c167de5d3af1bad9acf7b06610abc9bfad8d75bd99af88fc73f2c61264985']"
            ]
          },
          "metadata": {
            "tags": []
          },
          "execution_count": 62
        }
      ]
    },
    {
      "cell_type": "code",
      "metadata": {
        "id": "SwA1nfShUcgE",
        "colab_type": "code",
        "colab": {}
      },
      "source": [
        ""
      ],
      "execution_count": 0,
      "outputs": []
    }
  ]
}