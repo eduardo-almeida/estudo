{
 "cells": [
  {
   "cell_type": "code",
   "execution_count": null,
   "metadata": {},
   "outputs": [],
   "source": [
    "def custom_apk(market_list, test_list, k=10000):\n",
    "    \n",
    "    '''Custom function for the average precision at k - AP@k\n",
    "\n",
    "    market_list: list of ids from all the recommended companies sorted by descending score (order does matter)\n",
    "\n",
    "    test_list: list of ids from all companies in the ~20% test dataframe (order does not matter)\n",
    "\n",
    "    k: number of recommendations'''\n",
    "\n",
    "    if len(market_list) > k:\n",
    "        market_list = market_list[:k]\n",
    "    \n",
    "    score = 0.0\n",
    "    num_hits = 0.0\n",
    "  \n",
    "    for i, p in enumerate(market_list):\n",
    "        if p in test_list:\n",
    "          num_hits += 1.0\n",
    "          score += num_hits / (i + 1.0)\n",
    "\n",
    "    return score / len(test_list)"
   ]
  }
 ],
 "metadata": {
  "kernelspec": {
   "display_name": "Python 3",
   "language": "python",
   "name": "python3"
  },
  "language_info": {
   "codemirror_mode": {
    "name": "ipython",
    "version": 3
   },
   "file_extension": ".py",
   "mimetype": "text/x-python",
   "name": "python",
   "nbconvert_exporter": "python",
   "pygments_lexer": "ipython3",
   "version": "3.7.3"
  }
 },
 "nbformat": 4,
 "nbformat_minor": 2
}
