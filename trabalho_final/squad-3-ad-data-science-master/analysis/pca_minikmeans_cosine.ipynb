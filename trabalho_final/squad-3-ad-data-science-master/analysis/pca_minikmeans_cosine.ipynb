{
  "nbformat": 4,
  "nbformat_minor": 0,
  "metadata": {
    "colab": {
      "name": "pca_minikmeans_cosine.ipynb",
      "version": "0.3.2",
      "provenance": [],
      "collapsed_sections": [],
      "machine_shape": "hm"
    },
    "kernelspec": {
      "name": "python3",
      "display_name": "Python 3"
    },
    "accelerator": "GPU"
  },
  "cells": [
    {
      "cell_type": "markdown",
      "metadata": {
        "id": "l-T_Rmqf1vMt",
        "colab_type": "text"
      },
      "source": [
        "#**Complete Pipeline**\n",
        "\n",
        "---\n",
        "\n",
        "1. Read datasets\n",
        "2. Drop columns with too many NaN's and object variables \n",
        "3. Treat resting NaNs \n",
        "4. Get Dummies\n",
        "5. Standardize DataFrame\n",
        "6. PCA\n",
        "7. Determine n_clusters\n",
        "8. Run Pipeline \n",
        ">1. Apply MiniBatchKMeans with n=30\n",
        ">2. Filter for shared clusters between Portfolio and Market\n",
        ">3. Calculate cosine similarity between 80% of the portfolio and the filtered market share\n",
        ">4. Return the first k number of recommendations based on the highest cosine similarity score\n",
        "9. Check the average precision score\n"
      ]
    },
    {
      "cell_type": "markdown",
      "metadata": {
        "id": "ctHx4C3Y1mw1",
        "colab_type": "text"
      },
      "source": [
        "### Reading the datasets and importing basic libraries"
      ]
    },
    {
      "cell_type": "code",
      "metadata": {
        "id": "Cih9bNmPf7ar",
        "colab_type": "code",
        "colab": {}
      },
      "source": [
        "import numpy as np\n",
        "import pandas as pd\n",
        "import seaborn as sns\n",
        "import matplotlib.pyplot as plt\n",
        "import os\n",
        "\n",
        "from sklearn.metrics.pairwise import cosine_similarity"
      ],
      "execution_count": 0,
      "outputs": []
    },
    {
      "cell_type": "code",
      "metadata": {
        "id": "rdw40m_fsgqK",
        "colab_type": "code",
        "outputId": "0c969f12-c846-4c0d-cf8d-0041aad94661",
        "colab": {
          "base_uri": "https://localhost:8080/",
          "height": 34
        }
      },
      "source": [
        "from google.colab import drive\n",
        "drive.mount('/content/gdrive')\n",
        "path_market = os.path.join('/content/gdrive/My Drive/datasets_codenation/',\n",
        "                          'estaticos_market.csv')\n",
        "path_portfolio1 = os.path.join('/content/gdrive/My Drive/datasets_codenation/',\n",
        "                          'estaticos_portfolio1.csv')\n",
        "path_portfolio2 = os.path.join('/content/gdrive/My Drive/datasets_codenation/',\n",
        "                          'estaticos_portfolio2.csv')\n",
        "path_portfolio3 = os.path.join('/content/gdrive/My Drive/datasets_codenation/',\n",
        "                          'estaticos_portfolio3.csv')"
      ],
      "execution_count": 43,
      "outputs": [
        {
          "output_type": "stream",
          "text": [
            "Drive already mounted at /content/gdrive; to attempt to forcibly remount, call drive.mount(\"/content/gdrive\", force_remount=True).\n"
          ],
          "name": "stdout"
        }
      ]
    },
    {
      "cell_type": "code",
      "metadata": {
        "id": "em5D5gLxtM5g",
        "colab_type": "code",
        "colab": {}
      },
      "source": [
        "pd.set_option('display.max_rows', 200)\n",
        "pd.set_option('display.max_columns', 200)"
      ],
      "execution_count": 0,
      "outputs": []
    },
    {
      "cell_type": "code",
      "metadata": {
        "id": "5RY1k-PKtrYX",
        "colab_type": "code",
        "colab": {}
      },
      "source": [
        "df_market = pd.read_csv(path_market, index_col=0)\n",
        "df_portfolio1 = pd.read_csv(path_portfolio1, usecols=['id'])\n",
        "df_portfolio2 = pd.read_csv(path_portfolio2, index_col=0)\n",
        "df_portfolio3 = pd.read_csv(path_portfolio3, index_col=0)"
      ],
      "execution_count": 0,
      "outputs": []
    },
    {
      "cell_type": "markdown",
      "metadata": {
        "id": "GIkHvRZo1VN8",
        "colab_type": "text"
      },
      "source": [
        "### Treating NaN's and Standardization"
      ]
    },
    {
      "cell_type": "code",
      "metadata": {
        "id": "OrfY_jIvt_GA",
        "colab_type": "code",
        "colab": {}
      },
      "source": [
        "# Apply threshold for dropping NaNs with more than 60%\n",
        "\n",
        "removed_columns = []\n",
        "null_count = df_market.isna().sum()\n",
        "percent = null_count/df_market.shape[0]\n",
        "for col in df_market.iloc[:, 1:]:\n",
        "    if df_market[col].isna().sum()/df_market[col].shape[0] > 0.6:\n",
        "        removed_columns.append(col)\n",
        "\n",
        "new_columns = list(set(df_market.columns) - set(removed_columns))\n",
        "df_market = df_market.loc[:, new_columns]"
      ],
      "execution_count": 0,
      "outputs": []
    },
    {
      "cell_type": "code",
      "metadata": {
        "id": "MN0bJmT-uD_D",
        "colab_type": "code",
        "colab": {}
      },
      "source": [
        "# Splitting between ID and variables\n",
        "df_id = df_market['id']\n",
        "df_dummy = df_market.drop('id',axis=1)"
      ],
      "execution_count": 0,
      "outputs": []
    },
    {
      "cell_type": "code",
      "metadata": {
        "id": "Jus8LemxvBAB",
        "colab_type": "code",
        "colab": {}
      },
      "source": [
        "# Fix True/False objects\n",
        "df_dummy['fl_passivel_iss'] = df_dummy['fl_passivel_iss'].astype('bool')\n",
        "df_dummy['fl_antt'] = df_dummy['fl_antt'].astype('bool')\n",
        "df_dummy['fl_spa'] = df_dummy['fl_spa'].astype('bool')\n",
        "df_dummy['fl_simples_irregular'] = df_dummy['fl_simples_irregular'].astype('bool')\n",
        "df_dummy['fl_veiculo'] = df_dummy['fl_veiculo'].astype('bool')"
      ],
      "execution_count": 0,
      "outputs": []
    },
    {
      "cell_type": "code",
      "metadata": {
        "id": "ZDcRKg-JvEUh",
        "colab_type": "code",
        "colab": {}
      },
      "source": [
        "# Filling NaNs in the rest of the Dataset\n",
        "\n",
        "df_dummy['empsetorcensitariofaixarendapopulacao'] = df_dummy['empsetorcensitariofaixarendapopulacao'].fillna(\n",
        "    df_dummy['empsetorcensitariofaixarendapopulacao'].mean()) # oreenchendo com a media\n",
        "df_dummy['sg_uf_matriz'] = df_dummy['sg_uf_matriz'].fillna('outro')\n",
        "df_dummy['qt_socios_st_regular'] = df_dummy['qt_socios_st_regular'].fillna(\n",
        "    df_dummy['qt_socios_st_regular'].mean()) \n",
        "df_dummy['empsetorcensitariofaixarendapopulacao'] = df_dummy['empsetorcensitariofaixarendapopulacao'].fillna(\n",
        "    df_dummy['empsetorcensitariofaixarendapopulacao'].median())\n",
        "df_dummy['nm_divisao'] = df_dummy['nm_divisao'].fillna('COMERCIO VAREJISTA')\n",
        "df_dummy['vl_total_veiculos_leves_grupo'] = df_dummy['vl_total_veiculos_leves_grupo'].fillna(0)\n",
        "df_dummy['vl_faturamento_estimado_aux'] = df_dummy['vl_faturamento_estimado_aux'].fillna(\n",
        "    df_dummy['vl_faturamento_estimado_aux'].median())\n",
        "df_dummy['idade_minima_socios'] = df_dummy['idade_minima_socios'].fillna(\n",
        "    df_dummy['idade_minima_socios'].mean())\n",
        "df_dummy['fl_optante_simples'] = df_dummy['fl_optante_simples'].fillna(True) # possui 20mil leituras a mais, o que pode ser uma fonte de erro\n",
        "df_dummy['nm_segmento'] = df_dummy['nm_segmento'].fillna('OUTRAS ATIVIDADES DE SERVICOS')\n",
        "df_dummy['qt_socios_pj'] = df_dummy['qt_socios_pj'].fillna(0) \n",
        "df_dummy['nm_meso_regiao'] = df_dummy['nm_meso_regiao'].fillna('OUTRO') \n",
        "df_dummy['fl_optante_simei'] = df_dummy['fl_optante_simei'].fillna(True) # maioria\n",
        "df_dummy['vl_faturamento_estimado_grupo_aux'] = df_dummy['vl_faturamento_estimado_grupo_aux'].fillna(\n",
        "    df_dummy['vl_faturamento_estimado_grupo_aux'].mean()) # distribuição com muita assimetria\n",
        "df_dummy['de_saude_tributaria'] = df_dummy['de_saude_tributaria'].fillna('VERDE') # assume-se que, ao nao preencher, esta no verde\n",
        "df_dummy['de_saude_rescencia'] = df_dummy['de_saude_rescencia'].fillna('ACIMA DE 1 ANO')\n",
        "df_dummy['idade_maxima_socios'] = df_dummy['idade_maxima_socios'].fillna(df_dummy['idade_maxima_socios'].mean())\n",
        "df_dummy['vl_total_veiculos_pesados_grupo'] = df_dummy['vl_total_veiculos_pesados_grupo'].fillna(0) \n",
        "df_dummy['qt_socios_pf'] = df_dummy['qt_socios_pf'].fillna(df_dummy['qt_socios_pf'].median())\n",
        "df_dummy['qt_socios_masculino'] = df_dummy['qt_socios_masculino'].fillna(\n",
        "    df_dummy['qt_socios_masculino'].median()) # talvez preencher com 0 seja melhor\n",
        "df_dummy['qt_socios'] = df_dummy['qt_socios'].fillna(\n",
        "    df_dummy['qt_socios'].median())\n",
        "df_dummy['de_faixa_faturamento_estimado'] = df_dummy['de_faixa_faturamento_estimado'].fillna(\n",
        "    'DE R$ 81.000,01 A R$ 360.000,00')\n",
        "df_dummy['nm_micro_regiao'] = df_dummy['nm_micro_regiao'].fillna('NAO ESPECIFICADO')\n",
        "df_dummy['idade_media_socios'] = df_dummy['idade_media_socios'].fillna(df_dummy['idade_media_socios'].median())\n",
        "df_dummy['setor'] = df_dummy['setor'].fillna('COMERCIO')\n",
        "df_dummy['nu_meses_rescencia'] = df_dummy['nu_meses_rescencia'].fillna(df_dummy['nu_meses_rescencia'].mean())\n",
        "df_dummy['de_faixa_faturamento_estimado_grupo'] = df_dummy['de_faixa_faturamento_estimado_grupo'].fillna(\n",
        "    'DE R$ 81.000,01 A R$ 360.000,00')\n",
        "df_dummy['de_nivel_atividade'] = df_dummy['de_nivel_atividade'].fillna('MEDIA')\n",
        "df_dummy['dt_situacao'] = df_dummy['dt_situacao'].fillna('2005-11-03')"
      ],
      "execution_count": 0,
      "outputs": []
    },
    {
      "cell_type": "code",
      "metadata": {
        "id": "QKXoZxE3vhtz",
        "colab_type": "code",
        "colab": {}
      },
      "source": [
        "# Define a \"dummyfied\" DataFrame without object columns with too many readings - \"macro\" approach\n",
        "\n",
        "df_new = pd.get_dummies(df_dummy.drop(['nm_micro_regiao','dt_situacao','de_natureza_juridica',\n",
        "                                       'de_ramo','nm_meso_regiao','nm_divisao'],\n",
        "                                      axis=1),sparse=True,drop_first=True)"
      ],
      "execution_count": 0,
      "outputs": []
    },
    {
      "cell_type": "code",
      "metadata": {
        "id": "ug0Bxr04QOFU",
        "colab_type": "code",
        "colab": {}
      },
      "source": [
        "# Standardize all values in the dataset (mean=0, std=1)\n",
        "\n",
        "from sklearn.preprocessing import StandardScaler\n",
        "\n",
        "scaler = StandardScaler()\n",
        "\n",
        "df_scaled = scaler.fit_transform(df_new)"
      ],
      "execution_count": 0,
      "outputs": []
    },
    {
      "cell_type": "code",
      "metadata": {
        "id": "yiB5XHcLTuxJ",
        "colab_type": "code",
        "outputId": "d2c7c63e-3417-4b39-8688-e7d432f64e52",
        "colab": {
          "base_uri": "https://localhost:8080/",
          "height": 34
        }
      },
      "source": [
        "df_scaled.shape"
      ],
      "execution_count": 52,
      "outputs": [
        {
          "output_type": "execute_result",
          "data": {
            "text/plain": [
              "(462298, 133)"
            ]
          },
          "metadata": {
            "tags": []
          },
          "execution_count": 52
        }
      ]
    },
    {
      "cell_type": "markdown",
      "metadata": {
        "id": "71AEgrE31FY5",
        "colab_type": "text"
      },
      "source": [
        "### Principal component analysis"
      ]
    },
    {
      "cell_type": "code",
      "metadata": {
        "id": "Tc2w4YSjQOHs",
        "colab_type": "code",
        "colab": {}
      },
      "source": [
        "from sklearn.decomposition import PCA\n",
        "pca = PCA()\n",
        "pca.fit_transform(df_scaled)\n",
        "ratio = pca.explained_variance_ratio_"
      ],
      "execution_count": 0,
      "outputs": []
    },
    {
      "cell_type": "code",
      "metadata": {
        "id": "FE-b3PR7RLoJ",
        "colab_type": "code",
        "colab": {}
      },
      "source": [
        "counter = 0\n",
        "value = 0\n",
        "\n",
        "while value <= 0.60:\n",
        "  value = np.cumsum(ratio)[counter]\n",
        "  counter += 1\n",
        "num_components = int(counter)"
      ],
      "execution_count": 0,
      "outputs": []
    },
    {
      "cell_type": "code",
      "metadata": {
        "id": "En-KT19mai-l",
        "colab_type": "code",
        "outputId": "f4c6c50b-d41a-43a8-8aea-0801caacda8d",
        "colab": {
          "base_uri": "https://localhost:8080/",
          "height": 269
        }
      },
      "source": [
        "per_var = ratio*100\n",
        "plt.bar(x=range(1,len(per_var)+1), height=per_var)\n",
        "plt.show()"
      ],
      "execution_count": 57,
      "outputs": [
        {
          "output_type": "display_data",
          "data": {
            "image/png": "[encoded data removed]",
            "text/plain": [
              "<Figure size 432x288 with 1 Axes>"
            ]
          },
          "metadata": {
            "tags": []
          }
        }
      ]
    },
    {
      "cell_type": "code",
      "metadata": {
        "id": "3UR7nd2Z2R2u",
        "colab_type": "code",
        "colab": {}
      },
      "source": [
        "df_reduced = pd.DataFrame(PCA(n_components=num_components).fit_transform(df_scaled))"
      ],
      "execution_count": 0,
      "outputs": []
    },
    {
      "cell_type": "markdown",
      "metadata": {
        "id": "ECI3jv1zI24c",
        "colab_type": "text"
      },
      "source": [
        "### Determine number of clusters"
      ]
    },
    {
      "cell_type": "code",
      "metadata": {
        "id": "_5ga47bL2xRH",
        "colab_type": "code",
        "colab": {}
      },
      "source": [
        "from sklearn.cluster import MiniBatchKMeans\n",
        "\n",
        "# Define function to evaluate through the elbow method the optimal number of clusters\n",
        "\n",
        "def mini_kmeans_elbow(number_of_clusters, data):\n",
        "    model = MiniBatchKMeans(n_clusters = number_of_clusters, batch_size=500)\n",
        "    model.fit(data)\n",
        "    return [number_of_clusters, model.inertia_]"
      ],
      "execution_count": 0,
      "outputs": []
    },
    {
      "cell_type": "code",
      "metadata": {
        "id": "j-4ggFtI22ha",
        "colab_type": "code",
        "colab": {}
      },
      "source": [
        "first_approach = []\n",
        "for i in range(1,75):\n",
        "    first_approach.append(mini_kmeans_elbow(i, df_reduced))\n",
        "sns.lineplot(x=pd.DataFrame(first_approach)[0],\n",
        "             y=pd.DataFrame(first_approach)[1])"
      ],
      "execution_count": 0,
      "outputs": []
    },
    {
      "cell_type": "code",
      "metadata": {
        "id": "zYRM1QpA3ETJ",
        "colab_type": "code",
        "outputId": "c51582be-763a-414a-d252-9eb3b16e6e95",
        "colab": {
          "base_uri": "https://localhost:8080/",
          "height": 307
        }
      },
      "source": [
        "sns.lineplot(x=pd.DataFrame(first_approach)[0],\n",
        "             y=pd.DataFrame(first_approach)[1])"
      ],
      "execution_count": 0,
      "outputs": [
        {
          "output_type": "execute_result",
          "data": {
            "text/plain": [
              "<matplotlib.axes._subplots.AxesSubplot at 0x7f6776793be0>"
            ]
          },
          "metadata": {
            "tags": []
          },
          "execution_count": 24
        },
        {
          "output_type": "display_data",
          "data": {
            "image/png": "[encoded data removed]",
            "text/plain": [
              "<Figure size 432x288 with 1 Axes>"
            ]
          },
          "metadata": {
            "tags": []
          }
        }
      ]
    },
    {
      "cell_type": "code",
      "metadata": {
        "id": "-WPX7qKY4YWo",
        "colab_type": "code",
        "outputId": "cbb5969c-6298-4159-930b-b570927603de",
        "colab": {
          "base_uri": "https://localhost:8080/",
          "height": 659
        }
      },
      "source": [
        "from sklearn.cluster import KMeans\n",
        "\n",
        "def kmeans_elbow(number_of_clusters, data):\n",
        "    model = KMeans(n_clusters = number_of_clusters, n_jobs=6)\n",
        "    model.fit(data)\n",
        "    return [number_of_clusters, model.inertia_]\n",
        "\n",
        "#second_approach = []\n",
        "for i in range(40,60):\n",
        "    second_approach.append(kmeans_elbow(i, df_reduced))\n"
      ],
      "execution_count": 0,
      "outputs": [
        {
          "output_type": "stream",
          "text": [
            "/usr/local/lib/python3.6/dist-packages/joblib/externals/loky/process_executor.py:706: UserWarning: A worker stopped while some jobs were given to the executor. This can be caused by a too short worker timeout or by a memory leak.\n",
            "  \"timeout or by a memory leak.\", UserWarning\n",
            "/usr/local/lib/python3.6/dist-packages/joblib/externals/loky/process_executor.py:706: UserWarning: A worker stopped while some jobs were given to the executor. This can be caused by a too short worker timeout or by a memory leak.\n",
            "  \"timeout or by a memory leak.\", UserWarning\n",
            "/usr/local/lib/python3.6/dist-packages/joblib/externals/loky/process_executor.py:706: UserWarning: A worker stopped while some jobs were given to the executor. This can be caused by a too short worker timeout or by a memory leak.\n",
            "  \"timeout or by a memory leak.\", UserWarning\n",
            "/usr/local/lib/python3.6/dist-packages/joblib/externals/loky/process_executor.py:706: UserWarning: A worker stopped while some jobs were given to the executor. This can be caused by a too short worker timeout or by a memory leak.\n",
            "  \"timeout or by a memory leak.\", UserWarning\n",
            "/usr/local/lib/python3.6/dist-packages/joblib/externals/loky/process_executor.py:706: UserWarning: A worker stopped while some jobs were given to the executor. This can be caused by a too short worker timeout or by a memory leak.\n",
            "  \"timeout or by a memory leak.\", UserWarning\n",
            "/usr/local/lib/python3.6/dist-packages/joblib/externals/loky/process_executor.py:706: UserWarning: A worker stopped while some jobs were given to the executor. This can be caused by a too short worker timeout or by a memory leak.\n",
            "  \"timeout or by a memory leak.\", UserWarning\n",
            "/usr/local/lib/python3.6/dist-packages/joblib/externals/loky/process_executor.py:706: UserWarning: A worker stopped while some jobs were given to the executor. This can be caused by a too short worker timeout or by a memory leak.\n",
            "  \"timeout or by a memory leak.\", UserWarning\n",
            "/usr/local/lib/python3.6/dist-packages/joblib/externals/loky/process_executor.py:706: UserWarning: A worker stopped while some jobs were given to the executor. This can be caused by a too short worker timeout or by a memory leak.\n",
            "  \"timeout or by a memory leak.\", UserWarning\n",
            "/usr/local/lib/python3.6/dist-packages/joblib/externals/loky/process_executor.py:706: UserWarning: A worker stopped while some jobs were given to the executor. This can be caused by a too short worker timeout or by a memory leak.\n",
            "  \"timeout or by a memory leak.\", UserWarning\n"
          ],
          "name": "stderr"
        },
        {
          "output_type": "error",
          "ename": "KeyboardInterrupt",
          "evalue": "ignored",
          "traceback": [
            "\u001b[0;31m---------------------------------------------------------------------------\u001b[0m",
            "\u001b[0;31mKeyboardInterrupt\u001b[0m                         Traceback (most recent call last)",
            "\u001b[0;32m<ipython-input-45-072987b7789a>\u001b[0m in \u001b[0;36m<module>\u001b[0;34m()\u001b[0m\n\u001b[1;32m      8\u001b[0m \u001b[0;31m#second_approach = []\u001b[0m\u001b[0;34m\u001b[0m\u001b[0;34m\u001b[0m\u001b[0;34m\u001b[0m\u001b[0m\n\u001b[1;32m      9\u001b[0m \u001b[0;32mfor\u001b[0m \u001b[0mi\u001b[0m \u001b[0;32min\u001b[0m \u001b[0mrange\u001b[0m\u001b[0;34m(\u001b[0m\u001b[0;36m40\u001b[0m\u001b[0;34m,\u001b[0m\u001b[0;36m60\u001b[0m\u001b[0;34m)\u001b[0m\u001b[0;34m:\u001b[0m\u001b[0;34m\u001b[0m\u001b[0;34m\u001b[0m\u001b[0m\n\u001b[0;32m---> 10\u001b[0;31m     \u001b[0msecond_approach\u001b[0m\u001b[0;34m.\u001b[0m\u001b[0mappend\u001b[0m\u001b[0;34m(\u001b[0m\u001b[0mkmeans_elbow\u001b[0m\u001b[0;34m(\u001b[0m\u001b[0mi\u001b[0m\u001b[0;34m,\u001b[0m \u001b[0mdf_reduced\u001b[0m\u001b[0;34m)\u001b[0m\u001b[0;34m)\u001b[0m\u001b[0;34m\u001b[0m\u001b[0;34m\u001b[0m\u001b[0m\n\u001b[0m",
            "\u001b[0;32m<ipython-input-45-072987b7789a>\u001b[0m in \u001b[0;36mkmeans_elbow\u001b[0;34m(number_of_clusters, data)\u001b[0m\n\u001b[1;32m      2\u001b[0m \u001b[0;32mdef\u001b[0m \u001b[0mkmeans_elbow\u001b[0m\u001b[0;34m(\u001b[0m\u001b[0mnumber_of_clusters\u001b[0m\u001b[0;34m,\u001b[0m \u001b[0mdata\u001b[0m\u001b[0;34m)\u001b[0m\u001b[0;34m:\u001b[0m\u001b[0;34m\u001b[0m\u001b[0;34m\u001b[0m\u001b[0m\n\u001b[1;32m      3\u001b[0m     \u001b[0mmodel\u001b[0m \u001b[0;34m=\u001b[0m \u001b[0mKMeans\u001b[0m\u001b[0;34m(\u001b[0m\u001b[0mn_clusters\u001b[0m \u001b[0;34m=\u001b[0m \u001b[0mnumber_of_clusters\u001b[0m\u001b[0;34m,\u001b[0m \u001b[0mn_jobs\u001b[0m\u001b[0;34m=\u001b[0m\u001b[0;36m6\u001b[0m\u001b[0;34m)\u001b[0m\u001b[0;34m\u001b[0m\u001b[0;34m\u001b[0m\u001b[0m\n\u001b[0;32m----> 4\u001b[0;31m     \u001b[0mmodel\u001b[0m\u001b[0;34m.\u001b[0m\u001b[0mfit\u001b[0m\u001b[0;34m(\u001b[0m\u001b[0mdata\u001b[0m\u001b[0;34m)\u001b[0m\u001b[0;34m\u001b[0m\u001b[0;34m\u001b[0m\u001b[0m\n\u001b[0m\u001b[1;32m      5\u001b[0m     \u001b[0;32mreturn\u001b[0m \u001b[0;34m[\u001b[0m\u001b[0mnumber_of_clusters\u001b[0m\u001b[0;34m,\u001b[0m \u001b[0mmodel\u001b[0m\u001b[0;34m.\u001b[0m\u001b[0minertia_\u001b[0m\u001b[0;34m]\u001b[0m\u001b[0;34m\u001b[0m\u001b[0;34m\u001b[0m\u001b[0m\n\u001b[1;32m      6\u001b[0m \u001b[0;34m\u001b[0m\u001b[0m\n",
            "\u001b[0;32m/usr/local/lib/python3.6/dist-packages/sklearn/cluster/k_means_.py\u001b[0m in \u001b[0;36mfit\u001b[0;34m(self, X, y, sample_weight)\u001b[0m\n\u001b[1;32m    970\u001b[0m                 \u001b[0mtol\u001b[0m\u001b[0;34m=\u001b[0m\u001b[0mself\u001b[0m\u001b[0;34m.\u001b[0m\u001b[0mtol\u001b[0m\u001b[0;34m,\u001b[0m \u001b[0mrandom_state\u001b[0m\u001b[0;34m=\u001b[0m\u001b[0mrandom_state\u001b[0m\u001b[0;34m,\u001b[0m \u001b[0mcopy_x\u001b[0m\u001b[0;34m=\u001b[0m\u001b[0mself\u001b[0m\u001b[0;34m.\u001b[0m\u001b[0mcopy_x\u001b[0m\u001b[0;34m,\u001b[0m\u001b[0;34m\u001b[0m\u001b[0;34m\u001b[0m\u001b[0m\n\u001b[1;32m    971\u001b[0m                 \u001b[0mn_jobs\u001b[0m\u001b[0;34m=\u001b[0m\u001b[0mself\u001b[0m\u001b[0;34m.\u001b[0m\u001b[0mn_jobs\u001b[0m\u001b[0;34m,\u001b[0m \u001b[0malgorithm\u001b[0m\u001b[0;34m=\u001b[0m\u001b[0mself\u001b[0m\u001b[0;34m.\u001b[0m\u001b[0malgorithm\u001b[0m\u001b[0;34m,\u001b[0m\u001b[0;34m\u001b[0m\u001b[0;34m\u001b[0m\u001b[0m\n\u001b[0;32m--> 972\u001b[0;31m                 return_n_iter=True)\n\u001b[0m\u001b[1;32m    973\u001b[0m         \u001b[0;32mreturn\u001b[0m \u001b[0mself\u001b[0m\u001b[0;34m\u001b[0m\u001b[0;34m\u001b[0m\u001b[0m\n\u001b[1;32m    974\u001b[0m \u001b[0;34m\u001b[0m\u001b[0m\n",
            "\u001b[0;32m/usr/local/lib/python3.6/dist-packages/sklearn/cluster/k_means_.py\u001b[0m in \u001b[0;36mk_means\u001b[0;34m(X, n_clusters, sample_weight, init, precompute_distances, n_init, max_iter, verbose, tol, random_state, copy_x, n_jobs, algorithm, return_n_iter)\u001b[0m\n\u001b[1;32m    397\u001b[0m                                    \u001b[0;31m# Change seed to ensure variety\u001b[0m\u001b[0;34m\u001b[0m\u001b[0;34m\u001b[0m\u001b[0;34m\u001b[0m\u001b[0m\n\u001b[1;32m    398\u001b[0m                                    random_state=seed)\n\u001b[0;32m--> 399\u001b[0;31m             for seed in seeds)\n\u001b[0m\u001b[1;32m    400\u001b[0m         \u001b[0;31m# Get results with the lowest inertia\u001b[0m\u001b[0;34m\u001b[0m\u001b[0;34m\u001b[0m\u001b[0;34m\u001b[0m\u001b[0m\n\u001b[1;32m    401\u001b[0m         \u001b[0mlabels\u001b[0m\u001b[0;34m,\u001b[0m \u001b[0minertia\u001b[0m\u001b[0;34m,\u001b[0m \u001b[0mcenters\u001b[0m\u001b[0;34m,\u001b[0m \u001b[0mn_iters\u001b[0m \u001b[0;34m=\u001b[0m \u001b[0mzip\u001b[0m\u001b[0;34m(\u001b[0m\u001b[0;34m*\u001b[0m\u001b[0mresults\u001b[0m\u001b[0;34m)\u001b[0m\u001b[0;34m\u001b[0m\u001b[0;34m\u001b[0m\u001b[0m\n",
            "\u001b[0;32m/usr/local/lib/python3.6/dist-packages/joblib/parallel.py\u001b[0m in \u001b[0;36m__call__\u001b[0;34m(self, iterable)\u001b[0m\n\u001b[1;32m    932\u001b[0m \u001b[0;34m\u001b[0m\u001b[0m\n\u001b[1;32m    933\u001b[0m             \u001b[0;32mwith\u001b[0m \u001b[0mself\u001b[0m\u001b[0;34m.\u001b[0m\u001b[0m_backend\u001b[0m\u001b[0;34m.\u001b[0m\u001b[0mretrieval_context\u001b[0m\u001b[0;34m(\u001b[0m\u001b[0;34m)\u001b[0m\u001b[0;34m:\u001b[0m\u001b[0;34m\u001b[0m\u001b[0;34m\u001b[0m\u001b[0m\n\u001b[0;32m--> 934\u001b[0;31m                 \u001b[0mself\u001b[0m\u001b[0;34m.\u001b[0m\u001b[0mretrieve\u001b[0m\u001b[0;34m(\u001b[0m\u001b[0;34m)\u001b[0m\u001b[0;34m\u001b[0m\u001b[0;34m\u001b[0m\u001b[0m\n\u001b[0m\u001b[1;32m    935\u001b[0m             \u001b[0;31m# Make sure that we get a last message telling us we are done\u001b[0m\u001b[0;34m\u001b[0m\u001b[0;34m\u001b[0m\u001b[0;34m\u001b[0m\u001b[0m\n\u001b[1;32m    936\u001b[0m             \u001b[0melapsed_time\u001b[0m \u001b[0;34m=\u001b[0m \u001b[0mtime\u001b[0m\u001b[0;34m.\u001b[0m\u001b[0mtime\u001b[0m\u001b[0;34m(\u001b[0m\u001b[0;34m)\u001b[0m \u001b[0;34m-\u001b[0m \u001b[0mself\u001b[0m\u001b[0;34m.\u001b[0m\u001b[0m_start_time\u001b[0m\u001b[0;34m\u001b[0m\u001b[0;34m\u001b[0m\u001b[0m\n",
            "\u001b[0;32m/usr/local/lib/python3.6/dist-packages/joblib/parallel.py\u001b[0m in \u001b[0;36mretrieve\u001b[0;34m(self)\u001b[0m\n\u001b[1;32m    831\u001b[0m             \u001b[0;32mtry\u001b[0m\u001b[0;34m:\u001b[0m\u001b[0;34m\u001b[0m\u001b[0;34m\u001b[0m\u001b[0m\n\u001b[1;32m    832\u001b[0m                 \u001b[0;32mif\u001b[0m \u001b[0mgetattr\u001b[0m\u001b[0;34m(\u001b[0m\u001b[0mself\u001b[0m\u001b[0;34m.\u001b[0m\u001b[0m_backend\u001b[0m\u001b[0;34m,\u001b[0m \u001b[0;34m'supports_timeout'\u001b[0m\u001b[0;34m,\u001b[0m \u001b[0;32mFalse\u001b[0m\u001b[0;34m)\u001b[0m\u001b[0;34m:\u001b[0m\u001b[0;34m\u001b[0m\u001b[0;34m\u001b[0m\u001b[0m\n\u001b[0;32m--> 833\u001b[0;31m                     \u001b[0mself\u001b[0m\u001b[0;34m.\u001b[0m\u001b[0m_output\u001b[0m\u001b[0;34m.\u001b[0m\u001b[0mextend\u001b[0m\u001b[0;34m(\u001b[0m\u001b[0mjob\u001b[0m\u001b[0;34m.\u001b[0m\u001b[0mget\u001b[0m\u001b[0;34m(\u001b[0m\u001b[0mtimeout\u001b[0m\u001b[0;34m=\u001b[0m\u001b[0mself\u001b[0m\u001b[0;34m.\u001b[0m\u001b[0mtimeout\u001b[0m\u001b[0;34m)\u001b[0m\u001b[0;34m)\u001b[0m\u001b[0;34m\u001b[0m\u001b[0;34m\u001b[0m\u001b[0m\n\u001b[0m\u001b[1;32m    834\u001b[0m                 \u001b[0;32melse\u001b[0m\u001b[0;34m:\u001b[0m\u001b[0;34m\u001b[0m\u001b[0;34m\u001b[0m\u001b[0m\n\u001b[1;32m    835\u001b[0m                     \u001b[0mself\u001b[0m\u001b[0;34m.\u001b[0m\u001b[0m_output\u001b[0m\u001b[0;34m.\u001b[0m\u001b[0mextend\u001b[0m\u001b[0;34m(\u001b[0m\u001b[0mjob\u001b[0m\u001b[0;34m.\u001b[0m\u001b[0mget\u001b[0m\u001b[0;34m(\u001b[0m\u001b[0;34m)\u001b[0m\u001b[0;34m)\u001b[0m\u001b[0;34m\u001b[0m\u001b[0;34m\u001b[0m\u001b[0m\n",
            "\u001b[0;32m/usr/local/lib/python3.6/dist-packages/joblib/_parallel_backends.py\u001b[0m in \u001b[0;36mwrap_future_result\u001b[0;34m(future, timeout)\u001b[0m\n\u001b[1;32m    519\u001b[0m         AsyncResults.get from multiprocessing.\"\"\"\n\u001b[1;32m    520\u001b[0m         \u001b[0;32mtry\u001b[0m\u001b[0;34m:\u001b[0m\u001b[0;34m\u001b[0m\u001b[0;34m\u001b[0m\u001b[0m\n\u001b[0;32m--> 521\u001b[0;31m             \u001b[0;32mreturn\u001b[0m \u001b[0mfuture\u001b[0m\u001b[0;34m.\u001b[0m\u001b[0mresult\u001b[0m\u001b[0;34m(\u001b[0m\u001b[0mtimeout\u001b[0m\u001b[0;34m=\u001b[0m\u001b[0mtimeout\u001b[0m\u001b[0;34m)\u001b[0m\u001b[0;34m\u001b[0m\u001b[0;34m\u001b[0m\u001b[0m\n\u001b[0m\u001b[1;32m    522\u001b[0m         \u001b[0;32mexcept\u001b[0m \u001b[0mLokyTimeoutError\u001b[0m\u001b[0;34m:\u001b[0m\u001b[0;34m\u001b[0m\u001b[0;34m\u001b[0m\u001b[0m\n\u001b[1;32m    523\u001b[0m             \u001b[0;32mraise\u001b[0m \u001b[0mTimeoutError\u001b[0m\u001b[0;34m(\u001b[0m\u001b[0;34m)\u001b[0m\u001b[0;34m\u001b[0m\u001b[0;34m\u001b[0m\u001b[0m\n",
            "\u001b[0;32m/usr/lib/python3.6/concurrent/futures/_base.py\u001b[0m in \u001b[0;36mresult\u001b[0;34m(self, timeout)\u001b[0m\n\u001b[1;32m    425\u001b[0m                 \u001b[0;32mreturn\u001b[0m \u001b[0mself\u001b[0m\u001b[0;34m.\u001b[0m\u001b[0m__get_result\u001b[0m\u001b[0;34m(\u001b[0m\u001b[0;34m)\u001b[0m\u001b[0;34m\u001b[0m\u001b[0;34m\u001b[0m\u001b[0m\n\u001b[1;32m    426\u001b[0m \u001b[0;34m\u001b[0m\u001b[0m\n\u001b[0;32m--> 427\u001b[0;31m             \u001b[0mself\u001b[0m\u001b[0;34m.\u001b[0m\u001b[0m_condition\u001b[0m\u001b[0;34m.\u001b[0m\u001b[0mwait\u001b[0m\u001b[0;34m(\u001b[0m\u001b[0mtimeout\u001b[0m\u001b[0;34m)\u001b[0m\u001b[0;34m\u001b[0m\u001b[0;34m\u001b[0m\u001b[0m\n\u001b[0m\u001b[1;32m    428\u001b[0m \u001b[0;34m\u001b[0m\u001b[0m\n\u001b[1;32m    429\u001b[0m             \u001b[0;32mif\u001b[0m \u001b[0mself\u001b[0m\u001b[0;34m.\u001b[0m\u001b[0m_state\u001b[0m \u001b[0;32min\u001b[0m \u001b[0;34m[\u001b[0m\u001b[0mCANCELLED\u001b[0m\u001b[0;34m,\u001b[0m \u001b[0mCANCELLED_AND_NOTIFIED\u001b[0m\u001b[0;34m]\u001b[0m\u001b[0;34m:\u001b[0m\u001b[0;34m\u001b[0m\u001b[0;34m\u001b[0m\u001b[0m\n",
            "\u001b[0;32m/usr/lib/python3.6/threading.py\u001b[0m in \u001b[0;36mwait\u001b[0;34m(self, timeout)\u001b[0m\n\u001b[1;32m    293\u001b[0m         \u001b[0;32mtry\u001b[0m\u001b[0;34m:\u001b[0m    \u001b[0;31m# restore state no matter what (e.g., KeyboardInterrupt)\u001b[0m\u001b[0;34m\u001b[0m\u001b[0;34m\u001b[0m\u001b[0m\n\u001b[1;32m    294\u001b[0m             \u001b[0;32mif\u001b[0m \u001b[0mtimeout\u001b[0m \u001b[0;32mis\u001b[0m \u001b[0;32mNone\u001b[0m\u001b[0;34m:\u001b[0m\u001b[0;34m\u001b[0m\u001b[0;34m\u001b[0m\u001b[0m\n\u001b[0;32m--> 295\u001b[0;31m                 \u001b[0mwaiter\u001b[0m\u001b[0;34m.\u001b[0m\u001b[0macquire\u001b[0m\u001b[0;34m(\u001b[0m\u001b[0;34m)\u001b[0m\u001b[0;34m\u001b[0m\u001b[0;34m\u001b[0m\u001b[0m\n\u001b[0m\u001b[1;32m    296\u001b[0m                 \u001b[0mgotit\u001b[0m \u001b[0;34m=\u001b[0m \u001b[0;32mTrue\u001b[0m\u001b[0;34m\u001b[0m\u001b[0;34m\u001b[0m\u001b[0m\n\u001b[1;32m    297\u001b[0m             \u001b[0;32melse\u001b[0m\u001b[0;34m:\u001b[0m\u001b[0;34m\u001b[0m\u001b[0;34m\u001b[0m\u001b[0m\n",
            "\u001b[0;31mKeyboardInterrupt\u001b[0m: "
          ]
        }
      ]
    },
    {
      "cell_type": "code",
      "metadata": {
        "id": "u6C2vcoE-x8r",
        "colab_type": "code",
        "outputId": "2ab6a6cf-9d2c-4165-ed7c-892a485fa0d2",
        "colab": {
          "base_uri": "https://localhost:8080/",
          "height": 308
        }
      },
      "source": [
        "elbow_check = pd.DataFrame({'n_clusters':np.array(second_approach)[:,0],\n",
        "                            'inertia':np.array(second_approach)[:,1]})\n",
        "\n",
        "sns.lineplot(x='n_clusters',\n",
        "             y='inertia',\n",
        "            data=elbow_check)"
      ],
      "execution_count": 0,
      "outputs": [
        {
          "output_type": "execute_result",
          "data": {
            "text/plain": [
              "<matplotlib.axes._subplots.AxesSubplot at 0x7f78d63796a0>"
            ]
          },
          "metadata": {
            "tags": []
          },
          "execution_count": 46
        },
        {
          "output_type": "display_data",
          "data": {
            "image/png": "[encoded data removed]",
            "text/plain": [
              "<Figure size 432x288 with 1 Axes>"
            ]
          },
          "metadata": {
            "tags": []
          }
        }
      ]
    },
    {
      "cell_type": "code",
      "metadata": {
        "id": "V9KukTXFHzKs",
        "colab_type": "code",
        "outputId": "dd0ec227-c435-41a6-ac0d-c0a2f4f498e3",
        "colab": {
          "base_uri": "https://localhost:8080/",
          "height": 974
        }
      },
      "source": [
        "for i in range(len(elbow_check)-1):\n",
        "  print(round((elbow_check['inertia'][i+1]-elbow_check['inertia'][i])/elbow_check['inertia'][i]*100,2),i+1)"
      ],
      "execution_count": 0,
      "outputs": [
        {
          "output_type": "stream",
          "text": [
            "-7.3 1\n",
            "-4.87 2\n",
            "-7.1 3\n",
            "-3.8 4\n",
            "-5.45 5\n",
            "-3.38 6\n",
            "-3.16 7\n",
            "-2.17 8\n",
            "-1.33 9\n",
            "-3.49 10\n",
            "-2.05 11\n",
            "-1.27 12\n",
            "-2.76 13\n",
            "-0.72 14\n",
            "-2.76 15\n",
            "-1.95 16\n",
            "-2.84 17\n",
            "-1.54 18\n",
            "-0.12 19\n",
            "-2.98 20\n",
            "-1.32 21\n",
            "-1.5 22\n",
            "-0.43 23\n",
            "-2.5 24\n",
            "0.56 25\n",
            "-3.66 26\n",
            "0.28 27\n",
            "-3.2 28\n",
            "1.24 29\n",
            "-3.77 30\n",
            "0.03 31\n",
            "-1.93 32\n",
            "0.51 33\n",
            "-1.93 34\n",
            "-1.73 35\n",
            "-0.58 36\n",
            "-2.29 37\n",
            "-1.26 38\n",
            "-0.95 39\n",
            "-0.47 40\n",
            "-1.34 41\n",
            "0.19 42\n",
            "-2.1 43\n",
            "-0.08 44\n",
            "-0.53 45\n",
            "-2.1 46\n",
            "0.12 47\n",
            "-1.87 48\n",
            "0.13 49\n",
            "-0.71 50\n",
            "-0.21 51\n",
            "-1.22 52\n",
            "0.18 53\n",
            "-2.19 54\n",
            "-0.54 55\n",
            "-0.54 56\n",
            "-0.42 57\n"
          ],
          "name": "stdout"
        }
      ]
    },
    {
      "cell_type": "code",
      "metadata": {
        "id": "WujPdtsHqCO4",
        "colab_type": "code",
        "colab": {}
      },
      "source": [
        ""
      ],
      "execution_count": 0,
      "outputs": []
    },
    {
      "cell_type": "markdown",
      "metadata": {
        "id": "19rETi_FqC8n",
        "colab_type": "text"
      },
      "source": [
        "### Pipeline with n_clusters = 30"
      ]
    },
    {
      "cell_type": "code",
      "metadata": {
        "id": "LbJuDXQ32rBB",
        "colab_type": "code",
        "outputId": "642d06c3-a6bb-458e-bf5c-afa29e9d3ca3",
        "colab": {
          "base_uri": "https://localhost:8080/",
          "height": 89
        }
      },
      "source": [
        "# KERNEL CRASHING WHEN SPECIFYING N_COMP = 30!  \n",
        "\n",
        "from sklearn.mixture import BayesianGaussianMixture\n",
        "import time\n",
        "start_time = time.time()\n",
        "def bayesiangm(data):\n",
        "  bgm = BayesianGaussianMixture(n_components=10)\n",
        "  b_labels = bgm.fit_predict(data)\n",
        "  return b_labels  \n",
        "\n",
        "b_labels = bayesiangm(df_reduced)\n",
        "elapsed_time = time.time() - start_time\n",
        "elapsed_time\n",
        " "
      ],
      "execution_count": 186,
      "outputs": [
        {
          "output_type": "stream",
          "text": [
            "/usr/local/lib/python3.6/dist-packages/sklearn/mixture/base.py:265: ConvergenceWarning: Initialization 1 did not converge. Try different init parameters, or increase max_iter, tol or check for degenerate data.\n",
            "  % (init + 1), ConvergenceWarning)\n"
          ],
          "name": "stderr"
        },
        {
          "output_type": "execute_result",
          "data": {
            "text/plain": [
              "558.0606319904327"
            ]
          },
          "metadata": {
            "tags": []
          },
          "execution_count": 186
        }
      ]
    },
    {
      "cell_type": "code",
      "metadata": {
        "id": "xO_cR_UCvVGL",
        "colab_type": "code",
        "colab": {
          "base_uri": "https://localhost:8080/",
          "height": 52
        },
        "outputId": "54708244-c71b-48c7-8720-6c4faf9c67f2"
      },
      "source": [
        "pd.DataFrame(b_labels).nunique()"
      ],
      "execution_count": 187,
      "outputs": [
        {
          "output_type": "execute_result",
          "data": {
            "text/plain": [
              "0    10\n",
              "dtype: int64"
            ]
          },
          "metadata": {
            "tags": []
          },
          "execution_count": 187
        }
      ]
    },
    {
      "cell_type": "code",
      "metadata": {
        "id": "4-bRxWf8MydG",
        "colab_type": "code",
        "outputId": "03460581-cf6a-4695-d269-35ed80ebbeff",
        "colab": {
          "base_uri": "https://localhost:8080/",
          "height": 34
        }
      },
      "source": [
        "import time\n",
        "from sklearn.cluster import MiniBatchKMeans\n",
        "start_time = time.time()\n",
        "def mini_kmeans(number_of_clusters, data):\n",
        "    model = MiniBatchKMeans(n_clusters = number_of_clusters, batch_size=500)\n",
        "    labels = model.fit_predict(data)\n",
        "    distance = model.transform(data)\n",
        "    return labels, distance\n",
        "mk_labels, mk_distance = mini_kmeans(30,df_reduced)\n",
        "\n",
        "elapsed_time = time.time() - start_time\n",
        "elapsed_time"
      ],
      "execution_count": 59,
      "outputs": [
        {
          "output_type": "execute_result",
          "data": {
            "text/plain": [
              "1.3410942554473877"
            ]
          },
          "metadata": {
            "tags": []
          },
          "execution_count": 59
        }
      ]
    },
    {
      "cell_type": "code",
      "metadata": {
        "id": "ctdv3ITzOoVq",
        "colab_type": "code",
        "colab": {}
      },
      "source": [
        "df_reduced['labels'] = mk_labels"
      ],
      "execution_count": 0,
      "outputs": []
    },
    {
      "cell_type": "code",
      "metadata": {
        "id": "xIbb5hiUvkJI",
        "colab_type": "code",
        "outputId": "e538175c-4430-4b25-e3b4-5bad6840de95",
        "colab": {
          "base_uri": "https://localhost:8080/",
          "height": 555
        }
      },
      "source": [
        "df_reduced['labels'].value_counts()"
      ],
      "execution_count": 61,
      "outputs": [
        {
          "output_type": "execute_result",
          "data": {
            "text/plain": [
              "3     39048\n",
              "2     33047\n",
              "15    29632\n",
              "9     28926\n",
              "0     26965\n",
              "11    26780\n",
              "28    24207\n",
              "10    23343\n",
              "1     21806\n",
              "25    21197\n",
              "20    21194\n",
              "19    20502\n",
              "12    19189\n",
              "24    16726\n",
              "26    14451\n",
              "16    13939\n",
              "7     13211\n",
              "13    12503\n",
              "17    11804\n",
              "8     10595\n",
              "14     9677\n",
              "18     5445\n",
              "4      4347\n",
              "22     3954\n",
              "23     3189\n",
              "21     2061\n",
              "6      1927\n",
              "27     1696\n",
              "5       511\n",
              "29      426\n",
              "Name: labels, dtype: int64"
            ]
          },
          "metadata": {
            "tags": []
          },
          "execution_count": 61
        }
      ]
    },
    {
      "cell_type": "code",
      "metadata": {
        "id": "6wS8bR6GKrDF",
        "colab_type": "code",
        "colab": {}
      },
      "source": [
        "X = pd.concat([df_id,df_reduced], axis='columns')"
      ],
      "execution_count": 0,
      "outputs": []
    },
    {
      "cell_type": "code",
      "metadata": {
        "id": "GPguY_aORZHE",
        "colab_type": "code",
        "outputId": "a86f9dbb-973d-45e4-9df0-7dbdd8380ca5",
        "colab": {
          "base_uri": "https://localhost:8080/",
          "height": 139
        }
      },
      "source": [
        "# portfolio 1 information\n",
        "\n",
        "pf1_filled = X[X['id'].isin(df_portfolio1['id'].values)]\n",
        "\n",
        "# part of the market that shares the same clusters\n",
        "pf1_out = X.loc[X['labels'].isin(list(pf1_filled['labels'].unique()))]\n",
        "\n",
        "# customer that are not yet on the company's portfolio\n",
        "sample = pf1_filled.sample(frac=0.8, random_state=42)\n",
        "\n",
        "pf1_rec = pf1_out.loc[~pf1_out['id'].isin(sample['id'])]\n",
        "\n",
        "cosine_sim = cosine_similarity(pf1_rec.drop(['id'],axis='columns'),sample.drop(['id'],axis='columns'))\n",
        "cosine_sim = np.amax(cosine_sim, axis=1)\n",
        "\n",
        "pf1_rec['score'] = cosine_sim\n",
        "\n",
        "# list of new leads to recommend\n",
        "\n",
        "new_leads = 10000\n",
        "\n",
        "recommendations = pd.DataFrame((pf1_rec.sort_values('score', ascending=False)[:new_leads])['id'])\n",
        "\n",
        "(recommendations['id'].isin(pf1_filled['id'])*1).sum() / (len(pf1_filled)-len(sample)) *100"
      ],
      "execution_count": 177,
      "outputs": [
        {
          "output_type": "stream",
          "text": [
            "/usr/local/lib/python3.6/dist-packages/ipykernel_launcher.py:16: SettingWithCopyWarning: \n",
            "A value is trying to be set on a copy of a slice from a DataFrame.\n",
            "Try using .loc[row_indexer,col_indexer] = value instead\n",
            "\n",
            "See the caveats in the documentation: http://pandas.pydata.org/pandas-docs/stable/indexing.html#indexing-view-versus-copy\n",
            "  app.launch_new_instance()\n"
          ],
          "name": "stderr"
        },
        {
          "output_type": "execute_result",
          "data": {
            "text/plain": [
              "5"
            ]
          },
          "metadata": {
            "tags": []
          },
          "execution_count": 177
        }
      ]
    },
    {
      "cell_type": "code",
      "metadata": {
        "id": "lm3KX9A8SBa_",
        "colab_type": "code",
        "outputId": "5dcda047-f0cd-46ec-b229-f871f2d9c689",
        "colab": {
          "base_uri": "https://localhost:8080/",
          "height": 139
        }
      },
      "source": [
        "# portfolio 2 information\n",
        "\n",
        "pf2_filled = X[X['id'].isin(df_portfolio2['id'].values)]\n",
        "\n",
        "# part of the market that shares the same clusters\n",
        "pf2_out = X.loc[X['labels'].isin(list(pf2_filled['labels'].unique()))]\n",
        "\n",
        "# customer that are not yet on the company's portfolio\n",
        "sample2 = pf2_filled.sample(frac=0.8, random_state=42)\n",
        "\n",
        "\n",
        "pf2_rec = pf2_out.loc[~pf2_out['id'].isin(sample2['id'])]\n",
        "\n",
        "cosine_sim = cosine_similarity(pf2_rec.drop(['id'],axis='columns'),sample2.drop(['id'],axis='columns'))\n",
        "cosine_sim = np.amax(cosine_sim, axis=1)\n",
        "\n",
        "pf2_rec['score'] = cosine_sim\n",
        "\n",
        "# list of new leads to recommend\n",
        "\n",
        "new_leads = 1000\n",
        "\n",
        "recommendations2 = pd.DataFrame((pf2_rec.sort_values('score', ascending=False)[:new_leads])['id'])\n",
        "\n",
        "(recommendations2['id'].isin(pf2_filled['id'])*1).sum() / (len(pf2_filled)-len(sample2)) *100"
      ],
      "execution_count": 178,
      "outputs": [
        {
          "output_type": "stream",
          "text": [
            "/usr/local/lib/python3.6/dist-packages/ipykernel_launcher.py:16: SettingWithCopyWarning: \n",
            "A value is trying to be set on a copy of a slice from a DataFrame.\n",
            "Try using .loc[row_indexer,col_indexer] = value instead\n",
            "\n",
            "See the caveats in the documentation: http://pandas.pydata.org/pandas-docs/stable/indexing.html#indexing-view-versus-copy\n",
            "  app.launch_new_instance()\n"
          ],
          "name": "stderr"
        },
        {
          "output_type": "execute_result",
          "data": {
            "text/plain": [
              "74.33628318584071"
            ]
          },
          "metadata": {
            "tags": []
          },
          "execution_count": 178
        }
      ]
    },
    {
      "cell_type": "code",
      "metadata": {
        "id": "kXtihRtKtIZx",
        "colab_type": "code",
        "outputId": "0eb2006a-48ce-4df6-b274-71c2b5376cca",
        "colab": {
          "base_uri": "https://localhost:8080/",
          "height": 139
        }
      },
      "source": [
        "# portfolio 3 information\n",
        "\n",
        "pf3_filled = X[X['id'].isin(df_portfolio3['id'].values)]\n",
        "\n",
        "# part of the market that shares the same clusters\n",
        "pf3_out = X.loc[X['labels'].isin(list(pf3_filled['labels'].unique()))]\n",
        "\n",
        "# customer that are not yet on the company's portfolio\n",
        "sample3 = pf3_filled.sample(frac=0.8, random_state=42)\n",
        "\n",
        "\n",
        "pf3_rec = pf3_out.loc[~pf3_out['id'].isin(sample3['id'])]\n",
        "\n",
        "cosine_sim = cosine_similarity(pf3_rec.drop(['id'],axis='columns'),sample3.drop(['id'],axis='columns'))\n",
        "cosine_sim = np.amax(cosine_sim, axis=1)\n",
        "\n",
        "pf3_rec['score'] = cosine_sim\n",
        "\n",
        "# list of new leads to recommend\n",
        "\n",
        "new_leads = 1000\n",
        "\n",
        "recommendations3 = pd.DataFrame((pf3_rec.sort_values('score', ascending=False)[:new_leads])['id'])\n",
        "\n",
        "(recommendations3['id'].isin(pf3_filled['id'])*1).sum() / (len(pf3_filled)-len(sample3)) *100"
      ],
      "execution_count": 179,
      "outputs": [
        {
          "output_type": "stream",
          "text": [
            "/usr/local/lib/python3.6/dist-packages/ipykernel_launcher.py:16: SettingWithCopyWarning: \n",
            "A value is trying to be set on a copy of a slice from a DataFrame.\n",
            "Try using .loc[row_indexer,col_indexer] = value instead\n",
            "\n",
            "See the caveats in the documentation: http://pandas.pydata.org/pandas-docs/stable/indexing.html#indexing-view-versus-copy\n",
            "  app.launch_new_instance()\n"
          ],
          "name": "stderr"
        },
        {
          "output_type": "execute_result",
          "data": {
            "text/plain": [
              "86.79245283018868"
            ]
          },
          "metadata": {
            "tags": []
          },
          "execution_count": 179
        }
      ]
    },
    {
      "cell_type": "markdown",
      "metadata": {
        "id": "Qxs_eJ-paxV_",
        "colab_type": "text"
      },
      "source": [
        "### Average Precision Evaluation"
      ]
    },
    {
      "cell_type": "code",
      "metadata": {
        "id": "QxZ9ysq4bCj3",
        "colab_type": "code",
        "colab": {}
      },
      "source": [
        "def custom_apk(market_list, test_list, k):\n",
        "    \n",
        "    '''Custom function for the average precision at k - AP@k\n",
        "\n",
        "    market_list: list of ids from all the recommended companies sorted by descending score (order does matter)\n",
        "\n",
        "    test_list: list of ids from all companies in the ~20% test dataframe (order does not matter)\n",
        "\n",
        "    k: number of recommendations'''\n",
        "\n",
        "    if len(market_list) > k:\n",
        "        market_list = market_list[:k]\n",
        "    \n",
        "    score = 0.0\n",
        "    num_hits = 0.0\n",
        "  \n",
        "    for i, p in enumerate(market_list):\n",
        "        if p in test_list:\n",
        "          num_hits += 1.0\n",
        "          score += num_hits / (i + 1.0)\n",
        "\n",
        "    return score / len(test_list)"
      ],
      "execution_count": 0,
      "outputs": []
    },
    {
      "cell_type": "code",
      "metadata": {
        "id": "MfSHqqVGdZWj",
        "colab_type": "code",
        "colab": {}
      },
      "source": [
        "market1 = list(pf1_rec.sort_values('score', ascending=False)['id'])\n",
        "test1 = list(pf1_filled.loc[~pf1_filled['id'].isin(sample['id'])]['id'])\n",
        "\n",
        "onek, fivek, tenk = custom_apk(market1, test1, 1000),custom_apk(market1, test1, 5000),custom_apk(market1, test1, 10000)\n",
        "\n",
        "market2 = list(pf2_rec.sort_values('score', ascending=False)['id'])\n",
        "test2 = list(pf2_filled.loc[~pf2_filled['id'].isin(sample2['id'])]['id'])\n",
        "\n",
        "onek2, fivek2, tenk2 = custom_apk(market2, test2, 1000),custom_apk(market2, test2, 5000),custom_apk(market2, test2, 10000)\n",
        "\n",
        "market3 = list(pf3_rec.sort_values('score', ascending=False)['id'])\n",
        "test3 = list(pf3_filled.loc[~pf3_filled['id'].isin(sample3['id'])]['id'])\n",
        "\n",
        "onek3, fivek3, tenk3 = custom_apk(market3, test3, 1000),custom_apk(market3, test3, 5000),custom_apk(market3, test3, 10000)"
      ],
      "execution_count": 0,
      "outputs": []
    },
    {
      "cell_type": "code",
      "metadata": {
        "id": "LB9Rk9tufvGO",
        "colab_type": "code",
        "colab": {
          "base_uri": "https://localhost:8080/",
          "height": 312
        },
        "outputId": "f7ed399c-3bb5-449d-9dd8-f14c9b1f31a7"
      },
      "source": [
        "print('Portfólio #1')\n",
        "print(' ')\n",
        "print(f'AP@1k: {onek}')\n",
        "print(f'AP@5k: {fivek}')\n",
        "print(f'AP@10k: {tenk}')\n",
        "print(' ')\n",
        "print('Portfólio #2')\n",
        "print(' ')\n",
        "print(f'AP@1k: {onek2}')\n",
        "print(f'AP@5k: {fivek2}')\n",
        "print(f'AP@10k: {tenk2}')\n",
        "print(' ')\n",
        "print('Portfólio #3')\n",
        "print(' ')\n",
        "print(f'AP@1k: {onek3}')\n",
        "print(f'AP@5k: {fivek3}')\n",
        "print(f'AP@10k: {tenk3}')"
      ],
      "execution_count": 182,
      "outputs": [
        {
          "output_type": "stream",
          "text": [
            "Portfólio #1\n",
            " \n",
            "AP@1k: 2.160433815110074e-05\n",
            "AP@5k: 2.5402402657428316e-05\n",
            "AP@10k: 4.0453723023843515e-05\n",
            " \n",
            "Portfólio #2\n",
            " \n",
            "AP@1k: 0.08787222083910907\n",
            "AP@5k: 0.10726233587905107\n",
            "AP@10k: 0.10726233587905107\n",
            " \n",
            "Portfólio #3\n",
            " \n",
            "AP@1k: 0.09766933499622962\n",
            "AP@5k: 0.10169745930264222\n",
            "AP@10k: 0.10169745930264222\n"
          ],
          "name": "stdout"
        }
      ]
    },
    {
      "cell_type": "code",
      "metadata": {
        "id": "sSU2fL3_hsr3",
        "colab_type": "code",
        "colab": {}
      },
      "source": [
        ""
      ],
      "execution_count": 0,
      "outputs": []
    }
  ]
}