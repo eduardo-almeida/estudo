{
 "cells": [
  {
   "cell_type": "code",
   "execution_count": 1,
   "metadata": {},
   "outputs": [],
   "source": [
    "# Importing libs\n",
    "import pandas as pd\n",
    "import seaborn as sns\n",
    "import numpy as np\n",
    "import json\n",
    "import matplotlib.pyplot as plt\n",
    "from sklearn.preprocessing import OneHotEncoder\n",
    "from jinja2 import Template\n",
    "from sklearn.metrics.pairwise import cosine_similarity\n",
    "from sklearn.model_selection import train_test_split\n",
    "from sklearn.preprocessing import StandardScaler\n",
    "from sklearn.cluster import KMeans\n",
    "\n",
    "from IPython.display import display, Markdown"
   ]
  },
  {
   "cell_type": "code",
   "execution_count": 2,
   "metadata": {},
   "outputs": [],
   "source": [
    "# Open dataset\n",
    "\n",
    "data = pd.read_csv('../estaticos_market.csv', index_col=0)"
   ]
  },
  {
   "cell_type": "code",
   "execution_count": 3,
   "metadata": {},
   "outputs": [
    {
     "data": {
      "text/plain": [
       "(460371, 181)"
      ]
     },
     "execution_count": 3,
     "metadata": {},
     "output_type": "execute_result"
    }
   ],
   "source": [
    "# Removing rows where 'de_ramo' == 'OUTROS' to get some full-filled columns for testing\n",
    "\n",
    "data = data.loc[data['de_ramo'] != 'OUTROS']\n",
    "\n",
    "data.shape"
   ]
  },
  {
   "cell_type": "code",
   "execution_count": 4,
   "metadata": {},
   "outputs": [
    {
     "data": {
      "text/plain": [
       "(460371, 28)"
      ]
     },
     "execution_count": 4,
     "metadata": {},
     "output_type": "execute_result"
    }
   ],
   "source": [
    "# Removing columns where exists NaNs\n",
    "\n",
    "removed_columns = []\n",
    "for col in data.iloc[:, 1:]:\n",
    "    if data[col].isna().sum() != 0:\n",
    "        removed_columns.append(col)\n",
    "\n",
    "new_columns = list(set(data.columns) - set(removed_columns))\n",
    "data = data.loc[:, new_columns]\n",
    "\n",
    "data.shape"
   ]
  },
  {
   "cell_type": "code",
   "execution_count": 5,
   "metadata": {},
   "outputs": [
    {
     "data": {
      "text/plain": [
       "Index(['fl_veiculo', 'fl_email', 'fl_simples_irregular', 'fl_telefone',\n",
       "       'fl_passivel_iss', 'de_ramo', 'idade_emp_cat', 'fl_ltda', 'fl_antt',\n",
       "       'fl_rm', 'sg_uf', 'setor', 'id', 'fl_me', 'natureza_juridica_macro',\n",
       "       'vl_total_veiculos_pesados_grupo', 'nm_divisao', 'fl_epp',\n",
       "       'vl_total_veiculos_leves_grupo', 'de_natureza_juridica', 'fl_mei',\n",
       "       'qt_filiais', 'fl_st_especial', 'idade_empresa_anos', 'nm_segmento',\n",
       "       'fl_spa', 'fl_sa', 'fl_matriz'],\n",
       "      dtype='object')"
      ]
     },
     "execution_count": 5,
     "metadata": {},
     "output_type": "execute_result"
    }
   ],
   "source": [
    "data.columns"
   ]
  },
  {
   "cell_type": "code",
   "execution_count": 6,
   "metadata": {},
   "outputs": [
    {
     "name": "stdout",
     "output_type": "stream",
     "text": [
      "fl_veiculo -> boolean, true if the company owns at least one vehicle\n",
      "fl_email -> boolean value, true if the cnpj has an email registered at the IRF database.\n",
      "fl_simples_irregular -> boolean, true if the company is taxed under the SIMPLES regime and has a impeditive CNAE (economic activities that are not allowed to be taxed according to the simples regime) revenue above the limit of the regime.\n",
      "fl_telefone -> boolean value, true if the company has a phone number registered in IRS database.\n",
      "fl_passivel_iss -> boolean, true if the company performs any activity that is taxable under ISS - Tax under services.\n",
      "de_ramo -> description of a macro activity category/branch based on the CNAE code.\n",
      "idade_emp_cat -> character, age of the company by ranges\n",
      "fl_ltda -> boolean value, true if the company has the term 'LTDA' in the end of its legal name.\n",
      "fl_antt -> boolean, true if the company is certified by ANTT for trasnportation purposes\n",
      "fl_rm -> character, true if the company address is located in an metropolitan area.\n",
      "sg_uf -> character, initials of the name of the state of the company.\n",
      "setor -> character, economic sector of the company (Industry, Services, Agrobusiness, Etc.)\n",
      "fl_me -> boolean value, true if the company has the term 'ME' in the end of its legal name.\n",
      "natureza_juridica_macro -> a macro legal category for \"natureza jurídica\".\n",
      "vl_total_veiculos_pesados_grupo -> numeric, economic value of the heavy weight vehicles of the economic group of the company\n",
      "nm_divisao -> character, name description of the primary economic activity of the company\n",
      "fl_epp -> boolean value, true if the company has the term 'EPP' in the end of its legal name.\n",
      "vl_total_veiculos_leves_grupo -> numeric, economic value of the light weight vehicles of the economic group of the company\n",
      "de_natureza_juridica -> character, juridic nature of the company.\n",
      "fl_mei -> boolean value, true if the company has the term 'MEI' in the end of its legal name.\n",
      "qt_filiais -> self-explanatory.\n",
      "fl_st_especial -> boolean value, true if dt_situacao_especial is not null. If it is not null means that some extraordinary situation is identified by the IRS (ESPOLIO DE EMPRESARIO EMPRESA INDIVIDUAL OU EIRELI, FALIDO, EM LIQUIDACAO, LIQUIDACAO JUDICIAL, LIQUIDACAO EXTRA JUDICIAL, REGISTRO NA JUNTA COMERCIAL EM ANDAMENTO, EM LIQUID EXTRA JUDICIAL, RECUPERACAO JUDICIAL, INTERVENCAO)\n",
      "idade_empresa_anos -> numeric value, age of the company.\n",
      "nm_segmento -> character, name description of the primary economic activity cluster of the company\n",
      "fl_spa -> boolean, true if the company has it's own fuel station\n",
      "fl_sa -> boolean value, true if the company has the term 'SA' in the end of its legal name.\n",
      "fl_matriz -> boolean value, `true` if the CNPJ corresponds to the \"matriz\".\n"
     ]
    }
   ],
   "source": [
    "with open('dict.json') as f:\n",
    "    vars_dict = json.load(f)\n",
    "\n",
    "for col in data:\n",
    "    if col == 'id':\n",
    "        continue\n",
    "    print(f'{col} -> {vars_dict[col]}')"
   ]
  },
  {
   "cell_type": "code",
   "execution_count": 7,
   "metadata": {},
   "outputs": [
    {
     "data": {
      "text/plain": [
       "(460371, 26)"
      ]
     },
     "execution_count": 7,
     "metadata": {},
     "output_type": "execute_result"
    }
   ],
   "source": [
    "# Removing features by its description\n",
    "cols_to_remove = [\n",
    "    'fl_telefone', # Se tem número de telefone registrado no db. Acho que da de tirar\n",
    "    'fl_epp', # Isso não varia em nenhuma linha\n",
    "]\n",
    "\n",
    "data = data.loc[:, set(data.columns) - set(cols_to_remove)]\n",
    "\n",
    "data.shape"
   ]
  },
  {
   "cell_type": "code",
   "execution_count": 8,
   "metadata": {},
   "outputs": [
    {
     "data": {
      "text/plain": [
       "(460371, 25)"
      ]
     },
     "execution_count": 8,
     "metadata": {},
     "output_type": "execute_result"
    }
   ],
   "source": [
    "# Make the index as the 'id' columns\n",
    "\n",
    "data.set_index('id', inplace=True)\n",
    "\n",
    "data.shape"
   ]
  },
  {
   "cell_type": "code",
   "execution_count": 9,
   "metadata": {},
   "outputs": [
    {
     "data": {
      "text/plain": [
       "fl_veiculo                          object\n",
       "vl_total_veiculos_leves_grupo      float64\n",
       "fl_email                              bool\n",
       "fl_simples_irregular                object\n",
       "fl_passivel_iss                     object\n",
       "de_ramo                             object\n",
       "idade_emp_cat                       object\n",
       "de_natureza_juridica                object\n",
       "fl_ltda                               bool\n",
       "fl_antt                             object\n",
       "fl_mei                                bool\n",
       "fl_rm                               object\n",
       "sg_uf                               object\n",
       "setor                               object\n",
       "qt_filiais                           int64\n",
       "fl_st_especial                        bool\n",
       "fl_me                                 bool\n",
       "natureza_juridica_macro             object\n",
       "idade_empresa_anos                 float64\n",
       "nm_segmento                         object\n",
       "vl_total_veiculos_pesados_grupo    float64\n",
       "fl_spa                              object\n",
       "nm_divisao                          object\n",
       "fl_sa                                 bool\n",
       "fl_matriz                             bool\n",
       "dtype: object"
      ]
     },
     "execution_count": 9,
     "metadata": {},
     "output_type": "execute_result"
    }
   ],
   "source": [
    "data.dtypes"
   ]
  },
  {
   "cell_type": "code",
   "execution_count": 10,
   "metadata": {},
   "outputs": [
    {
     "data": {
      "text/plain": [
       "fl_veiculo                            bool\n",
       "vl_total_veiculos_leves_grupo      float64\n",
       "fl_email                              bool\n",
       "fl_simples_irregular                  bool\n",
       "fl_passivel_iss                       bool\n",
       "de_ramo                             object\n",
       "idade_emp_cat                       object\n",
       "de_natureza_juridica                object\n",
       "fl_ltda                               bool\n",
       "fl_antt                               bool\n",
       "fl_mei                                bool\n",
       "fl_rm                               object\n",
       "sg_uf                               object\n",
       "setor                               object\n",
       "qt_filiais                           int64\n",
       "fl_st_especial                        bool\n",
       "fl_me                                 bool\n",
       "natureza_juridica_macro             object\n",
       "idade_empresa_anos                 float64\n",
       "nm_segmento                         object\n",
       "vl_total_veiculos_pesados_grupo    float64\n",
       "fl_spa                                bool\n",
       "nm_divisao                          object\n",
       "fl_sa                                 bool\n",
       "fl_matriz                             bool\n",
       "dtype: object"
      ]
     },
     "execution_count": 10,
     "metadata": {},
     "output_type": "execute_result"
    }
   ],
   "source": [
    "# Fix True/False objects\n",
    "data['fl_passivel_iss'] = data['fl_passivel_iss'].astype('bool')\n",
    "data['fl_antt'] = data['fl_antt'].astype('bool')\n",
    "data['fl_spa'] = data['fl_spa'].astype('bool')\n",
    "data['fl_simples_irregular'] = data['fl_simples_irregular'].astype('bool')\n",
    "data['fl_veiculo'] = data['fl_veiculo'].astype('bool')\n",
    "\n",
    "\n",
    "data.dtypes"
   ]
  },
  {
   "cell_type": "code",
   "execution_count": 11,
   "metadata": {
    "scrolled": true
   },
   "outputs": [
    {
     "data": {
      "text/plain": [
       "Index(['qt_filiais', 'idade_empresa_anos', 'vl_total_veiculos_leves_grupo',\n",
       "       'vl_total_veiculos_pesados_grupo', 'fl_veiculo', 'fl_email',\n",
       "       'fl_simples_irregular', 'fl_passivel_iss',\n",
       "       'de_ramo_ADMINISTRACAO PUBLICA, DEFESA E SEGURIDADE SOCIAL',\n",
       "       'de_ramo_ATIVIDADES IMOBILIARIAS',\n",
       "       ...\n",
       "       'nm_divisao_SERVICOS DE ESCRITORIO DE APOIO ADMINISTRATIVO E OUTROS SERVICOS PRESTADOS PRINCIPALMENTE AS EMPRESAS',\n",
       "       'nm_divisao_SERVICOS DOMESTICOS',\n",
       "       'nm_divisao_SERVICOS ESPECIALIZADOS PARA CONSTRUCAO',\n",
       "       'nm_divisao_SERVICOS PARA EDIFICIOS E ATIVIDADES PAISAGISTICAS',\n",
       "       'nm_divisao_TELECOMUNICACOES', 'nm_divisao_TRANSPORTE AEREO',\n",
       "       'nm_divisao_TRANSPORTE AQUAVIARIO', 'nm_divisao_TRANSPORTE TERRESTRE',\n",
       "       'fl_sa', 'fl_matriz'],\n",
       "      dtype='object', length=248)"
      ]
     },
     "execution_count": 11,
     "metadata": {},
     "output_type": "execute_result"
    }
   ],
   "source": [
    "# Generating dummies for the categorical features, one hot encoding\n",
    "\n",
    "new_dfs = []\n",
    "to_remove_cols = []\n",
    "for col in data:\n",
    "    if data[col].dtype == np.object:\n",
    "        to_remove_cols.append(col)\n",
    "        dummies = pd.get_dummies(data[col], prefix=col)\n",
    "        new_dfs.append(dummies)\n",
    "    \n",
    "    elif data[col].dtype == np.bool:\n",
    "        to_remove_cols.append(col)\n",
    "        d = data[col].astype(np.int64)\n",
    "        new_dfs.append(d)\n",
    "\n",
    "data = data.loc[:, list(set(data.columns) - set(to_remove_cols))]\n",
    "        \n",
    "for d in new_dfs:\n",
    "    data = data.join(d)\n",
    "\n",
    "data.columns"
   ]
  },
  {
   "cell_type": "code",
   "execution_count": 12,
   "metadata": {},
   "outputs": [
    {
     "data": {
      "text/plain": [
       "(460371, 248)"
      ]
     },
     "execution_count": 12,
     "metadata": {},
     "output_type": "execute_result"
    }
   ],
   "source": [
    "data.shape"
   ]
  },
  {
   "cell_type": "markdown",
   "metadata": {},
   "source": [
    "## Métrica\n",
    "\n",
    "Usar a média do score das empresas do portifólio tiradas como teste"
   ]
  },
  {
   "cell_type": "code",
   "execution_count": 13,
   "metadata": {},
   "outputs": [],
   "source": [
    "def metric_score(test_indexes, score):\n",
    "    return score.loc[test_indexes].mean()"
   ]
  },
  {
   "cell_type": "markdown",
   "metadata": {},
   "source": [
    "### Testando portifólio 1"
   ]
  },
  {
   "cell_type": "code",
   "execution_count": 14,
   "metadata": {},
   "outputs": [],
   "source": [
    "# Load clients of portifolio1\n",
    "\n",
    "portfilio1 = pd.read_csv('../estaticos_portfolio1.csv', index_col=0)\n",
    "\n",
    "info_columns = ['tech', 'general_score', 'test_score', 'std', 'min_score', 'max_score']\n",
    "info = []"
   ]
  },
  {
   "cell_type": "markdown",
   "metadata": {},
   "source": [
    "#### Usando vetor com média aritmética das features \n",
    "\n",
    "Para definir o perfil do portifólio e medir a similaridade entre esse vetor e todos"
   ]
  },
  {
   "cell_type": "code",
   "execution_count": 15,
   "metadata": {},
   "outputs": [],
   "source": [
    "clients_p1_data = data.loc[portfilio1['id']]\n",
    "\n",
    "train, test = train_test_split(clients_p1_data, test_size=0.2)\n",
    "\n",
    "data_no_train = data.loc[set(data.index) - set(train.index)]\n",
    "\n",
    "# Making the user profile\n",
    "u = dict()\n",
    "for col in train:\n",
    "    u[col] = clients_p1_data[col].mean()\n",
    "\n",
    "user = pd.DataFrame([u])"
   ]
  },
  {
   "cell_type": "code",
   "execution_count": 16,
   "metadata": {},
   "outputs": [
    {
     "data": {
      "image/png": "[encoded data removed]",
      "text/plain": [
       "<Figure size 432x288 with 1 Axes>"
      ]
     },
     "metadata": {
      "needs_background": "light"
     },
     "output_type": "display_data"
    }
   ],
   "source": [
    "similarities = pd.DataFrame(data=cosine_similarity(data_no_train, user), columns=['score'])\n",
    "similarities.index = data_no_train.index\n",
    "\n",
    "sns.distplot(similarities, label='General').set_title('Score distribution')\n",
    "sns.distplot(similarities.loc[test.index], label='Test')\n",
    "plt.legend(labels=['General', 'Test'])\n",
    "plt.show()\n"
   ]
  },
  {
   "cell_type": "code",
   "execution_count": 17,
   "metadata": {},
   "outputs": [
    {
     "name": "stdout",
     "output_type": "stream",
     "text": [
      "Média score geral: score    0.04666\n",
      "dtype: float64\n",
      "Média score dos testes: score    0.049081\n",
      "dtype: float64\n"
     ]
    }
   ],
   "source": [
    "print(f'Média score geral: {similarities.mean()}')\n",
    "print(f'Média score dos testes: {similarities.loc[test.index].mean()}')\n",
    "\n",
    "info.append([\n",
    "    'Média da similaridade e vetor usuário',\n",
    "    similarities.mean()[0],\n",
    "    similarities.loc[test.index].mean()[0],\n",
    "    similarities.std()[0],\n",
    "    similarities.min()[0],\n",
    "    similarities.max()[0]\n",
    "])"
   ]
  },
  {
   "cell_type": "markdown",
   "metadata": {},
   "source": [
    "#### Usando a similaridade entre todos e média\n",
    "\n",
    "Usando média das similaridades entre uma empresa e as do treino para definir os scores"
   ]
  },
  {
   "cell_type": "code",
   "execution_count": 18,
   "metadata": {},
   "outputs": [],
   "source": [
    "# Tira os dados que serão usados como treino, ou seja, empresas para comparar as demais que já estão no portifólio\n",
    "data_no_train = data.loc[set(data.index) - set(train.index)]\n",
    "\n",
    "# Calcula similaridade entre os dados e o treino\n",
    "sim = cosine_similarity(data_no_train, train)"
   ]
  },
  {
   "cell_type": "code",
   "execution_count": 19,
   "metadata": {},
   "outputs": [
    {
     "data": {
      "image/png": "[encoded data removed]",
      "text/plain": [
       "<Figure size 432x288 with 1 Axes>"
      ]
     },
     "metadata": {
      "needs_background": "light"
     },
     "output_type": "display_data"
    }
   ],
   "source": [
    "indexes = data_no_train.index\n",
    "columns = train.index\n",
    "\n",
    "similarities = pd.DataFrame(sim)\n",
    "similarities.columns = columns\n",
    "similarities.index = indexes\n",
    "score = similarities.mean(axis=1)\n",
    "\n",
    "sns.distplot(score, label='General').set_title('Score distribution')\n",
    "sns.distplot(score.loc[test.index], label='Test')\n",
    "plt.legend(labels=['General', 'Test'])\n",
    "plt.show()"
   ]
  },
  {
   "cell_type": "code",
   "execution_count": 20,
   "metadata": {},
   "outputs": [
    {
     "name": "stdout",
     "output_type": "stream",
     "text": [
      "Média score geral: 0.6713270777113077\n",
      "Média score dos testes: 0.7283859046565324\n"
     ]
    }
   ],
   "source": [
    "# Score de cada empresa teste é média da similaridade dela com as de treino\n",
    "# e o score da métrica é média do score dos testes\n",
    "print(f'Média score geral: {score.mean()}')\n",
    "print(f'Média score dos testes: {score.loc[test.index].mean()}')\n",
    "\n",
    "info.append([\n",
    "    'Média da similaridade com todas',\n",
    "    score.mean(),\n",
    "    score.loc[test.index].mean(),\n",
    "    score.std(),\n",
    "    score.min(),\n",
    "    score.max()\n",
    "])"
   ]
  },
  {
   "cell_type": "markdown",
   "metadata": {},
   "source": [
    "#### Usando a similaridade entre todos e maior\n",
    "\n",
    "Usando a maior das similaridades entre uma empresa e as do treino para definir os scores"
   ]
  },
  {
   "cell_type": "code",
   "execution_count": 21,
   "metadata": {},
   "outputs": [],
   "source": [
    "# Tira os dados que serão usados como treino, ou seja, empresas para comparar as demais que já estão no portifólio\n",
    "data_no_train = data.loc[set(data.index) - set(train.index)]\n",
    "\n",
    "# Calcula similaridade entre os dados e o treino\n",
    "sim = cosine_similarity(data_no_train, train)"
   ]
  },
  {
   "cell_type": "code",
   "execution_count": 22,
   "metadata": {},
   "outputs": [
    {
     "data": {
      "text/plain": [
       "True"
      ]
     },
     "execution_count": 22,
     "metadata": {},
     "output_type": "execute_result"
    }
   ],
   "source": [
    "data.shape[0] == sum(sim.shape)"
   ]
  },
  {
   "cell_type": "code",
   "execution_count": 23,
   "metadata": {},
   "outputs": [],
   "source": [
    "indexes = data_no_train.index\n",
    "columns = train.index\n",
    "\n",
    "similarities = pd.DataFrame(np.amax(sim, axis=1))\n",
    "similarities.index = indexes"
   ]
  },
  {
   "cell_type": "code",
   "execution_count": 24,
   "metadata": {},
   "outputs": [
    {
     "data": {
      "image/png": "[encoded data removed]",
      "text/plain": [
       "<Figure size 432x288 with 1 Axes>"
      ]
     },
     "metadata": {
      "needs_background": "light"
     },
     "output_type": "display_data"
    }
   ],
   "source": [
    "sns.distplot(similarities, label='General').set_title('Score distribution')\n",
    "sns.distplot(similarities.loc[test.index], label='Test')\n",
    "plt.legend(labels=['General', 'Test'])\n",
    "plt.show()"
   ]
  },
  {
   "cell_type": "code",
   "execution_count": 25,
   "metadata": {},
   "outputs": [
    {
     "name": "stdout",
     "output_type": "stream",
     "text": [
      "Média score geral: 0    0.920455\n",
      "dtype: float64\n",
      "Média score dos testes: 0    0.981294\n",
      "dtype: float64\n"
     ]
    }
   ],
   "source": [
    "# Score de cada empresa teste é maior similaridade dela com as de treino\n",
    "# e o score da métrica é média do score dos testes\n",
    "print(f'Média score geral: {similarities.mean()}')\n",
    "print(f'Média score dos testes: {similarities.loc[test.index].mean()}')\n",
    "\n",
    "\n",
    "info.append([\n",
    "    'Maior similaridade entre todas',\n",
    "    similarities.mean()[0],\n",
    "    similarities.loc[test.index].mean()[0],\n",
    "    similarities.std()[0],\n",
    "    similarities.min()[0],\n",
    "    similarities.max()[0]\n",
    "])"
   ]
  },
  {
   "cell_type": "markdown",
   "metadata": {},
   "source": [
    "#### Recomendações aleatórias\n",
    "\n",
    "Adicionar um valor aleatório entre 0 e 1 como score para cada empresa"
   ]
  },
  {
   "cell_type": "code",
   "execution_count": 26,
   "metadata": {},
   "outputs": [
    {
     "name": "stdout",
     "output_type": "stream",
     "text": [
      "Média score geral: 0    0.500175\n",
      "dtype: float64\n",
      "Média score dos testes: 0    0.477776\n",
      "dtype: float64\n"
     ]
    },
    {
     "data": {
      "image/png": "[encoded data removed]",
      "text/plain": [
       "<Figure size 432x288 with 1 Axes>"
      ]
     },
     "metadata": {
      "needs_background": "light"
     },
     "output_type": "display_data"
    }
   ],
   "source": [
    "np.random.seed(42)\n",
    "\n",
    "score = pd.DataFrame(data=np.random.rand(data_no_train.shape[0]))\n",
    "score.index = data_no_train.index\n",
    "\n",
    "print(f'Média score geral: {score.mean()}')\n",
    "print(f'Média score dos testes: {score.loc[test.index].mean()}')\n",
    "\n",
    "sns.distplot(score, label='General').set_title('Score distribution')\n",
    "sns.distplot(score.loc[test.index], label='Test')\n",
    "plt.legend(labels=['General', 'Test'])\n",
    "plt.show()\n",
    "\n",
    "info.append([\n",
    "    'Aleatório',\n",
    "    score.mean()[0],\n",
    "    score.loc[test.index].mean()[0],\n",
    "    score.std()[0],\n",
    "    score.min()[0],\n",
    "    score.max()[0]\n",
    "])"
   ]
  },
  {
   "cell_type": "code",
   "execution_count": 27,
   "metadata": {
    "scrolled": true
   },
   "outputs": [
    {
     "data": {
      "text/html": [
       "<div>\n",
       "<style scoped>\n",
       "    .dataframe tbody tr th:only-of-type {\n",
       "        vertical-align: middle;\n",
       "    }\n",
       "\n",
       "    .dataframe tbody tr th {\n",
       "        vertical-align: top;\n",
       "    }\n",
       "\n",
       "    .dataframe thead th {\n",
       "        text-align: right;\n",
       "    }\n",
       "</style>\n",
       "<table border=\"1\" class=\"dataframe\">\n",
       "  <thead>\n",
       "    <tr style=\"text-align: right;\">\n",
       "      <th></th>\n",
       "      <th>tech</th>\n",
       "      <th>general_score</th>\n",
       "      <th>test_score</th>\n",
       "      <th>std</th>\n",
       "      <th>min_score</th>\n",
       "      <th>max_score</th>\n",
       "    </tr>\n",
       "  </thead>\n",
       "  <tbody>\n",
       "    <tr>\n",
       "      <th>0</th>\n",
       "      <td>Média da similaridade e vetor usuário</td>\n",
       "      <td>0.046660</td>\n",
       "      <td>0.049081</td>\n",
       "      <td>0.067829</td>\n",
       "      <td>3.047972e-07</td>\n",
       "      <td>0.377314</td>\n",
       "    </tr>\n",
       "    <tr>\n",
       "      <th>1</th>\n",
       "      <td>Média da similaridade com todas</td>\n",
       "      <td>0.671327</td>\n",
       "      <td>0.728386</td>\n",
       "      <td>0.172563</td>\n",
       "      <td>9.812395e-03</td>\n",
       "      <td>0.828532</td>\n",
       "    </tr>\n",
       "    <tr>\n",
       "      <th>2</th>\n",
       "      <td>Maior similaridade entre todas</td>\n",
       "      <td>0.920455</td>\n",
       "      <td>0.981294</td>\n",
       "      <td>0.108975</td>\n",
       "      <td>2.995365e-01</td>\n",
       "      <td>1.000000</td>\n",
       "    </tr>\n",
       "    <tr>\n",
       "      <th>3</th>\n",
       "      <td>Aleatório</td>\n",
       "      <td>0.500175</td>\n",
       "      <td>0.477776</td>\n",
       "      <td>0.288539</td>\n",
       "      <td>2.227296e-06</td>\n",
       "      <td>0.999995</td>\n",
       "    </tr>\n",
       "  </tbody>\n",
       "</table>\n",
       "</div>"
      ],
      "text/plain": [
       "                                    tech  general_score  test_score       std  \\\n",
       "0  Média da similaridade e vetor usuário       0.046660    0.049081  0.067829   \n",
       "1        Média da similaridade com todas       0.671327    0.728386  0.172563   \n",
       "2         Maior similaridade entre todas       0.920455    0.981294  0.108975   \n",
       "3                              Aleatório       0.500175    0.477776  0.288539   \n",
       "\n",
       "      min_score  max_score  \n",
       "0  3.047972e-07   0.377314  \n",
       "1  9.812395e-03   0.828532  \n",
       "2  2.995365e-01   1.000000  \n",
       "3  2.227296e-06   0.999995  "
      ]
     },
     "execution_count": 27,
     "metadata": {},
     "output_type": "execute_result"
    }
   ],
   "source": [
    "p1_info = pd.DataFrame(info, columns=info_columns)\n",
    "\n",
    "p1_info"
   ]
  },
  {
   "cell_type": "code",
   "execution_count": 28,
   "metadata": {},
   "outputs": [],
   "source": [
    "# Load clients of portifolio2\n",
    "\n",
    "portfilio1 = pd.read_csv('../estaticos_portfolio2.csv', index_col=0)\n",
    "\n",
    "info_columns = ['tech', 'general_score', 'test_score', 'std', 'min_score', 'max_score']\n",
    "info = []"
   ]
  },
  {
   "cell_type": "markdown",
   "metadata": {},
   "source": [
    "#### Usando vetor com média aritmética das features \n",
    "\n",
    "Para definir o perfil do portifólio e medir a similaridade entre esse vetor e todos"
   ]
  },
  {
   "cell_type": "code",
   "execution_count": 29,
   "metadata": {},
   "outputs": [],
   "source": [
    "clients_p1_data = data.loc[portfilio1['id']]\n",
    "\n",
    "train, test = train_test_split(clients_p1_data, test_size=0.2)\n",
    "\n",
    "data_no_train = data.loc[set(data.index) - set(train.index)]\n",
    "\n",
    "# Making the user profile\n",
    "u = dict()\n",
    "for col in train:\n",
    "    u[col] = clients_p1_data[col].mean()\n",
    "\n",
    "user = pd.DataFrame([u])"
   ]
  },
  {
   "cell_type": "code",
   "execution_count": 30,
   "metadata": {},
   "outputs": [
    {
     "data": {
      "image/png": "[encoded data removed]",
      "text/plain": [
       "<Figure size 432x288 with 1 Axes>"
      ]
     },
     "metadata": {
      "needs_background": "light"
     },
     "output_type": "display_data"
    }
   ],
   "source": [
    "similarities = pd.DataFrame(data=cosine_similarity(data_no_train, user), columns=['score'])\n",
    "similarities.index = data_no_train.index\n",
    "\n",
    "sns.distplot(similarities, label='General').set_title('Score distribution')\n",
    "sns.distplot(similarities.loc[test.index], label='Test')\n",
    "plt.legend(labels=['General', 'Test'])\n",
    "plt.show()\n"
   ]
  },
  {
   "cell_type": "code",
   "execution_count": 31,
   "metadata": {},
   "outputs": [
    {
     "name": "stdout",
     "output_type": "stream",
     "text": [
      "Média score geral: score    0.071805\n",
      "dtype: float64\n",
      "Média score dos testes: score    0.02172\n",
      "dtype: float64\n"
     ]
    }
   ],
   "source": [
    "print(f'Média score geral: {similarities.mean()}')\n",
    "print(f'Média score dos testes: {similarities.loc[test.index].mean()}')\n",
    "\n",
    "info.append([\n",
    "    'Média da similaridade e vetor usuário',\n",
    "    similarities.mean()[0],\n",
    "    similarities.loc[test.index].mean()[0],\n",
    "    similarities.std()[0],\n",
    "    similarities.min()[0],\n",
    "    similarities.max()[0]\n",
    "])"
   ]
  },
  {
   "cell_type": "markdown",
   "metadata": {},
   "source": [
    "#### Usando a similaridade entre todos e média\n",
    "\n",
    "Usando média das similaridades entre uma empresa e as do treino para definir os scores"
   ]
  },
  {
   "cell_type": "code",
   "execution_count": 32,
   "metadata": {},
   "outputs": [],
   "source": [
    "# Tira os dados que serão usados como treino, ou seja, empresas para comparar as demais que já estão no portifólio\n",
    "data_no_train = data.loc[set(data.index) - set(train.index)]\n",
    "\n",
    "# Calcula similaridade entre os dados e o treino\n",
    "sim = cosine_similarity(data_no_train, train)"
   ]
  },
  {
   "cell_type": "code",
   "execution_count": 33,
   "metadata": {},
   "outputs": [
    {
     "data": {
      "image/png": "[encoded data removed]",
      "text/plain": [
       "<Figure size 432x288 with 1 Axes>"
      ]
     },
     "metadata": {
      "needs_background": "light"
     },
     "output_type": "display_data"
    }
   ],
   "source": [
    "indexes = data_no_train.index\n",
    "columns = train.index\n",
    "\n",
    "similarities = pd.DataFrame(sim)\n",
    "similarities.columns = columns\n",
    "similarities.index = indexes\n",
    "score = similarities.mean(axis=1)\n",
    "\n",
    "sns.distplot(score, label='General').set_title('Score distribution')\n",
    "sns.distplot(score.loc[test.index], label='Test')\n",
    "plt.legend(labels=['General', 'Test'])\n",
    "plt.show()"
   ]
  },
  {
   "cell_type": "code",
   "execution_count": 34,
   "metadata": {},
   "outputs": [
    {
     "name": "stdout",
     "output_type": "stream",
     "text": [
      "Média score geral: 0.6497393181930045\n",
      "Média score dos testes: 0.7834221275353892\n"
     ]
    }
   ],
   "source": [
    "# Score de cada empresa teste é média da similaridade dela com as de treino\n",
    "# e o score da métrica é média do score dos testes\n",
    "print(f'Média score geral: {score.mean()}')\n",
    "print(f'Média score dos testes: {score.loc[test.index].mean()}')\n",
    "\n",
    "info.append([\n",
    "    'Média da similaridade com todas',\n",
    "    score.mean(),\n",
    "    score.loc[test.index].mean(),\n",
    "    score.std(),\n",
    "    score.min(),\n",
    "    score.max()\n",
    "])"
   ]
  },
  {
   "cell_type": "markdown",
   "metadata": {},
   "source": [
    "#### Usando a similaridade entre todos e maior\n",
    "\n",
    "Usando a maior das similaridades entre uma empresa e as do treino para definir os scores"
   ]
  },
  {
   "cell_type": "code",
   "execution_count": 35,
   "metadata": {},
   "outputs": [],
   "source": [
    "# Tira os dados que serão usados como treino, ou seja, empresas para comparar as demais que já estão no portifólio\n",
    "data_no_train = data.loc[set(data.index) - set(train.index)]\n",
    "\n",
    "# Calcula similaridade entre os dados e o treino\n",
    "sim = cosine_similarity(data_no_train, train)"
   ]
  },
  {
   "cell_type": "code",
   "execution_count": 36,
   "metadata": {},
   "outputs": [
    {
     "data": {
      "text/plain": [
       "True"
      ]
     },
     "execution_count": 36,
     "metadata": {},
     "output_type": "execute_result"
    }
   ],
   "source": [
    "data.shape[0] == sum(sim.shape)"
   ]
  },
  {
   "cell_type": "code",
   "execution_count": 37,
   "metadata": {},
   "outputs": [],
   "source": [
    "indexes = data_no_train.index\n",
    "columns = train.index\n",
    "\n",
    "similarities = pd.DataFrame(np.amax(sim, axis=1))\n",
    "similarities.index = indexes"
   ]
  },
  {
   "cell_type": "code",
   "execution_count": 38,
   "metadata": {},
   "outputs": [
    {
     "data": {
      "image/png": "[encoded data removed]",
      "text/plain": [
       "<Figure size 432x288 with 1 Axes>"
      ]
     },
     "metadata": {
      "needs_background": "light"
     },
     "output_type": "display_data"
    }
   ],
   "source": [
    "sns.distplot(similarities, label='General').set_title('Score distribution')\n",
    "sns.distplot(similarities.loc[test.index], label='Test')\n",
    "plt.legend(labels=['General', 'Test'])\n",
    "plt.show()"
   ]
  },
  {
   "cell_type": "code",
   "execution_count": 39,
   "metadata": {},
   "outputs": [
    {
     "name": "stdout",
     "output_type": "stream",
     "text": [
      "Média score geral: 0    0.82098\n",
      "dtype: float64\n",
      "Média score dos testes: 0    0.989885\n",
      "dtype: float64\n"
     ]
    }
   ],
   "source": [
    "# Score de cada empresa teste é maior similaridade dela com as de treino\n",
    "# e o score da métrica é média do score dos testes\n",
    "print(f'Média score geral: {similarities.mean()}')\n",
    "print(f'Média score dos testes: {similarities.loc[test.index].mean()}')\n",
    "\n",
    "\n",
    "info.append([\n",
    "    'Maior similaridade entre todas',\n",
    "    similarities.mean()[0],\n",
    "    similarities.loc[test.index].mean()[0],\n",
    "    similarities.std()[0],\n",
    "    similarities.min()[0],\n",
    "    similarities.max()[0]\n",
    "])"
   ]
  },
  {
   "cell_type": "markdown",
   "metadata": {},
   "source": [
    "#### Recomendações aleatórias\n",
    "\n",
    "Adicionar um valor aleatório entre 0 e 1 como score para cada empresa"
   ]
  },
  {
   "cell_type": "code",
   "execution_count": 40,
   "metadata": {},
   "outputs": [
    {
     "name": "stdout",
     "output_type": "stream",
     "text": [
      "Média score geral: 0    0.500173\n",
      "dtype: float64\n",
      "Média score dos testes: 0    0.473634\n",
      "dtype: float64\n"
     ]
    },
    {
     "data": {
      "image/png": "[encoded data removed]",
      "text/plain": [
       "<Figure size 432x288 with 1 Axes>"
      ]
     },
     "metadata": {
      "needs_background": "light"
     },
     "output_type": "display_data"
    }
   ],
   "source": [
    "np.random.seed(42)\n",
    "\n",
    "score = pd.DataFrame(data=np.random.rand(data_no_train.shape[0]))\n",
    "score.index = data_no_train.index\n",
    "\n",
    "print(f'Média score geral: {score.mean()}')\n",
    "print(f'Média score dos testes: {score.loc[test.index].mean()}')\n",
    "\n",
    "sns.distplot(score, label='General').set_title('Score distribution')\n",
    "sns.distplot(score.loc[test.index], label='Test')\n",
    "plt.legend(labels=['General', 'Test'])\n",
    "plt.show()\n",
    "\n",
    "info.append([\n",
    "    'Aleatório',\n",
    "    score.mean()[0],\n",
    "    score.loc[test.index].mean()[0],\n",
    "    score.std()[0],\n",
    "    score.min()[0],\n",
    "    score.max()[0]\n",
    "])"
   ]
  },
  {
   "cell_type": "code",
   "execution_count": 41,
   "metadata": {},
   "outputs": [
    {
     "data": {
      "text/html": [
       "<div>\n",
       "<style scoped>\n",
       "    .dataframe tbody tr th:only-of-type {\n",
       "        vertical-align: middle;\n",
       "    }\n",
       "\n",
       "    .dataframe tbody tr th {\n",
       "        vertical-align: top;\n",
       "    }\n",
       "\n",
       "    .dataframe thead th {\n",
       "        text-align: right;\n",
       "    }\n",
       "</style>\n",
       "<table border=\"1\" class=\"dataframe\">\n",
       "  <thead>\n",
       "    <tr style=\"text-align: right;\">\n",
       "      <th></th>\n",
       "      <th>tech</th>\n",
       "      <th>general_score</th>\n",
       "      <th>test_score</th>\n",
       "      <th>std</th>\n",
       "      <th>min_score</th>\n",
       "      <th>max_score</th>\n",
       "    </tr>\n",
       "  </thead>\n",
       "  <tbody>\n",
       "    <tr>\n",
       "      <th>0</th>\n",
       "      <td>Média da similaridade e vetor usuário</td>\n",
       "      <td>0.071805</td>\n",
       "      <td>0.021720</td>\n",
       "      <td>0.071108</td>\n",
       "      <td>0.000121</td>\n",
       "      <td>0.467443</td>\n",
       "    </tr>\n",
       "    <tr>\n",
       "      <th>1</th>\n",
       "      <td>Média da similaridade com todas</td>\n",
       "      <td>0.649739</td>\n",
       "      <td>0.783422</td>\n",
       "      <td>0.231594</td>\n",
       "      <td>0.028618</td>\n",
       "      <td>0.888374</td>\n",
       "    </tr>\n",
       "    <tr>\n",
       "      <th>2</th>\n",
       "      <td>Maior similaridade entre todas</td>\n",
       "      <td>0.820980</td>\n",
       "      <td>0.989885</td>\n",
       "      <td>0.226393</td>\n",
       "      <td>0.106864</td>\n",
       "      <td>1.000000</td>\n",
       "    </tr>\n",
       "    <tr>\n",
       "      <th>3</th>\n",
       "      <td>Aleatório</td>\n",
       "      <td>0.500173</td>\n",
       "      <td>0.473634</td>\n",
       "      <td>0.288539</td>\n",
       "      <td>0.000002</td>\n",
       "      <td>0.999995</td>\n",
       "    </tr>\n",
       "  </tbody>\n",
       "</table>\n",
       "</div>"
      ],
      "text/plain": [
       "                                    tech  general_score  test_score       std  \\\n",
       "0  Média da similaridade e vetor usuário       0.071805    0.021720  0.071108   \n",
       "1        Média da similaridade com todas       0.649739    0.783422  0.231594   \n",
       "2         Maior similaridade entre todas       0.820980    0.989885  0.226393   \n",
       "3                              Aleatório       0.500173    0.473634  0.288539   \n",
       "\n",
       "   min_score  max_score  \n",
       "0   0.000121   0.467443  \n",
       "1   0.028618   0.888374  \n",
       "2   0.106864   1.000000  \n",
       "3   0.000002   0.999995  "
      ]
     },
     "execution_count": 41,
     "metadata": {},
     "output_type": "execute_result"
    }
   ],
   "source": [
    "p2_info = pd.DataFrame(info, columns=info_columns)\n",
    "\n",
    "p2_info"
   ]
  },
  {
   "cell_type": "code",
   "execution_count": 42,
   "metadata": {},
   "outputs": [],
   "source": [
    "# Load clients of portifolio1\n",
    "\n",
    "portfilio1 = pd.read_csv('../estaticos_portfolio3.csv', index_col=0)\n",
    "\n",
    "info_columns = ['tech', 'general_score', 'test_score', 'std', 'min_score', 'max_score']\n",
    "info = []"
   ]
  },
  {
   "cell_type": "markdown",
   "metadata": {},
   "source": [
    "#### Usando vetor com média aritmética das features \n",
    "\n",
    "Para definir o perfil do portifólio e medir a similaridade entre esse vetor e todos"
   ]
  },
  {
   "cell_type": "code",
   "execution_count": 43,
   "metadata": {},
   "outputs": [],
   "source": [
    "clients_p1_data = data.loc[portfilio1['id']]\n",
    "\n",
    "train, test = train_test_split(clients_p1_data, test_size=0.2)\n",
    "\n",
    "data_no_train = data.loc[set(data.index) - set(train.index)]\n",
    "\n",
    "# Making the user profile\n",
    "u = dict()\n",
    "for col in train:\n",
    "    u[col] = clients_p1_data[col].mean()\n",
    "\n",
    "user = pd.DataFrame([u])"
   ]
  },
  {
   "cell_type": "code",
   "execution_count": 44,
   "metadata": {},
   "outputs": [
    {
     "data": {
      "image/png": "[encoded data removed]",
      "text/plain": [
       "<Figure size 432x288 with 1 Axes>"
      ]
     },
     "metadata": {
      "needs_background": "light"
     },
     "output_type": "display_data"
    }
   ],
   "source": [
    "similarities = pd.DataFrame(data=cosine_similarity(data_no_train, user), columns=['score'])\n",
    "similarities.index = data_no_train.index\n",
    "\n",
    "sns.distplot(similarities, label='General').set_title('Score distribution')\n",
    "sns.distplot(similarities.loc[test.index], label='Test')\n",
    "plt.legend(labels=['General', 'Test'])\n",
    "plt.show()\n"
   ]
  },
  {
   "cell_type": "code",
   "execution_count": 45,
   "metadata": {},
   "outputs": [
    {
     "name": "stdout",
     "output_type": "stream",
     "text": [
      "Média score geral: score    0.062495\n",
      "dtype: float64\n",
      "Média score dos testes: score    0.031827\n",
      "dtype: float64\n"
     ]
    }
   ],
   "source": [
    "print(f'Média score geral: {similarities.mean()}')\n",
    "print(f'Média score dos testes: {similarities.loc[test.index].mean()}')\n",
    "\n",
    "info.append([\n",
    "    'Média da similaridade e vetor usuário',\n",
    "    similarities.mean()[0],\n",
    "    similarities.loc[test.index].mean()[0],\n",
    "    similarities.std()[0],\n",
    "    similarities.min()[0],\n",
    "    similarities.max()[0]\n",
    "])"
   ]
  },
  {
   "cell_type": "markdown",
   "metadata": {},
   "source": [
    "#### Usando a similaridade entre todos e média\n",
    "\n",
    "Usando média das similaridades entre uma empresa e as do treino para definir os scores"
   ]
  },
  {
   "cell_type": "code",
   "execution_count": 46,
   "metadata": {},
   "outputs": [],
   "source": [
    "# Tira os dados que serão usados como treino, ou seja, empresas para comparar as demais que já estão no portifólio\n",
    "data_no_train = data.loc[set(data.index) - set(train.index)]\n",
    "\n",
    "# Calcula similaridade entre os dados e o treino\n",
    "sim = cosine_similarity(data_no_train, train)"
   ]
  },
  {
   "cell_type": "code",
   "execution_count": 47,
   "metadata": {},
   "outputs": [
    {
     "data": {
      "image/png": "[encoded data removed]",
      "text/plain": [
       "<Figure size 432x288 with 1 Axes>"
      ]
     },
     "metadata": {
      "needs_background": "light"
     },
     "output_type": "display_data"
    }
   ],
   "source": [
    "indexes = data_no_train.index\n",
    "columns = train.index\n",
    "\n",
    "similarities = pd.DataFrame(sim)\n",
    "similarities.columns = columns\n",
    "similarities.index = indexes\n",
    "score = similarities.mean(axis=1)\n",
    "\n",
    "sns.distplot(score, label='General').set_title('Score distribution')\n",
    "sns.distplot(score.loc[test.index], label='Test')\n",
    "plt.legend(labels=['General', 'Test'])\n",
    "plt.show()"
   ]
  },
  {
   "cell_type": "code",
   "execution_count": 48,
   "metadata": {},
   "outputs": [
    {
     "name": "stdout",
     "output_type": "stream",
     "text": [
      "Média score geral: 0.66246858943749\n",
      "Média score dos testes: 0.7818526225489257\n"
     ]
    }
   ],
   "source": [
    "# Score de cada empresa teste é média da similaridade dela com as de treino\n",
    "# e o score da métrica é média do score dos testes\n",
    "print(f'Média score geral: {score.mean()}')\n",
    "print(f'Média score dos testes: {score.loc[test.index].mean()}')\n",
    "\n",
    "info.append([\n",
    "    'Média da similaridade com todas',\n",
    "    score.mean(),\n",
    "    score.loc[test.index].mean(),\n",
    "    score.std(),\n",
    "    score.min(),\n",
    "    score.max()\n",
    "])"
   ]
  },
  {
   "cell_type": "markdown",
   "metadata": {},
   "source": [
    "#### Usando a similaridade entre todos e maior\n",
    "\n",
    "Usando a maior das similaridades entre uma empresa e as do treino para definir os scores"
   ]
  },
  {
   "cell_type": "code",
   "execution_count": 49,
   "metadata": {},
   "outputs": [],
   "source": [
    "# Tira os dados que serão usados como treino, ou seja, empresas para comparar as demais que já estão no portifólio\n",
    "data_no_train = data.loc[set(data.index) - set(train.index)]\n",
    "\n",
    "# Calcula similaridade entre os dados e o treino\n",
    "sim = cosine_similarity(data_no_train, train)"
   ]
  },
  {
   "cell_type": "code",
   "execution_count": 50,
   "metadata": {},
   "outputs": [
    {
     "data": {
      "text/plain": [
       "True"
      ]
     },
     "execution_count": 50,
     "metadata": {},
     "output_type": "execute_result"
    }
   ],
   "source": [
    "data.shape[0] == sum(sim.shape)"
   ]
  },
  {
   "cell_type": "code",
   "execution_count": 51,
   "metadata": {},
   "outputs": [],
   "source": [
    "indexes = data_no_train.index\n",
    "columns = train.index\n",
    "\n",
    "similarities = pd.DataFrame(np.amax(sim, axis=1))\n",
    "similarities.index = indexes"
   ]
  },
  {
   "cell_type": "code",
   "execution_count": null,
   "metadata": {},
   "outputs": [],
   "source": []
  },
  {
   "cell_type": "code",
   "execution_count": 52,
   "metadata": {},
   "outputs": [
    {
     "data": {
      "image/png": "[encoded data removed]",
      "text/plain": [
       "<Figure size 432x288 with 1 Axes>"
      ]
     },
     "metadata": {
      "needs_background": "light"
     },
     "output_type": "display_data"
    }
   ],
   "source": [
    "sns.distplot(similarities, label='General').set_title('Score distribution')\n",
    "sns.distplot(similarities.loc[test.index], label='Test')\n",
    "plt.legend(labels=['General', 'Test'])\n",
    "plt.show()"
   ]
  },
  {
   "cell_type": "code",
   "execution_count": 53,
   "metadata": {},
   "outputs": [
    {
     "name": "stdout",
     "output_type": "stream",
     "text": [
      "Média score geral: 0    0.835643\n",
      "dtype: float64\n",
      "Média score dos testes: 0    0.974435\n",
      "dtype: float64\n"
     ]
    }
   ],
   "source": [
    "# Score de cada empresa teste é maior similaridade dela com as de treino\n",
    "# e o score da métrica é média do score dos testes\n",
    "print(f'Média score geral: {similarities.mean()}')\n",
    "print(f'Média score dos testes: {similarities.loc[test.index].mean()}')\n",
    "\n",
    "\n",
    "info.append([\n",
    "    'Maior similaridade entre todas',\n",
    "    similarities.mean()[0],\n",
    "    similarities.loc[test.index].mean()[0],\n",
    "    similarities.std()[0],\n",
    "    similarities.min()[0],\n",
    "    similarities.max()[0]\n",
    "])"
   ]
  },
  {
   "cell_type": "markdown",
   "metadata": {},
   "source": [
    "#### Recomendações aleatórias\n",
    "\n",
    "Adicionar um valor aleatório entre 0 e 1 como score para cada empresa"
   ]
  },
  {
   "cell_type": "code",
   "execution_count": 54,
   "metadata": {},
   "outputs": [
    {
     "name": "stdout",
     "output_type": "stream",
     "text": [
      "Média score geral: 0    0.500165\n",
      "dtype: float64\n",
      "Média score dos testes: 0    0.450244\n",
      "dtype: float64\n"
     ]
    },
    {
     "data": {
      "image/png": "[encoded data removed]",
      "text/plain": [
       "<Figure size 432x288 with 1 Axes>"
      ]
     },
     "metadata": {
      "needs_background": "light"
     },
     "output_type": "display_data"
    }
   ],
   "source": [
    "np.random.seed(42)\n",
    "\n",
    "score = pd.DataFrame(data=np.random.rand(data_no_train.shape[0]))\n",
    "score.index = data_no_train.index\n",
    "\n",
    "print(f'Média score geral: {score.mean()}')\n",
    "print(f'Média score dos testes: {score.loc[test.index].mean()}')\n",
    "\n",
    "sns.distplot(score, label='General').set_title('Score distribution')\n",
    "sns.distplot(score.loc[test.index], label='Test')\n",
    "plt.legend(labels=['General', 'Test'])\n",
    "plt.show()\n",
    "\n",
    "info.append([\n",
    "    'Aleatório',\n",
    "    score.mean()[0],\n",
    "    score.loc[test.index].mean()[0],\n",
    "    score.std()[0],\n",
    "    score.min()[0],\n",
    "    score.max()[0]\n",
    "])"
   ]
  },
  {
   "cell_type": "code",
   "execution_count": 55,
   "metadata": {
    "scrolled": true
   },
   "outputs": [
    {
     "data": {
      "text/html": [
       "<div>\n",
       "<style scoped>\n",
       "    .dataframe tbody tr th:only-of-type {\n",
       "        vertical-align: middle;\n",
       "    }\n",
       "\n",
       "    .dataframe tbody tr th {\n",
       "        vertical-align: top;\n",
       "    }\n",
       "\n",
       "    .dataframe thead th {\n",
       "        text-align: right;\n",
       "    }\n",
       "</style>\n",
       "<table border=\"1\" class=\"dataframe\">\n",
       "  <thead>\n",
       "    <tr style=\"text-align: right;\">\n",
       "      <th></th>\n",
       "      <th>tech</th>\n",
       "      <th>general_score</th>\n",
       "      <th>test_score</th>\n",
       "      <th>std</th>\n",
       "      <th>min_score</th>\n",
       "      <th>max_score</th>\n",
       "    </tr>\n",
       "  </thead>\n",
       "  <tbody>\n",
       "    <tr>\n",
       "      <th>0</th>\n",
       "      <td>Média da similaridade e vetor usuário</td>\n",
       "      <td>0.062495</td>\n",
       "      <td>0.031827</td>\n",
       "      <td>0.069348</td>\n",
       "      <td>0.000158</td>\n",
       "      <td>0.449621</td>\n",
       "    </tr>\n",
       "    <tr>\n",
       "      <th>1</th>\n",
       "      <td>Média da similaridade com todas</td>\n",
       "      <td>0.662469</td>\n",
       "      <td>0.781853</td>\n",
       "      <td>0.233564</td>\n",
       "      <td>0.034356</td>\n",
       "      <td>0.891394</td>\n",
       "    </tr>\n",
       "    <tr>\n",
       "      <th>2</th>\n",
       "      <td>Maior similaridade entre todas</td>\n",
       "      <td>0.835643</td>\n",
       "      <td>0.974435</td>\n",
       "      <td>0.189448</td>\n",
       "      <td>0.147481</td>\n",
       "      <td>1.000000</td>\n",
       "    </tr>\n",
       "    <tr>\n",
       "      <th>3</th>\n",
       "      <td>Aleatório</td>\n",
       "      <td>0.500165</td>\n",
       "      <td>0.450244</td>\n",
       "      <td>0.288538</td>\n",
       "      <td>0.000002</td>\n",
       "      <td>0.999995</td>\n",
       "    </tr>\n",
       "  </tbody>\n",
       "</table>\n",
       "</div>"
      ],
      "text/plain": [
       "                                    tech  general_score  test_score       std  \\\n",
       "0  Média da similaridade e vetor usuário       0.062495    0.031827  0.069348   \n",
       "1        Média da similaridade com todas       0.662469    0.781853  0.233564   \n",
       "2         Maior similaridade entre todas       0.835643    0.974435  0.189448   \n",
       "3                              Aleatório       0.500165    0.450244  0.288538   \n",
       "\n",
       "   min_score  max_score  \n",
       "0   0.000158   0.449621  \n",
       "1   0.034356   0.891394  \n",
       "2   0.147481   1.000000  \n",
       "3   0.000002   0.999995  "
      ]
     },
     "execution_count": 55,
     "metadata": {},
     "output_type": "execute_result"
    }
   ],
   "source": [
    "p3_info = pd.DataFrame(info, columns=info_columns)\n",
    "\n",
    "p3_info"
   ]
  },
  {
   "cell_type": "code",
   "execution_count": 56,
   "metadata": {},
   "outputs": [
    {
     "data": {
      "text/html": [
       "<div>\n",
       "<style scoped>\n",
       "    .dataframe tbody tr th:only-of-type {\n",
       "        vertical-align: middle;\n",
       "    }\n",
       "\n",
       "    .dataframe tbody tr th {\n",
       "        vertical-align: top;\n",
       "    }\n",
       "\n",
       "    .dataframe thead th {\n",
       "        text-align: right;\n",
       "    }\n",
       "</style>\n",
       "<table border=\"1\" class=\"dataframe\">\n",
       "  <thead>\n",
       "    <tr style=\"text-align: right;\">\n",
       "      <th></th>\n",
       "      <th>tech</th>\n",
       "      <th>general_score</th>\n",
       "      <th>test_score</th>\n",
       "      <th>std</th>\n",
       "      <th>min_score</th>\n",
       "      <th>max_score</th>\n",
       "    </tr>\n",
       "  </thead>\n",
       "  <tbody>\n",
       "    <tr>\n",
       "      <th>0</th>\n",
       "      <td>Média da similaridade e vetor usuário</td>\n",
       "      <td>0.071805</td>\n",
       "      <td>0.021720</td>\n",
       "      <td>0.071108</td>\n",
       "      <td>0.000121</td>\n",
       "      <td>0.467443</td>\n",
       "    </tr>\n",
       "    <tr>\n",
       "      <th>1</th>\n",
       "      <td>Média da similaridade com todas</td>\n",
       "      <td>0.649739</td>\n",
       "      <td>0.783422</td>\n",
       "      <td>0.231594</td>\n",
       "      <td>0.028618</td>\n",
       "      <td>0.888374</td>\n",
       "    </tr>\n",
       "    <tr>\n",
       "      <th>2</th>\n",
       "      <td>Maior similaridade entre todas</td>\n",
       "      <td>0.820980</td>\n",
       "      <td>0.989885</td>\n",
       "      <td>0.226393</td>\n",
       "      <td>0.106864</td>\n",
       "      <td>1.000000</td>\n",
       "    </tr>\n",
       "    <tr>\n",
       "      <th>3</th>\n",
       "      <td>Aleatório</td>\n",
       "      <td>0.500173</td>\n",
       "      <td>0.473634</td>\n",
       "      <td>0.288539</td>\n",
       "      <td>0.000002</td>\n",
       "      <td>0.999995</td>\n",
       "    </tr>\n",
       "  </tbody>\n",
       "</table>\n",
       "</div>"
      ],
      "text/plain": [
       "                                    tech  general_score  test_score       std  \\\n",
       "0  Média da similaridade e vetor usuário       0.071805    0.021720  0.071108   \n",
       "1        Média da similaridade com todas       0.649739    0.783422  0.231594   \n",
       "2         Maior similaridade entre todas       0.820980    0.989885  0.226393   \n",
       "3                              Aleatório       0.500173    0.473634  0.288539   \n",
       "\n",
       "   min_score  max_score  \n",
       "0   0.000121   0.467443  \n",
       "1   0.028618   0.888374  \n",
       "2   0.106864   1.000000  \n",
       "3   0.000002   0.999995  "
      ]
     },
     "execution_count": 56,
     "metadata": {},
     "output_type": "execute_result"
    }
   ],
   "source": [
    "p2_info"
   ]
  },
  {
   "cell_type": "code",
   "execution_count": 57,
   "metadata": {},
   "outputs": [
    {
     "data": {
      "text/html": [
       "<div>\n",
       "<style scoped>\n",
       "    .dataframe tbody tr th:only-of-type {\n",
       "        vertical-align: middle;\n",
       "    }\n",
       "\n",
       "    .dataframe tbody tr th {\n",
       "        vertical-align: top;\n",
       "    }\n",
       "\n",
       "    .dataframe thead th {\n",
       "        text-align: right;\n",
       "    }\n",
       "</style>\n",
       "<table border=\"1\" class=\"dataframe\">\n",
       "  <thead>\n",
       "    <tr style=\"text-align: right;\">\n",
       "      <th></th>\n",
       "      <th>tech</th>\n",
       "      <th>general_score</th>\n",
       "      <th>test_score</th>\n",
       "      <th>std</th>\n",
       "      <th>min_score</th>\n",
       "      <th>max_score</th>\n",
       "    </tr>\n",
       "  </thead>\n",
       "  <tbody>\n",
       "    <tr>\n",
       "      <th>0</th>\n",
       "      <td>Média da similaridade e vetor usuário</td>\n",
       "      <td>0.046660</td>\n",
       "      <td>0.049081</td>\n",
       "      <td>0.067829</td>\n",
       "      <td>3.047972e-07</td>\n",
       "      <td>0.377314</td>\n",
       "    </tr>\n",
       "    <tr>\n",
       "      <th>1</th>\n",
       "      <td>Média da similaridade com todas</td>\n",
       "      <td>0.671327</td>\n",
       "      <td>0.728386</td>\n",
       "      <td>0.172563</td>\n",
       "      <td>9.812395e-03</td>\n",
       "      <td>0.828532</td>\n",
       "    </tr>\n",
       "    <tr>\n",
       "      <th>2</th>\n",
       "      <td>Maior similaridade entre todas</td>\n",
       "      <td>0.920455</td>\n",
       "      <td>0.981294</td>\n",
       "      <td>0.108975</td>\n",
       "      <td>2.995365e-01</td>\n",
       "      <td>1.000000</td>\n",
       "    </tr>\n",
       "    <tr>\n",
       "      <th>3</th>\n",
       "      <td>Aleatório</td>\n",
       "      <td>0.500175</td>\n",
       "      <td>0.477776</td>\n",
       "      <td>0.288539</td>\n",
       "      <td>2.227296e-06</td>\n",
       "      <td>0.999995</td>\n",
       "    </tr>\n",
       "  </tbody>\n",
       "</table>\n",
       "</div>"
      ],
      "text/plain": [
       "                                    tech  general_score  test_score       std  \\\n",
       "0  Média da similaridade e vetor usuário       0.046660    0.049081  0.067829   \n",
       "1        Média da similaridade com todas       0.671327    0.728386  0.172563   \n",
       "2         Maior similaridade entre todas       0.920455    0.981294  0.108975   \n",
       "3                              Aleatório       0.500175    0.477776  0.288539   \n",
       "\n",
       "      min_score  max_score  \n",
       "0  3.047972e-07   0.377314  \n",
       "1  9.812395e-03   0.828532  \n",
       "2  2.995365e-01   1.000000  \n",
       "3  2.227296e-06   0.999995  "
      ]
     },
     "execution_count": 57,
     "metadata": {},
     "output_type": "execute_result"
    }
   ],
   "source": [
    "p1_info"
   ]
  },
  {
   "cell_type": "code",
   "execution_count": 59,
   "metadata": {},
   "outputs": [],
   "source": [
    "# from scipy.spatial.distance import mahalanobis\n",
    "\n",
    "# def mahalanobis_df(u, v, Vi):\n",
    "#     '''\n",
    "#         @param u: input DataFrame\n",
    "#         @param v: input DataFrame\n",
    "#         @param Vi: inverse of covariance matrix of features\n",
    "        \n",
    "#         @return matrix of distances between u and v, with cols = u.index and index = v.index\n",
    "#     '''\n",
    "#     out = pd.DataFrame()\n",
    "#     for u_row in u.index:\n",
    "#         data = []\n",
    "#         for v_row in v.index:\n",
    "#             data.append(mahalanobis(u.loc[u_row].values, v.loc[v_row].values, Vi))\n",
    "            \n",
    "#         out[u_row] = data\n",
    "    \n",
    "#     out.index = v.index\n",
    "#     return out\n",
    "\n",
    "# mahalanobis_df(data.iloc[0:300], data.iloc[300:600], covariance_matrix_pinverse)"
   ]
  }
 ],
 "metadata": {
  "kernelspec": {
   "display_name": "Python 3",
   "language": "python",
   "name": "python3"
  },
  "language_info": {
   "codemirror_mode": {
    "name": "ipython",
    "version": 3
   },
   "file_extension": ".py",
   "mimetype": "text/x-python",
   "name": "python",
   "nbconvert_exporter": "python",
   "pygments_lexer": "ipython3",
   "version": "3.7.3"
  }
 },
 "nbformat": 4,
 "nbformat_minor": 2
}
