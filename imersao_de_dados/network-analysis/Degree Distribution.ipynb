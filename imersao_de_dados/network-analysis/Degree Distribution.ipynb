{
 "cells": [
  {
   "cell_type": "markdown",
   "metadata": {},
   "source": [
    "# Exercício 3 - Degree Distribution\n",
    "\n",
    "Ler e comparar a distribuição dos graus dos vérticeis de dois datasets: um deles é a versão mais completa do dataset do facebook usado nos exercícios 1 e 2, com mais vértices, e outro é um dataset randômico. Os dois têm a mesma quantidades de vértices e arestas.\n",
    "\n",
    "Procedimento:\n",
    "- Ler o dataset __\"facebook_combined.txt\"__, que está em formato csv, separado por espaço, sem cabeçalho.\n",
    "- Ler o dataset __\"another_random_graph.net\"__, que está em formato pajek (a função [__networkx.read_pajek__](http://networkx.readthedocs.io/en/networkx-1.11/reference/generated/networkx.readwrite.pajek.read_pajek.html) pode ajudá-lo)\n",
    "- Computar o degree dos dois grafos (a função [__networkx.degree__](http://networkx.readthedocs.io/en/networkx-1.11/reference/generated/networkx.classes.function.degree.html) pode ajudá-lo)\n",
    "- Usar a função __plot_degree_graph__, definida logo abaixo, para gerar o gráfico de distribuição dos graus."
   ]
  },
  {
   "cell_type": "code",
   "execution_count": 6,
   "metadata": {
    "collapsed": true
   },
   "outputs": [],
   "source": [
    "import matplotlib.pyplot as plt\n",
    "from collections import Counter\n",
    "\n",
    "def plot_degree_graph(degree_dict, title=''):\n",
    "    degree = sorted( Counter( degree_dict.values() ).iteritems(), key=lambda (k, v): k )\n",
    "    plt.clf()\n",
    "    plt.close()\n",
    "    plt.title(title)\n",
    "    plt.plot([ k for k, __ in degree ], \n",
    "             [ v for __, v in degree ])\n",
    "    plt.xlabel('amount of nodes')\n",
    "    plt.ylabel('degree')\n",
    "    plt.show()"
   ]
  }
 ],
 "metadata": {
  "kernelspec": {
   "display_name": "Python 2",
   "language": "python",
   "name": "python2"
  },
  "language_info": {
   "codemirror_mode": {
    "name": "ipython",
    "version": 2
   },
   "file_extension": ".py",
   "mimetype": "text/x-python",
   "name": "python",
   "nbconvert_exporter": "python",
   "pygments_lexer": "ipython2",
   "version": "2.7.8"
  }
 },
 "nbformat": 4,
 "nbformat_minor": 1
}
