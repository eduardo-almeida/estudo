{
 "cells": [
  {
   "cell_type": "markdown",
   "metadata": {},
   "source": [
    "\n",
    "Naive Bayes - Trabalho - Jader\n",
    "Questão 1\n",
    "\n",
    "Implemente um classifacor Naive Bayes para o problema de predizer a qualidade de um carro. Para este fim, utilizaremos um conjunto de dados referente a qualidade de carros, disponível no UCI. Este dataset de carros possui as seguintes features e classe:\n",
    "\n",
    "Attributos\n",
    "\n",
    "    buying: vhigh, high, med, low\n",
    "    maint: vhigh, high, med, low\n",
    "    doors: 2, 3, 4, 5, more\n",
    "    persons: 2, 4, more\n",
    "    lug_boot: small, med, big\n",
    "    safety: low, med, high\n",
    "\n",
    "Classes\n",
    "\n",
    "    unacc, acc, good, vgood\n",
    "\n",
    "\n",
    "QUESTÃO 1:\n"
   ]
  },
  {
   "cell_type": "code",
   "execution_count": 16,
   "metadata": {},
   "outputs": [],
   "source": [
    "import csv\n",
    "import random\n",
    "import math\n",
    "import pandas as pd\n",
    "from sklearn.preprocessing import LabelEncoder\n",
    "from sklearn.model_selection import train_test_split\n",
    "from sklearn.metrics import classification_report"
   ]
  },
  {
   "cell_type": "code",
   "execution_count": 27,
   "metadata": {},
   "outputs": [],
   "source": [
    "def loadCsv(filename):\n",
    "    lines = csv.reader(open(filename, \"r\"))\n",
    "    dataset = list(lines)\n",
    "    for i in range(len(dataset)):\n",
    "        dataset[i] = [str(x) for x in dataset[i]]\n",
    "    return dataset\n",
    "\n",
    "import random\n",
    "\n",
    "def splitDataset(dataset, splitRatio):\n",
    "    trainSize = int(len(dataset) * splitRatio)\n",
    "    trainSet = []\n",
    "    copy = list(dataset)\n",
    "    while len(trainSet) < trainSize:\n",
    "        index = random.randrange(len(copy))\n",
    "        trainSet.append(copy.pop(index))\n",
    "    return [trainSet, copy]\n",
    "\n",
    "def separateByClass(dataset):\n",
    "    separated = {}\n",
    "    for i in range(len(dataset)):\n",
    "        vector = dataset[i]\n",
    "        if (vector[-1] not in separated):\n",
    "            separated[vector[-1]] = []\n",
    "        separated[vector[-1]].append(vector)\n",
    "    return separated\n",
    "\n",
    "\n",
    "def mean(numbers):\n",
    "    return sum(numbers)/float(len(numbers))\n",
    " \n",
    "def stdev(numbers):\n",
    "    avg = mean(numbers)\n",
    "    variance = sum([pow(x-avg,2) for x in numbers])/float(len(numbers)-1)\n",
    "    return math.sqrt(variance)\n",
    "\n",
    "def summarize(dataset):\n",
    "    summaries = [(mean(attribute), stdev(attribute)) for attribute in zip(*dataset)]\n",
    "    del summaries[-1]\n",
    "    return summaries\n",
    "\n",
    "def summarizeByClass(dataset):\n",
    "    separated = separateByClass(dataset)\n",
    "    summaries = {}\n",
    "    for classValue, instances in separated.items():\n",
    "        summaries[classValue] = summarize(instances)\n",
    "    return summaries\n",
    "\n",
    "def calculateProbability(x, mean, stdev):\n",
    "    exponent = math.exp(-(math.pow(x-mean,2)/(2*math.pow(stdev,2))))\n",
    "    return (1 / (math.sqrt(2*math.pi) * stdev)) * exponent\n",
    "\n",
    "def calculateClassProbabilities(summaries, inputVector):\n",
    "    probabilities = {}\n",
    "    for classValue, classSummaries in summaries.items():\n",
    "        probabilities[classValue] = 1\n",
    "        for i in range(len(classSummaries)):\n",
    "            mean, stdev = classSummaries[i]\n",
    "            if stdev == 0.0:\n",
    "                stdev = 10000.0\n",
    "            x = inputVector[i]\n",
    "            probabilities[classValue] *= calculateProbability(x, mean, stdev)\n",
    "    return probabilities\n",
    "\n",
    "def predict(summaries, inputVector):\n",
    "    probabilities = calculateClassProbabilities(summaries, inputVector)\n",
    "    bestLabel, bestProb = None, -1\n",
    "    for classValue, probability in probabilities.items():\n",
    "        if bestLabel is None or probability > bestProb:\n",
    "            bestProb = probability\n",
    "            bestLabel = classValue\n",
    "    return bestLabel\n",
    "\n",
    "def getPredictions(summaries, testSet):\n",
    "    predictions = []\n",
    "    for _,row in testSet.iterrows():\n",
    "        result = predict(summaries, row)\n",
    "        predictions.append(result)\n",
    "    return predictions\n",
    "\n",
    "def getAccuracy(testSet, predictions):\n",
    "    correct = 0\n",
    "    for i in range(len(testSet)):\n",
    "        if testSet[i][-1] == predictions[i]:\n",
    "            correct += 1\n",
    "    return (correct/float(len(testSet))) * 100.0"
   ]
  },
  {
   "cell_type": "code",
   "execution_count": 3,
   "metadata": {},
   "outputs": [],
   "source": [
    "ds = loadCsv('carData.csv')"
   ]
  },
  {
   "cell_type": "code",
   "execution_count": 25,
   "metadata": {},
   "outputs": [
    {
     "data": {
      "text/html": [
       "<div>\n",
       "<style scoped>\n",
       "    .dataframe tbody tr th:only-of-type {\n",
       "        vertical-align: middle;\n",
       "    }\n",
       "\n",
       "    .dataframe tbody tr th {\n",
       "        vertical-align: top;\n",
       "    }\n",
       "\n",
       "    .dataframe thead th {\n",
       "        text-align: right;\n",
       "    }\n",
       "</style>\n",
       "<table border=\"1\" class=\"dataframe\">\n",
       "  <thead>\n",
       "    <tr style=\"text-align: right;\">\n",
       "      <th></th>\n",
       "      <th>vhigh</th>\n",
       "      <th>vhigh.1</th>\n",
       "      <th>2</th>\n",
       "      <th>2.1</th>\n",
       "      <th>small</th>\n",
       "      <th>low</th>\n",
       "      <th>Class</th>\n",
       "    </tr>\n",
       "  </thead>\n",
       "  <tbody>\n",
       "    <tr>\n",
       "      <th>159</th>\n",
       "      <td>3</td>\n",
       "      <td>0</td>\n",
       "      <td>1</td>\n",
       "      <td>2</td>\n",
       "      <td>0</td>\n",
       "      <td>2</td>\n",
       "      <td>2</td>\n",
       "    </tr>\n",
       "    <tr>\n",
       "      <th>1622</th>\n",
       "      <td>1</td>\n",
       "      <td>1</td>\n",
       "      <td>0</td>\n",
       "      <td>0</td>\n",
       "      <td>1</td>\n",
       "      <td>1</td>\n",
       "      <td>2</td>\n",
       "    </tr>\n",
       "    <tr>\n",
       "      <th>1032</th>\n",
       "      <td>2</td>\n",
       "      <td>0</td>\n",
       "      <td>2</td>\n",
       "      <td>0</td>\n",
       "      <td>0</td>\n",
       "      <td>2</td>\n",
       "      <td>2</td>\n",
       "    </tr>\n",
       "    <tr>\n",
       "      <th>731</th>\n",
       "      <td>0</td>\n",
       "      <td>2</td>\n",
       "      <td>3</td>\n",
       "      <td>0</td>\n",
       "      <td>1</td>\n",
       "      <td>1</td>\n",
       "      <td>2</td>\n",
       "    </tr>\n",
       "    <tr>\n",
       "      <th>1272</th>\n",
       "      <td>2</td>\n",
       "      <td>1</td>\n",
       "      <td>3</td>\n",
       "      <td>0</td>\n",
       "      <td>1</td>\n",
       "      <td>2</td>\n",
       "      <td>2</td>\n",
       "    </tr>\n",
       "  </tbody>\n",
       "</table>\n",
       "</div>"
      ],
      "text/plain": [
       "      vhigh  vhigh.1  2  2.1  small  low  Class\n",
       "159       3        0  1    2      0    2      2\n",
       "1622      1        1  0    0      1    1      2\n",
       "1032      2        0  2    0      0    2      2\n",
       "731       0        2  3    0      1    1      2\n",
       "1272      2        1  3    0      1    2      2"
      ]
     },
     "execution_count": 25,
     "metadata": {},
     "output_type": "execute_result"
    }
   ],
   "source": [
    "filename = 'carData.csv'\n",
    "dataset = pd.read_csv(filename)\n",
    "for i in range(0, dataset.shape[1]):\n",
    "    dataset.iloc[:,i] = LabelEncoder().fit_transform(dataset.iloc[:,i])\n",
    "    \n",
    "Y = dataset.unacc.copy()\n",
    "del dataset['unacc']\n",
    "X = dataset\n",
    "\n",
    "X_train, X_test, Y_train, Y_test = train_test_split(X,Y,test_size=0.3)\n",
    "\n",
    "X_train_sk = X_train.copy()\n",
    "\n",
    "idx = X_train.shape[1]\n",
    "new_col = Y_train \n",
    "X_train.insert(loc=idx, column='Class', value=new_col)\n",
    "\n",
    "X_train.head()"
   ]
  },
  {
   "cell_type": "code",
   "execution_count": 26,
   "metadata": {},
   "outputs": [
    {
     "ename": "KeyError",
     "evalue": "0",
     "output_type": "error",
     "traceback": [
      "\u001b[0;31m---------------------------------------------------------------------------\u001b[0m",
      "\u001b[0;31mKeyError\u001b[0m                                  Traceback (most recent call last)",
      "\u001b[0;32m~/miniconda3/envs/aula/lib/python3.6/site-packages/pandas/core/indexes/base.py\u001b[0m in \u001b[0;36mget_loc\u001b[0;34m(self, key, method, tolerance)\u001b[0m\n\u001b[1;32m   2524\u001b[0m             \u001b[0;32mtry\u001b[0m\u001b[0;34m:\u001b[0m\u001b[0;34m\u001b[0m\u001b[0m\n\u001b[0;32m-> 2525\u001b[0;31m                 \u001b[0;32mreturn\u001b[0m \u001b[0mself\u001b[0m\u001b[0;34m.\u001b[0m\u001b[0m_engine\u001b[0m\u001b[0;34m.\u001b[0m\u001b[0mget_loc\u001b[0m\u001b[0;34m(\u001b[0m\u001b[0mkey\u001b[0m\u001b[0;34m)\u001b[0m\u001b[0;34m\u001b[0m\u001b[0m\n\u001b[0m\u001b[1;32m   2526\u001b[0m             \u001b[0;32mexcept\u001b[0m \u001b[0mKeyError\u001b[0m\u001b[0;34m:\u001b[0m\u001b[0;34m\u001b[0m\u001b[0m\n",
      "\u001b[0;32mpandas/_libs/index.pyx\u001b[0m in \u001b[0;36mpandas._libs.index.IndexEngine.get_loc\u001b[0;34m()\u001b[0m\n",
      "\u001b[0;32mpandas/_libs/index.pyx\u001b[0m in \u001b[0;36mpandas._libs.index.IndexEngine.get_loc\u001b[0;34m()\u001b[0m\n",
      "\u001b[0;32mpandas/_libs/hashtable_class_helper.pxi\u001b[0m in \u001b[0;36mpandas._libs.hashtable.PyObjectHashTable.get_item\u001b[0;34m()\u001b[0m\n",
      "\u001b[0;32mpandas/_libs/hashtable_class_helper.pxi\u001b[0m in \u001b[0;36mpandas._libs.hashtable.PyObjectHashTable.get_item\u001b[0;34m()\u001b[0m\n",
      "\u001b[0;31mKeyError\u001b[0m: 0",
      "\nDuring handling of the above exception, another exception occurred:\n",
      "\u001b[0;31mKeyError\u001b[0m                                  Traceback (most recent call last)",
      "\u001b[0;32m<ipython-input-26-a33a62a4f28f>\u001b[0m in \u001b[0;36m<module>\u001b[0;34m()\u001b[0m\n\u001b[0;32m----> 1\u001b[0;31m \u001b[0msummaries\u001b[0m \u001b[0;34m=\u001b[0m \u001b[0msummarizeByClass\u001b[0m\u001b[0;34m(\u001b[0m\u001b[0mX_train\u001b[0m\u001b[0;34m)\u001b[0m\u001b[0;34m\u001b[0m\u001b[0m\n\u001b[0m",
      "\u001b[0;32m<ipython-input-24-e6d4d6247d08>\u001b[0m in \u001b[0;36msummarizeByClass\u001b[0;34m(dataset)\u001b[0m\n\u001b[1;32m     49\u001b[0m \u001b[0;34m\u001b[0m\u001b[0m\n\u001b[1;32m     50\u001b[0m \u001b[0;32mdef\u001b[0m \u001b[0msummarizeByClass\u001b[0m\u001b[0;34m(\u001b[0m\u001b[0mdataset\u001b[0m\u001b[0;34m)\u001b[0m\u001b[0;34m:\u001b[0m\u001b[0;34m\u001b[0m\u001b[0m\n\u001b[0;32m---> 51\u001b[0;31m     \u001b[0mseparated\u001b[0m \u001b[0;34m=\u001b[0m \u001b[0mseparateByClass\u001b[0m\u001b[0;34m(\u001b[0m\u001b[0mdataset\u001b[0m\u001b[0;34m)\u001b[0m\u001b[0;34m\u001b[0m\u001b[0m\n\u001b[0m\u001b[1;32m     52\u001b[0m     \u001b[0msummaries\u001b[0m \u001b[0;34m=\u001b[0m \u001b[0;34m{\u001b[0m\u001b[0;34m}\u001b[0m\u001b[0;34m\u001b[0m\u001b[0m\n\u001b[1;32m     53\u001b[0m     \u001b[0;32mfor\u001b[0m \u001b[0mclassValue\u001b[0m\u001b[0;34m,\u001b[0m \u001b[0minstances\u001b[0m \u001b[0;32min\u001b[0m \u001b[0mseparated\u001b[0m\u001b[0;34m.\u001b[0m\u001b[0mitems\u001b[0m\u001b[0;34m(\u001b[0m\u001b[0;34m)\u001b[0m\u001b[0;34m:\u001b[0m\u001b[0;34m\u001b[0m\u001b[0m\n",
      "\u001b[0;32m<ipython-input-24-e6d4d6247d08>\u001b[0m in \u001b[0;36mseparateByClass\u001b[0;34m(dataset)\u001b[0m\n\u001b[1;32m     28\u001b[0m     \u001b[0mseparated\u001b[0m \u001b[0;34m=\u001b[0m \u001b[0;34m{\u001b[0m\u001b[0;34m}\u001b[0m\u001b[0;34m\u001b[0m\u001b[0m\n\u001b[1;32m     29\u001b[0m     \u001b[0;32mfor\u001b[0m \u001b[0mi\u001b[0m \u001b[0;32min\u001b[0m \u001b[0mrange\u001b[0m\u001b[0;34m(\u001b[0m\u001b[0mlen\u001b[0m\u001b[0;34m(\u001b[0m\u001b[0mdataset\u001b[0m\u001b[0;34m)\u001b[0m\u001b[0;34m)\u001b[0m\u001b[0;34m:\u001b[0m\u001b[0;34m\u001b[0m\u001b[0m\n\u001b[0;32m---> 30\u001b[0;31m         \u001b[0mvector\u001b[0m \u001b[0;34m=\u001b[0m \u001b[0mdataset\u001b[0m\u001b[0;34m[\u001b[0m\u001b[0mi\u001b[0m\u001b[0;34m]\u001b[0m\u001b[0;34m\u001b[0m\u001b[0m\n\u001b[0m\u001b[1;32m     31\u001b[0m         \u001b[0;32mif\u001b[0m \u001b[0;34m(\u001b[0m\u001b[0mvector\u001b[0m\u001b[0;34m[\u001b[0m\u001b[0;34m-\u001b[0m\u001b[0;36m1\u001b[0m\u001b[0;34m]\u001b[0m \u001b[0;32mnot\u001b[0m \u001b[0;32min\u001b[0m \u001b[0mseparated\u001b[0m\u001b[0;34m)\u001b[0m\u001b[0;34m:\u001b[0m\u001b[0;34m\u001b[0m\u001b[0m\n\u001b[1;32m     32\u001b[0m             \u001b[0mseparated\u001b[0m\u001b[0;34m[\u001b[0m\u001b[0mvector\u001b[0m\u001b[0;34m[\u001b[0m\u001b[0;34m-\u001b[0m\u001b[0;36m1\u001b[0m\u001b[0;34m]\u001b[0m\u001b[0;34m]\u001b[0m \u001b[0;34m=\u001b[0m \u001b[0;34m[\u001b[0m\u001b[0;34m]\u001b[0m\u001b[0;34m\u001b[0m\u001b[0m\n",
      "\u001b[0;32m~/miniconda3/envs/aula/lib/python3.6/site-packages/pandas/core/frame.py\u001b[0m in \u001b[0;36m__getitem__\u001b[0;34m(self, key)\u001b[0m\n\u001b[1;32m   2137\u001b[0m             \u001b[0;32mreturn\u001b[0m \u001b[0mself\u001b[0m\u001b[0;34m.\u001b[0m\u001b[0m_getitem_multilevel\u001b[0m\u001b[0;34m(\u001b[0m\u001b[0mkey\u001b[0m\u001b[0;34m)\u001b[0m\u001b[0;34m\u001b[0m\u001b[0m\n\u001b[1;32m   2138\u001b[0m         \u001b[0;32melse\u001b[0m\u001b[0;34m:\u001b[0m\u001b[0;34m\u001b[0m\u001b[0m\n\u001b[0;32m-> 2139\u001b[0;31m             \u001b[0;32mreturn\u001b[0m \u001b[0mself\u001b[0m\u001b[0;34m.\u001b[0m\u001b[0m_getitem_column\u001b[0m\u001b[0;34m(\u001b[0m\u001b[0mkey\u001b[0m\u001b[0;34m)\u001b[0m\u001b[0;34m\u001b[0m\u001b[0m\n\u001b[0m\u001b[1;32m   2140\u001b[0m \u001b[0;34m\u001b[0m\u001b[0m\n\u001b[1;32m   2141\u001b[0m     \u001b[0;32mdef\u001b[0m \u001b[0m_getitem_column\u001b[0m\u001b[0;34m(\u001b[0m\u001b[0mself\u001b[0m\u001b[0;34m,\u001b[0m \u001b[0mkey\u001b[0m\u001b[0;34m)\u001b[0m\u001b[0;34m:\u001b[0m\u001b[0;34m\u001b[0m\u001b[0m\n",
      "\u001b[0;32m~/miniconda3/envs/aula/lib/python3.6/site-packages/pandas/core/frame.py\u001b[0m in \u001b[0;36m_getitem_column\u001b[0;34m(self, key)\u001b[0m\n\u001b[1;32m   2144\u001b[0m         \u001b[0;31m# get column\u001b[0m\u001b[0;34m\u001b[0m\u001b[0;34m\u001b[0m\u001b[0m\n\u001b[1;32m   2145\u001b[0m         \u001b[0;32mif\u001b[0m \u001b[0mself\u001b[0m\u001b[0;34m.\u001b[0m\u001b[0mcolumns\u001b[0m\u001b[0;34m.\u001b[0m\u001b[0mis_unique\u001b[0m\u001b[0;34m:\u001b[0m\u001b[0;34m\u001b[0m\u001b[0m\n\u001b[0;32m-> 2146\u001b[0;31m             \u001b[0;32mreturn\u001b[0m \u001b[0mself\u001b[0m\u001b[0;34m.\u001b[0m\u001b[0m_get_item_cache\u001b[0m\u001b[0;34m(\u001b[0m\u001b[0mkey\u001b[0m\u001b[0;34m)\u001b[0m\u001b[0;34m\u001b[0m\u001b[0m\n\u001b[0m\u001b[1;32m   2147\u001b[0m \u001b[0;34m\u001b[0m\u001b[0m\n\u001b[1;32m   2148\u001b[0m         \u001b[0;31m# duplicate columns & possible reduce dimensionality\u001b[0m\u001b[0;34m\u001b[0m\u001b[0;34m\u001b[0m\u001b[0m\n",
      "\u001b[0;32m~/miniconda3/envs/aula/lib/python3.6/site-packages/pandas/core/generic.py\u001b[0m in \u001b[0;36m_get_item_cache\u001b[0;34m(self, item)\u001b[0m\n\u001b[1;32m   1840\u001b[0m         \u001b[0mres\u001b[0m \u001b[0;34m=\u001b[0m \u001b[0mcache\u001b[0m\u001b[0;34m.\u001b[0m\u001b[0mget\u001b[0m\u001b[0;34m(\u001b[0m\u001b[0mitem\u001b[0m\u001b[0;34m)\u001b[0m\u001b[0;34m\u001b[0m\u001b[0m\n\u001b[1;32m   1841\u001b[0m         \u001b[0;32mif\u001b[0m \u001b[0mres\u001b[0m \u001b[0;32mis\u001b[0m \u001b[0;32mNone\u001b[0m\u001b[0;34m:\u001b[0m\u001b[0;34m\u001b[0m\u001b[0m\n\u001b[0;32m-> 1842\u001b[0;31m             \u001b[0mvalues\u001b[0m \u001b[0;34m=\u001b[0m \u001b[0mself\u001b[0m\u001b[0;34m.\u001b[0m\u001b[0m_data\u001b[0m\u001b[0;34m.\u001b[0m\u001b[0mget\u001b[0m\u001b[0;34m(\u001b[0m\u001b[0mitem\u001b[0m\u001b[0;34m)\u001b[0m\u001b[0;34m\u001b[0m\u001b[0m\n\u001b[0m\u001b[1;32m   1843\u001b[0m             \u001b[0mres\u001b[0m \u001b[0;34m=\u001b[0m \u001b[0mself\u001b[0m\u001b[0;34m.\u001b[0m\u001b[0m_box_item_values\u001b[0m\u001b[0;34m(\u001b[0m\u001b[0mitem\u001b[0m\u001b[0;34m,\u001b[0m \u001b[0mvalues\u001b[0m\u001b[0;34m)\u001b[0m\u001b[0;34m\u001b[0m\u001b[0m\n\u001b[1;32m   1844\u001b[0m             \u001b[0mcache\u001b[0m\u001b[0;34m[\u001b[0m\u001b[0mitem\u001b[0m\u001b[0;34m]\u001b[0m \u001b[0;34m=\u001b[0m \u001b[0mres\u001b[0m\u001b[0;34m\u001b[0m\u001b[0m\n",
      "\u001b[0;32m~/miniconda3/envs/aula/lib/python3.6/site-packages/pandas/core/internals.py\u001b[0m in \u001b[0;36mget\u001b[0;34m(self, item, fastpath)\u001b[0m\n\u001b[1;32m   3841\u001b[0m \u001b[0;34m\u001b[0m\u001b[0m\n\u001b[1;32m   3842\u001b[0m             \u001b[0;32mif\u001b[0m \u001b[0;32mnot\u001b[0m \u001b[0misna\u001b[0m\u001b[0;34m(\u001b[0m\u001b[0mitem\u001b[0m\u001b[0;34m)\u001b[0m\u001b[0;34m:\u001b[0m\u001b[0;34m\u001b[0m\u001b[0m\n\u001b[0;32m-> 3843\u001b[0;31m                 \u001b[0mloc\u001b[0m \u001b[0;34m=\u001b[0m \u001b[0mself\u001b[0m\u001b[0;34m.\u001b[0m\u001b[0mitems\u001b[0m\u001b[0;34m.\u001b[0m\u001b[0mget_loc\u001b[0m\u001b[0;34m(\u001b[0m\u001b[0mitem\u001b[0m\u001b[0;34m)\u001b[0m\u001b[0;34m\u001b[0m\u001b[0m\n\u001b[0m\u001b[1;32m   3844\u001b[0m             \u001b[0;32melse\u001b[0m\u001b[0;34m:\u001b[0m\u001b[0;34m\u001b[0m\u001b[0m\n\u001b[1;32m   3845\u001b[0m                 \u001b[0mindexer\u001b[0m \u001b[0;34m=\u001b[0m \u001b[0mnp\u001b[0m\u001b[0;34m.\u001b[0m\u001b[0marange\u001b[0m\u001b[0;34m(\u001b[0m\u001b[0mlen\u001b[0m\u001b[0;34m(\u001b[0m\u001b[0mself\u001b[0m\u001b[0;34m.\u001b[0m\u001b[0mitems\u001b[0m\u001b[0;34m)\u001b[0m\u001b[0;34m)\u001b[0m\u001b[0;34m[\u001b[0m\u001b[0misna\u001b[0m\u001b[0;34m(\u001b[0m\u001b[0mself\u001b[0m\u001b[0;34m.\u001b[0m\u001b[0mitems\u001b[0m\u001b[0;34m)\u001b[0m\u001b[0;34m]\u001b[0m\u001b[0;34m\u001b[0m\u001b[0m\n",
      "\u001b[0;32m~/miniconda3/envs/aula/lib/python3.6/site-packages/pandas/core/indexes/base.py\u001b[0m in \u001b[0;36mget_loc\u001b[0;34m(self, key, method, tolerance)\u001b[0m\n\u001b[1;32m   2525\u001b[0m                 \u001b[0;32mreturn\u001b[0m \u001b[0mself\u001b[0m\u001b[0;34m.\u001b[0m\u001b[0m_engine\u001b[0m\u001b[0;34m.\u001b[0m\u001b[0mget_loc\u001b[0m\u001b[0;34m(\u001b[0m\u001b[0mkey\u001b[0m\u001b[0;34m)\u001b[0m\u001b[0;34m\u001b[0m\u001b[0m\n\u001b[1;32m   2526\u001b[0m             \u001b[0;32mexcept\u001b[0m \u001b[0mKeyError\u001b[0m\u001b[0;34m:\u001b[0m\u001b[0;34m\u001b[0m\u001b[0m\n\u001b[0;32m-> 2527\u001b[0;31m                 \u001b[0;32mreturn\u001b[0m \u001b[0mself\u001b[0m\u001b[0;34m.\u001b[0m\u001b[0m_engine\u001b[0m\u001b[0;34m.\u001b[0m\u001b[0mget_loc\u001b[0m\u001b[0;34m(\u001b[0m\u001b[0mself\u001b[0m\u001b[0;34m.\u001b[0m\u001b[0m_maybe_cast_indexer\u001b[0m\u001b[0;34m(\u001b[0m\u001b[0mkey\u001b[0m\u001b[0;34m)\u001b[0m\u001b[0;34m)\u001b[0m\u001b[0;34m\u001b[0m\u001b[0m\n\u001b[0m\u001b[1;32m   2528\u001b[0m \u001b[0;34m\u001b[0m\u001b[0m\n\u001b[1;32m   2529\u001b[0m         \u001b[0mindexer\u001b[0m \u001b[0;34m=\u001b[0m \u001b[0mself\u001b[0m\u001b[0;34m.\u001b[0m\u001b[0mget_indexer\u001b[0m\u001b[0;34m(\u001b[0m\u001b[0;34m[\u001b[0m\u001b[0mkey\u001b[0m\u001b[0;34m]\u001b[0m\u001b[0;34m,\u001b[0m \u001b[0mmethod\u001b[0m\u001b[0;34m=\u001b[0m\u001b[0mmethod\u001b[0m\u001b[0;34m,\u001b[0m \u001b[0mtolerance\u001b[0m\u001b[0;34m=\u001b[0m\u001b[0mtolerance\u001b[0m\u001b[0;34m)\u001b[0m\u001b[0;34m\u001b[0m\u001b[0m\n",
      "\u001b[0;32mpandas/_libs/index.pyx\u001b[0m in \u001b[0;36mpandas._libs.index.IndexEngine.get_loc\u001b[0;34m()\u001b[0m\n",
      "\u001b[0;32mpandas/_libs/index.pyx\u001b[0m in \u001b[0;36mpandas._libs.index.IndexEngine.get_loc\u001b[0;34m()\u001b[0m\n",
      "\u001b[0;32mpandas/_libs/hashtable_class_helper.pxi\u001b[0m in \u001b[0;36mpandas._libs.hashtable.PyObjectHashTable.get_item\u001b[0;34m()\u001b[0m\n",
      "\u001b[0;32mpandas/_libs/hashtable_class_helper.pxi\u001b[0m in \u001b[0;36mpandas._libs.hashtable.PyObjectHashTable.get_item\u001b[0;34m()\u001b[0m\n",
      "\u001b[0;31mKeyError\u001b[0m: 0"
     ]
    }
   ],
   "source": [
    "summaries = summarizeByClass(X_train)"
   ]
  },
  {
   "cell_type": "code",
   "execution_count": 6,
   "metadata": {},
   "outputs": [
    {
     "name": "stdout",
     "output_type": "stream",
     "text": [
      "[['low', 'vhigh', '5more', '2', 'small', 'med', 'unacc'], ['med', 'low', '4', '2', 'med', 'med', 'unacc'], ['vhigh', 'med', '5more', '4', 'big', 'high', 'acc'], ['vhigh', 'vhigh', '2', '4', 'med', 'low', 'unacc'], ['med', 'med', '2', '4', 'big', 'low', 'unacc'], ['low', 'vhigh', '4', '2', 'small', 'high', 'unacc'], ['low', 'high', '3', 'more', 'small', 'low', 'unacc'], ['high', 'high', '3', 'more', 'small', 'high', 'acc'], ['vhigh', 'high', '3', '2', 'med', 'low', 'unacc'], ['low', 'low', '3', '2', 'big', 'high', 'unacc'], ['low', 'vhigh', '5more', 'more', 'med', 'med', 'acc'], ['vhigh', 'vhigh', '2', '2', 'big', 'high', 'unacc'], ['vhigh', 'vhigh', '3', '2', 'big', 'high', 'unacc'], ['med', 'high', '3', 'more', 'big', 'high', 'acc'], ['high', 'med', '2', '2', 'big', 'med', 'unacc'], ['high', 'vhigh', '5more', '4', 'big', 'low', 'unacc'], ['low', 'low', '3', '4', 'small', 'high', 'good'], ['med', 'med', '5more', '4', 'big', 'high', 'vgood'], ['low', 'med', '3', '2', 'med', 'high', 'unacc'], ['high', 'high', '5more', 'more', 'big', 'high', 'acc'], ['vhigh', 'vhigh', '3', '2', 'med', 'med', 'unacc'], ['med', 'high', '2', '2', 'small', 'med', 'unacc'], ['vhigh', 'high', '5more', 'more', 'small', 'high', 'unacc'], ['vhigh', 'vhigh', '2', '2', 'big', 'low', 'unacc'], ['high', 'vhigh', '2', '2', 'med', 'high', 'unacc'], ['high', 'med', '2', '2', 'small', 'med', 'unacc'], ['vhigh', 'high', '4', 'more', 'med', 'low', 'unacc'], ['med', 'med', '4', '2', 'med', 'low', 'unacc'], ['vhigh', 'low', '4', 'more', 'small', 'med', 'unacc'], ['med', 'med', '5more', 'more', 'small', 'high', 'acc'], ['low', 'med', '4', '4', 'small', 'low', 'unacc'], ['high', 'vhigh', '2', '2', 'med', 'med', 'unacc'], ['low', 'low', '5more', 'more', 'big', 'low', 'unacc'], ['low', 'high', '4', '4', 'small', 'high', 'acc'], ['high', 'med', '5more', '4', 'med', 'low', 'unacc'], ['high', 'high', '5more', '2', 'big', 'low', 'unacc'], ['high', 'high', '2', '2', 'small', 'low', 'unacc'], ['low', 'med', '5more', 'more', 'med', 'low', 'unacc'], ['low', 'high', '2', '4', 'small', 'med', 'acc'], ['vhigh', 'vhigh', '5more', 'more', 'med', 'low', 'unacc'], ['low', 'low', '5more', '4', 'med', 'high', 'vgood'], ['low', 'low', '2', 'more', 'big', 'med', 'good'], ['low', 'vhigh', '4', '2', 'med', 'low', 'unacc'], ['med', 'high', '3', 'more', 'small', 'low', 'unacc'], ['vhigh', 'med', '4', 'more', 'med', 'high', 'acc'], ['high', 'high', '5more', '2', 'small', 'low', 'unacc'], ['high', 'low', '5more', '2', 'small', 'high', 'unacc'], ['med', 'med', '4', 'more', 'small', 'high', 'acc'], ['high', 'med', '4', '4', 'big', 'high', 'acc'], ['high', 'high', '4', '4', 'med', 'low', 'unacc'], ['vhigh', 'low', '2', '2', 'big', 'med', 'unacc'], ['med', 'med', '5more', '4', 'big', 'low', 'unacc'], ['low', 'vhigh', '2', '2', 'med', 'high', 'unacc'], ['low', 'low', '5more', '4', 'med', 'low', 'unacc'], ['high', 'med', '2', 'more', 'small', 'med', 'unacc'], ['low', 'vhigh', '3', '4', 'big', 'high', 'acc'], ['low', 'med', '2', '2', 'small', 'low', 'unacc'], ['high', 'low', '4', 'more', 'small', 'high', 'acc'], ['vhigh', 'low', '2', '2', 'med', 'high', 'unacc'], ['high', 'med', '4', 'more', 'small', 'med', 'unacc'], ['med', 'low', '2', '4', 'med', 'low', 'unacc'], ['med', 'vhigh', '5more', '2', 'small', 'high', 'unacc'], ['med', 'vhigh', '4', '4', 'med', 'low', 'unacc'], ['low', 'vhigh', '2', '4', 'big', 'med', 'acc'], ['low', 'low', '4', 'more', 'big', 'high', 'vgood'], ['vhigh', 'high', '5more', '2', 'big', 'low', 'unacc'], ['high', 'vhigh', '2', '4', 'med', 'low', 'unacc'], ['vhigh', 'vhigh', '2', '2', 'small', 'low', 'unacc'], ['vhigh', 'med', '4', '2', 'big', 'low', 'unacc'], ['low', 'vhigh', '4', 'more', 'big', 'med', 'acc'], ['med', 'med', '5more', '2', 'med', 'low', 'unacc'], ['vhigh', 'high', '5more', 'more', 'big', 'low', 'unacc'], ['med', 'med', '3', 'more', 'big', 'med', 'acc'], ['med', 'high', '3', '4', 'small', 'med', 'unacc'], ['low', 'med', '2', '2', 'big', 'low', 'unacc'], ['low', 'vhigh', '4', '4', 'small', 'low', 'unacc'], ['vhigh', 'low', '2', '4', 'big', 'low', 'unacc'], ['med', 'vhigh', '4', '2', 'med', 'med', 'unacc'], ['high', 'med', '4', '4', 'small', 'med', 'unacc'], ['high', 'med', '3', '4', 'med', 'low', 'unacc'], ['high', 'med', '3', '4', 'big', 'high', 'acc'], ['low', 'vhigh', '5more', '2', 'small', 'high', 'unacc'], ['low', 'vhigh', '5more', '2', 'med', 'low', 'unacc'], ['low', 'low', '2', 'more', 'med', 'low', 'unacc'], ['med', 'low', '2', '2', 'med', 'high', 'unacc'], ['med', 'med', '2', '4', 'big', 'med', 'acc'], ['high', 'vhigh', '5more', '4', 'small', 'low', 'unacc'], ['high', 'high', '5more', '4', 'small', 'med', 'unacc'], ['vhigh', 'low', '4', '4', 'med', 'high', 'acc'], ['vhigh', 'high', '4', 'more', 'med', 'high', 'unacc'], ['med', 'high', '3', '4', 'small', 'low', 'unacc'], ['med', 'med', '3', '4', 'med', 'high', 'acc'], ['low', 'high', '2', '2', 'small', 'high', 'unacc'], ['low', 'high', '3', '2', 'med', 'low', 'unacc'], ['med', 'low', '4', 'more', 'small', 'high', 'good'], ['med', 'vhigh', '3', 'more', 'big', 'high', 'acc'], ['med', 'high', '2', '2', 'med', 'med', 'unacc'], ['low', 'low', '3', '2', 'small', 'med', 'unacc'], ['high', 'vhigh', '3', '2', 'big', 'high', 'unacc'], ['vhigh', 'low', '3', '2', 'small', 'high', 'unacc'], ['low', 'vhigh', '4', '2', 'med', 'high', 'unacc'], ['high', 'low', '2', 'more', 'small', 'low', 'unacc'], ['med', 'low', '3', '4', 'big', 'high', 'vgood'], ['low', 'vhigh', '2', '4', 'med', 'low', 'unacc'], ['high', 'low', '5more', '4', 'big', 'med', 'acc'], ['med', 'med', '3', '2', 'med', 'high', 'unacc'], ['low', 'vhigh', '3', '2', 'med', 'med', 'unacc'], ['vhigh', 'high', '3', 'more', 'small', 'low', 'unacc'], ['vhigh', 'med', '5more', 'more', 'med', 'low', 'unacc'], ['vhigh', 'vhigh', '2', 'more', 'med', 'low', 'unacc'], ['med', 'vhigh', '5more', '4', 'med', 'high', 'acc'], ['vhigh', 'vhigh', '2', 'more', 'small', 'low', 'unacc'], ['vhigh', 'med', '2', '4', 'big', 'low', 'unacc'], ['high', 'high', '3', '2', 'small', 'low', 'unacc'], ['low', 'low', '4', 'more', 'small', 'med', 'acc'], ['high', 'high', '2', 'more', 'small', 'high', 'unacc'], ['med', 'med', '2', '4', 'big', 'high', 'vgood'], ['high', 'vhigh', '5more', '2', 'med', 'low', 'unacc'], ['med', 'low', '5more', '4', 'big', 'high', 'vgood'], ['high', 'vhigh', '2', '4', 'small', 'med', 'unacc'], ['med', 'low', '5more', 'more', 'small', 'med', 'acc'], ['high', 'vhigh', '3', 'more', 'big', 'low', 'unacc'], ['high', 'med', '5more', '2', 'big', 'med', 'unacc'], ['low', 'low', '2', '4', 'small', 'med', 'acc'], ['high', 'high', '3', '4', 'big', 'high', 'acc'], ['med', 'high', '5more', 'more', 'big', 'high', 'acc'], ['vhigh', 'vhigh', '4', '2', 'big', 'low', 'unacc'], ['med', 'med', '3', '4', 'small', 'med', 'acc'], ['high', 'low', '2', '2', 'big', 'high', 'unacc'], ['med', 'med', '4', '4', 'med', 'high', 'vgood'], ['med', 'low', '4', '4', 'big', 'med', 'good'], ['high', 'high', '2', 'more', 'small', 'med', 'unacc'], ['high', 'low', '5more', '4', 'big', 'low', 'unacc'], ['vhigh', 'low', '5more', 'more', 'med', 'med', 'acc'], ['med', 'med', '3', '2', 'small', 'med', 'unacc'], ['low', 'vhigh', '5more', '2', 'big', 'low', 'unacc'], ['low', 'low', '4', 'more', 'small', 'low', 'unacc'], ['high', 'low', '4', '4', 'small', 'med', 'unacc'], ['vhigh', 'high', '4', '2', 'small', 'med', 'unacc'], ['low', 'low', '5more', '2', 'small', 'med', 'unacc'], ['low', 'low', '5more', '2', 'med', 'low', 'unacc'], ['low', 'low', '2', 'more', 'med', 'high', 'good'], ['med', 'high', '3', '4', 'big', 'low', 'unacc'], ['vhigh', 'low', '2', 'more', 'med', 'med', 'unacc'], ['high', 'high', '4', '2', 'big', 'high', 'unacc'], ['med', 'low', '5more', 'more', 'small', 'high', 'good'], ['vhigh', 'med', '3', '4', 'big', 'low', 'unacc'], ['med', 'high', '5more', '4', 'small', 'low', 'unacc'], ['med', 'vhigh', '5more', '2', 'med', 'med', 'unacc'], ['vhigh', 'low', '2', '2', 'med', 'low', 'unacc'], ['vhigh', 'vhigh', '3', 'more', 'med', 'high', 'unacc'], ['med', 'high', '4', 'more', 'small', 'med', 'unacc'], ['low', 'vhigh', '3', 'more', 'med', 'low', 'unacc'], ['vhigh', 'vhigh', '5more', 'more', 'med', 'high', 'unacc'], ['low', 'med', '3', 'more', 'med', 'high', 'vgood'], ['low', 'low', '3', '2', 'small', 'high', 'unacc'], ['vhigh', 'low', '2', 'more', 'small', 'low', 'unacc'], ['low', 'high', '5more', 'more', 'small', 'low', 'unacc'], ['low', 'high', '5more', '4', 'big', 'med', 'acc'], ['high', 'vhigh', '4', '2', 'med', 'med', 'unacc'], ['high', 'low', '3', '4', 'big', 'low', 'unacc'], ['high', 'low', '2', '4', 'small', 'high', 'acc'], ['high', 'low', '4', '2', 'big', 'med', 'unacc'], ['high', 'high', '2', '2', 'small', 'high', 'unacc'], ['vhigh', 'med', '2', 'more', 'med', 'low', 'unacc'], ['med', 'med', '4', '2', 'small', 'med', 'unacc'], ['high', 'high', '5more', '2', 'med', 'med', 'unacc'], ['med', 'med', '2', '2', 'small', 'low', 'unacc'], ['low', 'vhigh', '5more', 'more', 'med', 'low', 'unacc'], ['med', 'low', '4', '4', 'med', 'high', 'vgood'], ['med', 'med', '5more', '4', 'small', 'med', 'acc'], ['high', 'med', '5more', '4', 'big', 'low', 'unacc'], ['med', 'vhigh', '2', 'more', 'big', 'high', 'acc'], ['med', 'vhigh', '4', '4', 'big', 'high', 'acc'], ['vhigh', 'low', '5more', '4', 'small', 'low', 'unacc'], ['med', 'vhigh', '5more', '2', 'big', 'high', 'unacc'], ['vhigh', 'low', '3', '2', 'med', 'low', 'unacc'], ['vhigh', 'low', '4', '4', 'small', 'high', 'acc'], ['low', 'high', '4', 'more', 'big', 'med', 'acc'], ['vhigh', 'high', '5more', 'more', 'small', 'low', 'unacc'], ['vhigh', 'high', '2', '4', 'med', 'high', 'unacc'], ['high', 'low', '3', 'more', 'small', 'high', 'acc'], ['med', 'high', '4', '4', 'med', 'med', 'acc'], ['vhigh', 'low', '3', '4', 'big', 'high', 'acc'], ['high', 'med', '5more', '4', 'big', 'med', 'acc'], ['high', 'med', '2', 'more', 'med', 'med', 'unacc'], ['vhigh', 'high', '4', 'more', 'small', 'med', 'unacc'], ['med', 'vhigh', '4', '2', 'med', 'high', 'unacc'], ['med', 'vhigh', '4', '4', 'med', 'high', 'acc'], ['vhigh', 'med', '4', '2', 'med', 'high', 'unacc'], ['high', 'med', '2', '4', 'small', 'high', 'acc'], ['high', 'low', '2', '4', 'big', 'high', 'acc'], ['med', 'low', '3', 'more', 'med', 'low', 'unacc'], ['low', 'high', '4', 'more', 'big', 'high', 'vgood'], ['high', 'vhigh', '3', '4', 'med', 'low', 'unacc'], ['low', 'med', '3', '4', 'med', 'high', 'good'], ['vhigh', 'high', '5more', '2', 'small', 'low', 'unacc'], ['high', 'high', '4', 'more', 'med', 'low', 'unacc'], ['high', 'med', '4', 'more', 'big', 'low', 'unacc'], ['high', 'high', '4', '2', 'big', 'low', 'unacc'], ['vhigh', 'vhigh', '4', '2', 'big', 'high', 'unacc'], ['med', 'vhigh', '4', 'more', 'big', 'high', 'acc'], ['med', 'vhigh', '2', '2', 'big', 'med', 'unacc'], ['med', 'high', '2', 'more', 'small', 'low', 'unacc'], ['high', 'med', '2', '4', 'med', 'low', 'unacc'], ['vhigh', 'high', '2', '2', 'med', 'low', 'unacc'], ['high', 'high', '3', '2', 'small', 'high', 'unacc'], ['high', 'high', '2', '4', 'big', 'med', 'acc'], ['low', 'high', '4', '2', 'small', 'high', 'unacc'], ['vhigh', 'low', '3', '4', 'small', 'med', 'unacc'], ['low', 'high', '4', '2', 'med', 'med', 'unacc'], ['vhigh', 'high', '2', 'more', 'big', 'med', 'unacc'], ['low', 'low', '2', 'more', 'small', 'high', 'unacc'], ['low', 'high', '2', '2', 'big', 'low', 'unacc'], ['low', 'high', '4', 'more', 'med', 'med', 'acc'], ['vhigh', 'vhigh', '4', 'more', 'med', 'low', 'unacc'], ['med', 'vhigh', '2', 'more', 'big', 'med', 'acc'], ['med', 'vhigh', '5more', '4', 'small', 'low', 'unacc'], ['high', 'med', '5more', '4', 'small', 'med', 'unacc'], ['high', 'low', '3', 'more', 'big', 'med', 'acc'], ['vhigh', 'high', '5more', 'more', 'small', 'med', 'unacc'], ['low', 'low', '2', 'more', 'big', 'low', 'unacc'], ['med', 'low', '4', '4', 'big', 'low', 'unacc'], ['med', 'high', '3', 'more', 'small', 'med', 'unacc'], ['low', 'low', '5more', '4', 'big', 'low', 'unacc'], ['med', 'low', '3', 'more', 'big', 'med', 'good'], ['low', 'vhigh', '2', 'more', 'big', 'high', 'acc'], ['low', 'low', '3', '4', 'big', 'med', 'good'], ['med', 'low', '2', 'more', 'big', 'med', 'good'], ['low', 'vhigh', '3', '2', 'med', 'low', 'unacc'], ['vhigh', 'low', '5more', '2', 'small', 'low', 'unacc'], ['high', 'vhigh', '2', 'more', 'big', 'med', 'unacc'], ['high', 'vhigh', '2', '4', 'med', 'high', 'unacc'], ['high', 'low', '5more', '2', 'med', 'med', 'unacc'], ['low', 'low', '2', '2', 'small', 'high', 'unacc'], ['vhigh', 'high', '2', '2', 'small', 'low', 'unacc'], ['med', 'med', '3', '4', 'big', 'high', 'vgood'], ['vhigh', 'high', '3', '2', 'small', 'high', 'unacc'], ['vhigh', 'vhigh', '3', 'more', 'small', 'high', 'unacc'], ['med', 'med', '3', '2', 'med', 'low', 'unacc'], ['vhigh', 'high', '2', '4', 'big', 'low', 'unacc'], ['high', 'high', '2', '4', 'small', 'high', 'acc'], ['med', 'low', '3', '2', 'small', 'low', 'unacc'], ['high', 'low', '5more', '4', 'med', 'med', 'acc'], ['med', 'low', '3', 'more', 'small', 'med', 'acc'], ['vhigh', 'high', '5more', '2', 'med', 'low', 'unacc'], ['vhigh', 'med', '2', 'more', 'small', 'low', 'unacc'], ['vhigh', 'low', '4', '4', 'big', 'high', 'acc'], ['high', 'vhigh', '3', 'more', 'small', 'med', 'unacc'], ['med', 'vhigh', '5more', 'more', 'small', 'high', 'acc'], ['vhigh', 'low', '3', '4', 'small', 'high', 'acc'], ['low', 'high', '3', 'more', 'med', 'high', 'vgood'], ['high', 'med', '3', '4', 'med', 'high', 'acc'], ['vhigh', 'low', '2', '4', 'small', 'low', 'unacc'], ['vhigh', 'low', '5more', 'more', 'small', 'med', 'unacc'], ['high', 'high', '3', 'more', 'small', 'low', 'unacc'], ['vhigh', 'high', '2', '4', 'big', 'med', 'unacc'], ['med', 'high', '2', 'more', 'big', 'med', 'acc'], ['low', 'low', '5more', '4', 'big', 'high', 'vgood'], ['high', 'vhigh', '3', 'more', 'big', 'med', 'unacc'], ['vhigh', 'vhigh', '4', '4', 'med', 'high', 'unacc'], ['vhigh', 'vhigh', '4', '2', 'small', 'low', 'unacc'], ['low', 'low', '5more', '2', 'small', 'high', 'unacc'], ['high', 'low', '4', '2', 'med', 'med', 'unacc'], ['low', 'high', '3', '2', 'med', 'high', 'unacc'], ['high', 'vhigh', '5more', 'more', 'big', 'med', 'unacc'], ['vhigh', 'med', '2', '2', 'small', 'high', 'unacc'], ['med', 'high', '3', '2', 'med', 'med', 'unacc'], ['med', 'high', '3', '4', 'small', 'high', 'acc'], ['high', 'high', '5more', 'more', 'med', 'high', 'acc'], ['med', 'vhigh', '2', '2', 'med', 'low', 'unacc'], ['high', 'low', '5more', 'more', 'med', 'high', 'acc'], ['high', 'vhigh', '2', '4', 'big', 'med', 'unacc'], ['low', 'high', '2', '4', 'big', 'med', 'acc'], ['high', 'high', '5more', '4', 'small', 'high', 'acc'], ['vhigh', 'vhigh', '5more', 'more', 'small', 'high', 'unacc'], ['med', 'vhigh', '5more', '4', 'small', 'med', 'unacc'], ['med', 'low', '2', 'more', 'small', 'med', 'unacc'], ['high', 'high', '2', 'more', 'med', 'med', 'unacc'], ['low', 'med', '4', '4', 'small', 'med', 'acc'], ['high', 'vhigh', '3', '2', 'med', 'high', 'unacc'], ['low', 'low', '3', '2', 'big', 'med', 'unacc'], ['low', 'med', '5more', '2', 'big', 'low', 'unacc'], ['high', 'med', '5more', '2', 'small', 'low', 'unacc'], ['high', 'low', '4', '2', 'small', 'high', 'unacc'], ['vhigh', 'high', '4', '4', 'small', 'med', 'unacc'], ['vhigh', 'high', '3', 'more', 'med', 'high', 'unacc'], ['high', 'vhigh', '4', '2', 'small', 'low', 'unacc'], ['high', 'high', '5more', '2', 'small', 'med', 'unacc'], ['high', 'vhigh', '2', 'more', 'big', 'low', 'unacc'], ['vhigh', 'vhigh', '4', 'more', 'med', 'med', 'unacc'], ['high', 'vhigh', '3', '4', 'big', 'med', 'unacc'], ['med', 'med', '5more', '2', 'big', 'med', 'unacc'], ['low', 'med', '4', 'more', 'big', 'high', 'vgood'], ['low', 'vhigh', '3', 'more', 'med', 'med', 'acc'], ['med', 'high', '2', 'more', 'big', 'high', 'acc'], ['med', 'high', '4', 'more', 'med', 'high', 'acc'], ['med', 'med', '4', '2', 'big', 'high', 'unacc'], ['high', 'high', '2', '4', 'big', 'low', 'unacc'], ['vhigh', 'med', '3', '2', 'med', 'med', 'unacc'], ['low', 'high', '4', '2', 'big', 'high', 'unacc'], ['vhigh', 'vhigh', '5more', '2', 'med', 'med', 'unacc'], ['high', 'high', '4', 'more', 'small', 'high', 'acc'], ['high', 'vhigh', '3', '2', 'med', 'med', 'unacc'], ['vhigh', 'high', '3', '4', 'small', 'med', 'unacc'], ['med', 'low', '2', 'more', 'med', 'low', 'unacc'], ['vhigh', 'low', '3', 'more', 'big', 'low', 'unacc'], ['med', 'vhigh', '5more', 'more', 'big', 'med', 'acc'], ['med', 'vhigh', '2', '4', 'small', 'low', 'unacc'], ['med', 'high', '2', '2', 'big', 'high', 'unacc'], ['med', 'high', '2', '4', 'med', 'med', 'unacc'], ['high', 'vhigh', '3', '4', 'small', 'low', 'unacc'], ['med', 'vhigh', '4', '2', 'small', 'low', 'unacc'], ['vhigh', 'low', '5more', '4', 'small', 'med', 'unacc'], ['vhigh', 'vhigh', '2', '4', 'med', 'med', 'unacc'], ['low', 'vhigh', '2', 'more', 'med', 'low', 'unacc'], ['high', 'med', '2', '4', 'big', 'med', 'acc'], ['low', 'high', '4', '2', 'big', 'low', 'unacc'], ['high', 'low', '5more', 'more', 'big', 'high', 'acc'], ['vhigh', 'low', '3', '4', 'med', 'high', 'acc'], ['vhigh', 'low', '2', 'more', 'small', 'high', 'unacc'], ['med', 'med', '2', '4', 'med', 'low', 'unacc'], ['med', 'low', '3', '2', 'small', 'med', 'unacc'], ['high', 'low', '5more', '4', 'small', 'med', 'unacc'], ['low', 'med', '2', 'more', 'small', 'med', 'unacc'], ['high', 'med', '2', '4', 'small', 'low', 'unacc'], ['vhigh', 'low', '4', 'more', 'med', 'high', 'acc'], ['high', 'low', '2', '2', 'small', 'low', 'unacc'], ['low', 'low', '4', '2', 'big', 'low', 'unacc'], ['vhigh', 'low', '2', '4', 'small', 'med', 'unacc'], ['high', 'low', '3', '4', 'big', 'high', 'acc'], ['high', 'high', '2', '4', 'med', 'med', 'unacc'], ['med', 'high', '3', 'more', 'big', 'low', 'unacc'], ['low', 'med', '5more', '2', 'big', 'med', 'unacc'], ['vhigh', 'vhigh', '2', '2', 'med', 'med', 'unacc'], ['low', 'vhigh', '5more', 'more', 'small', 'low', 'unacc'], ['vhigh', 'high', '4', '4', 'big', 'med', 'unacc'], ['vhigh', 'vhigh', '5more', '2', 'med', 'high', 'unacc'], ['high', 'vhigh', '2', 'more', 'med', 'low', 'unacc'], ['low', 'med', '4', '4', 'med', 'high', 'vgood'], ['med', 'low', '4', '4', 'med', 'low', 'unacc'], ['vhigh', 'med', '2', '4', 'small', 'med', 'unacc'], ['high', 'vhigh', '4', '2', 'small', 'high', 'unacc'], ['high', 'low', '5more', 'more', 'med', 'med', 'acc'], ['med', 'high', '4', 'more', 'small', 'low', 'unacc'], ['med', 'low', '3', 'more', 'med', 'med', 'good'], ['low', 'vhigh', '5more', 'more', 'big', 'low', 'unacc'], ['vhigh', 'med', '5more', 'more', 'med', 'med', 'acc'], ['low', 'low', '2', '4', 'big', 'med', 'good'], ['low', 'vhigh', '3', 'more', 'big', 'low', 'unacc'], ['low', 'high', '3', '4', 'big', 'low', 'unacc'], ['vhigh', 'high', '3', 'more', 'big', 'high', 'unacc'], ['vhigh', 'med', '3', '4', 'small', 'low', 'unacc'], ['med', 'high', '4', '2', 'big', 'high', 'unacc'], ['med', 'med', '5more', '2', 'small', 'low', 'unacc'], ['vhigh', 'med', '5more', '4', 'big', 'med', 'acc'], ['med', 'vhigh', '3', '2', 'big', 'low', 'unacc'], ['low', 'high', '3', 'more', 'big', 'low', 'unacc'], ['high', 'low', '5more', 'more', 'big', 'med', 'acc'], ['med', 'low', '4', '4', 'small', 'med', 'acc'], ['high', 'med', '4', 'more', 'big', 'med', 'acc'], ['high', 'vhigh', '3', '4', 'med', 'med', 'unacc'], ['high', 'med', '3', '4', 'small', 'med', 'unacc'], ['vhigh', 'high', '2', 'more', 'med', 'med', 'unacc'], ['vhigh', 'med', '3', 'more', 'med', 'low', 'unacc'], ['vhigh', 'med', '3', 'more', 'med', 'high', 'acc'], ['med', 'high', '2', '4', 'small', 'low', 'unacc'], ['high', 'high', '4', 'more', 'small', 'low', 'unacc'], ['med', 'med', '5more', 'more', 'med', 'high', 'vgood'], ['vhigh', 'med', '3', '2', 'big', 'med', 'unacc'], ['vhigh', 'low', '3', 'more', 'small', 'low', 'unacc'], ['med', 'vhigh', '5more', '4', 'med', 'low', 'unacc'], ['vhigh', 'vhigh', '3', '4', 'big', 'med', 'unacc'], ['high', 'high', '3', '4', 'med', 'low', 'unacc'], ['low', 'high', '3', '4', 'med', 'low', 'unacc'], ['med', 'vhigh', '4', '4', 'big', 'low', 'unacc'], ['high', 'low', '4', 'more', 'small', 'med', 'unacc'], ['low', 'high', '2', '4', 'med', 'low', 'unacc'], ['high', 'low', '2', 'more', 'med', 'high', 'acc'], ['med', 'vhigh', '3', '4', 'small', 'low', 'unacc'], ['low', 'low', '5more', '4', 'med', 'med', 'good'], ['high', 'low', '2', 'more', 'med', 'med', 'unacc'], ['vhigh', 'vhigh', '2', 'more', 'med', 'high', 'unacc'], ['med', 'low', '2', '4', 'med', 'high', 'good'], ['vhigh', 'high', '2', '2', 'big', 'med', 'unacc'], ['med', 'med', '4', 'more', 'med', 'high', 'vgood'], ['vhigh', 'low', '2', '4', 'med', 'med', 'unacc'], ['low', 'low', '3', 'more', 'big', 'high', 'vgood'], ['med', 'vhigh', '4', 'more', 'med', 'high', 'acc'], ['vhigh', 'high', '3', 'more', 'big', 'med', 'unacc'], ['high', 'low', '2', '2', 'big', 'low', 'unacc'], ['low', 'vhigh', '2', '4', 'med', 'med', 'unacc'], ['high', 'vhigh', '2', 'more', 'med', 'med', 'unacc'], ['high', 'vhigh', '4', '4', 'small', 'med', 'unacc'], ['med', 'med', '4', '4', 'med', 'low', 'unacc'], ['med', 'vhigh', '5more', '2', 'med', 'low', 'unacc'], ['med', 'med', '5more', '2', 'small', 'high', 'unacc'], ['low', 'vhigh', '4', '2', 'small', 'med', 'unacc'], ['high', 'high', '5more', 'more', 'small', 'low', 'unacc'], ['high', 'high', '4', '4', 'big', 'med', 'acc'], ['vhigh', 'low', '4', '2', 'med', 'low', 'unacc'], ['med', 'low', '5more', 'more', 'big', 'high', 'vgood'], ['high', 'high', '3', 'more', 'big', 'low', 'unacc'], ['vhigh', 'med', '5more', '2', 'small', 'med', 'unacc'], ['vhigh', 'low', '2', 'more', 'big', 'high', 'acc'], ['low', 'low', '2', '4', 'med', 'med', 'acc'], ['high', 'med', '4', '2', 'big', 'med', 'unacc'], ['high', 'vhigh', '5more', '2', 'big', 'med', 'unacc'], ['low', 'high', '5more', '2', 'small', 'low', 'unacc'], ['low', 'low', '3', 'more', 'small', 'med', 'acc'], ['low', 'high', '5more', '4', 'small', 'med', 'acc'], ['low', 'med', '5more', '4', 'med', 'high', 'vgood'], ['low', 'low', '3', 'more', 'small', 'low', 'unacc'], ['high', 'vhigh', '3', '4', 'big', 'high', 'unacc'], ['high', 'high', '3', '4', 'big', 'low', 'unacc'], ['high', 'low', '4', '4', 'small', 'low', 'unacc'], ['low', 'vhigh', '4', '4', 'big', 'low', 'unacc'], ['high', 'vhigh', '2', '2', 'small', 'high', 'unacc'], ['low', 'vhigh', '3', '2', 'med', 'high', 'unacc'], ['high', 'high', '4', '4', 'med', 'high', 'acc'], ['med', 'low', '4', '4', 'med', 'med', 'good'], ['high', 'low', '5more', '4', 'med', 'high', 'acc'], ['vhigh', 'low', '5more', '2', 'med', 'med', 'unacc'], ['vhigh', 'low', '4', '4', 'small', 'med', 'unacc'], ['med', 'high', '4', 'more', 'big', 'high', 'acc'], ['med', 'med', '3', '4', 'med', 'med', 'acc'], ['med', 'low', '3', '4', 'med', 'med', 'acc'], ['med', 'high', '2', '4', 'big', 'low', 'unacc'], ['vhigh', 'vhigh', '4', '4', 'small', 'low', 'unacc'], ['vhigh', 'vhigh', '5more', '4', 'small', 'low', 'unacc'], ['high', 'vhigh', '4', 'more', 'small', 'high', 'unacc'], ['high', 'vhigh', '5more', 'more', 'med', 'med', 'unacc'], ['med', 'low', '2', 'more', 'small', 'low', 'unacc'], ['high', 'low', '4', 'more', 'small', 'low', 'unacc'], ['vhigh', 'med', '2', '4', 'med', 'med', 'unacc'], ['vhigh', 'high', '5more', '2', 'big', 'med', 'unacc'], ['med', 'med', '2', '2', 'small', 'med', 'unacc'], ['vhigh', 'low', '5more', '4', 'big', 'low', 'unacc'], ['low', 'low', '4', 'more', 'big', 'med', 'good'], ['vhigh', 'low', '4', 'more', 'big', 'med', 'acc'], ['med', 'low', '2', '2', 'small', 'high', 'unacc'], ['med', 'vhigh', '4', '2', 'big', 'high', 'unacc'], ['med', 'med', '3', 'more', 'small', 'low', 'unacc'], ['high', 'vhigh', '4', '2', 'big', 'high', 'unacc'], ['vhigh', 'low', '4', '2', 'small', 'low', 'unacc'], ['med', 'low', '5more', '2', 'med', 'med', 'unacc'], ['med', 'vhigh', '4', '4', 'big', 'med', 'acc'], ['high', 'low', '4', '4', 'big', 'high', 'acc'], ['high', 'low', '4', '4', 'med', 'med', 'acc'], ['low', 'high', '4', '2', 'small', 'low', 'unacc'], ['low', 'high', '5more', '2', 'big', 'med', 'unacc'], ['med', 'vhigh', '2', '2', 'small', 'low', 'unacc'], ['vhigh', 'high', '3', '4', 'big', 'high', 'unacc'], ['low', 'vhigh', '2', '2', 'small', 'high', 'unacc'], ['med', 'vhigh', '3', 'more', 'med', 'high', 'acc'], ['low', 'low', '4', '2', 'big', 'high', 'unacc'], ['high', 'med', '5more', '4', 'big', 'high', 'acc'], ['low', 'high', '2', 'more', 'small', 'low', 'unacc'], ['vhigh', 'low', '5more', '4', 'med', 'high', 'acc'], ['med', 'med', '5more', '2', 'med', 'med', 'unacc'], ['high', 'vhigh', '4', '4', 'small', 'low', 'unacc'], ['vhigh', 'med', '4', '2', 'med', 'low', 'unacc'], ['low', 'vhigh', '3', '2', 'big', 'low', 'unacc'], ['med', 'low', '3', '4', 'small', 'med', 'acc'], ['vhigh', 'med', '4', '4', 'med', 'high', 'acc'], ['vhigh', 'low', '5more', '4', 'med', 'med', 'acc'], ['med', 'vhigh', '4', '2', 'small', 'high', 'unacc'], ['low', 'med', '4', '4', 'small', 'high', 'good'], ['high', 'med', '2', 'more', 'med', 'high', 'acc'], ['high', 'med', '3', '2', 'med', 'high', 'unacc'], ['vhigh', 'low', '5more', '2', 'small', 'med', 'unacc'], ['med', 'high', '5more', '2', 'med', 'med', 'unacc'], ['med', 'med', '4', 'more', 'small', 'low', 'unacc'], ['vhigh', 'low', '3', 'more', 'med', 'low', 'unacc'], ['high', 'med', '2', 'more', 'big', 'high', 'acc'], ['vhigh', 'med', '3', '2', 'big', 'high', 'unacc'], ['vhigh', 'med', '2', '2', 'big', 'med', 'unacc'], ['med', 'med', '4', 'more', 'big', 'high', 'vgood'], ['low', 'vhigh', '3', '2', 'small', 'med', 'unacc'], ['high', 'high', '3', 'more', 'big', 'med', 'acc'], ['med', 'vhigh', '4', '2', 'med', 'low', 'unacc'], ['low', 'med', '4', 'more', 'med', 'low', 'unacc'], ['low', 'high', '3', '2', 'big', 'low', 'unacc'], ['high', 'high', '5more', 'more', 'big', 'low', 'unacc'], ['low', 'low', '2', '2', 'med', 'low', 'unacc'], ['vhigh', 'low', '3', 'more', 'med', 'med', 'acc'], ['med', 'med', '2', '2', 'big', 'med', 'unacc'], ['vhigh', 'vhigh', '3', '4', 'small', 'high', 'unacc'], ['low', 'high', '2', '4', 'small', 'low', 'unacc'], ['vhigh', 'low', '3', '2', 'big', 'med', 'unacc'], ['med', 'vhigh', '5more', '4', 'big', 'high', 'acc'], ['high', 'high', '4', '2', 'med', 'low', 'unacc'], ['med', 'low', '4', '2', 'big', 'high', 'unacc'], ['high', 'vhigh', '5more', '4', 'med', 'med', 'unacc'], ['high', 'vhigh', '3', '2', 'small', 'med', 'unacc'], ['vhigh', 'vhigh', '5more', '4', 'big', 'low', 'unacc'], ['low', 'med', '5more', '4', 'small', 'high', 'good'], ['high', 'vhigh', '5more', '4', 'med', 'high', 'unacc'], ['low', 'vhigh', '2', 'more', 'big', 'low', 'unacc'], ['high', 'low', '4', '2', 'small', 'med', 'unacc'], ['high', 'low', '3', '4', 'small', 'med', 'unacc'], ['high', 'high', '2', '2', 'big', 'low', 'unacc'], ['med', 'high', '4', 'more', 'big', 'low', 'unacc'], ['med', 'low', '5more', '4', 'med', 'med', 'good'], ['vhigh', 'vhigh', '3', '4', 'med', 'high', 'unacc'], ['high', 'low', '2', '4', 'small', 'low', 'unacc'], ['low', 'high', '3', 'more', 'big', 'high', 'vgood'], ['low', 'med', '5more', '4', 'med', 'med', 'good'], ['high', 'vhigh', '5more', 'more', 'small', 'high', 'unacc'], ['vhigh', 'high', '2', 'more', 'small', 'high', 'unacc'], ['vhigh', 'vhigh', '3', '4', 'small', 'low', 'unacc'], ['low', 'low', '3', '2', 'small', 'low', 'unacc'], ['high', 'med', '4', '2', 'big', 'high', 'unacc'], ['vhigh', 'low', '2', '4', 'med', 'high', 'acc'], ['low', 'low', '3', 'more', 'med', 'low', 'unacc'], ['med', 'low', '5more', 'more', 'med', 'med', 'good'], ['low', 'vhigh', '2', '4', 'big', 'high', 'acc'], ['med', 'med', '3', 'more', 'big', 'low', 'unacc'], ['med', 'vhigh', '5more', 'more', 'med', 'high', 'acc'], ['med', 'low', '5more', '2', 'med', 'low', 'unacc'], ['low', 'vhigh', '5more', '2', 'big', 'high', 'unacc'], ['vhigh', 'low', '5more', 'more', 'big', 'med', 'acc'], ['vhigh', 'low', '3', '2', 'big', 'high', 'unacc'], ['high', 'low', '5more', '2', 'med', 'high', 'unacc'], ['vhigh', 'low', '5more', '2', 'big', 'med', 'unacc'], ['med', 'high', '3', '4', 'big', 'med', 'acc'], ['low', 'high', '2', 'more', 'med', 'high', 'acc'], ['vhigh', 'vhigh', '4', '2', 'small', 'high', 'unacc'], ['med', 'vhigh', '4', '4', 'med', 'med', 'acc'], ['med', 'med', '5more', '2', 'med', 'high', 'unacc'], ['med', 'vhigh', '4', 'more', 'med', 'low', 'unacc'], ['vhigh', 'high', '4', '2', 'big', 'low', 'unacc'], ['vhigh', 'vhigh', '4', '4', 'big', 'med', 'unacc'], ['vhigh', 'vhigh', '5more', '2', 'big', 'low', 'unacc'], ['high', 'low', '3', 'more', 'small', 'med', 'unacc'], ['vhigh', 'med', '4', '4', 'big', 'low', 'unacc'], ['vhigh', 'med', '2', '2', 'med', 'low', 'unacc'], ['high', 'high', '3', '2', 'big', 'med', 'unacc'], ['med', 'med', '5more', '4', 'small', 'high', 'acc'], ['med', 'low', '3', 'more', 'small', 'low', 'unacc'], ['med', 'vhigh', '4', '4', 'small', 'low', 'unacc'], ['med', 'low', '2', '2', 'small', 'low', 'unacc'], ['low', 'high', '5more', 'more', 'big', 'high', 'vgood'], ['med', 'med', '5more', 'more', 'big', 'med', 'acc'], ['vhigh', 'med', '4', 'more', 'small', 'low', 'unacc'], ['high', 'vhigh', '2', 'more', 'small', 'low', 'unacc'], ['vhigh', 'low', '4', '2', 'big', 'med', 'unacc'], ['low', 'vhigh', '3', '4', 'med', 'med', 'unacc'], ['low', 'med', '2', '4', 'small', 'med', 'acc'], ['med', 'med', '3', 'more', 'med', 'low', 'unacc'], ['low', 'high', '2', '2', 'small', 'low', 'unacc'], ['med', 'vhigh', '2', 'more', 'small', 'med', 'unacc'], ['high', 'low', '4', 'more', 'med', 'high', 'acc'], ['vhigh', 'high', '2', '4', 'med', 'med', 'unacc'], ['high', 'vhigh', '4', 'more', 'big', 'med', 'unacc'], ['vhigh', 'vhigh', '5more', '4', 'med', 'med', 'unacc'], ['low', 'med', '4', '2', 'big', 'med', 'unacc'], ['high', 'med', '2', '4', 'med', 'med', 'unacc'], ['med', 'high', '2', 'more', 'med', 'med', 'unacc'], ['vhigh', 'med', '3', 'more', 'small', 'low', 'unacc'], ['vhigh', 'high', '4', 'more', 'small', 'low', 'unacc'], ['med', 'high', '2', '2', 'med', 'high', 'unacc'], ['vhigh', 'high', '3', '4', 'med', 'med', 'unacc'], ['low', 'med', '5more', 'more', 'med', 'high', 'vgood'], ['med', 'vhigh', '5more', '2', 'med', 'high', 'unacc'], ['high', 'vhigh', '3', '2', 'big', 'med', 'unacc'], ['high', 'vhigh', '5more', '2', 'small', 'low', 'unacc'], ['high', 'med', '3', '2', 'small', 'med', 'unacc'], ['low', 'med', '4', 'more', 'small', 'high', 'good'], ['low', 'low', '3', '4', 'big', 'high', 'vgood'], ['med', 'vhigh', '4', 'more', 'med', 'med', 'acc'], ['med', 'vhigh', '5more', '4', 'big', 'med', 'acc'], ['low', 'vhigh', '2', '4', 'small', 'high', 'acc'], ['med', 'med', '2', 'more', 'small', 'high', 'unacc'], ['low', 'low', '5more', 'more', 'small', 'high', 'good'], ['med', 'vhigh', '3', '4', 'big', 'low', 'unacc'], ['med', 'med', '2', 'more', 'med', 'low', 'unacc'], ['vhigh', 'low', '4', '2', 'big', 'low', 'unacc'], ['vhigh', 'high', '5more', 'more', 'big', 'high', 'unacc'], ['low', 'vhigh', '2', 'more', 'small', 'low', 'unacc'], ['med', 'high', '5more', '2', 'med', 'low', 'unacc'], ['low', 'med', '5more', '4', 'med', 'low', 'unacc'], ['high', 'med', '3', 'more', 'med', 'low', 'unacc'], ['vhigh', 'high', '5more', 'more', 'med', 'low', 'unacc'], ['med', 'vhigh', '3', '4', 'small', 'high', 'acc'], ['low', 'vhigh', '3', 'more', 'small', 'low', 'unacc'], ['vhigh', 'high', '2', 'more', 'small', 'low', 'unacc'], ['med', 'vhigh', '5more', '4', 'big', 'low', 'unacc'], ['med', 'high', '3', '2', 'med', 'high', 'unacc'], ['low', 'vhigh', '4', '4', 'small', 'med', 'unacc'], ['high', 'med', '3', '2', 'small', 'high', 'unacc'], ['med', 'high', '2', 'more', 'med', 'low', 'unacc'], ['low', 'low', '4', '2', 'med', 'high', 'unacc'], ['high', 'vhigh', '4', '2', 'big', 'med', 'unacc'], ['vhigh', 'high', '3', '2', 'med', 'med', 'unacc'], ['med', 'low', '4', 'more', 'big', 'high', 'vgood'], ['high', 'med', '5more', '2', 'small', 'high', 'unacc'], ['med', 'low', '4', '2', 'med', 'high', 'unacc'], ['vhigh', 'vhigh', '4', '2', 'med', 'med', 'unacc'], ['low', 'low', '2', '4', 'big', 'high', 'vgood'], ['high', 'high', '2', 'more', 'big', 'high', 'acc'], ['high', 'low', '4', '4', 'big', 'low', 'unacc'], ['high', 'vhigh', '2', '2', 'big', 'high', 'unacc'], ['vhigh', 'high', '3', 'more', 'med', 'low', 'unacc'], ['vhigh', 'vhigh', '2', '4', 'big', 'high', 'unacc'], ['low', 'high', '3', '4', 'small', 'low', 'unacc'], ['vhigh', 'high', '3', '2', 'big', 'low', 'unacc'], ['high', 'med', '4', '2', 'med', 'low', 'unacc'], ['vhigh', 'low', '3', 'more', 'small', 'high', 'acc'], ['vhigh', 'vhigh', '5more', '2', 'med', 'low', 'unacc'], ['vhigh', 'high', '3', 'more', 'small', 'med', 'unacc'], ['vhigh', 'med', '3', '2', 'small', 'med', 'unacc'], ['low', 'med', '5more', '2', 'med', 'med', 'unacc'], ['high', 'med', '5more', 'more', 'big', 'med', 'acc'], ['high', 'low', '3', 'more', 'big', 'low', 'unacc'], ['med', 'med', '4', '4', 'big', 'high', 'vgood'], ['vhigh', 'med', '5more', 'more', 'small', 'low', 'unacc'], ['low', 'high', '4', 'more', 'small', 'med', 'acc'], ['vhigh', 'low', '3', '2', 'med', 'med', 'unacc'], ['vhigh', 'high', '3', '4', 'big', 'med', 'unacc'], ['vhigh', 'vhigh', '3', 'more', 'med', 'med', 'unacc'], ['vhigh', 'med', '4', 'more', 'med', 'low', 'unacc'], ['high', 'low', '4', '2', 'med', 'high', 'unacc'], ['vhigh', 'vhigh', '2', '4', 'small', 'low', 'unacc'], ['med', 'vhigh', '2', '4', 'med', 'med', 'unacc'], ['high', 'med', '5more', '2', 'med', 'low', 'unacc'], ['high', 'med', '4', '2', 'small', 'med', 'unacc'], ['low', 'low', '5more', '2', 'med', 'high', 'unacc'], ['high', 'vhigh', '4', '2', 'small', 'med', 'unacc'], ['vhigh', 'vhigh', '5more', '4', 'big', 'high', 'unacc'], ['med', 'low', '3', '4', 'small', 'low', 'unacc'], ['vhigh', 'high', '4', 'more', 'small', 'high', 'unacc'], ['vhigh', 'high', '2', '4', 'med', 'low', 'unacc'], ['vhigh', 'low', '4', 'more', 'big', 'low', 'unacc'], ['vhigh', 'med', '4', '4', 'med', 'low', 'unacc'], ['med', 'low', '4', 'more', 'big', 'low', 'unacc'], ['high', 'low', '2', '2', 'small', 'med', 'unacc'], ['med', 'low', '4', 'more', 'small', 'low', 'unacc'], ['low', 'high', '2', '4', 'med', 'high', 'acc'], ['med', 'high', '2', '4', 'med', 'low', 'unacc'], ['high', 'med', '2', 'more', 'small', 'low', 'unacc'], ['high', 'low', '3', 'more', 'big', 'high', 'acc'], ['med', 'med', '5more', 'more', 'small', 'med', 'acc'], ['med', 'vhigh', '5more', '2', 'big', 'med', 'unacc'], ['med', 'med', '4', 'more', 'small', 'med', 'acc'], ['med', 'med', '2', '4', 'med', 'high', 'acc'], ['high', 'low', '2', 'more', 'big', 'med', 'acc'], ['vhigh', 'low', '4', '2', 'big', 'high', 'unacc'], ['low', 'med', '3', 'more', 'big', 'low', 'unacc'], ['med', 'vhigh', '3', '2', 'med', 'low', 'unacc'], ['high', 'vhigh', '2', 'more', 'small', 'med', 'unacc'], ['vhigh', 'med', '2', 'more', 'med', 'med', 'unacc'], ['low', 'med', '4', '2', 'big', 'low', 'unacc'], ['vhigh', 'low', '5more', 'more', 'big', 'high', 'acc'], ['high', 'high', '3', '4', 'big', 'med', 'acc'], ['low', 'vhigh', '3', '4', 'small', 'high', 'acc'], ['vhigh', 'med', '5more', 'more', 'small', 'high', 'acc'], ['low', 'low', '5more', '4', 'small', 'high', 'good'], ['vhigh', 'med', '2', 'more', 'med', 'high', 'acc'], ['low', 'low', '2', '2', 'big', 'high', 'unacc'], ['vhigh', 'high', '5more', '4', 'med', 'med', 'unacc'], ['high', 'low', '2', '4', 'big', 'low', 'unacc'], ['vhigh', 'med', '5more', '2', 'small', 'low', 'unacc'], ['med', 'low', '4', '2', 'big', 'med', 'unacc'], ['med', 'low', '5more', 'more', 'small', 'low', 'unacc'], ['high', 'high', '2', '4', 'med', 'high', 'acc'], ['high', 'vhigh', '2', '2', 'big', 'med', 'unacc'], ['vhigh', 'med', '4', '4', 'med', 'med', 'acc'], ['high', 'low', '2', 'more', 'small', 'high', 'unacc'], ['low', 'vhigh', '5more', '4', 'med', 'med', 'acc'], ['high', 'high', '3', '2', 'big', 'high', 'unacc'], ['high', 'med', '4', 'more', 'big', 'high', 'acc'], ['vhigh', 'med', '5more', '2', 'big', 'low', 'unacc'], ['vhigh', 'med', '4', 'more', 'med', 'med', 'acc'], ['high', 'high', '3', '4', 'med', 'med', 'unacc'], ['vhigh', 'vhigh', '4', 'more', 'small', 'low', 'unacc'], ['low', 'vhigh', '4', '4', 'med', 'low', 'unacc'], ['low', 'vhigh', '5more', '4', 'small', 'low', 'unacc'], ['vhigh', 'high', '5more', '4', 'med', 'low', 'unacc'], ['vhigh', 'high', '5more', '2', 'small', 'high', 'unacc'], ['high', 'vhigh', '5more', '4', 'small', 'med', 'unacc'], ['med', 'high', '4', '2', 'med', 'low', 'unacc'], ['vhigh', 'vhigh', '3', '2', 'small', 'med', 'unacc'], ['vhigh', 'high', '5more', '4', 'med', 'high', 'unacc'], ['med', 'high', '4', '4', 'big', 'med', 'acc'], ['low', 'high', '2', '2', 'small', 'med', 'unacc'], ['vhigh', 'vhigh', '5more', '2', 'big', 'high', 'unacc'], ['low', 'high', '2', 'more', 'big', 'high', 'vgood'], ['vhigh', 'high', '5more', 'more', 'big', 'med', 'unacc'], ['low', 'high', '2', 'more', 'small', 'med', 'unacc'], ['low', 'low', '4', 'more', 'small', 'high', 'good'], ['high', 'high', '2', 'more', 'med', 'high', 'acc'], ['vhigh', 'vhigh', '2', 'more', 'small', 'med', 'unacc'], ['high', 'med', '5more', 'more', 'small', 'low', 'unacc'], ['high', 'vhigh', '3', '2', 'small', 'high', 'unacc'], ['vhigh', 'vhigh', '4', 'more', 'small', 'high', 'unacc'], ['med', 'high', '3', '2', 'small', 'high', 'unacc'], ['low', 'low', '3', '4', 'small', 'low', 'unacc'], ['low', 'low', '4', '2', 'med', 'low', 'unacc'], ['vhigh', 'vhigh', '4', '4', 'small', 'high', 'unacc'], ['med', 'low', '5more', '2', 'big', 'low', 'unacc'], ['low', 'low', '4', '4', 'small', 'med', 'acc'], ['high', 'high', '2', '2', 'big', 'high', 'unacc'], ['vhigh', 'low', '2', '4', 'big', 'med', 'acc'], ['vhigh', 'vhigh', '3', '4', 'med', 'low', 'unacc'], ['high', 'vhigh', '4', '4', 'med', 'high', 'unacc'], ['med', 'low', '4', '2', 'small', 'low', 'unacc'], ['vhigh', 'low', '3', '4', 'med', 'med', 'unacc'], ['low', 'low', '4', '2', 'med', 'med', 'unacc'], ['vhigh', 'low', '5more', '2', 'med', 'high', 'unacc'], ['med', 'med', '4', '2', 'big', 'low', 'unacc'], ['med', 'med', '2', 'more', 'big', 'med', 'acc'], ['high', 'med', '4', 'more', 'med', 'low', 'unacc'], ['vhigh', 'med', '4', '4', 'small', 'low', 'unacc'], ['low', 'high', '3', '2', 'big', 'high', 'unacc'], ['med', 'low', '2', '4', 'small', 'low', 'unacc'], ['high', 'vhigh', '4', '4', 'med', 'med', 'unacc'], ['vhigh', 'med', '3', '2', 'med', 'low', 'unacc'], ['high', 'low', '3', '2', 'big', 'low', 'unacc'], ['med', 'low', '4', '4', 'small', 'high', 'good'], ['med', 'low', '5more', 'more', 'med', 'high', 'vgood'], ['vhigh', 'low', '3', '2', 'small', 'low', 'unacc'], ['high', 'vhigh', '2', 'more', 'small', 'high', 'unacc'], ['vhigh', 'med', '3', 'more', 'small', 'med', 'unacc'], ['vhigh', 'high', '5more', 'more', 'med', 'high', 'unacc'], ['med', 'med', '4', '2', 'med', 'high', 'unacc'], ['low', 'low', '4', '4', 'med', 'med', 'good'], ['high', 'high', '3', '4', 'small', 'med', 'unacc'], ['low', 'high', '2', '4', 'big', 'low', 'unacc'], ['med', 'low', '5more', '4', 'small', 'low', 'unacc'], ['high', 'vhigh', '5more', '2', 'big', 'high', 'unacc'], ['high', 'vhigh', '5more', '4', 'small', 'high', 'unacc'], ['high', 'med', '5more', '4', 'small', 'high', 'acc'], ['high', 'med', '2', '2', 'med', 'low', 'unacc'], ['med', 'vhigh', '3', '2', 'big', 'high', 'unacc'], ['high', 'vhigh', '3', 'more', 'med', 'med', 'unacc'], ['vhigh', 'high', '2', 'more', 'med', 'low', 'unacc'], ['low', 'low', '4', '2', 'small', 'med', 'unacc'], ['low', 'vhigh', '4', 'more', 'small', 'high', 'acc'], ['low', 'low', '5more', '2', 'small', 'low', 'unacc'], ['high', 'med', '3', 'more', 'med', 'med', 'acc'], ['vhigh', 'high', '2', '2', 'big', 'high', 'unacc'], ['vhigh', 'low', '2', '2', 'big', 'low', 'unacc'], ['vhigh', 'low', '2', '4', 'small', 'high', 'acc'], ['med', 'high', '4', 'more', 'big', 'med', 'acc'], ['high', 'low', '5more', '4', 'big', 'high', 'acc'], ['low', 'vhigh', '5more', '4', 'med', 'low', 'unacc'], ['high', 'vhigh', '3', '4', 'small', 'med', 'unacc'], ['high', 'high', '4', '2', 'big', 'med', 'unacc'], ['med', 'med', '3', '4', 'big', 'low', 'unacc'], ['vhigh', 'high', '2', 'more', 'med', 'high', 'unacc'], ['high', 'low', '3', '4', 'big', 'med', 'acc'], ['high', 'med', '2', '2', 'big', 'high', 'unacc'], ['high', 'med', '2', '2', 'small', 'low', 'unacc'], ['high', 'low', '5more', '2', 'big', 'low', 'unacc'], ['med', 'low', '4', '2', 'med', 'low', 'unacc'], ['low', 'vhigh', '3', 'more', 'med', 'high', 'acc'], ['vhigh', 'vhigh', '4', 'more', 'big', 'med', 'unacc'], ['vhigh', 'med', '2', '2', 'big', 'high', 'unacc'], ['vhigh', 'med', '2', '4', 'med', 'high', 'acc'], ['vhigh', 'med', '5more', '2', 'med', 'low', 'unacc'], ['vhigh', 'med', '5more', '2', 'big', 'med', 'unacc'], ['low', 'med', '4', '2', 'med', 'med', 'unacc'], ['high', 'high', '2', '2', 'big', 'med', 'unacc'], ['low', 'high', '5more', '4', 'small', 'low', 'unacc'], ['vhigh', 'low', '2', 'more', 'small', 'med', 'unacc'], ['low', 'vhigh', '4', '2', 'big', 'high', 'unacc'], ['med', 'vhigh', '2', '2', 'small', 'high', 'unacc'], ['vhigh', 'med', '2', 'more', 'big', 'high', 'acc'], ['high', 'high', '5more', '4', 'small', 'low', 'unacc'], ['high', 'high', '5more', 'more', 'med', 'low', 'unacc'], ['high', 'low', '3', 'more', 'med', 'med', 'acc'], ['high', 'high', '3', 'more', 'big', 'high', 'acc'], ['vhigh', 'vhigh', '5more', 'more', 'big', 'low', 'unacc'], ['vhigh', 'low', '3', '2', 'small', 'med', 'unacc'], ['low', 'high', '3', 'more', 'small', 'high', 'acc'], ['low', 'vhigh', '3', '4', 'small', 'med', 'unacc'], ['high', 'med', '5more', '2', 'small', 'med', 'unacc'], ['vhigh', 'high', '3', 'more', 'small', 'high', 'unacc'], ['low', 'low', '2', '2', 'big', 'med', 'unacc'], ['med', 'med', '2', '4', 'med', 'med', 'acc'], ['med', 'med', '4', '2', 'med', 'med', 'unacc'], ['med', 'high', '5more', '2', 'big', 'med', 'unacc'], ['med', 'vhigh', '5more', '4', 'med', 'med', 'acc'], ['high', 'low', '3', '2', 'small', 'high', 'unacc'], ['low', 'low', '4', 'more', 'med', 'med', 'good'], ['high', 'high', '5more', 'more', 'small', 'high', 'acc'], ['vhigh', 'high', '3', '2', 'med', 'high', 'unacc'], ['high', 'vhigh', '5more', 'more', 'small', 'med', 'unacc'], ['high', 'low', '5more', '4', 'small', 'low', 'unacc'], ['high', 'vhigh', '5more', '2', 'small', 'med', 'unacc'], ['high', 'high', '4', '4', 'small', 'med', 'unacc'], ['med', 'vhigh', '5more', 'more', 'med', 'low', 'unacc'], ['low', 'vhigh', '4', '2', 'big', 'low', 'unacc'], ['high', 'high', '4', 'more', 'med', 'high', 'acc'], ['high', 'high', '5more', '4', 'med', 'low', 'unacc'], ['low', 'low', '3', 'more', 'med', 'med', 'good'], ['high', 'high', '2', 'more', 'big', 'med', 'acc'], ['high', 'vhigh', '2', '4', 'med', 'med', 'unacc'], ['vhigh', 'low', '5more', 'more', 'big', 'low', 'unacc'], ['high', 'high', '2', '4', 'med', 'low', 'unacc'], ['vhigh', 'med', '2', '4', 'big', 'med', 'acc'], ['vhigh', 'vhigh', '5more', '4', 'med', 'high', 'unacc'], ['med', 'low', '3', '2', 'med', 'med', 'unacc'], ['low', 'med', '2', '4', 'small', 'low', 'unacc'], ['high', 'vhigh', '4', '2', 'med', 'low', 'unacc'], ['med', 'vhigh', '3', 'more', 'big', 'med', 'acc'], ['low', 'vhigh', '4', '4', 'small', 'high', 'acc'], ['low', 'med', '5more', '4', 'big', 'low', 'unacc'], ['vhigh', 'vhigh', '4', '4', 'med', 'low', 'unacc'], ['vhigh', 'vhigh', '5more', 'more', 'med', 'med', 'unacc'], ['vhigh', 'high', '2', 'more', 'big', 'high', 'unacc'], ['low', 'high', '3', '2', 'med', 'med', 'unacc'], ['low', 'high', '4', '4', 'med', 'med', 'acc'], ['high', 'vhigh', '2', 'more', 'med', 'high', 'unacc'], ['med', 'high', '5more', '2', 'med', 'high', 'unacc'], ['high', 'med', '2', '4', 'med', 'high', 'acc'], ['med', 'vhigh', '4', 'more', 'small', 'high', 'acc'], ['med', 'vhigh', '3', '2', 'small', 'high', 'unacc'], ['low', 'med', '2', 'more', 'med', 'med', 'acc'], ['med', 'med', '4', '2', 'small', 'high', 'unacc'], ['med', 'med', '4', '4', 'big', 'med', 'acc'], ['low', 'high', '3', '2', 'small', 'high', 'unacc'], ['low', 'low', '2', '4', 'med', 'high', 'good'], ['low', 'high', '5more', 'more', 'small', 'med', 'acc'], ['high', 'vhigh', '2', 'more', 'big', 'high', 'unacc'], ['high', 'med', '3', '2', 'big', 'low', 'unacc'], ['low', 'vhigh', '3', '2', 'big', 'med', 'unacc'], ['med', 'low', '2', 'more', 'big', 'high', 'vgood'], ['high', 'vhigh', '3', 'more', 'big', 'high', 'unacc'], ['high', 'low', '4', '4', 'big', 'med', 'acc'], ['low', 'high', '5more', '4', 'big', 'low', 'unacc'], ['vhigh', 'low', '4', '4', 'med', 'low', 'unacc'], ['med', 'vhigh', '4', 'more', 'small', 'med', 'unacc'], ['low', 'med', '5more', '4', 'big', 'med', 'good'], ['vhigh', 'low', '4', 'more', 'med', 'med', 'acc'], ['vhigh', 'high', '3', 'more', 'big', 'low', 'unacc'], ['vhigh', 'high', '4', '4', 'med', 'low', 'unacc'], ['high', 'vhigh', '4', 'more', 'small', 'low', 'unacc'], ['vhigh', 'low', '3', 'more', 'big', 'med', 'acc'], ['low', 'low', '5more', 'more', 'med', 'low', 'unacc'], ['low', 'vhigh', '2', 'more', 'med', 'high', 'acc'], ['med', 'low', '5more', 'more', 'big', 'low', 'unacc'], ['low', 'med', '5more', '2', 'med', 'high', 'unacc'], ['med', 'med', '3', '4', 'small', 'low', 'unacc'], ['med', 'vhigh', '2', '4', 'small', 'high', 'acc'], ['high', 'med', '4', '4', 'small', 'high', 'acc'], ['high', 'med', '3', '2', 'med', 'low', 'unacc'], ['med', 'vhigh', '4', '2', 'small', 'med', 'unacc'], ['high', 'med', '4', '2', 'med', 'high', 'unacc'], ['vhigh', 'med', '3', '4', 'med', 'high', 'acc'], ['med', 'low', '5more', '4', 'med', 'low', 'unacc'], ['vhigh', 'low', '4', 'more', 'med', 'low', 'unacc'], ['high', 'low', '4', 'more', 'big', 'med', 'acc'], ['high', 'low', '3', '4', 'small', 'high', 'acc'], ['high', 'high', '2', '4', 'big', 'high', 'acc'], ['vhigh', 'low', '3', '2', 'med', 'high', 'unacc'], ['med', 'low', '3', 'more', 'big', 'low', 'unacc'], ['med', 'vhigh', '3', '4', 'med', 'low', 'unacc'], ['low', 'high', '2', '2', 'med', 'high', 'unacc'], ['low', 'low', '2', '2', 'med', 'med', 'unacc'], ['high', 'vhigh', '3', 'more', 'med', 'low', 'unacc'], ['vhigh', 'low', '5more', '4', 'big', 'high', 'acc'], ['low', 'med', '2', '2', 'med', 'low', 'unacc'], ['med', 'high', '3', 'more', 'med', 'low', 'unacc'], ['high', 'low', '5more', '2', 'small', 'low', 'unacc'], ['med', 'low', '2', 'more', 'small', 'high', 'unacc'], ['med', 'vhigh', '4', '4', 'small', 'med', 'unacc'], ['vhigh', 'med', '2', '2', 'big', 'low', 'unacc'], ['low', 'med', '2', '2', 'big', 'high', 'unacc'], ['med', 'high', '5more', '2', 'small', 'high', 'unacc'], ['vhigh', 'low', '2', 'more', 'big', 'low', 'unacc'], ['high', 'low', '4', '2', 'small', 'low', 'unacc'], ['high', 'high', '4', '4', 'big', 'high', 'acc'], ['med', 'high', '5more', '2', 'small', 'low', 'unacc'], ['med', 'low', '2', '2', 'big', 'high', 'unacc'], ['high', 'low', '2', 'more', 'med', 'low', 'unacc'], ['low', 'vhigh', '2', 'more', 'small', 'high', 'unacc'], ['vhigh', 'med', '3', '2', 'small', 'high', 'unacc'], ['low', 'vhigh', '4', '4', 'med', 'high', 'acc'], ['med', 'low', '3', '4', 'med', 'low', 'unacc'], ['low', 'high', '5more', '2', 'med', 'med', 'unacc'], ['low', 'vhigh', '4', '4', 'med', 'med', 'acc'], ['med', 'vhigh', '3', '2', 'med', 'med', 'unacc'], ['vhigh', 'low', '4', '2', 'med', 'high', 'unacc'], ['low', 'low', '5more', 'more', 'big', 'high', 'vgood'], ['vhigh', 'med', '2', '4', 'small', 'low', 'unacc'], ['high', 'low', '3', '4', 'small', 'low', 'unacc'], ['vhigh', 'vhigh', '5more', 'more', 'big', 'high', 'unacc'], ['vhigh', 'vhigh', '2', '4', 'med', 'high', 'unacc'], ['vhigh', 'low', '2', 'more', 'med', 'low', 'unacc'], ['low', 'med', '2', 'more', 'small', 'low', 'unacc'], ['high', 'high', '5more', 'more', 'big', 'med', 'acc'], ['high', 'vhigh', '4', 'more', 'med', 'med', 'unacc'], ['med', 'low', '2', '4', 'med', 'med', 'acc'], ['low', 'low', '3', '2', 'big', 'low', 'unacc'], ['low', 'vhigh', '5more', '4', 'small', 'med', 'unacc'], ['high', 'high', '5more', '2', 'big', 'med', 'unacc'], ['high', 'low', '2', 'more', 'big', 'low', 'unacc'], ['med', 'low', '3', '4', 'big', 'low', 'unacc'], ['low', 'vhigh', '5more', 'more', 'small', 'high', 'acc'], ['med', 'low', '5more', '4', 'small', 'high', 'good'], ['vhigh', 'vhigh', '5more', 'more', 'small', 'med', 'unacc'], ['med', 'high', '5more', 'more', 'med', 'high', 'acc'], ['vhigh', 'low', '5more', 'more', 'small', 'low', 'unacc'], ['med', 'high', '4', '4', 'small', 'med', 'unacc'], ['med', 'med', '4', '2', 'small', 'low', 'unacc'], ['vhigh', 'med', '3', '2', 'big', 'low', 'unacc'], ['vhigh', 'vhigh', '4', 'more', 'big', 'high', 'unacc'], ['vhigh', 'med', '5more', '4', 'med', 'med', 'acc'], ['low', 'low', '4', 'more', 'med', 'high', 'vgood'], ['low', 'vhigh', '2', '2', 'big', 'high', 'unacc'], ['med', 'vhigh', '5more', 'more', 'med', 'med', 'acc'], ['med', 'vhigh', '2', 'more', 'med', 'low', 'unacc'], ['med', 'high', '5more', '4', 'small', 'high', 'acc'], ['low', 'low', '3', 'more', 'med', 'high', 'vgood'], ['low', 'med', '3', '4', 'small', 'high', 'good'], ['med', 'high', '3', '2', 'big', 'med', 'unacc'], ['high', 'vhigh', '5more', '2', 'small', 'high', 'unacc'], ['high', 'med', '2', '2', 'small', 'high', 'unacc'], ['low', 'low', '5more', '2', 'big', 'low', 'unacc'], ['low', 'med', '5more', 'more', 'big', 'med', 'good'], ['high', 'vhigh', '4', '4', 'small', 'high', 'unacc'], ['high', 'vhigh', '4', 'more', 'med', 'high', 'unacc'], ['med', 'high', '3', '2', 'small', 'med', 'unacc'], ['med', 'med', '4', 'more', 'big', 'low', 'unacc'], ['high', 'high', '4', 'more', 'small', 'med', 'unacc'], ['low', 'vhigh', '3', '2', 'big', 'high', 'unacc'], ['vhigh', 'low', '5more', '4', 'big', 'med', 'acc'], ['vhigh', 'vhigh', '3', '2', 'big', 'low', 'unacc'], ['vhigh', 'high', '5more', '2', 'small', 'med', 'unacc'], ['high', 'low', '5more', 'more', 'med', 'low', 'unacc'], ['med', 'low', '3', '2', 'big', 'high', 'unacc'], ['vhigh', 'vhigh', '3', 'more', 'med', 'low', 'unacc'], ['med', 'vhigh', '2', '4', 'big', 'low', 'unacc'], ['med', 'high', '2', 'more', 'big', 'low', 'unacc'], ['high', 'high', '2', '4', 'small', 'low', 'unacc'], ['high', 'vhigh', '4', '2', 'med', 'high', 'unacc'], ['high', 'med', '3', '4', 'small', 'low', 'unacc'], ['med', 'med', '4', 'more', 'big', 'med', 'acc'], ['vhigh', 'high', '4', '2', 'big', 'med', 'unacc'], ['low', 'med', '3', '4', 'med', 'med', 'acc'], ['med', 'vhigh', '3', 'more', 'med', 'low', 'unacc'], ['vhigh', 'high', '4', '4', 'small', 'high', 'unacc'], ['high', 'low', '3', '2', 'small', 'low', 'unacc'], ['high', 'vhigh', '5more', '4', 'big', 'med', 'unacc'], ['vhigh', 'high', '5more', '4', 'big', 'low', 'unacc'], ['vhigh', 'vhigh', '5more', '4', 'small', 'med', 'unacc'], ['vhigh', 'vhigh', '5more', '2', 'big', 'med', 'unacc'], ['med', 'med', '3', '2', 'big', 'high', 'unacc'], ['vhigh', 'vhigh', '2', '2', 'small', 'high', 'unacc'], ['high', 'low', '3', '2', 'med', 'med', 'unacc'], ['vhigh', 'high', '5more', '4', 'big', 'high', 'unacc'], ['vhigh', 'low', '4', 'more', 'big', 'high', 'acc'], ['high', 'vhigh', '2', '2', 'big', 'low', 'unacc'], ['low', 'low', '5more', 'more', 'small', 'med', 'acc'], ['high', 'low', '4', '4', 'small', 'high', 'acc'], ['med', 'med', '2', 'more', 'med', 'med', 'acc'], ['med', 'med', '5more', 'more', 'big', 'low', 'unacc'], ['high', 'high', '4', '4', 'med', 'med', 'acc'], ['med', 'med', '4', '4', 'med', 'med', 'acc'], ['low', 'low', '2', '4', 'small', 'high', 'good'], ['low', 'vhigh', '3', '2', 'small', 'high', 'unacc'], ['vhigh', 'vhigh', '4', '4', 'med', 'med', 'unacc'], ['low', 'high', '2', 'more', 'small', 'high', 'unacc'], ['high', 'low', '4', '2', 'med', 'low', 'unacc'], ['high', 'vhigh', '3', '4', 'med', 'high', 'unacc'], ['high', 'vhigh', '3', 'more', 'small', 'low', 'unacc'], ['med', 'med', '2', '2', 'big', 'high', 'unacc'], ['low', 'vhigh', '2', '2', 'big', 'low', 'unacc'], ['med', 'med', '2', 'more', 'big', 'high', 'vgood'], ['med', 'high', '5more', '4', 'big', 'low', 'unacc'], ['med', 'vhigh', '3', '4', 'small', 'med', 'unacc'], ['vhigh', 'vhigh', '4', '2', 'med', 'high', 'unacc'], ['med', 'low', '5more', '2', 'big', 'med', 'unacc'], ['high', 'med', '4', 'more', 'small', 'high', 'acc'], ['med', 'high', '5more', 'more', 'med', 'med', 'acc'], ['high', 'vhigh', '5more', 'more', 'med', 'low', 'unacc'], ['low', 'vhigh', '4', 'more', 'small', 'low', 'unacc'], ['high', 'med', '2', '2', 'med', 'high', 'unacc'], ['high', 'med', '3', '4', 'big', 'low', 'unacc'], ['vhigh', 'vhigh', '5more', 'more', 'small', 'low', 'unacc'], ['vhigh', 'high', '3', '4', 'big', 'low', 'unacc'], ['high', 'med', '3', '4', 'big', 'med', 'acc'], ['med', 'vhigh', '5more', '2', 'big', 'low', 'unacc'], ['med', 'high', '5more', '2', 'small', 'med', 'unacc'], ['med', 'vhigh', '2', '4', 'small', 'med', 'unacc'], ['high', 'vhigh', '5more', '4', 'big', 'high', 'unacc'], ['low', 'low', '4', '4', 'small', 'high', 'good'], ['high', 'med', '3', '2', 'big', 'med', 'unacc'], ['med', 'low', '4', 'more', 'med', 'high', 'vgood'], ['vhigh', 'vhigh', '5more', '2', 'small', 'med', 'unacc'], ['low', 'low', '3', '2', 'med', 'high', 'unacc'], ['high', 'med', '4', '2', 'small', 'high', 'unacc'], ['med', 'low', '3', '2', 'big', 'med', 'unacc'], ['low', 'vhigh', '4', 'more', 'med', 'high', 'acc'], ['low', 'low', '2', '4', 'big', 'low', 'unacc'], ['med', 'high', '4', '2', 'med', 'high', 'unacc'], ['vhigh', 'vhigh', '5more', '2', 'small', 'low', 'unacc'], ['low', 'low', '2', '2', 'med', 'high', 'unacc'], ['low', 'high', '4', '2', 'small', 'med', 'unacc'], ['vhigh', 'vhigh', '3', 'more', 'big', 'high', 'unacc'], ['low', 'vhigh', '2', '2', 'small', 'low', 'unacc'], ['high', 'vhigh', '3', 'more', 'med', 'high', 'unacc'], ['low', 'high', '4', 'more', 'small', 'high', 'acc'], ['low', 'vhigh', '4', '4', 'big', 'med', 'acc'], ['high', 'high', '2', 'more', 'big', 'low', 'unacc'], ['vhigh', 'high', '4', '2', 'med', 'med', 'unacc'], ['low', 'high', '3', '4', 'big', 'med', 'acc'], ['low', 'vhigh', '3', 'more', 'big', 'high', 'acc'], ['high', 'high', '5more', '2', 'med', 'low', 'unacc'], ['vhigh', 'med', '3', '4', 'small', 'high', 'acc'], ['vhigh', 'high', '5more', '2', 'med', 'med', 'unacc'], ['high', 'med', '5more', '2', 'med', 'high', 'unacc'], ['high', 'vhigh', '4', 'more', 'big', 'high', 'unacc'], ['med', 'vhigh', '5more', 'more', 'big', 'low', 'unacc'], ['vhigh', 'med', '2', '2', 'small', 'med', 'unacc'], ['vhigh', 'low', '4', '4', 'small', 'low', 'unacc'], ['med', 'vhigh', '2', '2', 'med', 'high', 'unacc'], ['vhigh', 'high', '4', 'more', 'big', 'low', 'unacc'], ['vhigh', 'low', '2', '2', 'small', 'med', 'unacc'], ['vhigh', 'low', '5more', 'more', 'med', 'high', 'acc'], ['med', 'med', '3', 'more', 'small', 'high', 'acc'], ['high', 'vhigh', '4', '4', 'big', 'med', 'unacc'], ['high', 'vhigh', '4', 'more', 'big', 'low', 'unacc'], ['low', 'high', '4', '4', 'med', 'high', 'vgood'], ['vhigh', 'high', '4', 'more', 'med', 'med', 'unacc'], ['med', 'med', '2', 'more', 'small', 'low', 'unacc'], ['low', 'med', '5more', '4', 'small', 'med', 'acc'], ['high', 'high', '5more', '4', 'big', 'high', 'acc'], ['vhigh', 'high', '2', '2', 'med', 'med', 'unacc'], ['med', 'low', '3', '2', 'med', 'low', 'unacc'], ['low', 'med', '4', 'more', 'big', 'med', 'good'], ['vhigh', 'vhigh', '3', '2', 'med', 'high', 'unacc'], ['med', 'vhigh', '2', 'more', 'small', 'high', 'unacc'], ['med', 'med', '5more', 'more', 'big', 'high', 'vgood'], ['high', 'med', '5more', '4', 'small', 'low', 'unacc'], ['vhigh', 'low', '3', '4', 'big', 'med', 'acc'], ['low', 'high', '5more', 'more', 'med', 'med', 'acc'], ['low', 'vhigh', '5more', '4', 'big', 'high', 'acc'], ['vhigh', 'vhigh', '3', '2', 'small', 'low', 'unacc'], ['low', 'low', '4', '4', 'med', 'low', 'unacc'], ['vhigh', 'high', '4', '4', 'big', 'low', 'unacc'], ['med', 'med', '2', '4', 'small', 'low', 'unacc'], ['med', 'low', '2', '4', 'big', 'low', 'unacc'], ['vhigh', 'low', '4', 'more', 'small', 'low', 'unacc'], ['low', 'low', '2', 'more', 'med', 'med', 'acc'], ['vhigh', 'vhigh', '5more', '4', 'big', 'med', 'unacc'], ['low', 'vhigh', '4', 'more', 'big', 'low', 'unacc'], ['low', 'low', '4', '4', 'small', 'low', 'unacc'], ['low', 'low', '3', 'more', 'big', 'med', 'good'], ['med', 'low', '2', '4', 'small', 'med', 'acc'], ['low', 'med', '3', 'more', 'big', 'high', 'vgood'], ['med', 'med', '5more', '2', 'big', 'low', 'unacc'], ['vhigh', 'med', '4', 'more', 'big', 'high', 'acc'], ['high', 'low', '5more', '2', 'big', 'med', 'unacc'], ['vhigh', 'vhigh', '2', '4', 'small', 'high', 'unacc'], ['low', 'med', '5more', '2', 'med', 'low', 'unacc'], ['med', 'med', '2', 'more', 'big', 'low', 'unacc'], ['low', 'med', '2', 'more', 'big', 'low', 'unacc'], ['low', 'vhigh', '5more', 'more', 'small', 'med', 'unacc'], ['vhigh', 'low', '5more', '2', 'med', 'low', 'unacc'], ['low', 'low', '2', '2', 'small', 'med', 'unacc'], ['low', 'high', '3', 'more', 'big', 'med', 'acc'], ['low', 'med', '4', '4', 'big', 'low', 'unacc'], ['med', 'med', '5more', '4', 'big', 'med', 'acc'], ['low', 'high', '5more', '4', 'med', 'low', 'unacc'], ['med', 'high', '3', '2', 'small', 'low', 'unacc'], ['high', 'low', '2', '2', 'big', 'med', 'unacc'], ['vhigh', 'vhigh', '3', '4', 'med', 'med', 'unacc'], ['vhigh', 'vhigh', '5more', '4', 'small', 'high', 'unacc'], ['low', 'med', '4', '4', 'big', 'med', 'good'], ['med', 'med', '3', '4', 'small', 'high', 'acc'], ['low', 'low', '2', '2', 'big', 'low', 'unacc'], ['low', 'med', '3', '2', 'small', 'med', 'unacc'], ['high', 'med', '2', 'more', 'med', 'low', 'unacc'], ['med', 'high', '4', '4', 'small', 'low', 'unacc'], ['low', 'med', '5more', 'more', 'small', 'med', 'acc'], ['low', 'high', '2', 'more', 'big', 'med', 'acc'], ['med', 'high', '3', '2', 'big', 'high', 'unacc'], ['med', 'high', '4', '2', 'small', 'med', 'unacc'], ['high', 'med', '3', '4', 'small', 'high', 'acc'], ['high', 'med', '5more', 'more', 'big', 'high', 'acc'], ['vhigh', 'high', '4', '2', 'big', 'high', 'unacc'], ['vhigh', 'high', '2', '2', 'small', 'high', 'unacc'], ['vhigh', 'low', '5more', '2', 'big', 'high', 'unacc'], ['low', 'med', '3', '4', 'big', 'med', 'good'], ['high', 'high', '5more', 'more', 'small', 'med', 'unacc'], ['vhigh', 'low', '3', 'more', 'med', 'high', 'acc'], ['vhigh', 'high', '4', '4', 'med', 'high', 'unacc'], ['low', 'high', '5more', '2', 'med', 'low', 'unacc'], ['low', 'med', '3', '4', 'small', 'low', 'unacc'], ['high', 'med', '4', 'more', 'small', 'low', 'unacc'], ['low', 'low', '4', 'more', 'big', 'low', 'unacc'], ['med', 'low', '5more', '2', 'med', 'high', 'unacc'], ['med', 'med', '3', 'more', 'med', 'med', 'acc'], ['high', 'med', '2', 'more', 'big', 'low', 'unacc'], ['vhigh', 'med', '3', '2', 'med', 'high', 'unacc'], ['low', 'vhigh', '3', '4', 'big', 'med', 'acc'], ['low', 'low', '5more', 'more', 'big', 'med', 'good'], ['med', 'vhigh', '2', '4', 'big', 'high', 'acc'], ['vhigh', 'med', '3', '4', 'big', 'med', 'acc'], ['high', 'vhigh', '5more', 'more', 'big', 'high', 'unacc'], ['high', 'low', '4', 'more', 'big', 'high', 'acc'], ['med', 'low', '2', 'more', 'big', 'low', 'unacc'], ['low', 'vhigh', '4', '2', 'med', 'med', 'unacc'], ['high', 'low', '3', 'more', 'small', 'low', 'unacc'], ['low', 'high', '2', '4', 'big', 'high', 'vgood'], ['med', 'low', '2', '2', 'small', 'med', 'unacc'], ['med', 'high', '5more', 'more', 'small', 'med', 'unacc'], ['med', 'high', '3', '4', 'big', 'high', 'acc'], ['low', 'med', '5more', '2', 'small', 'low', 'unacc'], ['vhigh', 'med', '2', '2', 'med', 'high', 'unacc'], ['med', 'high', '5more', 'more', 'med', 'low', 'unacc'], ['low', 'med', '3', '2', 'med', 'med', 'unacc'], ['vhigh', 'vhigh', '2', '4', 'big', 'med', 'unacc'], ['vhigh', 'low', '3', 'more', 'small', 'med', 'unacc'], ['low', 'vhigh', '3', '4', 'med', 'high', 'acc'], ['vhigh', 'low', '4', '4', 'med', 'med', 'acc'], ['med', 'vhigh', '2', 'more', 'med', 'med', 'unacc'], ['med', 'high', '4', 'more', 'med', 'low', 'unacc'], ['vhigh', 'high', '2', '2', 'small', 'med', 'unacc'], ['low', 'low', '4', '4', 'big', 'high', 'vgood'], ['vhigh', 'med', '3', 'more', 'big', 'low', 'unacc'], ['med', 'high', '2', '2', 'small', 'high', 'unacc'], ['low', 'med', '2', 'more', 'big', 'med', 'good'], ['vhigh', 'vhigh', '4', '2', 'big', 'med', 'unacc'], ['med', 'med', '2', '2', 'med', 'low', 'unacc'], ['low', 'med', '2', 'more', 'small', 'high', 'unacc'], ['high', 'med', '3', '2', 'small', 'low', 'unacc'], ['low', 'vhigh', '5more', '2', 'med', 'med', 'unacc'], ['vhigh', 'high', '5more', '4', 'small', 'med', 'unacc'], ['vhigh', 'med', '2', 'more', 'big', 'low', 'unacc'], ['med', 'vhigh', '2', 'more', 'small', 'low', 'unacc'], ['low', 'vhigh', '5more', '4', 'big', 'low', 'unacc'], ['low', 'vhigh', '3', '4', 'med', 'low', 'unacc'], ['low', 'med', '4', 'more', 'big', 'low', 'unacc'], ['med', 'low', '3', '2', 'med', 'high', 'unacc'], ['vhigh', 'low', '2', '4', 'med', 'low', 'unacc'], ['high', 'med', '5more', 'more', 'big', 'low', 'unacc'], ['med', 'high', '5more', 'more', 'small', 'high', 'acc'], ['med', 'low', '4', 'more', 'big', 'med', 'good'], ['med', 'vhigh', '2', '4', 'med', 'low', 'unacc'], ['low', 'vhigh', '5more', 'more', 'med', 'high', 'acc'], ['vhigh', 'high', '3', 'more', 'med', 'med', 'unacc'], ['med', 'vhigh', '3', '2', 'small', 'med', 'unacc'], ['med', 'vhigh', '3', 'more', 'med', 'med', 'acc'], ['vhigh', 'vhigh', '2', '4', 'small', 'med', 'unacc'], ['high', 'high', '2', '2', 'med', 'high', 'unacc'], ['med', 'low', '3', 'more', 'big', 'high', 'vgood'], ['med', 'high', '3', '2', 'med', 'low', 'unacc'], ['vhigh', 'high', '4', 'more', 'big', 'high', 'unacc'], ['vhigh', 'high', '4', '4', 'big', 'high', 'unacc'], ['low', 'med', '2', '4', 'small', 'high', 'good'], ['high', 'low', '2', '2', 'med', 'med', 'unacc'], ['vhigh', 'low', '5more', 'more', 'med', 'low', 'unacc'], ['vhigh', 'high', '2', 'more', 'big', 'low', 'unacc'], ['high', 'vhigh', '3', '4', 'small', 'high', 'unacc'], ['low', 'high', '4', '4', 'big', 'high', 'vgood'], ['high', 'high', '5more', '4', 'big', 'low', 'unacc'], ['high', 'high', '3', '2', 'big', 'low', 'unacc'], ['med', 'low', '5more', '2', 'small', 'med', 'unacc'], ['low', 'high', '2', '2', 'big', 'high', 'unacc'], ['low', 'low', '5more', '2', 'big', 'med', 'unacc'], ['low', 'med', '2', 'more', 'med', 'low', 'unacc'], ['low', 'med', '4', 'more', 'med', 'high', 'vgood'], ['low', 'high', '5more', 'more', 'small', 'high', 'acc'], ['med', 'vhigh', '3', '2', 'small', 'low', 'unacc'], ['vhigh', 'high', '3', '4', 'med', 'high', 'unacc'], ['low', 'high', '3', '4', 'big', 'high', 'vgood'], ['med', 'high', '4', 'more', 'small', 'high', 'acc'], ['med', 'high', '3', '4', 'med', 'med', 'unacc'], ['high', 'med', '3', '2', 'big', 'high', 'unacc'], ['vhigh', 'vhigh', '2', '2', 'med', 'low', 'unacc'], ['vhigh', 'low', '4', '2', 'med', 'med', 'unacc'], ['med', 'vhigh', '2', '4', 'big', 'med', 'acc'], ['low', 'vhigh', '3', 'more', 'big', 'med', 'acc'], ['vhigh', 'high', '3', '2', 'small', 'med', 'unacc'], ['med', 'vhigh', '4', '2', 'big', 'low', 'unacc'], ['low', 'high', '2', 'more', 'med', 'med', 'acc'], ['med', 'high', '3', 'more', 'med', 'med', 'acc'], ['low', 'high', '4', '2', 'med', 'low', 'unacc'], ['low', 'high', '4', 'more', 'small', 'low', 'unacc'], ['low', 'high', '5more', '2', 'big', 'high', 'unacc'], ['low', 'low', '3', '4', 'big', 'low', 'unacc'], ['high', 'high', '5more', '4', 'big', 'med', 'acc'], ['high', 'low', '2', '2', 'med', 'low', 'unacc'], ['low', 'low', '2', '2', 'small', 'low', 'unacc'], ['low', 'low', '4', '4', 'med', 'high', 'vgood'], ['med', 'high', '3', 'more', 'big', 'med', 'acc'], ['low', 'low', '4', '2', 'small', 'low', 'unacc'], ['low', 'high', '5more', 'more', 'med', 'low', 'unacc'], ['vhigh', 'low', '2', 'more', 'med', 'high', 'acc'], ['vhigh', 'vhigh', '4', '4', 'big', 'high', 'unacc'], ['low', 'vhigh', '2', '2', 'big', 'med', 'unacc'], ['low', 'vhigh', '5more', '2', 'small', 'low', 'unacc'], ['med', 'med', '3', '2', 'med', 'med', 'unacc'], ['high', 'med', '4', '4', 'med', 'low', 'unacc'], ['high', 'high', '3', '4', 'small', 'high', 'acc'], ['low', 'high', '5more', '2', 'small', 'med', 'unacc'], ['low', 'med', '3', '2', 'small', 'high', 'unacc'], ['high', 'med', '3', 'more', 'med', 'high', 'acc'], ['low', 'med', '5more', 'more', 'big', 'low', 'unacc'], ['low', 'low', '3', 'more', 'small', 'high', 'good'], ['med', 'low', '2', '2', 'big', 'low', 'unacc'], ['med', 'vhigh', '2', '2', 'big', 'low', 'unacc'], ['low', 'med', '4', 'more', 'med', 'med', 'good'], ['med', 'vhigh', '4', 'more', 'big', 'med', 'acc'], ['med', 'high', '5more', 'more', 'big', 'med', 'acc'], ['high', 'high', '4', '2', 'med', 'med', 'unacc'], ['vhigh', 'med', '5more', 'more', 'big', 'low', 'unacc'], ['low', 'med', '3', 'more', 'small', 'low', 'unacc'], ['vhigh', 'med', '5more', '4', 'med', 'high', 'acc'], ['high', 'vhigh', '2', '4', 'big', 'low', 'unacc'], ['high', 'vhigh', '5more', '2', 'med', 'med', 'unacc'], ['med', 'high', '5more', 'more', 'small', 'low', 'unacc'], ['high', 'med', '4', 'more', 'med', 'high', 'acc'], ['high', 'low', '4', 'more', 'med', 'med', 'acc'], ['low', 'low', '5more', '2', 'med', 'med', 'unacc'], ['vhigh', 'vhigh', '2', '4', 'big', 'low', 'unacc'], ['high', 'med', '2', 'more', 'big', 'med', 'acc'], ['med', 'vhigh', '3', '2', 'big', 'med', 'unacc'], ['high', 'high', '4', '2', 'small', 'low', 'unacc'], ['high', 'low', '4', '4', 'med', 'high', 'acc'], ['med', 'high', '2', '4', 'med', 'high', 'acc'], ['vhigh', 'med', '5more', 'more', 'med', 'high', 'acc'], ['low', 'high', '2', '2', 'med', 'med', 'unacc'], ['low', 'low', '2', 'more', 'small', 'low', 'unacc'], ['med', 'vhigh', '4', '2', 'big', 'med', 'unacc'], ['high', 'high', '5more', 'more', 'med', 'med', 'acc'], ['vhigh', 'high', '4', '2', 'small', 'high', 'unacc'], ['high', 'med', '2', '2', 'med', 'med', 'unacc'], ['high', 'low', '2', '4', 'med', 'low', 'unacc'], ['low', 'med', '5more', 'more', 'med', 'med', 'good'], ['vhigh', 'med', '3', '2', 'small', 'low', 'unacc'], ['high', 'vhigh', '2', '4', 'small', 'high', 'unacc'], ['med', 'low', '3', 'more', 'small', 'high', 'good'], ['vhigh', 'med', '3', 'more', 'big', 'med', 'acc'], ['med', 'med', '2', '4', 'small', 'med', 'acc'], ['high', 'high', '3', 'more', 'med', 'low', 'unacc'], ['high', 'high', '2', 'more', 'med', 'low', 'unacc'], ['high', 'med', '3', 'more', 'small', 'med', 'unacc'], ['low', 'vhigh', '2', '4', 'small', 'low', 'unacc'], ['low', 'med', '5more', 'more', 'small', 'low', 'unacc'], ['vhigh', 'low', '3', '4', 'med', 'low', 'unacc'], ['med', 'vhigh', '3', '4', 'big', 'med', 'acc'], ['high', 'low', '3', '4', 'med', 'med', 'unacc'], ['low', 'low', '4', '2', 'big', 'med', 'unacc'], ['vhigh', 'high', '4', '2', 'small', 'low', 'unacc'], ['high', 'low', '5more', 'more', 'small', 'med', 'unacc'], ['high', 'high', '3', '4', 'med', 'high', 'acc'], ['vhigh', 'high', '2', '4', 'small', 'med', 'unacc'], ['vhigh', 'med', '2', 'more', 'small', 'med', 'unacc'], ['low', 'high', '3', '4', 'med', 'med', 'acc'], ['high', 'low', '2', 'more', 'big', 'high', 'acc'], ['vhigh', 'med', '4', '2', 'small', 'med', 'unacc'], ['vhigh', 'vhigh', '2', '2', 'med', 'high', 'unacc'], ['med', 'low', '2', '4', 'big', 'high', 'vgood'], ['low', 'high', '3', 'more', 'small', 'med', 'acc'], ['low', 'vhigh', '2', '4', 'med', 'high', 'acc'], ['med', 'high', '2', '4', 'small', 'med', 'unacc'], ['vhigh', 'vhigh', '2', 'more', 'med', 'med', 'unacc'], ['med', 'high', '4', '4', 'big', 'high', 'acc'], ['low', 'med', '2', '2', 'med', 'high', 'unacc'], ['high', 'low', '4', 'more', 'med', 'low', 'unacc'], ['vhigh', 'med', '3', 'more', 'small', 'high', 'acc'], ['vhigh', 'med', '4', '2', 'small', 'low', 'unacc'], ['vhigh', 'med', '4', '4', 'small', 'med', 'unacc'], ['low', 'high', '2', 'more', 'big', 'low', 'unacc'], ['high', 'high', '2', '4', 'small', 'med', 'unacc'], ['vhigh', 'high', '3', '2', 'big', 'high', 'unacc'], ['vhigh', 'med', '2', '2', 'small', 'low', 'unacc'], ['high', 'vhigh', '5more', '2', 'med', 'high', 'unacc'], ['med', 'vhigh', '3', '2', 'med', 'high', 'unacc'], ['low', 'high', '2', '2', 'big', 'med', 'unacc'], ['low', 'vhigh', '4', 'more', 'med', 'med', 'acc'], ['vhigh', 'med', '5more', '4', 'small', 'high', 'acc'], ['high', 'low', '2', 'more', 'small', 'med', 'unacc'], ['vhigh', 'high', '2', '4', 'small', 'low', 'unacc'], ['med', 'high', '5more', '4', 'med', 'low', 'unacc'], ['vhigh', 'med', '5more', 'more', 'big', 'med', 'acc'], ['low', 'high', '4', '4', 'small', 'med', 'acc'], ['med', 'low', '4', '2', 'big', 'low', 'unacc'], ['med', 'vhigh', '2', 'more', 'big', 'low', 'unacc'], ['vhigh', 'high', '5more', '4', 'small', 'low', 'unacc'], ['med', 'med', '4', '4', 'small', 'high', 'acc'], ['high', 'low', '5more', 'more', 'big', 'low', 'unacc'], ['vhigh', 'high', '4', '4', 'med', 'med', 'unacc'], ['med', 'low', '5more', '4', 'small', 'med', 'acc'], ['med', 'vhigh', '4', '4', 'small', 'high', 'acc'], ['high', 'low', '5more', '2', 'big', 'high', 'unacc'], ['low', 'low', '3', 'more', 'big', 'low', 'unacc'], ['med', 'low', '3', 'more', 'med', 'high', 'vgood'], ['high', 'high', '5more', '4', 'med', 'med', 'acc'], ['vhigh', 'vhigh', '3', 'more', 'big', 'med', 'unacc'], ['vhigh', 'low', '5more', '2', 'small', 'high', 'unacc']]\n"
     ]
    }
   ],
   "source": [
    "summaries = summarizeByClass(X_train)\n",
    "Y_test.head()"
   ]
  },
  {
   "cell_type": "markdown",
   "metadata": {},
   "source": [
    "QUESTÃO 2:"
   ]
  },
  {
   "cell_type": "code",
   "execution_count": 7,
   "metadata": {},
   "outputs": [],
   "source": [
    "from sklearn.naive_bayes import GaussianNB\n",
    "import pandas as pd\n",
    "from sklearn import datasets\n",
    "from sklearn.model_selection import train_test_split\n",
    "from sklearn.metrics import accuracy_score, classification_report\n",
    "from sklearn.preprocessing import LabelEncoder, MinMaxScaler"
   ]
  },
  {
   "cell_type": "code",
   "execution_count": 8,
   "metadata": {},
   "outputs": [
    {
     "data": {
      "text/html": [
       "<div>\n",
       "<style scoped>\n",
       "    .dataframe tbody tr th:only-of-type {\n",
       "        vertical-align: middle;\n",
       "    }\n",
       "\n",
       "    .dataframe tbody tr th {\n",
       "        vertical-align: top;\n",
       "    }\n",
       "\n",
       "    .dataframe thead th {\n",
       "        text-align: right;\n",
       "    }\n",
       "</style>\n",
       "<table border=\"1\" class=\"dataframe\">\n",
       "  <thead>\n",
       "    <tr style=\"text-align: right;\">\n",
       "      <th></th>\n",
       "      <th>buying</th>\n",
       "      <th>maint</th>\n",
       "      <th>doors</th>\n",
       "      <th>persons</th>\n",
       "      <th>lug_boot</th>\n",
       "      <th>safety</th>\n",
       "      <th>classe</th>\n",
       "    </tr>\n",
       "  </thead>\n",
       "  <tbody>\n",
       "    <tr>\n",
       "      <th>0</th>\n",
       "      <td>3</td>\n",
       "      <td>3</td>\n",
       "      <td>0</td>\n",
       "      <td>0</td>\n",
       "      <td>2</td>\n",
       "      <td>1</td>\n",
       "      <td>2</td>\n",
       "    </tr>\n",
       "    <tr>\n",
       "      <th>1</th>\n",
       "      <td>3</td>\n",
       "      <td>3</td>\n",
       "      <td>0</td>\n",
       "      <td>0</td>\n",
       "      <td>2</td>\n",
       "      <td>2</td>\n",
       "      <td>2</td>\n",
       "    </tr>\n",
       "    <tr>\n",
       "      <th>2</th>\n",
       "      <td>3</td>\n",
       "      <td>3</td>\n",
       "      <td>0</td>\n",
       "      <td>0</td>\n",
       "      <td>2</td>\n",
       "      <td>0</td>\n",
       "      <td>2</td>\n",
       "    </tr>\n",
       "    <tr>\n",
       "      <th>3</th>\n",
       "      <td>3</td>\n",
       "      <td>3</td>\n",
       "      <td>0</td>\n",
       "      <td>0</td>\n",
       "      <td>1</td>\n",
       "      <td>1</td>\n",
       "      <td>2</td>\n",
       "    </tr>\n",
       "    <tr>\n",
       "      <th>4</th>\n",
       "      <td>3</td>\n",
       "      <td>3</td>\n",
       "      <td>0</td>\n",
       "      <td>0</td>\n",
       "      <td>1</td>\n",
       "      <td>2</td>\n",
       "      <td>2</td>\n",
       "    </tr>\n",
       "  </tbody>\n",
       "</table>\n",
       "</div>"
      ],
      "text/plain": [
       "   buying  maint  doors  persons  lug_boot  safety  classe\n",
       "0       3      3      0        0         2       1       2\n",
       "1       3      3      0        0         2       2       2\n",
       "2       3      3      0        0         2       0       2\n",
       "3       3      3      0        0         1       1       2\n",
       "4       3      3      0        0         1       2       2"
      ]
     },
     "execution_count": 8,
     "metadata": {},
     "output_type": "execute_result"
    }
   ],
   "source": [
    "df = pd.read_csv('carData.csv', names=['buying', 'maint', 'doors', 'persons', 'lug_boot', 'safety', 'classe'])\n",
    "\n",
    "df['buying'] = LabelEncoder().fit(df.buying).transform(df.buying)\n",
    "df['maint'] = LabelEncoder().fit(df.maint).transform(df.maint)\n",
    "df['doors'] = LabelEncoder().fit(df.doors).transform(df.doors)\n",
    "df['persons'] = LabelEncoder().fit(df.persons).transform(df.persons)\n",
    "df['lug_boot'] = LabelEncoder().fit(df.lug_boot).transform(df.lug_boot)\n",
    "df['safety'] = LabelEncoder().fit(df.safety).transform(df.safety)\n",
    "df['classe'] = LabelEncoder().fit(df.classe).transform(df.classe)\n",
    "\n",
    "df.head()"
   ]
  },
  {
   "cell_type": "code",
   "execution_count": 9,
   "metadata": {},
   "outputs": [],
   "source": [
    "features = ['buying', 'maint', 'doors', 'persons', 'lug_boot', 'safety']\n",
    "X = df.get(features)\n",
    "Y = df['classe'].values\n",
    "\n",
    "X = MinMaxScaler().fit_transform(df[features])"
   ]
  },
  {
   "cell_type": "code",
   "execution_count": 11,
   "metadata": {},
   "outputs": [
    {
     "data": {
      "text/plain": [
       "0.65740740740740744"
      ]
     },
     "execution_count": 11,
     "metadata": {},
     "output_type": "execute_result"
    }
   ],
   "source": [
    "gnb = GaussianNB()\n",
    "\n",
    "X_train, X_test, Y_train, Y_test = train_test_split(X, Y, test_size = 0.25, random_state=1)\n",
    "y_pred = gnb.fit(X_train, Y_train).predict(X_test)\n",
    "accuracy_score(Y_test, y_pred)"
   ]
  },
  {
   "cell_type": "code",
   "execution_count": 12,
   "metadata": {},
   "outputs": [
    {
     "name": "stdout",
     "output_type": "stream",
     "text": [
      "             precision    recall  f1-score   support\n",
      "\n",
      "          0       0.11      0.67      0.19        15\n",
      "          1       0.00      0.00      0.00         0\n",
      "          2       0.83      0.85      0.84       305\n",
      "          3       1.00      0.14      0.25       112\n",
      "\n",
      "avg / total       0.85      0.66      0.66       432\n",
      "\n"
     ]
    },
    {
     "name": "stderr",
     "output_type": "stream",
     "text": [
      "/home/jader/miniconda3/envs/aula/lib/python3.6/site-packages/sklearn/metrics/classification.py:1137: UndefinedMetricWarning: Recall and F-score are ill-defined and being set to 0.0 in labels with no true samples.\n",
      "  'recall', 'true', average, warn_for)\n"
     ]
    }
   ],
   "source": [
    "print(classification_report(y_pred, Y_test))"
   ]
  },
  {
   "cell_type": "code",
   "execution_count": null,
   "metadata": {},
   "outputs": [],
   "source": []
  }
 ],
 "metadata": {
  "kernelspec": {
   "display_name": "Python 3",
   "language": "python",
   "name": "python3"
  },
  "language_info": {
   "codemirror_mode": {
    "name": "ipython",
    "version": 3
   },
   "file_extension": ".py",
   "mimetype": "text/x-python",
   "name": "python",
   "nbconvert_exporter": "python",
   "pygments_lexer": "ipython3",
   "version": "3.6.5"
  }
 },
 "nbformat": 4,
 "nbformat_minor": 2
}
