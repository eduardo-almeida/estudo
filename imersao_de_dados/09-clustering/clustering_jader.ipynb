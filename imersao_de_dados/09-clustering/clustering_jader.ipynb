{
 "cells": [
  {
   "cell_type": "markdown",
   "metadata": {
    "collapsed": true
   },
   "source": [
    "## Exercícios - JADER GOMES\n",
    "\n",
    "1 - Aplique os algoritmos K-means [1] e AgglomerativeClustering [2] em qualquer dataset que você desejar (recomendação: iris). Compare os resultados utilizando métricas de avaliação de clusteres (completeness e homogeneity, por exemplo) [3].\n",
    "\n",
    "* [1] http://scikit-learn.org/stable/modules/clustering.html#k-means\n",
    "\n",
    "* [2] http://scikit-learn.org/0.17/modules/clustering.html#hierarchical-clustering\n",
    "\n",
    "* [3] http://scikit-learn.org/stable/modules/clustering.html#clustering-evaluation\n",
    "\n",
    "2 - Qual o valor de K (número de clusteres) você escolheu para a questão anterior? Desenvolva o Método do Cotovelo (não utilizar lib!) e descubra o K mais adequado. Após descobrir, aplique novamente o K-means com o K adequado. \n",
    "\n",
    "* Ajuda: atributos do [k-means](http://scikit-learn.org/0.17/modules/generated/sklearn.cluster.KMeans.html#sklearn.cluster.KMeans)\n",
    "\n",
    "3 - Após a questão 2, você aplicou o algoritmo com K apropriado. Refaça o cálculo das métricas de acordo com os resultados de clusters obtidos com a questão anterior e verifique se o resultado melhorou.\n",
    "\n",
    "\n",
    "\n",
    "\n",
    "\n"
   ]
  },
  {
   "cell_type": "markdown",
   "metadata": {
    "collapsed": true
   },
   "source": [
    "## Ex. 1"
   ]
  },
  {
   "cell_type": "code",
   "execution_count": 2,
   "metadata": {},
   "outputs": [],
   "source": [
    "import numpy as np\n",
    "import pandas as pd\n",
    "from sklearn import metrics\n",
    "from sklearn import datasets\n",
    "from sklearn.cluster import KMeans\n",
    "from sklearn.decomposition import PCA\n",
    "from sklearn.preprocessing import normalize\n",
    "import matplotlib.pyplot as plt\n"
   ]
  },
  {
   "cell_type": "code",
   "execution_count": 3,
   "metadata": {},
   "outputs": [],
   "source": [
    "iris = datasets.load_iris()\n",
    "df = pd.DataFrame(iris.data)\n",
    "y = iris.target"
   ]
  },
  {
   "cell_type": "code",
   "execution_count": 6,
   "metadata": {},
   "outputs": [
    {
     "name": "stdout",
     "output_type": "stream",
     "text": [
      "       0    1    2    3\n",
      "0    5.1  3.5  1.4  0.2\n",
      "1    4.9  3.0  1.4  0.2\n",
      "2    4.7  3.2  1.3  0.2\n",
      "3    4.6  3.1  1.5  0.2\n",
      "4    5.0  3.6  1.4  0.2\n",
      "5    5.4  3.9  1.7  0.4\n",
      "6    4.6  3.4  1.4  0.3\n",
      "7    5.0  3.4  1.5  0.2\n",
      "8    4.4  2.9  1.4  0.2\n",
      "9    4.9  3.1  1.5  0.1\n",
      "10   5.4  3.7  1.5  0.2\n",
      "11   4.8  3.4  1.6  0.2\n",
      "12   4.8  3.0  1.4  0.1\n",
      "13   4.3  3.0  1.1  0.1\n",
      "14   5.8  4.0  1.2  0.2\n",
      "15   5.7  4.4  1.5  0.4\n",
      "16   5.4  3.9  1.3  0.4\n",
      "17   5.1  3.5  1.4  0.3\n",
      "18   5.7  3.8  1.7  0.3\n",
      "19   5.1  3.8  1.5  0.3\n",
      "20   5.4  3.4  1.7  0.2\n",
      "21   5.1  3.7  1.5  0.4\n",
      "22   4.6  3.6  1.0  0.2\n",
      "23   5.1  3.3  1.7  0.5\n",
      "24   4.8  3.4  1.9  0.2\n",
      "25   5.0  3.0  1.6  0.2\n",
      "26   5.0  3.4  1.6  0.4\n",
      "27   5.2  3.5  1.5  0.2\n",
      "28   5.2  3.4  1.4  0.2\n",
      "29   4.7  3.2  1.6  0.2\n",
      "..   ...  ...  ...  ...\n",
      "120  6.9  3.2  5.7  2.3\n",
      "121  5.6  2.8  4.9  2.0\n",
      "122  7.7  2.8  6.7  2.0\n",
      "123  6.3  2.7  4.9  1.8\n",
      "124  6.7  3.3  5.7  2.1\n",
      "125  7.2  3.2  6.0  1.8\n",
      "126  6.2  2.8  4.8  1.8\n",
      "127  6.1  3.0  4.9  1.8\n",
      "128  6.4  2.8  5.6  2.1\n",
      "129  7.2  3.0  5.8  1.6\n",
      "130  7.4  2.8  6.1  1.9\n",
      "131  7.9  3.8  6.4  2.0\n",
      "132  6.4  2.8  5.6  2.2\n",
      "133  6.3  2.8  5.1  1.5\n",
      "134  6.1  2.6  5.6  1.4\n",
      "135  7.7  3.0  6.1  2.3\n",
      "136  6.3  3.4  5.6  2.4\n",
      "137  6.4  3.1  5.5  1.8\n",
      "138  6.0  3.0  4.8  1.8\n",
      "139  6.9  3.1  5.4  2.1\n",
      "140  6.7  3.1  5.6  2.4\n",
      "141  6.9  3.1  5.1  2.3\n",
      "142  5.8  2.7  5.1  1.9\n",
      "143  6.8  3.2  5.9  2.3\n",
      "144  6.7  3.3  5.7  2.5\n",
      "145  6.7  3.0  5.2  2.3\n",
      "146  6.3  2.5  5.0  1.9\n",
      "147  6.5  3.0  5.2  2.0\n",
      "148  6.2  3.4  5.4  2.3\n",
      "149  5.9  3.0  5.1  1.8\n",
      "\n",
      "[150 rows x 4 columns]\n"
     ]
    }
   ],
   "source": [
    "print(df)"
   ]
  },
  {
   "cell_type": "code",
   "execution_count": 4,
   "metadata": {},
   "outputs": [
    {
     "data": {
      "text/html": [
       "<div>\n",
       "<style scoped>\n",
       "    .dataframe tbody tr th:only-of-type {\n",
       "        vertical-align: middle;\n",
       "    }\n",
       "\n",
       "    .dataframe tbody tr th {\n",
       "        vertical-align: top;\n",
       "    }\n",
       "\n",
       "    .dataframe thead th {\n",
       "        text-align: right;\n",
       "    }\n",
       "</style>\n",
       "<table border=\"1\" class=\"dataframe\">\n",
       "  <thead>\n",
       "    <tr style=\"text-align: right;\">\n",
       "      <th></th>\n",
       "      <th>0</th>\n",
       "      <th>1</th>\n",
       "      <th>2</th>\n",
       "      <th>3</th>\n",
       "    </tr>\n",
       "  </thead>\n",
       "  <tbody>\n",
       "    <tr>\n",
       "      <th>0</th>\n",
       "      <td>5.1</td>\n",
       "      <td>3.5</td>\n",
       "      <td>1.4</td>\n",
       "      <td>0.2</td>\n",
       "    </tr>\n",
       "    <tr>\n",
       "      <th>1</th>\n",
       "      <td>4.9</td>\n",
       "      <td>3.0</td>\n",
       "      <td>1.4</td>\n",
       "      <td>0.2</td>\n",
       "    </tr>\n",
       "    <tr>\n",
       "      <th>2</th>\n",
       "      <td>4.7</td>\n",
       "      <td>3.2</td>\n",
       "      <td>1.3</td>\n",
       "      <td>0.2</td>\n",
       "    </tr>\n",
       "    <tr>\n",
       "      <th>3</th>\n",
       "      <td>4.6</td>\n",
       "      <td>3.1</td>\n",
       "      <td>1.5</td>\n",
       "      <td>0.2</td>\n",
       "    </tr>\n",
       "    <tr>\n",
       "      <th>4</th>\n",
       "      <td>5.0</td>\n",
       "      <td>3.6</td>\n",
       "      <td>1.4</td>\n",
       "      <td>0.2</td>\n",
       "    </tr>\n",
       "  </tbody>\n",
       "</table>\n",
       "</div>"
      ],
      "text/plain": [
       "     0    1    2    3\n",
       "0  5.1  3.5  1.4  0.2\n",
       "1  4.9  3.0  1.4  0.2\n",
       "2  4.7  3.2  1.3  0.2\n",
       "3  4.6  3.1  1.5  0.2\n",
       "4  5.0  3.6  1.4  0.2"
      ]
     },
     "execution_count": 4,
     "metadata": {},
     "output_type": "execute_result"
    }
   ],
   "source": [
    "df.head()"
   ]
  },
  {
   "cell_type": "code",
   "execution_count": 8,
   "metadata": {},
   "outputs": [],
   "source": [
    "#Normalizando\n",
    "normal = normalize(df)/2\n",
    "df = pd.DataFrame(normal)"
   ]
  },
  {
   "cell_type": "code",
   "execution_count": 9,
   "metadata": {},
   "outputs": [
    {
     "name": "stdout",
     "output_type": "stream",
     "text": [
      "            0         1         2         3\n",
      "0    0.401886  0.275804  0.110322  0.015760\n",
      "1    0.414066  0.253510  0.118305  0.016901\n",
      "2    0.402667  0.274156  0.111376  0.017135\n",
      "3    0.400015  0.269575  0.130440  0.017392\n",
      "4    0.395482  0.284747  0.110735  0.015819\n",
      "5    0.392087  0.283174  0.123435  0.029044\n",
      "6    0.390055  0.288301  0.118712  0.025438\n",
      "7    0.401092  0.272743  0.120328  0.016044\n",
      "8    0.403212  0.265753  0.128295  0.018328\n",
      "9    0.409016  0.258765  0.125209  0.008347\n",
      "10   0.401868  0.275354  0.111630  0.014884\n",
      "11   0.393496  0.278726  0.131165  0.016396\n",
      "12   0.411536  0.257210  0.120031  0.008574\n",
      "13   0.401256  0.279946  0.102647  0.009332\n",
      "14   0.405604  0.279727  0.083918  0.013986\n",
      "15   0.386906  0.298664  0.101817  0.027151\n",
      "16   0.397145  0.286827  0.095609  0.029418\n",
      "17   0.401637  0.275633  0.110253  0.023626\n",
      "18   0.403414  0.268943  0.120316  0.021232\n",
      "19   0.389824  0.290457  0.114654  0.022931\n",
      "20   0.408669  0.257310  0.128655  0.015136\n",
      "21   0.392959  0.285088  0.115576  0.030820\n",
      "22   0.387885  0.303562  0.084323  0.016865\n",
      "23   0.402989  0.260758  0.134330  0.039509\n",
      "24   0.388057  0.274874  0.153606  0.016169\n",
      "25   0.413237  0.247942  0.132236  0.016529\n",
      "26   0.398891  0.271246  0.127645  0.031911\n",
      "27   0.403210  0.271391  0.116311  0.015508\n",
      "28   0.408047  0.266800  0.109859  0.015694\n",
      "29   0.397620  0.270720  0.135360  0.016920\n",
      "..        ...       ...       ...       ...\n",
      "120  0.352795  0.163615  0.291439  0.117598\n",
      "121  0.341540  0.170770  0.298847  0.121978\n",
      "122  0.357433  0.129976  0.311013  0.092840\n",
      "123  0.365612  0.156691  0.284365  0.104461\n",
      "124  0.347978  0.171392  0.296041  0.109068\n",
      "125  0.357647  0.158954  0.298039  0.089412\n",
      "126  0.363926  0.164354  0.281749  0.105656\n",
      "127  0.355856  0.175011  0.285852  0.105007\n",
      "128  0.347970  0.152237  0.304474  0.114178\n",
      "129  0.365449  0.152271  0.294390  0.081211\n",
      "130  0.363831  0.137666  0.299915  0.093416\n",
      "131  0.357895  0.172152  0.289940  0.090606\n",
      "132  0.347089  0.151851  0.303703  0.119312\n",
      "133  0.361830  0.160813  0.292910  0.086150\n",
      "134  0.346927  0.147871  0.318490  0.079623\n",
      "135  0.365772  0.142509  0.289767  0.109257\n",
      "136  0.335087  0.180841  0.297855  0.127652\n",
      "137  0.349024  0.169058  0.299942  0.098163\n",
      "138  0.355335  0.177667  0.284268  0.106600\n",
      "139  0.362076  0.162672  0.283364  0.110197\n",
      "140  0.349985  0.161933  0.292525  0.125368\n",
      "141  0.366689  0.164745  0.271031  0.122230\n",
      "142  0.345263  0.160726  0.303593  0.113103\n",
      "143  0.345968  0.162808  0.300178  0.117018\n",
      "144  0.344574  0.169716  0.293145  0.128573\n",
      "145  0.360779  0.161543  0.280007  0.123849\n",
      "146  0.364827  0.144773  0.289545  0.110027\n",
      "147  0.358269  0.165355  0.286616  0.110237\n",
      "148  0.337335  0.184990  0.293808  0.125141\n",
      "149  0.345130  0.175490  0.298332  0.105294\n",
      "\n",
      "[150 rows x 4 columns]\n"
     ]
    }
   ],
   "source": [
    "print(df)"
   ]
  },
  {
   "cell_type": "code",
   "execution_count": 10,
   "metadata": {},
   "outputs": [
    {
     "data": {
      "text/html": [
       "<div>\n",
       "<style scoped>\n",
       "    .dataframe tbody tr th:only-of-type {\n",
       "        vertical-align: middle;\n",
       "    }\n",
       "\n",
       "    .dataframe tbody tr th {\n",
       "        vertical-align: top;\n",
       "    }\n",
       "\n",
       "    .dataframe thead th {\n",
       "        text-align: right;\n",
       "    }\n",
       "</style>\n",
       "<table border=\"1\" class=\"dataframe\">\n",
       "  <thead>\n",
       "    <tr style=\"text-align: right;\">\n",
       "      <th></th>\n",
       "      <th>0</th>\n",
       "      <th>1</th>\n",
       "      <th>2</th>\n",
       "      <th>3</th>\n",
       "    </tr>\n",
       "  </thead>\n",
       "  <tbody>\n",
       "    <tr>\n",
       "      <th>0</th>\n",
       "      <td>0.401886</td>\n",
       "      <td>0.275804</td>\n",
       "      <td>0.110322</td>\n",
       "      <td>0.015760</td>\n",
       "    </tr>\n",
       "    <tr>\n",
       "      <th>1</th>\n",
       "      <td>0.414066</td>\n",
       "      <td>0.253510</td>\n",
       "      <td>0.118305</td>\n",
       "      <td>0.016901</td>\n",
       "    </tr>\n",
       "    <tr>\n",
       "      <th>2</th>\n",
       "      <td>0.402667</td>\n",
       "      <td>0.274156</td>\n",
       "      <td>0.111376</td>\n",
       "      <td>0.017135</td>\n",
       "    </tr>\n",
       "    <tr>\n",
       "      <th>3</th>\n",
       "      <td>0.400015</td>\n",
       "      <td>0.269575</td>\n",
       "      <td>0.130440</td>\n",
       "      <td>0.017392</td>\n",
       "    </tr>\n",
       "    <tr>\n",
       "      <th>4</th>\n",
       "      <td>0.395482</td>\n",
       "      <td>0.284747</td>\n",
       "      <td>0.110735</td>\n",
       "      <td>0.015819</td>\n",
       "    </tr>\n",
       "  </tbody>\n",
       "</table>\n",
       "</div>"
      ],
      "text/plain": [
       "          0         1         2         3\n",
       "0  0.401886  0.275804  0.110322  0.015760\n",
       "1  0.414066  0.253510  0.118305  0.016901\n",
       "2  0.402667  0.274156  0.111376  0.017135\n",
       "3  0.400015  0.269575  0.130440  0.017392\n",
       "4  0.395482  0.284747  0.110735  0.015819"
      ]
     },
     "execution_count": 10,
     "metadata": {},
     "output_type": "execute_result"
    }
   ],
   "source": [
    "df.head()"
   ]
  },
  {
   "cell_type": "code",
   "execution_count": 11,
   "metadata": {},
   "outputs": [],
   "source": [
    "df_pca = PCA(n_components=2).fit_transform(df)"
   ]
  },
  {
   "cell_type": "code",
   "execution_count": 12,
   "metadata": {},
   "outputs": [
    {
     "data": {
      "image/png": "[encoded data removed]",
      "text/plain": [
       "<matplotlib.figure.Figure at 0x7fc55b3530b8>"
      ]
     },
     "metadata": {},
     "output_type": "display_data"
    }
   ],
   "source": [
    "fig,ax = plt.subplots()\n",
    "ax.scatter(df_pca[:,0], df_pca[:,1], c=y)\n",
    "plt.show()"
   ]
  },
  {
   "cell_type": "code",
   "execution_count": 13,
   "metadata": {},
   "outputs": [],
   "source": [
    "# clusterização usando KMeans \n",
    "km = KMeans(n_clusters=3)\n",
    "km.fit(df_pca)\n",
    "clusters = km.predict(df_pca)"
   ]
  },
  {
   "cell_type": "code",
   "execution_count": 15,
   "metadata": {},
   "outputs": [
    {
     "data": {
      "image/png": "[encoded data removed]",
      "text/plain": [
       "<matplotlib.figure.Figure at 0x7fc5534919b0>"
      ]
     },
     "metadata": {},
     "output_type": "display_data"
    }
   ],
   "source": [
    "fig,ax = plt.subplots()\n",
    "ax.scatter(df_pca[:,0], df_pca[:,1], c=clusters)\n",
    "plt.show()"
   ]
  },
  {
   "cell_type": "code",
   "execution_count": 172,
   "metadata": {},
   "outputs": [
    {
     "name": "stdout",
     "output_type": "stream",
     "text": [
      "homogeneity = 0.8983263672602775\n",
      "completeness = 0.9010648908640206\n"
     ]
    }
   ],
   "source": [
    "#avaliando os clusteres\n",
    "score_homo = metrics.homogeneity_score(y,clusters)\n",
    "score_comp = metrics.completeness_score(y,clusters) \n",
    "\n",
    "print('homogeneity = {0}'.format(score_homo))\n",
    "print('completeness = {0}'.format(score_comp))"
   ]
  },
  {
   "cell_type": "markdown",
   "metadata": {},
   "source": [
    "## Ex. 2"
   ]
  },
  {
   "cell_type": "code",
   "execution_count": 16,
   "metadata": {},
   "outputs": [],
   "source": [
    "clusters_result = []\n",
    "for i in range(9):\n",
    "    km = KMeans(n_clusters=i+1)\n",
    "    km.fit(df_pca)   \n",
    "    clusters_result.append(km.inertia_)"
   ]
  },
  {
   "cell_type": "code",
   "execution_count": 17,
   "metadata": {},
   "outputs": [
    {
     "data": {
      "image/png": "[encoded data removed]",
      "text/plain": [
       "<matplotlib.figure.Figure at 0x7fc553455cf8>"
      ]
     },
     "metadata": {},
     "output_type": "display_data"
    }
   ],
   "source": [
    "plt.figure()\n",
    "plt.plot(np.arange(1,10),clusters_result,'ro-')\n",
    "plt.show()"
   ]
  },
  {
   "cell_type": "code",
   "execution_count": 18,
   "metadata": {},
   "outputs": [],
   "source": [
    "# KMeans clustering\n",
    "km = KMeans(n_clusters=2)\n",
    "km.fit(df_pca)\n",
    "clusters = km.predict(df_pca)"
   ]
  },
  {
   "cell_type": "code",
   "execution_count": 19,
   "metadata": {},
   "outputs": [
    {
     "data": {
      "image/png": "[encoded data removed]",
      "text/plain": [
       "<matplotlib.figure.Figure at 0x7fc5532cf160>"
      ]
     },
     "metadata": {},
     "output_type": "display_data"
    }
   ],
   "source": [
    "fig,ax = plt.subplots()\n",
    "ax.scatter(df_pca[:,0], df_pca[:,1], c=clusters)\n",
    "plt.show()"
   ]
  },
  {
   "cell_type": "markdown",
   "metadata": {},
   "source": [
    "## Ex. 3"
   ]
  },
  {
   "cell_type": "code",
   "execution_count": 20,
   "metadata": {},
   "outputs": [
    {
     "name": "stdout",
     "output_type": "stream",
     "text": [
      "homogeneity = 0.5793801642856945\n",
      "completeness = 0.9999999999999997\n"
     ]
    }
   ],
   "source": [
    "#avaliando os clusteres\n",
    "score_homo = metrics.homogeneity_score(y,clusters)\n",
    "score_comp = metrics.completeness_score(y,clusters) \n",
    "\n",
    "print('homogeneity = {0}'.format(score_homo))\n",
    "print('completeness = {0}'.format(score_comp))"
   ]
  }
 ],
 "metadata": {
  "kernelspec": {
   "display_name": "Python 3",
   "language": "python",
   "name": "python3"
  },
  "language_info": {
   "codemirror_mode": {
    "name": "ipython",
    "version": 3
   },
   "file_extension": ".py",
   "mimetype": "text/x-python",
   "name": "python",
   "nbconvert_exporter": "python",
   "pygments_lexer": "ipython3",
   "version": "3.6.3"
  }
 },
 "nbformat": 4,
 "nbformat_minor": 2
}
