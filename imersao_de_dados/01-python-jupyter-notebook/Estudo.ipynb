{
 "cells": [
  {
   "cell_type": "code",
   "execution_count": 1,
   "metadata": {},
   "outputs": [],
   "source": [
    " file = open('iris-dataset.txt') \n",
    "    "
   ]
  },
  {
   "cell_type": "code",
   "execution_count": 2,
   "metadata": {},
   "outputs": [
    {
     "data": {
      "text/plain": [
       "'iris-dataset.txt'"
      ]
     },
     "execution_count": 2,
     "metadata": {},
     "output_type": "execute_result"
    }
   ],
   "source": [
    "file.name\n"
   ]
  },
  {
   "cell_type": "code",
   "execution_count": 3,
   "metadata": {},
   "outputs": [
    {
     "data": {
      "text/plain": [
       "'r'"
      ]
     },
     "execution_count": 3,
     "metadata": {},
     "output_type": "execute_result"
    }
   ],
   "source": [
    "file.mode"
   ]
  },
  {
   "cell_type": "code",
   "execution_count": 4,
   "metadata": {},
   "outputs": [
    {
     "data": {
      "text/plain": [
       "'sepal length\\tsepal width\\tpetal length\\tpetal width\\tiris\\n5.1\\t3.5\\t1.4\\t0.2\\tIris-setosa\\n4.9\\t3.0\\t1.4\\t0.2\\tIris-setosa\\n4.7\\t3.2\\t1.3\\t0.2\\tIris-setosa\\n4.6\\t3.1\\t1.5\\t0.2\\tIris-setosa\\n5.0\\t3.6\\t1.4\\t0.2\\tIris-setosa\\n5.4\\t3.9\\t1.7\\t0.4\\tIris-setosa\\n4.6\\t3.4\\t1.4\\t0.3\\tIris-setosa\\n5.0\\t3.4\\t1.5\\t0.2\\tIris-setosa\\n4.4\\t2.9\\t1.4\\t0.2\\tIris-setosa\\n4.9\\t3.1\\t1.5\\t0.1\\tIris-setosa\\n5.4\\t3.7\\t1.5\\t0.2\\tIris-setosa\\n4.8\\t3.4\\t1.6\\t0.2\\tIris-setosa\\n4.8\\t3.0\\t1.4\\t0.1\\tIris-setosa\\n4.3\\t3.0\\t1.1\\t0.1\\tIris-setosa\\n5.8\\t4.0\\t1.2\\t0.2\\tIris-setosa\\n5.7\\t4.4\\t1.5\\t0.4\\tIris-setosa\\n5.4\\t3.9\\t1.3\\t0.4\\tIris-setosa\\n5.1\\t3.5\\t1.4\\t0.3\\tIris-setosa\\n5.7\\t3.8\\t1.7\\t0.3\\tIris-setosa\\n5.1\\t3.8\\t1.5\\t0.3\\tIris-setosa\\n5.4\\t3.4\\t1.7\\t0.2\\tIris-setosa\\n5.1\\t3.7\\t1.5\\t0.4\\tIris-setosa\\n4.6\\t3.6\\t1.0\\t0.2\\tIris-setosa\\n5.1\\t3.3\\t1.7\\t0.5\\tIris-setosa\\n4.8\\t3.4\\t1.9\\t0.2\\tIris-setosa\\n5.0\\t3.0\\t1.6\\t0.2\\tIris-setosa\\n5.0\\t3.4\\t1.6\\t0.4\\tIris-setosa\\n5.2\\t3.5\\t1.5\\t0.2\\tIris-setosa\\n5.2\\t3.4\\t1.4\\t0.2\\tIris-setosa\\n4.7\\t3.2\\t1.6\\t0.2\\tIris-setosa\\n4.8\\t3.1\\t1.6\\t0.2\\tIris-setosa\\n5.4\\t3.4\\t1.5\\t0.4\\tIris-setosa\\n5.2\\t4.1\\t1.5\\t0.1\\tIris-setosa\\n5.5\\t4.2\\t1.4\\t0.2\\tIris-setosa\\n4.9\\t3.1\\t1.5\\t0.1\\tIris-setosa\\n5.0\\t3.2\\t1.2\\t0.2\\tIris-setosa\\n5.5\\t3.5\\t1.3\\t0.2\\tIris-setosa\\n4.9\\t3.1\\t1.5\\t0.1\\tIris-setosa\\n4.4\\t3.0\\t1.3\\t0.2\\tIris-setosa\\n5.1\\t3.4\\t1.5\\t0.2\\tIris-setosa\\n5.0\\t3.5\\t1.3\\t0.3\\tIris-setosa\\n4.5\\t2.3\\t1.3\\t0.3\\tIris-setosa\\n4.4\\t3.2\\t1.3\\t0.2\\tIris-setosa\\n5.0\\t3.5\\t1.6\\t0.6\\tIris-setosa\\n5.1\\t3.8\\t1.9\\t0.4\\tIris-setosa\\n4.8\\t3.0\\t1.4\\t0.3\\tIris-setosa\\n5.1\\t3.8\\t1.6\\t0.2\\tIris-setosa\\n4.6\\t3.2\\t1.4\\t0.2\\tIris-setosa\\n5.3\\t3.7\\t1.5\\t0.2\\tIris-setosa\\n5.0\\t3.3\\t1.4\\t0.2\\tIris-setosa\\n7.0\\t3.2\\t4.7\\t1.4\\tIris-versicolor\\n6.4\\t3.2\\t4.5\\t1.5\\tIris-versicolor\\n6.9\\t3.1\\t4.9\\t1.5\\tIris-versicolor\\n5.5\\t2.3\\t4.0\\t1.3\\tIris-versicolor\\n6.5\\t2.8\\t4.6\\t1.5\\tIris-versicolor\\n5.7\\t2.8\\t4.5\\t1.3\\tIris-versicolor\\n6.3\\t3.3\\t4.7\\t1.6\\tIris-versicolor\\n4.9\\t2.4\\t3.3\\t1.0\\tIris-versicolor\\n6.6\\t2.9\\t4.6\\t1.3\\tIris-versicolor\\n5.2\\t2.7\\t3.9\\t1.4\\tIris-versicolor\\n5.0\\t2.0\\t3.5\\t1.0\\tIris-versicolor\\n5.9\\t3.0\\t4.2\\t1.5\\tIris-versicolor\\n6.0\\t2.2\\t4.0\\t1.0\\tIris-versicolor\\n6.1\\t2.9\\t4.7\\t1.4\\tIris-versicolor\\n5.6\\t2.9\\t3.6\\t1.3\\tIris-versicolor\\n6.7\\t3.1\\t4.4\\t1.4\\tIris-versicolor\\n5.6\\t3.0\\t4.5\\t1.5\\tIris-versicolor\\n5.8\\t2.7\\t4.1\\t1.0\\tIris-versicolor\\n6.2\\t2.2\\t4.5\\t1.5\\tIris-versicolor\\n5.6\\t2.5\\t3.9\\t1.1\\tIris-versicolor\\n5.9\\t3.2\\t4.8\\t1.8\\tIris-versicolor\\n6.1\\t2.8\\t4.0\\t1.3\\tIris-versicolor\\n6.3\\t2.5\\t4.9\\t1.5\\tIris-versicolor\\n6.1\\t2.8\\t4.7\\t1.2\\tIris-versicolor\\n6.4\\t2.9\\t4.3\\t1.3\\tIris-versicolor\\n6.6\\t3.0\\t4.4\\t1.4\\tIris-versicolor\\n6.8\\t2.8\\t4.8\\t1.4\\tIris-versicolor\\n6.7\\t3.0\\t5.0\\t1.7\\tIris-versicolor\\n6.0\\t2.9\\t4.5\\t1.5\\tIris-versicolor\\n5.7\\t2.6\\t3.5\\t1.0\\tIris-versicolor\\n5.5\\t2.4\\t3.8\\t1.1\\tIris-versicolor\\n5.5\\t2.4\\t3.7\\t1.0\\tIris-versicolor\\n5.8\\t2.7\\t3.9\\t1.2\\tIris-versicolor\\n6.0\\t2.7\\t5.1\\t1.6\\tIris-versicolor\\n5.4\\t3.0\\t4.5\\t1.5\\tIris-versicolor\\n6.0\\t3.4\\t4.5\\t1.6\\tIris-versicolor\\n6.7\\t3.1\\t4.7\\t1.5\\tIris-versicolor\\n6.3\\t2.3\\t4.4\\t1.3\\tIris-versicolor\\n5.6\\t3.0\\t4.1\\t1.3\\tIris-versicolor\\n5.5\\t2.5\\t4.0\\t1.3\\tIris-versicolor\\n5.5\\t2.6\\t4.4\\t1.2\\tIris-versicolor\\n6.1\\t3.0\\t4.6\\t1.4\\tIris-versicolor\\n5.8\\t2.6\\t4.0\\t1.2\\tIris-versicolor\\n5.0\\t2.3\\t3.3\\t1.0\\tIris-versicolor\\n5.6\\t2.7\\t4.2\\t1.3\\tIris-versicolor\\n5.7\\t3.0\\t4.2\\t1.2\\tIris-versicolor\\n5.7\\t2.9\\t4.2\\t1.3\\tIris-versicolor\\n6.2\\t2.9\\t4.3\\t1.3\\tIris-versicolor\\n5.1\\t2.5\\t3.0\\t1.1\\tIris-versicolor\\n5.7\\t2.8\\t4.1\\t1.3\\tIris-versicolor\\n6.3\\t3.3\\t6.0\\t2.5\\tIris-virginica\\n5.8\\t2.7\\t5.1\\t1.9\\tIris-virginica\\n7.1\\t3.0\\t5.9\\t2.1\\tIris-virginica\\n6.3\\t2.9\\t5.6\\t1.8\\tIris-virginica\\n6.5\\t3.0\\t5.8\\t2.2\\tIris-virginica\\n7.6\\t3.0\\t6.6\\t2.1\\tIris-virginica\\n4.9\\t2.5\\t4.5\\t1.7\\tIris-virginica\\n7.3\\t2.9\\t6.3\\t1.8\\tIris-virginica\\n6.7\\t2.5\\t5.8\\t1.8\\tIris-virginica\\n7.2\\t3.6\\t6.1\\t2.5\\tIris-virginica\\n6.5\\t3.2\\t5.1\\t2.0\\tIris-virginica\\n6.4\\t2.7\\t5.3\\t1.9\\tIris-virginica\\n6.8\\t3.0\\t5.5\\t2.1\\tIris-virginica\\n5.7\\t2.5\\t5.0\\t2.0\\tIris-virginica\\n5.8\\t2.8\\t5.1\\t2.4\\tIris-virginica\\n6.4\\t3.2\\t5.3\\t2.3\\tIris-virginica\\n6.5\\t3.0\\t5.5\\t1.8\\tIris-virginica\\n7.7\\t3.8\\t6.7\\t2.2\\tIris-virginica\\n7.7\\t2.6\\t6.9\\t2.3\\tIris-virginica\\n6.0\\t2.2\\t5.0\\t1.5\\tIris-virginica\\n6.9\\t3.2\\t5.7\\t2.3\\tIris-virginica\\n5.6\\t2.8\\t4.9\\t2.0\\tIris-virginica\\n7.7\\t2.8\\t6.7\\t2.0\\tIris-virginica\\n6.3\\t2.7\\t4.9\\t1.8\\tIris-virginica\\n6.7\\t3.3\\t5.7\\t2.1\\tIris-virginica\\n7.2\\t3.2\\t6.0\\t1.8\\tIris-virginica\\n6.2\\t2.8\\t4.8\\t1.8\\tIris-virginica\\n6.1\\t3.0\\t4.9\\t1.8\\tIris-virginica\\n6.4\\t2.8\\t5.6\\t2.1\\tIris-virginica\\n7.2\\t3.0\\t5.8\\t1.6\\tIris-virginica\\n7.4\\t2.8\\t6.1\\t1.9\\tIris-virginica\\n7.9\\t3.8\\t6.4\\t2.0\\tIris-virginica\\n6.4\\t2.8\\t5.6\\t2.2\\tIris-virginica\\n6.3\\t2.8\\t5.1\\t1.5\\tIris-virginica\\n6.1\\t2.6\\t5.6\\t1.4\\tIris-virginica\\n7.7\\t3.0\\t6.1\\t2.3\\tIris-virginica\\n6.3\\t3.4\\t5.6\\t2.4\\tIris-virginica\\n6.4\\t3.1\\t5.5\\t1.8\\tIris-virginica\\n6.0\\t3.0\\t4.8\\t1.8\\tIris-virginica\\n6.9\\t3.1\\t5.4\\t2.1\\tIris-virginica\\n6.7\\t3.1\\t5.6\\t2.4\\tIris-virginica\\n6.9\\t3.1\\t5.1\\t2.3\\tIris-virginica\\n5.8\\t2.7\\t5.1\\t1.9\\tIris-virginica\\n6.8\\t3.2\\t5.9\\t2.3\\tIris-virginica\\n6.7\\t3.3\\t5.7\\t2.5\\tIris-virginica\\n6.7\\t3.0\\t5.2\\t2.3\\tIris-virginica\\n6.3\\t2.5\\t5.0\\t1.9\\tIris-virginica\\n6.5\\t3.0\\t5.2\\t2.0\\tIris-virginica\\n6.2\\t3.4\\t5.4\\t2.3\\tIris-virginica\\n5.9\\t3.0\\t5.1\\t1.8\\tIris-virginica\\n'"
      ]
     },
     "execution_count": 4,
     "metadata": {},
     "output_type": "execute_result"
    }
   ],
   "source": [
    "file.read()"
   ]
  },
  {
   "cell_type": "code",
   "execution_count": 7,
   "metadata": {},
   "outputs": [
    {
     "data": {
      "text/plain": [
       "''"
      ]
     },
     "execution_count": 7,
     "metadata": {},
     "output_type": "execute_result"
    }
   ],
   "source": [
    "file.readline() "
   ]
  },
  {
   "cell_type": "code",
   "execution_count": 6,
   "metadata": {},
   "outputs": [
    {
     "data": {
      "text/plain": [
       "[]"
      ]
     },
     "execution_count": 6,
     "metadata": {},
     "output_type": "execute_result"
    }
   ],
   "source": [
    "file.readlines()"
   ]
  },
  {
   "cell_type": "code",
   "execution_count": 18,
   "metadata": {},
   "outputs": [],
   "source": [
    "file=open('asd.txt', 'w')"
   ]
  },
  {
   "cell_type": "code",
   "execution_count": 20,
   "metadata": {},
   "outputs": [
    {
     "data": {
      "text/plain": [
       "8"
      ]
     },
     "execution_count": 20,
     "metadata": {},
     "output_type": "execute_result"
    }
   ],
   "source": [
    " file.write('linha 1\\n') "
   ]
  },
  {
   "cell_type": "code",
   "execution_count": 23,
   "metadata": {},
   "outputs": [],
   "source": [
    " file = open('asd.txt') "
   ]
  },
  {
   "cell_type": "code",
   "execution_count": 21,
   "metadata": {},
   "outputs": [],
   "source": [
    "file.close()"
   ]
  },
  {
   "cell_type": "code",
   "execution_count": 24,
   "metadata": {},
   "outputs": [
    {
     "data": {
      "text/plain": [
       "'linha 1\\nlinha 1\\n'"
      ]
     },
     "execution_count": 24,
     "metadata": {},
     "output_type": "execute_result"
    }
   ],
   "source": [
    "file.read()"
   ]
  },
  {
   "cell_type": "code",
   "execution_count": 26,
   "metadata": {},
   "outputs": [
    {
     "data": {
      "text/plain": [
       "[]"
      ]
     },
     "execution_count": 26,
     "metadata": {},
     "output_type": "execute_result"
    }
   ],
   "source": [
    "file.readlines() "
   ]
  },
  {
   "cell_type": "code",
   "execution_count": null,
   "metadata": {},
   "outputs": [],
   "source": []
  }
 ],
 "metadata": {
  "kernelspec": {
   "display_name": "Python 3",
   "language": "python",
   "name": "python3"
  },
  "language_info": {
   "codemirror_mode": {
    "name": "ipython",
    "version": 3
   },
   "file_extension": ".py",
   "mimetype": "text/x-python",
   "name": "python",
   "nbconvert_exporter": "python",
   "pygments_lexer": "ipython3",
   "version": "3.6.5"
  }
 },
 "nbformat": 4,
 "nbformat_minor": 2
}
