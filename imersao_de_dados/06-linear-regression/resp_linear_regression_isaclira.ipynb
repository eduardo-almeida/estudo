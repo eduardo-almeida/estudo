{
 "cells": [
  {
   "cell_type": "markdown",
   "metadata": {},
   "source": [
    "# Homework 6: Regressão Linear Simples \n",
    "Isac do Nascimento Lira, 371890\n",
    "\n",
    "## Estudo de caso: Seguro de automóvel sueco\n",
    "\n",
    "Agora, sabemos como implementar um modelo de regressão linear simples. Vamos aplicá-lo ao conjunto de dados do seguro de automóveis sueco. Esta seção assume que você baixou o conjunto de dados para o arquivo insurance.csv, o qual está disponível no notebook respectivo.\n",
    "\n",
    "O conjunto de dados envolve a previsão do pagamento total de todas as reclamações em milhares de Kronor sueco, dado o número total de reclamações. É um dataset composto por 63 observações com 1 variável de entrada e 1 variável de saída. Os nomes das variáveis são os seguintes:\n",
    "\n",
    "1. Número de reivindicações.\n",
    "2. Pagamento total para todas as reclamações em milhares de Kronor sueco.\n",
    "\n",
    "Voce deve adicionar algumas funções acessórias à regressão linear simples. Especificamente, uma função para carregar o arquivo CSV chamado *load_csv ()*, uma função para converter um conjunto de dados carregado para números chamado *str_column_to_float ()*, uma função para avaliar um algoritmo usando um conjunto de treino e teste chamado *split_train_split ()*, a função para calcular RMSE chamado *rmse_metric ()* e uma função para avaliar um algoritmo chamado *evaluate_algorithm()*.\n",
    "\n",
    "Utilize um conjunto de dados de treinamento de 60% dos dados para preparar o modelo. As previsões devem ser feitas nos restantes 40%. \n",
    "\n",
    "Compare a performabce do seu algoritmo com o algoritmo baseline, o qual utiliza a média dos pagamentos realizados para realizar a predição ( a média é 72,251 mil Kronor).\n"
   ]
  },
  {
   "cell_type": "code",
   "execution_count": 20,
   "metadata": {
    "collapsed": true
   },
   "outputs": [],
   "source": [
    "    import pandas as pd\n",
    "    import numpy as np\n",
    "    import matplotlib.pyplot as plt\n",
    "% matplotlib inline"
   ]
  },
  {
   "cell_type": "code",
   "execution_count": 53,
   "metadata": {
    "collapsed": true
   },
   "outputs": [],
   "source": [
    "# Define uma função para carregar os dados\n",
    "\n",
    "def load_csv(path):    \n",
    "    df = pd.read_csv(path,names=['num_reinv','pag_total'])    \n",
    "    return df"
   ]
  },
  {
   "cell_type": "code",
   "execution_count": 14,
   "metadata": {},
   "outputs": [
    {
     "data": {
      "text/html": [
       "<div>\n",
       "<style>\n",
       "    .dataframe thead tr:only-child th {\n",
       "        text-align: right;\n",
       "    }\n",
       "\n",
       "    .dataframe thead th {\n",
       "        text-align: left;\n",
       "    }\n",
       "\n",
       "    .dataframe tbody tr th {\n",
       "        vertical-align: top;\n",
       "    }\n",
       "</style>\n",
       "<table border=\"1\" class=\"dataframe\">\n",
       "  <thead>\n",
       "    <tr style=\"text-align: right;\">\n",
       "      <th></th>\n",
       "      <th>num_reinv</th>\n",
       "      <th>pag_total</th>\n",
       "    </tr>\n",
       "  </thead>\n",
       "  <tbody>\n",
       "    <tr>\n",
       "      <th>0</th>\n",
       "      <td>108</td>\n",
       "      <td>392.5</td>\n",
       "    </tr>\n",
       "    <tr>\n",
       "      <th>1</th>\n",
       "      <td>19</td>\n",
       "      <td>46.2</td>\n",
       "    </tr>\n",
       "    <tr>\n",
       "      <th>2</th>\n",
       "      <td>13</td>\n",
       "      <td>15.7</td>\n",
       "    </tr>\n",
       "    <tr>\n",
       "      <th>3</th>\n",
       "      <td>124</td>\n",
       "      <td>422.2</td>\n",
       "    </tr>\n",
       "    <tr>\n",
       "      <th>4</th>\n",
       "      <td>40</td>\n",
       "      <td>119.4</td>\n",
       "    </tr>\n",
       "  </tbody>\n",
       "</table>\n",
       "</div>"
      ],
      "text/plain": [
       "   num_reinv  pag_total\n",
       "0        108      392.5\n",
       "1         19       46.2\n",
       "2         13       15.7\n",
       "3        124      422.2\n",
       "4         40      119.4"
      ]
     },
     "execution_count": 14,
     "metadata": {},
     "output_type": "execute_result"
    }
   ],
   "source": [
    "insdf = load_csv('insurance.csv')\n",
    "insdf.head()"
   ]
  },
  {
   "cell_type": "code",
   "execution_count": 23,
   "metadata": {},
   "outputs": [
    {
     "data": {
      "image/png": "[encoded data removed]",
      "text/plain": [
       "<matplotlib.figure.Figure at 0x1867beedc88>"
      ]
     },
     "metadata": {},
     "output_type": "display_data"
    }
   ],
   "source": [
    "plt.scatter(insdf.num_reinv,insdf.pag_total)\n",
    "plt.xlabel('Número de Reinvidicações')\n",
    "plt.ylabel('Pagamento Total')\n",
    "\n",
    "plt.grid(True)"
   ]
  },
  {
   "cell_type": "markdown",
   "metadata": {},
   "source": [
    "Observa-se no gráfico uma relação clara entre o número de reinvidicações e o pagamento total."
   ]
  },
  {
   "cell_type": "code",
   "execution_count": 24,
   "metadata": {
    "collapsed": true
   },
   "outputs": [],
   "source": [
    "#Funções úteis\n",
    "\n",
    "# Calculate the mean value of a list of numbers\n",
    "def mean(values):\n",
    "    return sum(values) / float(len(values))\n",
    "# Calculate the variance of a list of numbers\n",
    "def variance(values, mean):\n",
    "    return sum([(x-mean)**2 for x in values])\n",
    "\n",
    "def covariance(x, mean_x, y, mean_y):\n",
    "    covar = 0.0\n",
    "    for i in range(len(x)):\n",
    "        covar += (x[i] - mean_x) * (y[i] - mean_y)\n",
    "    return covar"
   ]
  },
  {
   "cell_type": "code",
   "execution_count": 60,
   "metadata": {
    "collapsed": true
   },
   "outputs": [],
   "source": [
    "# Implementa a classe do modelo de regressão linear simples\n",
    "class simple_linear_regression(object):\n",
    "    \n",
    "    def _init_(self):\n",
    "        self.train = None\n",
    "        self.coef = None\n",
    "        self.intercept = None\n",
    "    \n",
    "    def fit(self,train):\n",
    "        self.train = train\n",
    "        self.get_coefficients()\n",
    "    \n",
    "    def get_coefficients(self):\n",
    "        x = [row[0] for row in self.train]\n",
    "        y = [row[1] for row in self.train]\n",
    "        x_mean, y_mean = mean(x), mean(y)\n",
    "        self.coef = covariance(x, x_mean, y, y_mean) / variance(x, x_mean)\n",
    "        self.intercept = y_mean - self.coef * x_mean\n",
    "    \n",
    "    def predict(self,data):\n",
    "        predictions = []\n",
    "        for row in data:\n",
    "            ypred = self.intercept + self.coef * row[0]\n",
    "            predictions.append(ypred)\n",
    "        return predictions"
   ]
  },
  {
   "cell_type": "code",
   "execution_count": 66,
   "metadata": {
    "collapsed": true
   },
   "outputs": [],
   "source": [
    "# Avalia o modelo\n",
    "from math import sqrt\n",
    "\n",
    "# Realiza o cálculo da metrica RMSE\n",
    "def rmse_metric(actual, predicted):\n",
    "    sum_error = 0.0\n",
    "    for i in range(len(actual)):\n",
    "        prediction_error = predicted[i] - actual[i]\n",
    "        sum_error += (prediction_error ** 2)\n",
    "    mean_error = sum_error / float(len(actual))\n",
    "    return sqrt(mean_error)\n",
    "\n",
    "# Função que separa os dados em treino e teste\n",
    "\n",
    "def split_train_split(data,splitRatio):\n",
    "    \n",
    "    msk = np.random.rand(len(data)) < splitRatio\n",
    "    trainSet = data[msk]#.values\n",
    "    testSet = data[~msk]#.values \n",
    "    \n",
    "    return trainSet,testSet\n",
    "    \n",
    "# Função para avaliar o modelo\n",
    "def evaluate_algorithm(data,algorithm):\n",
    "    \n",
    "    train,test = split_train_split(data,0.6)\n",
    "    \n",
    "    lm = algorithm()\n",
    "    lm.fit(train)    \n",
    "    predicted = lm.predict(test)\n",
    "    actual = test[:,1]\n",
    "    pred_rmse= rmse_metric(actual, predicted)\n",
    "    \n",
    "    predictedMean = np.zeros_like(actual)\n",
    "    predictedMean[:] = np.mean(actual)\n",
    "    mean_rmse = rmse_metric(actual, predictedMean)\n",
    "\n",
    "    return pred_rmse,mean_rmse,lm"
   ]
  },
  {
   "cell_type": "code",
   "execution_count": 80,
   "metadata": {},
   "outputs": [
    {
     "name": "stdout",
     "output_type": "stream",
     "text": [
      "\n",
      "RMSE - Regressão Linear 42.271767332553594\n",
      "RMSE - Predição pelo valor média 65.68087289669558\n",
      "\n"
     ]
    }
   ],
   "source": [
    "pred_rmse,mean_rmse,lm = evaluate_algorithm(insdf.values,simple_linear_regression)\n",
    "print('')\n",
    "print(\"RMSE - Regressão Linear\", pred_rmse)\n",
    "print(\"RMSE - Predição pelo valor média\", mean_rmse)\n",
    "print('')"
   ]
  },
  {
   "cell_type": "markdown",
   "metadata": {},
   "source": [
    "Como esperado, o modelo de regressão linear explica bem os dados, tendo um valor RSME menor que a predição pelo valor médio de pagamento."
   ]
  },
  {
   "cell_type": "code",
   "execution_count": 91,
   "metadata": {},
   "outputs": [
    {
     "data": {
      "text/plain": [
       "<matplotlib.text.Text at 0x1867e8384e0>"
      ]
     },
     "execution_count": 91,
     "metadata": {},
     "output_type": "execute_result"
    },
    {
     "data": {
      "image/png": "[encoded data removed]",
      "text/plain": [
       "<matplotlib.figure.Figure at 0x1867db80dd8>"
      ]
     },
     "metadata": {},
     "output_type": "display_data"
    }
   ],
   "source": [
    "# plota as predições vs dados reais e mostra o erro de predição\n",
    "x = insdf['num_reinv'].values\n",
    "y = insdf['pag_total'].values\n",
    "\n",
    "y_hat = lm.intercept + x.dot(lm.coef)\n",
    "\n",
    "fig,axs = plt.subplots(1,2,figsize=[15,5])\n",
    "axs[0].plot(x,y_hat,'g-',label='Regression Line',alpha=0.6)\n",
    "axs[0].scatter(x,y,alpha=0.5,label='Actual Values')\n",
    "axs[0].set_xlabel('Nº Reinvidicações')\n",
    "axs[0].set_ylabel('Pagamento Total')\n",
    "axs[0].legend(loc='best')\n",
    "\n",
    "error = (y_hat-y)\n",
    "axs[1].scatter(x,error,alpha=0.5,color='b')\n",
    "axs[1].axhline(0,color='k')\n",
    "axs[1].set_xlabel('Nº Reinvidicações')\n",
    "axs[1].set_ylabel('Erro de predição')"
   ]
  }
 ],
 "metadata": {
  "kernelspec": {
   "display_name": "Python 3",
   "language": "python",
   "name": "python3"
  },
  "language_info": {
   "codemirror_mode": {
    "name": "ipython",
    "version": 3
   },
   "file_extension": ".py",
   "mimetype": "text/x-python",
   "name": "python",
   "nbconvert_exporter": "python",
   "pygments_lexer": "ipython3",
   "version": "3.6.5"
  }
 },
 "nbformat": 4,
 "nbformat_minor": 2
}
