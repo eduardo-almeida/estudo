{
 "cells": [
  {
   "cell_type": "markdown",
   "metadata": {},
   "source": [
    "# Regressão Linear Multivariada - Trabalho\n",
    "\n",
    "## Estudo de caso: Qualidade de Vinhos\n",
    "\n",
    "Nesta trabalho, treinaremos um modelo de regressão linear usando descendência de gradiente estocástico no conjunto de dados da Qualidade do Vinho. O exemplo pressupõe que uma cópia CSV do conjunto de dados está no diretório de trabalho atual com o nome do arquivo *winequality-white.csv*.\n",
    "\n",
    "O conjunto de dados de qualidade do vinho envolve a previsão da qualidade dos vinhos brancos em uma escala, com medidas químicas de cada vinho. É um problema de classificação multiclasse, mas também pode ser enquadrado como um problema de regressão. O número de observações para cada classe não é equilibrado. Existem 4.898 observações com 11 variáveis de entrada e 1 variável de saída. Os nomes das variáveis são os seguintes:\n",
    "\n",
    "1. Fixed acidity.\n",
    "2. Volatile acidity.\n",
    "3. Citric acid.\n",
    "4. Residual sugar.\n",
    "5. Chlorides.\n",
    "6. Free sulfur dioxide. \n",
    "7. Total sulfur dioxide. \n",
    "8. Density.\n",
    "9. pH.\n",
    "10. Sulphates.\n",
    "11. Alcohol.\n",
    "12. Quality (score between 0 and 10).\n",
    "\n",
    "O desempenho de referencia de predição do valor médio é um RMSE de aproximadamente 0.148 pontos de qualidade.\n",
    "\n",
    "Utilize o exemplo apresentado no tutorial e altere-o de forma a carregar os dados e analisar a acurácia de sua solução. \n"
   ]
  },
  {
   "cell_type": "code",
   "execution_count": 46,
   "metadata": {
    "collapsed": true
   },
   "outputs": [],
   "source": [
    "import pandas as pd\n",
    "import numpy as np\n",
    "import matplotlib.pyplot as plt\n",
    "from sklearn.preprocessing import MinMaxScaler\n",
    "\n",
    "def predict(row, coefficients):\n",
    "  yhat = coefficients[0]\n",
    "  for i in range(len(row)-1):\n",
    "    yhat += coefficients[i + 1] * row[i]\n",
    "  return yhat"
   ]
  },
  {
   "cell_type": "code",
   "execution_count": 47,
   "metadata": {},
   "outputs": [],
   "source": [
    "def coefficients_sgd(train, l_rate, n_epoch):\n",
    "    coef = [0.0 for i in range(len(train[0]))]\n",
    "    err = np.array([])\n",
    "    print ('Coeficiente Inicial={0}' % (coef))\n",
    "    for epoch in range(n_epoch):\n",
    "        sum_error = 0\n",
    "        for row in train:\n",
    "            yhat = predict(row, coef)\n",
    "            error = yhat - row[-1]\n",
    "            sum_error += error**2\n",
    "            coef[0] = coef[0] - l_rate * error\n",
    "            for i in range(len(row)-1):\n",
    "                coef[i + 1] = coef[i + 1] - l_rate * error * row[i] \n",
    "        print(('epoch=%d, lrate=%.3f, error=%.3f' % (epoch, l_rate, sum_error)))\n",
    "        err = np.append(err, sum_error)\n",
    "        #print(err)\n",
    "    return [coef,err]\n"
   ]
  },
  {
   "cell_type": "markdown",
   "metadata": {},
   "source": [
    "## utilizando o dataset do tutorial e mudando rate e épocas"
   ]
  },
  {
   "cell_type": "code",
   "execution_count": 48,
   "metadata": {},
   "outputs": [
    {
     "name": "stdout",
     "output_type": "stream",
     "text": [
      "Coeficiente Inicial={0}\n",
      "epoch=0, lrate=0.010, error=33.621\n",
      "epoch=1, lrate=0.010, error=10.912\n",
      "epoch=2, lrate=0.010, error=4.855\n",
      "epoch=3, lrate=0.010, error=3.255\n",
      "epoch=4, lrate=0.010, error=2.841\n",
      "epoch=5, lrate=0.010, error=2.738\n",
      "epoch=6, lrate=0.010, error=2.715\n",
      "epoch=7, lrate=0.010, error=2.711\n",
      "epoch=8, lrate=0.010, error=2.711\n",
      "epoch=9, lrate=0.010, error=2.712\n",
      "epoch=10, lrate=0.010, error=2.712\n",
      "epoch=11, lrate=0.010, error=2.712\n",
      "epoch=12, lrate=0.010, error=2.712\n",
      "epoch=13, lrate=0.010, error=2.712\n",
      "epoch=14, lrate=0.010, error=2.712\n",
      "epoch=15, lrate=0.010, error=2.712\n",
      "epoch=16, lrate=0.010, error=2.712\n",
      "epoch=17, lrate=0.010, error=2.712\n",
      "epoch=18, lrate=0.010, error=2.712\n",
      "epoch=19, lrate=0.010, error=2.712\n",
      "epoch=20, lrate=0.010, error=2.712\n",
      "epoch=21, lrate=0.010, error=2.711\n",
      "epoch=22, lrate=0.010, error=2.711\n",
      "epoch=23, lrate=0.010, error=2.711\n",
      "epoch=24, lrate=0.010, error=2.711\n",
      "epoch=25, lrate=0.010, error=2.711\n",
      "epoch=26, lrate=0.010, error=2.711\n",
      "epoch=27, lrate=0.010, error=2.711\n",
      "epoch=28, lrate=0.010, error=2.711\n",
      "epoch=29, lrate=0.010, error=2.711\n",
      "epoch=30, lrate=0.010, error=2.710\n",
      "epoch=31, lrate=0.010, error=2.710\n",
      "epoch=32, lrate=0.010, error=2.710\n",
      "epoch=33, lrate=0.010, error=2.710\n",
      "epoch=34, lrate=0.010, error=2.710\n",
      "epoch=35, lrate=0.010, error=2.710\n",
      "epoch=36, lrate=0.010, error=2.710\n",
      "epoch=37, lrate=0.010, error=2.710\n",
      "epoch=38, lrate=0.010, error=2.710\n",
      "epoch=39, lrate=0.010, error=2.710\n",
      "epoch=40, lrate=0.010, error=2.709\n",
      "epoch=41, lrate=0.010, error=2.709\n",
      "epoch=42, lrate=0.010, error=2.709\n",
      "epoch=43, lrate=0.010, error=2.709\n",
      "epoch=44, lrate=0.010, error=2.709\n",
      "epoch=45, lrate=0.010, error=2.709\n",
      "epoch=46, lrate=0.010, error=2.709\n",
      "epoch=47, lrate=0.010, error=2.709\n",
      "epoch=48, lrate=0.010, error=2.709\n",
      "epoch=49, lrate=0.010, error=2.709\n",
      "epoch=50, lrate=0.010, error=2.709\n",
      "epoch=51, lrate=0.010, error=2.709\n",
      "epoch=52, lrate=0.010, error=2.709\n",
      "epoch=53, lrate=0.010, error=2.708\n",
      "epoch=54, lrate=0.010, error=2.708\n",
      "epoch=55, lrate=0.010, error=2.708\n",
      "epoch=56, lrate=0.010, error=2.708\n",
      "epoch=57, lrate=0.010, error=2.708\n",
      "epoch=58, lrate=0.010, error=2.708\n",
      "epoch=59, lrate=0.010, error=2.708\n",
      "epoch=60, lrate=0.010, error=2.708\n",
      "epoch=61, lrate=0.010, error=2.708\n",
      "epoch=62, lrate=0.010, error=2.708\n",
      "epoch=63, lrate=0.010, error=2.708\n",
      "epoch=64, lrate=0.010, error=2.708\n",
      "epoch=65, lrate=0.010, error=2.708\n",
      "epoch=66, lrate=0.010, error=2.708\n",
      "epoch=67, lrate=0.010, error=2.708\n",
      "epoch=68, lrate=0.010, error=2.708\n",
      "epoch=69, lrate=0.010, error=2.708\n",
      "epoch=70, lrate=0.010, error=2.707\n",
      "epoch=71, lrate=0.010, error=2.707\n",
      "epoch=72, lrate=0.010, error=2.707\n",
      "epoch=73, lrate=0.010, error=2.707\n",
      "epoch=74, lrate=0.010, error=2.707\n",
      "epoch=75, lrate=0.010, error=2.707\n",
      "epoch=76, lrate=0.010, error=2.707\n",
      "epoch=77, lrate=0.010, error=2.707\n",
      "epoch=78, lrate=0.010, error=2.707\n",
      "epoch=79, lrate=0.010, error=2.707\n",
      "epoch=80, lrate=0.010, error=2.707\n",
      "epoch=81, lrate=0.010, error=2.707\n",
      "epoch=82, lrate=0.010, error=2.707\n",
      "epoch=83, lrate=0.010, error=2.707\n",
      "epoch=84, lrate=0.010, error=2.707\n",
      "epoch=85, lrate=0.010, error=2.707\n",
      "epoch=86, lrate=0.010, error=2.707\n",
      "epoch=87, lrate=0.010, error=2.707\n",
      "epoch=88, lrate=0.010, error=2.707\n",
      "epoch=89, lrate=0.010, error=2.707\n",
      "epoch=90, lrate=0.010, error=2.707\n",
      "epoch=91, lrate=0.010, error=2.707\n",
      "epoch=92, lrate=0.010, error=2.707\n",
      "epoch=93, lrate=0.010, error=2.706\n",
      "epoch=94, lrate=0.010, error=2.706\n",
      "epoch=95, lrate=0.010, error=2.706\n",
      "epoch=96, lrate=0.010, error=2.706\n",
      "epoch=97, lrate=0.010, error=2.706\n",
      "epoch=98, lrate=0.010, error=2.706\n",
      "epoch=99, lrate=0.010, error=2.706\n",
      "coeficientes finais: [0.3032152473195083, 0.8383332690056606]\n"
     ]
    }
   ],
   "source": [
    "dataset = [[1, 1], [2, 3], [4, 3], [3, 2], [5, 5]]\n",
    "l_rate = 0.01\n",
    "n_epoch = 100\n",
    "coef = coefficients_sgd(dataset, l_rate, n_epoch)\n",
    "print(\"coeficientes finais: {:s}\".format(coef[0]))"
   ]
  },
  {
   "cell_type": "markdown",
   "metadata": {},
   "source": [
    "## dataset do trabalho (wine)"
   ]
  },
  {
   "cell_type": "code",
   "execution_count": 49,
   "metadata": {
    "collapsed": true
   },
   "outputs": [],
   "source": [
    "dataset = pd.read_csv(\"winequality-white.csv\", delimiter=\";\")"
   ]
  },
  {
   "cell_type": "code",
   "execution_count": 50,
   "metadata": {},
   "outputs": [],
   "source": [
    "#normalizando os dados\n",
    "dataset = MinMaxScaler().fit_transform(dataset.values[:,:-1])"
   ]
  },
  {
   "cell_type": "code",
   "execution_count": 51,
   "metadata": {},
   "outputs": [
    {
     "name": "stdout",
     "output_type": "stream",
     "text": [
      "Coeficiente Inicial={0}\n",
      "epoch=0, lrate=0.010, error=152.603\n",
      "epoch=1, lrate=0.010, error=112.296\n",
      "epoch=2, lrate=0.010, error=98.784\n",
      "epoch=3, lrate=0.010, error=91.969\n",
      "epoch=4, lrate=0.010, error=87.507\n",
      "epoch=5, lrate=0.010, error=84.078\n",
      "epoch=6, lrate=0.010, error=81.209\n",
      "epoch=7, lrate=0.010, error=78.695\n",
      "epoch=8, lrate=0.010, error=76.433\n",
      "epoch=9, lrate=0.010, error=74.358\n",
      "epoch=10, lrate=0.010, error=72.432\n",
      "epoch=11, lrate=0.010, error=70.625\n",
      "epoch=12, lrate=0.010, error=68.918\n",
      "epoch=13, lrate=0.010, error=67.298\n",
      "epoch=14, lrate=0.010, error=65.753\n",
      "epoch=15, lrate=0.010, error=64.275\n",
      "epoch=16, lrate=0.010, error=62.858\n",
      "epoch=17, lrate=0.010, error=61.497\n",
      "epoch=18, lrate=0.010, error=60.189\n",
      "epoch=19, lrate=0.010, error=58.931\n",
      "epoch=20, lrate=0.010, error=57.718\n",
      "epoch=21, lrate=0.010, error=56.550\n",
      "epoch=22, lrate=0.010, error=55.424\n",
      "epoch=23, lrate=0.010, error=54.338\n",
      "epoch=24, lrate=0.010, error=53.291\n",
      "epoch=25, lrate=0.010, error=52.280\n",
      "epoch=26, lrate=0.010, error=51.305\n",
      "epoch=27, lrate=0.010, error=50.364\n",
      "epoch=28, lrate=0.010, error=49.455\n",
      "epoch=29, lrate=0.010, error=48.578\n",
      "epoch=30, lrate=0.010, error=47.732\n",
      "epoch=31, lrate=0.010, error=46.915\n",
      "epoch=32, lrate=0.010, error=46.126\n",
      "epoch=33, lrate=0.010, error=45.365\n",
      "epoch=34, lrate=0.010, error=44.630\n",
      "epoch=35, lrate=0.010, error=43.920\n",
      "epoch=36, lrate=0.010, error=43.235\n",
      "epoch=37, lrate=0.010, error=42.573\n",
      "epoch=38, lrate=0.010, error=41.934\n",
      "epoch=39, lrate=0.010, error=41.317\n",
      "epoch=40, lrate=0.010, error=40.722\n",
      "epoch=41, lrate=0.010, error=40.146\n",
      "epoch=42, lrate=0.010, error=39.591\n",
      "epoch=43, lrate=0.010, error=39.055\n",
      "epoch=44, lrate=0.010, error=38.537\n",
      "epoch=45, lrate=0.010, error=38.037\n",
      "epoch=46, lrate=0.010, error=37.554\n",
      "epoch=47, lrate=0.010, error=37.088\n",
      "epoch=48, lrate=0.010, error=36.638\n",
      "epoch=49, lrate=0.010, error=36.203\n",
      "epoch=50, lrate=0.010, error=35.783\n",
      "epoch=51, lrate=0.010, error=35.378\n",
      "epoch=52, lrate=0.010, error=34.987\n",
      "epoch=53, lrate=0.010, error=34.609\n",
      "epoch=54, lrate=0.010, error=34.244\n",
      "epoch=55, lrate=0.010, error=33.891\n",
      "epoch=56, lrate=0.010, error=33.551\n",
      "epoch=57, lrate=0.010, error=33.222\n",
      "epoch=58, lrate=0.010, error=32.905\n",
      "epoch=59, lrate=0.010, error=32.599\n",
      "epoch=60, lrate=0.010, error=32.303\n",
      "epoch=61, lrate=0.010, error=32.017\n",
      "epoch=62, lrate=0.010, error=31.741\n",
      "epoch=63, lrate=0.010, error=31.475\n",
      "epoch=64, lrate=0.010, error=31.217\n",
      "epoch=65, lrate=0.010, error=30.969\n",
      "epoch=66, lrate=0.010, error=30.729\n",
      "epoch=67, lrate=0.010, error=30.498\n",
      "epoch=68, lrate=0.010, error=30.274\n",
      "epoch=69, lrate=0.010, error=30.058\n",
      "epoch=70, lrate=0.010, error=29.849\n",
      "epoch=71, lrate=0.010, error=29.648\n",
      "epoch=72, lrate=0.010, error=29.453\n",
      "epoch=73, lrate=0.010, error=29.266\n",
      "epoch=74, lrate=0.010, error=29.084\n",
      "epoch=75, lrate=0.010, error=28.909\n",
      "epoch=76, lrate=0.010, error=28.740\n",
      "epoch=77, lrate=0.010, error=28.577\n",
      "epoch=78, lrate=0.010, error=28.419\n",
      "epoch=79, lrate=0.010, error=28.267\n",
      "epoch=80, lrate=0.010, error=28.120\n",
      "epoch=81, lrate=0.010, error=27.978\n",
      "epoch=82, lrate=0.010, error=27.841\n",
      "epoch=83, lrate=0.010, error=27.709\n",
      "epoch=84, lrate=0.010, error=27.581\n",
      "epoch=85, lrate=0.010, error=27.457\n",
      "epoch=86, lrate=0.010, error=27.338\n",
      "epoch=87, lrate=0.010, error=27.223\n",
      "epoch=88, lrate=0.010, error=27.112\n",
      "epoch=89, lrate=0.010, error=27.005\n",
      "epoch=90, lrate=0.010, error=26.901\n",
      "epoch=91, lrate=0.010, error=26.801\n",
      "epoch=92, lrate=0.010, error=26.705\n",
      "epoch=93, lrate=0.010, error=26.611\n",
      "epoch=94, lrate=0.010, error=26.521\n",
      "epoch=95, lrate=0.010, error=26.434\n",
      "epoch=96, lrate=0.010, error=26.350\n",
      "epoch=97, lrate=0.010, error=26.269\n",
      "epoch=98, lrate=0.010, error=26.191\n",
      "epoch=99, lrate=0.010, error=26.115\n",
      "[0.4573555184107525, 0.70696960045897816, 0.1807406414046526, 0.10135068224079719, 1.9906366823434725, -0.1484821670794203, -0.079682346862481795, -0.056115408551019375, -4.9215557016861364, 0.37402449513450414, 0.12188321113532354]\n"
     ]
    }
   ],
   "source": [
    "#coeficientes finais\n",
    "[coef,err] = coefficients_sgd(dataset, l_rate, n_epoch)\n",
    "print(coef)"
   ]
  },
  {
   "cell_type": "code",
   "execution_count": 52,
   "metadata": {},
   "outputs": [
    {
     "name": "stdout",
     "output_type": "stream",
     "text": [
      "[ 152.60307094  112.29598227   98.78391803   91.96920704   87.50716255\n",
      "   84.07809435   81.20870395   78.69521151   76.43253316   74.35822889\n",
      "   72.43167366   70.62500627   68.91849983   67.29786382   65.75253563\n",
      "   64.27454832   62.85776201   61.49733527   60.18935865   58.93059896\n",
      "   57.71831978   56.55015482   55.42401791   54.33803867   53.29051611\n",
      "   52.27988491   51.30469067   50.36357159   49.45524462   48.57849504\n",
      "   47.73216837   46.91516399   46.12643012   45.36495975   44.62978724\n",
      "   43.91998549   43.23466358   42.57296461   41.93406395   41.31716754\n",
      "   40.72151047   40.14635563   39.5909925    39.05473598   38.5369254\n",
      "   38.0369235    37.5541155    37.08790824   36.63772937   36.20302656\n",
      "   35.78326672   35.37793534   34.9865358    34.60858871   34.24363128\n",
      "   33.89121676   33.55091384   33.22230612   32.90499156   32.59858201\n",
      "   32.3027027    32.01699176   31.7410998    31.47468946   31.21743499\n",
      "   30.96902183   30.72914627   30.49751503   30.2738449    30.05786244\n",
      "   29.84930358   29.64791333   29.45344546   29.26566221   29.08433399\n",
      "   28.90923907   28.74016337   28.57690014   28.41924974   28.26701937\n",
      "   28.12002289   27.9780805    27.84101862   27.7086696    27.58087156\n",
      "   27.45746817   27.33830848   27.22324671   27.1121421    27.0048587\n",
      "   26.90126525   26.80123499   26.7046455    26.61137859   26.5213201\n",
      "   26.4343598    26.35039126   26.26931167   26.19102179   26.11542575]\n"
     ]
    }
   ],
   "source": [
    "#erro em cada época\n",
    "print (err)"
   ]
  },
  {
   "cell_type": "code",
   "execution_count": 55,
   "metadata": {},
   "outputs": [
    {
     "data": {
      "image/png": "[encoded data removed]",
      "text/plain": [
       "<matplotlib.figure.Figure at 0x1a173313d0>"
      ]
     },
     "metadata": {},
     "output_type": "display_data"
    }
   ],
   "source": [
    "#plot dos erros x épocas\n",
    "plt.plot(err)\n",
    "plt.ylabel(\"error\")\n",
    "plt.xlabel(\"epochs\")\n",
    "plt.show()"
   ]
  },
  {
   "cell_type": "code",
   "execution_count": null,
   "metadata": {
    "collapsed": true
   },
   "outputs": [],
   "source": []
  }
 ],
 "metadata": {
  "kernelspec": {
   "display_name": "Python 3",
   "language": "python",
   "name": "python3"
  },
  "language_info": {
   "codemirror_mode": {
    "name": "ipython",
    "version": 3
   },
   "file_extension": ".py",
   "mimetype": "text/x-python",
   "name": "python",
   "nbconvert_exporter": "python",
   "pygments_lexer": "ipython3",
   "version": "3.6.5"
  }
 },
 "nbformat": 4,
 "nbformat_minor": 2
}
