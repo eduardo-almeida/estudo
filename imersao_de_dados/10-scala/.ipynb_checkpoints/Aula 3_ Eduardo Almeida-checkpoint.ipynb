{
 "cells": [
  {
   "cell_type": "markdown",
   "metadata": {},
   "source": [
    "# Aula 3\n",
    "---\n",
    "\n",
    "Essa aula é um desafio para por em prova seus conhecimentos em Scala! Para resolvê-lo, você deverar utilizar o que foi apresentado nas últimas aulas E consultar materiais complementares(stack overflow) para aprender ainda mais em um cenário prático!"
   ]
  },
  {
   "cell_type": "markdown",
   "metadata": {},
   "source": [
    "## Baixando o dataset\n",
    "\n",
    "O dataset desta atividade foi tirado do Kaggle e chama-se [Food Ingredient List](https://www.kaggle.com/datafiniti/food-ingredient-lists/version/1#). Ele contém os ingredientes presentes em 10000 produtos encontrados em supermercados. Para mais informações, visite a [página do dataset](https://www.kaggle.com/datafiniti/food-ingredient-lists/version/1#).\n",
    "\n",
    "O código abaixo faz o download do dataset para o diretório atual deste notebook."
   ]
  },
  {
   "cell_type": "code",
   "execution_count": 2,
   "metadata": {},
   "outputs": [
    {
     "ename": "SyntaxError",
     "evalue": "invalid syntax (<ipython-input-2-bc67e2384c65>, line 3)",
     "output_type": "error",
     "traceback": [
      "\u001b[1;36m  File \u001b[1;32m\"<ipython-input-2-bc67e2384c65>\"\u001b[1;36m, line \u001b[1;32m3\u001b[0m\n\u001b[1;33m    \"wget -O ingredients.tsv https://drive.google.com/uc?export=download&id=1oTjCLXJZjciOmpweGsirlreu9zcrm6Py\"!\u001b[0m\n\u001b[1;37m                                                                                                              ^\u001b[0m\n\u001b[1;31mSyntaxError\u001b[0m\u001b[1;31m:\u001b[0m invalid syntax\n"
     ]
    }
   ],
   "source": [
    "import sys.process._\n",
    "\n",
    "\"wget -O ingredients.tsv https://drive.google.com/uc?export=download&id=1oTjCLXJZjciOmpweGsirlreu9zcrm6Py\"!"
   ]
  },
  {
   "cell_type": "markdown",
   "metadata": {},
   "source": [
    "## Processando o dataset\n",
    "\n",
    "Para simplificar o desafio (pois já há muita coisa difícil para se fazer) o dataset foi mapeado para TSV. As informações estão separadas por **tabulações** (caractere \\t). Processe-o e armazene-o da maneira que achar mais conveniente"
   ]
  },
  {
   "cell_type": "code",
   "execution_count": null,
   "metadata": {},
   "outputs": [],
   "source": []
  },
  {
   "cell_type": "markdown",
   "metadata": {},
   "source": [
    "## Demandas\n",
    "---"
   ]
  },
  {
   "cell_type": "markdown",
   "metadata": {},
   "source": [
    "### 1 - Quantas e quais as marcas de produtos contidas no dataset?"
   ]
  },
  {
   "cell_type": "code",
   "execution_count": null,
   "metadata": {},
   "outputs": [],
   "source": []
  },
  {
   "cell_type": "markdown",
   "metadata": {},
   "source": [
    "### 2 - Quais as marcas que aparecem mais no dataset? Quais aparecem menos?"
   ]
  },
  {
   "cell_type": "code",
   "execution_count": null,
   "metadata": {},
   "outputs": [],
   "source": []
  },
  {
   "cell_type": "markdown",
   "metadata": {},
   "source": [
    "### 3 - Compute a média e desvio padrão da frequência das marcas de produtos"
   ]
  },
  {
   "cell_type": "code",
   "execution_count": null,
   "metadata": {},
   "outputs": [],
   "source": []
  },
  {
   "cell_type": "markdown",
   "metadata": {},
   "source": [
    "### 4 - Quais os ingredientes que aparecem nos produtos? Mostre quantos são, os que mais aparecem e os que menos aparecem."
   ]
  },
  {
   "cell_type": "code",
   "execution_count": null,
   "metadata": {},
   "outputs": [],
   "source": []
  },
  {
   "cell_type": "markdown",
   "metadata": {},
   "source": [
    "### 5 - Compute a média e desvio padrão da frequência dos ingredientes"
   ]
  },
  {
   "cell_type": "code",
   "execution_count": null,
   "metadata": {},
   "outputs": [],
   "source": []
  },
  {
   "cell_type": "markdown",
   "metadata": {},
   "source": [
    "### 6 - Quais os ingredientes mais usados por cada marca? E os menos usados?"
   ]
  },
  {
   "cell_type": "code",
   "execution_count": null,
   "metadata": {},
   "outputs": [],
   "source": []
  },
  {
   "cell_type": "markdown",
   "metadata": {},
   "source": [
    "### 7 - Compute alguma informação não demandada pelas questões anteriores e justifique o porquê que tal informação é útil"
   ]
  },
  {
   "cell_type": "code",
   "execution_count": null,
   "metadata": {},
   "outputs": [],
   "source": []
  }
 ],
 "metadata": {
  "kernelspec": {
   "display_name": "Python 3",
   "language": "python",
   "name": "python3"
  },
  "language_info": {
   "codemirror_mode": {
    "name": "ipython",
    "version": 3
   },
   "file_extension": ".py",
   "mimetype": "text/x-python",
   "name": "python",
   "nbconvert_exporter": "python",
   "pygments_lexer": "ipython3",
   "version": "3.6.5"
  }
 },
 "nbformat": 4,
 "nbformat_minor": 2
}
