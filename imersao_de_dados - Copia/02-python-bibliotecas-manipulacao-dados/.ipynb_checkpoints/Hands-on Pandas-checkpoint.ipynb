{
 "cells": [
  {
   "cell_type": "code",
   "execution_count": 1,
   "metadata": {},
   "outputs": [],
   "source": [
    "import pandas as pd"
   ]
  },
  {
   "cell_type": "code",
   "execution_count": 2,
   "metadata": {},
   "outputs": [],
   "source": [
    "df_data = {'pais': ['Brasil', 'Argentina', 'Argentina', 'Brasil', 'Chile', 'Chile'], \n",
    "           'ano': [2005, 2005, 2006, 2006, 2007, 2008],\n",
    "           'populacao': [170.1, 30.5, 32.2, 172.6, 40.8, 42.0]}"
   ]
  },
  {
   "cell_type": "code",
   "execution_count": 3,
   "metadata": {},
   "outputs": [],
   "source": [
    "df = pd.DataFrame(df_data)"
   ]
  },
  {
   "cell_type": "code",
   "execution_count": 4,
   "metadata": {},
   "outputs": [
    {
     "name": "stdout",
     "output_type": "stream",
     "text": [
      "        pais   ano  populacao\n",
      "0     Brasil  2005      170.1\n",
      "1  Argentina  2005       30.5\n",
      "2  Argentina  2006       32.2\n",
      "3     Brasil  2006      172.6\n",
      "4      Chile  2007       40.8\n",
      "5      Chile  2008       42.0\n"
     ]
    }
   ],
   "source": [
    "print(df)"
   ]
  },
  {
   "cell_type": "code",
   "execution_count": null,
   "metadata": {
    "collapsed": true
   },
   "outputs": [],
   "source": []
  }
 ],
 "metadata": {
  "kernelspec": {
   "display_name": "Python 3",
   "language": "python",
   "name": "python3"
  },
  "language_info": {
   "codemirror_mode": {
    "name": "ipython",
    "version": 3
   },
   "file_extension": ".py",
   "mimetype": "text/x-python",
   "name": "python",
   "nbconvert_exporter": "python",
   "pygments_lexer": "ipython3",
   "version": "3.6.5"
  }
 },
 "nbformat": 4,
 "nbformat_minor": 2
}
