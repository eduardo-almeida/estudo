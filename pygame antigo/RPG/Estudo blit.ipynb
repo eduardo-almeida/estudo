{
 "cells": [
  {
   "cell_type": "code",
   "execution_count": 1,
   "metadata": {},
   "outputs": [
    {
     "name": "stdout",
     "output_type": "stream",
     "text": [
      "pygame 1.9.6\n",
      "Hello from the pygame community. https://www.pygame.org/contribute.html\n"
     ]
    }
   ],
   "source": [
    "import pygame\n",
    "\n",
    "pygame.init()\n",
    "\n",
    "#### Create a canvas on which to display everything ####\n",
    "window = (400,400)\n",
    "screen = pygame.display.set_mode(window)\n",
    "#### Create a canvas on which to display everything ####\n",
    "\n",
    "#### Create a surface with the same size as the window ####\n",
    "background = pygame.Surface(window)\n",
    "#### Create a surface with the same size as the window ####\n",
    "\n",
    "#### Populate the surface with objects to be displayed ####\n",
    "pygame.draw.rect(background,(0,255,255),(20,20,40,40))\n",
    "pygame.draw.rect(background,(255,0,255),(120,120,50,50))\n",
    "#### Populate the surface with objects to be displayed ####\n",
    "\n",
    "#### Blit the surface onto the canvas ####\n",
    "screen.blit(background,(0,0))\n",
    "#### Blit the surface onto the canvas ####\n",
    "\n",
    "#### Update the the display and wait ####\n",
    "pygame.display.flip()\n",
    "done = False\n",
    "while not done:\n",
    "    for event in pygame.event.get():\n",
    "        if event.type == pygame.QUIT:\n",
    "            done = True\n",
    "#### Update the the display and wait ####\n",
    "\n",
    "pygame.quit()"
   ]
  },
  {
   "cell_type": "code",
   "execution_count": null,
   "metadata": {},
   "outputs": [],
   "source": []
  }
 ],
 "metadata": {
  "kernelspec": {
   "display_name": "Python 3",
   "language": "python",
   "name": "python3"
  },
  "language_info": {
   "codemirror_mode": {
    "name": "ipython",
    "version": 3
   },
   "file_extension": ".py",
   "mimetype": "text/x-python",
   "name": "python",
   "nbconvert_exporter": "python",
   "pygments_lexer": "ipython3",
   "version": "3.7.3"
  }
 },
 "nbformat": 4,
 "nbformat_minor": 2
}
