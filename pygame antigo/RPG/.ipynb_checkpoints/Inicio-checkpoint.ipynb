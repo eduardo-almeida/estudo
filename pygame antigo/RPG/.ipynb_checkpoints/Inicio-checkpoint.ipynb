{
 "cells": [
  {
   "cell_type": "code",
   "execution_count": 1,
   "metadata": {},
   "outputs": [
    {
     "name": "stdout",
     "output_type": "stream",
     "text": [
      "pygame 1.9.6\n",
      "Hello from the pygame community. https://www.pygame.org/contribute.html\n"
     ]
    },
    {
     "ename": "ModuleNotFoundError",
     "evalue": "No module named 'src.Destroyable'",
     "output_type": "error",
     "traceback": [
      "\u001b[0;31m---------------------------------------------------------------------------\u001b[0m",
      "\u001b[0;31mModuleNotFoundError\u001b[0m                       Traceback (most recent call last)",
      "\u001b[0;32m<ipython-input-1-b1cfe420cecd>\u001b[0m in \u001b[0;36m<module>\u001b[0;34m\u001b[0m\n\u001b[1;32m     21\u001b[0m     \u001b[0mfps_font\u001b[0m \u001b[0;34m=\u001b[0m \u001b[0mpg\u001b[0m\u001b[0;34m.\u001b[0m\u001b[0mfont\u001b[0m\u001b[0;34m.\u001b[0m\u001b[0mSysFont\u001b[0m\u001b[0;34m(\u001b[0m\u001b[0;32mNone\u001b[0m\u001b[0;34m,\u001b[0m \u001b[0;36m20\u001b[0m\u001b[0;34m,\u001b[0m \u001b[0;32mTrue\u001b[0m\u001b[0;34m)\u001b[0m  \u001b[0;31m# Use pygame's default font\u001b[0m\u001b[0;34m\u001b[0m\u001b[0;34m\u001b[0m\u001b[0m\n\u001b[1;32m     22\u001b[0m \u001b[0;34m\u001b[0m\u001b[0m\n\u001b[0;32m---> 23\u001b[0;31m     \u001b[0;32mfrom\u001b[0m \u001b[0msrc\u001b[0m\u001b[0;34m.\u001b[0m\u001b[0mLevel\u001b[0m \u001b[0;32mimport\u001b[0m \u001b[0mLevel\u001b[0m\u001b[0;34m\u001b[0m\u001b[0;34m\u001b[0m\u001b[0m\n\u001b[0m\u001b[1;32m     24\u001b[0m \u001b[0;34m\u001b[0m\u001b[0m\n\u001b[1;32m     25\u001b[0m     \u001b[0;31m# Init the first level\u001b[0m\u001b[0;34m\u001b[0m\u001b[0;34m\u001b[0m\u001b[0;34m\u001b[0m\u001b[0m\n",
      "\u001b[0;32m~/Conda/pygame/RPG/src/Level.py\u001b[0m in \u001b[0;36m<module>\u001b[0;34m\u001b[0m\n\u001b[1;32m      3\u001b[0m \u001b[0;32mimport\u001b[0m \u001b[0mrandom\u001b[0m\u001b[0;34m\u001b[0m\u001b[0;34m\u001b[0m\u001b[0m\n\u001b[1;32m      4\u001b[0m \u001b[0;34m\u001b[0m\u001b[0m\n\u001b[0;32m----> 5\u001b[0;31m \u001b[0;32mfrom\u001b[0m \u001b[0msrc\u001b[0m\u001b[0;34m.\u001b[0m\u001b[0mDestroyable\u001b[0m \u001b[0;32mimport\u001b[0m \u001b[0mDestroyable\u001b[0m\u001b[0;34m\u001b[0m\u001b[0;34m\u001b[0m\u001b[0m\n\u001b[0m\u001b[1;32m      6\u001b[0m \u001b[0;32mfrom\u001b[0m \u001b[0msrc\u001b[0m\u001b[0;34m.\u001b[0m\u001b[0mKey\u001b[0m \u001b[0;32mimport\u001b[0m \u001b[0mKey\u001b[0m\u001b[0;34m\u001b[0m\u001b[0;34m\u001b[0m\u001b[0m\n\u001b[1;32m      7\u001b[0m \u001b[0;32mfrom\u001b[0m \u001b[0msrc\u001b[0m\u001b[0;34m.\u001b[0m\u001b[0mEquipment\u001b[0m \u001b[0;32mimport\u001b[0m \u001b[0mEquipment\u001b[0m\u001b[0;34m\u001b[0m\u001b[0;34m\u001b[0m\u001b[0m\n",
      "\u001b[0;31mModuleNotFoundError\u001b[0m: No module named 'src.Destroyable'"
     ]
    }
   ],
   "source": [
    "def update_screen_display(win, level):\n",
    "    #Blit the current state of the level\n",
    "    level.display(win)\n",
    "\n",
    "\n",
    "def show_fps(win, clock, font):\n",
    "    fps_text = font.render(\"FPS: \" + str(round(clock.get_fps())), True, (255, 255, 0))\n",
    "    win.blit(fps_text, (2, 2))\n",
    "\n",
    "\n",
    "from src.constants import *\n",
    "import pygame as pg\n",
    "pg.init()\n",
    "\n",
    "#Window paramaters\n",
    "screen = pg.display.set_mode((WIN_WIDTH, WIN_HEIGHT), pg.RESIZABLE)\n",
    "pg.display.set_caption('Novo Jogo')\n",
    "\n",
    "clock = pg.time.Clock()\n",
    "fps_font = pg.font.SysFont(None, 20, True)  # Use pygame's default font\n",
    "\n",
    "from src.Level import Level\n",
    "\n",
    "# Init the first level\n",
    "level = Level('maps/level_test/')\n",
    "\n",
    "end = False\n",
    "while not (level.is_ended() or end):\n",
    "    for e in pg.event.get():\n",
    "        if e.type == pg.QUIT:\n",
    "            end = True\n",
    "        elif e.type == pg.MOUSEBUTTONUP:\n",
    "            if e.button == 1 or e.button == 3:\n",
    "                level.click(e.button, e.pos)\n",
    "        elif e.type == pg.MOUSEMOTION:\n",
    "            level.motion(e.pos)\n",
    "        elif e.type == pg.MOUSEBUTTONDOWN:\n",
    "            if e.button == 1 or e.button == 3:\n",
    "                level.button_down(e.button, e.pos)\n",
    "    level.update_state()\n",
    "    screen.fill(GREY)\n",
    "    update_screen_display(screen, level)\n",
    "    show_fps(screen, clock, fps_font)\n",
    "    pg.display.update()\n",
    "    clock.tick(120)\n",
    "pg.quit()\n",
    "raise SystemExit\n"
   ]
  },
  {
   "cell_type": "code",
   "execution_count": null,
   "metadata": {},
   "outputs": [],
   "source": []
  }
 ],
 "metadata": {
  "kernelspec": {
   "display_name": "Python 3",
   "language": "python",
   "name": "python3"
  },
  "language_info": {
   "codemirror_mode": {
    "name": "ipython",
    "version": 3
   },
   "file_extension": ".py",
   "mimetype": "text/x-python",
   "name": "python",
   "nbconvert_exporter": "python",
   "pygments_lexer": "ipython3",
   "version": "3.7.3"
  }
 },
 "nbformat": 4,
 "nbformat_minor": 2
}
