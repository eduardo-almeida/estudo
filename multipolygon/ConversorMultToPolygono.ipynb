{
 "cells": [
  {
   "cell_type": "code",
   "execution_count": 1,
   "metadata": {},
   "outputs": [],
   "source": [
    "import geopandas as gpd\n",
    "from shapely.geometry.polygon import Polygon\n",
    "from shapely.geometry.multipolygon import MultiPolygon\n",
    "\n",
    "def ConversorMultToPolygono(indata):\n",
    "    indf = gpd.GeoDataFrame.from_file(indata)\n",
    "    outdf = gpd.GeoDataFrame(columns=indf.columns)\n",
    "    for idx, row in indf.iterrows():\n",
    "        if type(row.geometry) == Polygon:\n",
    "            outdf = outdf.append(row,ignore_index=True)\n",
    "        if type(row.geometry) == MultiPolygon:\n",
    "            multdf = gpd.GeoDataFrame(columns=indf.columns)\n",
    "            recs = len(row.geometry)\n",
    "            multdf = multdf.append([row]*recs,ignore_index=True)\n",
    "            for geom in range(recs):\n",
    "                multdf.loc[geom,'geometry'] = row.geometry[geom]\n",
    "            outdf = outdf.append(multdf,ignore_index=True)\n",
    "    return outdf"
   ]
  },
  {
   "cell_type": "code",
   "execution_count": 2,
   "metadata": {},
   "outputs": [],
   "source": [
    "bairros = ConversorMultToPolygono('data\\Fortaleza-Quadrat.geojson')"
   ]
  },
  {
   "cell_type": "code",
   "execution_count": 3,
   "metadata": {},
   "outputs": [
    {
     "data": {
      "text/html": [
       "<div>\n",
       "<style scoped>\n",
       "    .dataframe tbody tr th:only-of-type {\n",
       "        vertical-align: middle;\n",
       "    }\n",
       "\n",
       "    .dataframe tbody tr th {\n",
       "        vertical-align: top;\n",
       "    }\n",
       "\n",
       "    .dataframe thead th {\n",
       "        text-align: right;\n",
       "    }\n",
       "</style>\n",
       "<table border=\"1\" class=\"dataframe\">\n",
       "  <thead>\n",
       "    <tr style=\"text-align: right;\">\n",
       "      <th></th>\n",
       "      <th>name</th>\n",
       "      <th>left</th>\n",
       "      <th>top</th>\n",
       "      <th>right</th>\n",
       "      <th>bottom</th>\n",
       "      <th>geometry</th>\n",
       "    </tr>\n",
       "  </thead>\n",
       "  <tbody>\n",
       "    <tr>\n",
       "      <td>0</td>\n",
       "      <td>1</td>\n",
       "      <td>-38.66951</td>\n",
       "      <td>-3.669249</td>\n",
       "      <td>-38.65951</td>\n",
       "      <td>-3.679249</td>\n",
       "      <td>POLYGON ((-38.66951 -3.66925, -38.65951 -3.669...</td>\n",
       "    </tr>\n",
       "    <tr>\n",
       "      <td>1</td>\n",
       "      <td>2</td>\n",
       "      <td>-38.66951</td>\n",
       "      <td>-3.679249</td>\n",
       "      <td>-38.65951</td>\n",
       "      <td>-3.689249</td>\n",
       "      <td>POLYGON ((-38.66951 -3.67925, -38.65951 -3.679...</td>\n",
       "    </tr>\n",
       "    <tr>\n",
       "      <td>2</td>\n",
       "      <td>3</td>\n",
       "      <td>-38.66951</td>\n",
       "      <td>-3.689249</td>\n",
       "      <td>-38.65951</td>\n",
       "      <td>-3.699249</td>\n",
       "      <td>POLYGON ((-38.66951 -3.68925, -38.65951 -3.689...</td>\n",
       "    </tr>\n",
       "    <tr>\n",
       "      <td>3</td>\n",
       "      <td>4</td>\n",
       "      <td>-38.66951</td>\n",
       "      <td>-3.699249</td>\n",
       "      <td>-38.65951</td>\n",
       "      <td>-3.709249</td>\n",
       "      <td>POLYGON ((-38.66951 -3.69925, -38.65951 -3.699...</td>\n",
       "    </tr>\n",
       "    <tr>\n",
       "      <td>4</td>\n",
       "      <td>5</td>\n",
       "      <td>-38.66951</td>\n",
       "      <td>-3.709249</td>\n",
       "      <td>-38.65951</td>\n",
       "      <td>-3.719249</td>\n",
       "      <td>POLYGON ((-38.66951 -3.70925, -38.65951 -3.709...</td>\n",
       "    </tr>\n",
       "  </tbody>\n",
       "</table>\n",
       "</div>"
      ],
      "text/plain": [
       "  name      left       top     right    bottom  \\\n",
       "0    1 -38.66951 -3.669249 -38.65951 -3.679249   \n",
       "1    2 -38.66951 -3.679249 -38.65951 -3.689249   \n",
       "2    3 -38.66951 -3.689249 -38.65951 -3.699249   \n",
       "3    4 -38.66951 -3.699249 -38.65951 -3.709249   \n",
       "4    5 -38.66951 -3.709249 -38.65951 -3.719249   \n",
       "\n",
       "                                            geometry  \n",
       "0  POLYGON ((-38.66951 -3.66925, -38.65951 -3.669...  \n",
       "1  POLYGON ((-38.66951 -3.67925, -38.65951 -3.679...  \n",
       "2  POLYGON ((-38.66951 -3.68925, -38.65951 -3.689...  \n",
       "3  POLYGON ((-38.66951 -3.69925, -38.65951 -3.699...  \n",
       "4  POLYGON ((-38.66951 -3.70925, -38.65951 -3.709...  "
      ]
     },
     "execution_count": 3,
     "metadata": {},
     "output_type": "execute_result"
    }
   ],
   "source": [
    "bairros.head()"
   ]
  },
  {
   "cell_type": "code",
   "execution_count": 4,
   "metadata": {},
   "outputs": [
    {
     "data": {
      "text/plain": [
       "geopandas.geodataframe.GeoDataFrame"
      ]
     },
     "execution_count": 4,
     "metadata": {},
     "output_type": "execute_result"
    }
   ],
   "source": [
    "type(bairros)"
   ]
  },
  {
   "cell_type": "code",
   "execution_count": 7,
   "metadata": {},
   "outputs": [],
   "source": [
    "bairros.to_file(\"data/bairros.geojson\", driver='GeoJSON')"
   ]
  },
  {
   "cell_type": "code",
   "execution_count": null,
   "metadata": {},
   "outputs": [],
   "source": []
  }
 ],
 "metadata": {
  "kernelspec": {
   "display_name": "Python 3",
   "language": "python",
   "name": "python3"
  },
  "language_info": {
   "codemirror_mode": {
    "name": "ipython",
    "version": 3
   },
   "file_extension": ".py",
   "mimetype": "text/x-python",
   "name": "python",
   "nbconvert_exporter": "python",
   "pygments_lexer": "ipython3",
   "version": "3.7.3"
  }
 },
 "nbformat": 4,
 "nbformat_minor": 2
}
