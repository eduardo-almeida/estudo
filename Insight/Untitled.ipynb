{
 "cells": [
  {
   "cell_type": "code",
   "execution_count": 3,
   "metadata": {},
   "outputs": [],
   "source": [
    "import math\n",
    "import os\n",
    "import random\n",
    "import re\n",
    "import sys"
   ]
  },
  {
   "cell_type": "code",
   "execution_count": 8,
   "metadata": {},
   "outputs": [
    {
     "name": "stdout",
     "output_type": "stream",
     "text": [
      "weird  1\n",
      "not weird  2\n",
      "weird  3\n",
      "not weird  4\n",
      "weird  5\n",
      "weird  6\n",
      "weird  7\n",
      "weird  8\n",
      "weird  9\n",
      "weird  10\n",
      "weird  11\n",
      "weird  12\n",
      "weird  13\n",
      "weird  14\n",
      "weird  15\n",
      "weird  16\n",
      "weird  17\n",
      "weird  18\n",
      "weird  19\n",
      "weird  20\n",
      "weird  21\n",
      "not weird  22\n",
      "weird  23\n",
      "not weird  24\n"
     ]
    }
   ],
   "source": [
    "n = 4\n",
    "for n in range(25): \n",
    "    if(n%2 != 0):\n",
    "        print('weird ', n)\n",
    "    elif ((n % 2 == 0) & (2 <= n <= 5)):\n",
    "        print('not weird ', n)\n",
    "\n",
    "    elif ((n % 2 == 0) & (6 <= n <= 20)):\n",
    "        print('weird ', n)\n",
    "\n",
    "    elif ((n % 2 == 0) & (n > 20)):\n",
    "        print('not weird ', n)\n",
    "    "
   ]
  },
  {
   "cell_type": "code",
   "execution_count": null,
   "metadata": {},
   "outputs": [],
   "source": []
  }
 ],
 "metadata": {
  "kernelspec": {
   "display_name": "Python 3",
   "language": "python",
   "name": "python3"
  },
  "language_info": {
   "codemirror_mode": {
    "name": "ipython",
    "version": 3
   },
   "file_extension": ".py",
   "mimetype": "text/x-python",
   "name": "python",
   "nbconvert_exporter": "python",
   "pygments_lexer": "ipython3",
   "version": "3.7.3"
  }
 },
 "nbformat": 4,
 "nbformat_minor": 2
}
