{
 "cells": [
  {
   "cell_type": "code",
   "execution_count": 2,
   "metadata": {},
   "outputs": [],
   "source": [
    "import geopandas as gpd\n",
    "from shapely.geometry.polygon import Polygon\n",
    "from shapely.geometry.multipolygon import MultiPolygon\n",
    "\n",
    "def explode(indata):\n",
    "    indf = gpd.GeoDataFrame.from_file(indata)\n",
    "    outdf = gpd.GeoDataFrame(columns=indf.columns)\n",
    "    for idx, row in indf.iterrows():\n",
    "        if type(row.geometry) == Polygon:\n",
    "            outdf = outdf.append(row,ignore_index=True)\n",
    "        if type(row.geometry) == MultiPolygon:\n",
    "            multdf = gpd.GeoDataFrame(columns=indf.columns)\n",
    "            recs = len(row.geometry)\n",
    "            multdf = multdf.append([row]*recs,ignore_index=True)\n",
    "            for geom in range(recs):\n",
    "                multdf.loc[geom,'geometry'] = row.geometry[geom]\n",
    "            outdf = outdf.append(multdf,ignore_index=True)\n",
    "    return outdf"
   ]
  },
  {
   "cell_type": "code",
   "execution_count": 8,
   "metadata": {},
   "outputs": [],
   "source": [
    "teste1 = explode('Fortaleza-Quadrat.geojson')"
   ]
  },
  {
   "cell_type": "code",
   "execution_count": 9,
   "metadata": {},
   "outputs": [
    {
     "data": {
      "text/html": [
       "<div>\n",
       "<style scoped>\n",
       "    .dataframe tbody tr th:only-of-type {\n",
       "        vertical-align: middle;\n",
       "    }\n",
       "\n",
       "    .dataframe tbody tr th {\n",
       "        vertical-align: top;\n",
       "    }\n",
       "\n",
       "    .dataframe thead th {\n",
       "        text-align: right;\n",
       "    }\n",
       "</style>\n",
       "<table border=\"1\" class=\"dataframe\">\n",
       "  <thead>\n",
       "    <tr style=\"text-align: right;\">\n",
       "      <th></th>\n",
       "      <th>name</th>\n",
       "      <th>left</th>\n",
       "      <th>top</th>\n",
       "      <th>right</th>\n",
       "      <th>bottom</th>\n",
       "      <th>geometry</th>\n",
       "    </tr>\n",
       "  </thead>\n",
       "  <tbody>\n",
       "    <tr>\n",
       "      <td>0</td>\n",
       "      <td>1</td>\n",
       "      <td>-38.66951</td>\n",
       "      <td>-3.669249</td>\n",
       "      <td>-38.65951</td>\n",
       "      <td>-3.679249</td>\n",
       "      <td>POLYGON ((-38.66951 -3.66925, -38.65951 -3.669...</td>\n",
       "    </tr>\n",
       "    <tr>\n",
       "      <td>1</td>\n",
       "      <td>2</td>\n",
       "      <td>-38.66951</td>\n",
       "      <td>-3.679249</td>\n",
       "      <td>-38.65951</td>\n",
       "      <td>-3.689249</td>\n",
       "      <td>POLYGON ((-38.66951 -3.67925, -38.65951 -3.679...</td>\n",
       "    </tr>\n",
       "    <tr>\n",
       "      <td>2</td>\n",
       "      <td>3</td>\n",
       "      <td>-38.66951</td>\n",
       "      <td>-3.689249</td>\n",
       "      <td>-38.65951</td>\n",
       "      <td>-3.699249</td>\n",
       "      <td>POLYGON ((-38.66951 -3.68925, -38.65951 -3.689...</td>\n",
       "    </tr>\n",
       "    <tr>\n",
       "      <td>3</td>\n",
       "      <td>4</td>\n",
       "      <td>-38.66951</td>\n",
       "      <td>-3.699249</td>\n",
       "      <td>-38.65951</td>\n",
       "      <td>-3.709249</td>\n",
       "      <td>POLYGON ((-38.66951 -3.69925, -38.65951 -3.699...</td>\n",
       "    </tr>\n",
       "    <tr>\n",
       "      <td>4</td>\n",
       "      <td>5</td>\n",
       "      <td>-38.66951</td>\n",
       "      <td>-3.709249</td>\n",
       "      <td>-38.65951</td>\n",
       "      <td>-3.719249</td>\n",
       "      <td>POLYGON ((-38.66951 -3.70925, -38.65951 -3.709...</td>\n",
       "    </tr>\n",
       "  </tbody>\n",
       "</table>\n",
       "</div>"
      ],
      "text/plain": [
       "  name      left       top     right    bottom  \\\n",
       "0    1 -38.66951 -3.669249 -38.65951 -3.679249   \n",
       "1    2 -38.66951 -3.679249 -38.65951 -3.689249   \n",
       "2    3 -38.66951 -3.689249 -38.65951 -3.699249   \n",
       "3    4 -38.66951 -3.699249 -38.65951 -3.709249   \n",
       "4    5 -38.66951 -3.709249 -38.65951 -3.719249   \n",
       "\n",
       "                                            geometry  \n",
       "0  POLYGON ((-38.66951 -3.66925, -38.65951 -3.669...  \n",
       "1  POLYGON ((-38.66951 -3.67925, -38.65951 -3.679...  \n",
       "2  POLYGON ((-38.66951 -3.68925, -38.65951 -3.689...  \n",
       "3  POLYGON ((-38.66951 -3.69925, -38.65951 -3.699...  \n",
       "4  POLYGON ((-38.66951 -3.70925, -38.65951 -3.709...  "
      ]
     },
     "execution_count": 9,
     "metadata": {},
     "output_type": "execute_result"
    }
   ],
   "source": [
    "teste1.head()"
   ]
  },
  {
   "cell_type": "code",
   "execution_count": 10,
   "metadata": {},
   "outputs": [],
   "source": [
    "teste2 = explode('bairros_fortaleza.json')"
   ]
  },
  {
   "cell_type": "code",
   "execution_count": 22,
   "metadata": {},
   "outputs": [],
   "source": [
    "teste2.to_file(\"teste.geojson\", driver='GeoJSON')"
   ]
  },
  {
   "cell_type": "code",
   "execution_count": 14,
   "metadata": {},
   "outputs": [
    {
     "data": {
      "text/plain": [
       "geopandas.geodataframe.GeoDataFrame"
      ]
     },
     "execution_count": 14,
     "metadata": {},
     "output_type": "execute_result"
    }
   ],
   "source": [
    "type(teste1)"
   ]
  },
  {
   "cell_type": "code",
   "execution_count": 15,
   "metadata": {},
   "outputs": [
    {
     "data": {
      "text/plain": [
       "geopandas.geodataframe.GeoDataFrame"
      ]
     },
     "execution_count": 15,
     "metadata": {},
     "output_type": "execute_result"
    }
   ],
   "source": [
    "type(teste2)"
   ]
  },
  {
   "cell_type": "code",
   "execution_count": 16,
   "metadata": {},
   "outputs": [],
   "source": [
    "data = gpd.read_file('bairros_fortaleza.json')"
   ]
  },
  {
   "cell_type": "code",
   "execution_count": 17,
   "metadata": {},
   "outputs": [
    {
     "data": {
      "text/plain": [
       "geopandas.geodataframe.GeoDataFrame"
      ]
     },
     "execution_count": 17,
     "metadata": {},
     "output_type": "execute_result"
    }
   ],
   "source": [
    "type(data)"
   ]
  },
  {
   "cell_type": "code",
   "execution_count": 19,
   "metadata": {},
   "outputs": [
    {
     "data": {
      "text/html": [
       "<div>\n",
       "<style scoped>\n",
       "    .dataframe tbody tr th:only-of-type {\n",
       "        vertical-align: middle;\n",
       "    }\n",
       "\n",
       "    .dataframe tbody tr th {\n",
       "        vertical-align: top;\n",
       "    }\n",
       "\n",
       "    .dataframe thead th {\n",
       "        text-align: right;\n",
       "    }\n",
       "</style>\n",
       "<table border=\"1\" class=\"dataframe\">\n",
       "  <thead>\n",
       "    <tr style=\"text-align: right;\">\n",
       "      <th></th>\n",
       "      <th>BAIRROS</th>\n",
       "      <th>CD_BAIRRO</th>\n",
       "      <th>CD_GEOCODM</th>\n",
       "      <th>NM_MUNICIP</th>\n",
       "      <th>OBJECTID_1</th>\n",
       "      <th>Shape_Area</th>\n",
       "      <th>Shape_Leng</th>\n",
       "      <th>geometry</th>\n",
       "    </tr>\n",
       "  </thead>\n",
       "  <tbody>\n",
       "    <tr>\n",
       "      <td>0</td>\n",
       "      <td>Praia de Iracema</td>\n",
       "      <td>88</td>\n",
       "      <td>2304400</td>\n",
       "      <td>FORTALEZA</td>\n",
       "      <td>1</td>\n",
       "      <td>0.000043</td>\n",
       "      <td>0.034659</td>\n",
       "      <td>POLYGON Z ((-38.51147 -3.71871 0.00000, -38.51...</td>\n",
       "    </tr>\n",
       "    <tr>\n",
       "      <td>1</td>\n",
       "      <td>Aldeota</td>\n",
       "      <td>94</td>\n",
       "      <td>2304400</td>\n",
       "      <td>FORTALEZA</td>\n",
       "      <td>2</td>\n",
       "      <td>0.000316</td>\n",
       "      <td>0.079853</td>\n",
       "      <td>POLYGON Z ((-38.50232 -3.73180 0.00000, -38.50...</td>\n",
       "    </tr>\n",
       "    <tr>\n",
       "      <td>2</td>\n",
       "      <td>Meireles</td>\n",
       "      <td>95</td>\n",
       "      <td>2304400</td>\n",
       "      <td>FORTALEZA</td>\n",
       "      <td>3</td>\n",
       "      <td>0.000222</td>\n",
       "      <td>0.072848</td>\n",
       "      <td>POLYGON Z ((-38.49582 -3.72470 0.00000, -38.49...</td>\n",
       "    </tr>\n",
       "    <tr>\n",
       "      <td>3</td>\n",
       "      <td>Varjota</td>\n",
       "      <td>96</td>\n",
       "      <td>2304400</td>\n",
       "      <td>FORTALEZA</td>\n",
       "      <td>4</td>\n",
       "      <td>0.000042</td>\n",
       "      <td>0.029612</td>\n",
       "      <td>POLYGON Z ((-38.48520 -3.73614 0.00000, -38.48...</td>\n",
       "    </tr>\n",
       "    <tr>\n",
       "      <td>4</td>\n",
       "      <td>Mucuripe</td>\n",
       "      <td>100</td>\n",
       "      <td>2304400</td>\n",
       "      <td>FORTALEZA</td>\n",
       "      <td>5</td>\n",
       "      <td>0.000071</td>\n",
       "      <td>0.036173</td>\n",
       "      <td>POLYGON Z ((-38.47903 -3.72200 0.00000, -38.47...</td>\n",
       "    </tr>\n",
       "    <tr>\n",
       "      <td>...</td>\n",
       "      <td>...</td>\n",
       "      <td>...</td>\n",
       "      <td>...</td>\n",
       "      <td>...</td>\n",
       "      <td>...</td>\n",
       "      <td>...</td>\n",
       "      <td>...</td>\n",
       "      <td>...</td>\n",
       "    </tr>\n",
       "    <tr>\n",
       "      <td>114</td>\n",
       "      <td>Manuel Dias Branco</td>\n",
       "      <td>105</td>\n",
       "      <td>2304400</td>\n",
       "      <td>FORTALEZA</td>\n",
       "      <td>115</td>\n",
       "      <td>0.000361</td>\n",
       "      <td>0.092063</td>\n",
       "      <td>POLYGON Z ((-38.45635 -3.74975 0.00000, -38.45...</td>\n",
       "    </tr>\n",
       "    <tr>\n",
       "      <td>115</td>\n",
       "      <td>Cidade 2000</td>\n",
       "      <td>106</td>\n",
       "      <td>2304400</td>\n",
       "      <td>FORTALEZA</td>\n",
       "      <td>116</td>\n",
       "      <td>0.000040</td>\n",
       "      <td>0.025620</td>\n",
       "      <td>POLYGON Z ((-38.46923 -3.75485 0.00000, -38.46...</td>\n",
       "    </tr>\n",
       "    <tr>\n",
       "      <td>116</td>\n",
       "      <td>Salinas</td>\n",
       "      <td>135</td>\n",
       "      <td>2304400</td>\n",
       "      <td>FORTALEZA</td>\n",
       "      <td>117</td>\n",
       "      <td>0.000201</td>\n",
       "      <td>0.066496</td>\n",
       "      <td>POLYGON Z ((-38.49362 -3.76195 0.00000, -38.49...</td>\n",
       "    </tr>\n",
       "    <tr>\n",
       "      <td>117</td>\n",
       "      <td>Guararapes</td>\n",
       "      <td>136</td>\n",
       "      <td>2304400</td>\n",
       "      <td>FORTALEZA</td>\n",
       "      <td>118</td>\n",
       "      <td>0.000109</td>\n",
       "      <td>0.044226</td>\n",
       "      <td>POLYGON Z ((-38.48722 -3.76888 0.00000, -38.48...</td>\n",
       "    </tr>\n",
       "    <tr>\n",
       "      <td>118</td>\n",
       "      <td>Engenheiro Luciano Cavalcante</td>\n",
       "      <td>137</td>\n",
       "      <td>2304400</td>\n",
       "      <td>FORTALEZA</td>\n",
       "      <td>119</td>\n",
       "      <td>0.000315</td>\n",
       "      <td>0.081403</td>\n",
       "      <td>POLYGON Z ((-38.48842 -3.76974 0.00000, -38.48...</td>\n",
       "    </tr>\n",
       "  </tbody>\n",
       "</table>\n",
       "<p>119 rows × 8 columns</p>\n",
       "</div>"
      ],
      "text/plain": [
       "                           BAIRROS  CD_BAIRRO CD_GEOCODM NM_MUNICIP  \\\n",
       "0                 Praia de Iracema         88    2304400  FORTALEZA   \n",
       "1                          Aldeota         94    2304400  FORTALEZA   \n",
       "2                         Meireles         95    2304400  FORTALEZA   \n",
       "3                          Varjota         96    2304400  FORTALEZA   \n",
       "4                         Mucuripe        100    2304400  FORTALEZA   \n",
       "..                             ...        ...        ...        ...   \n",
       "114             Manuel Dias Branco        105    2304400  FORTALEZA   \n",
       "115                    Cidade 2000        106    2304400  FORTALEZA   \n",
       "116                        Salinas        135    2304400  FORTALEZA   \n",
       "117                     Guararapes        136    2304400  FORTALEZA   \n",
       "118  Engenheiro Luciano Cavalcante        137    2304400  FORTALEZA   \n",
       "\n",
       "     OBJECTID_1  Shape_Area  Shape_Leng  \\\n",
       "0             1    0.000043    0.034659   \n",
       "1             2    0.000316    0.079853   \n",
       "2             3    0.000222    0.072848   \n",
       "3             4    0.000042    0.029612   \n",
       "4             5    0.000071    0.036173   \n",
       "..          ...         ...         ...   \n",
       "114         115    0.000361    0.092063   \n",
       "115         116    0.000040    0.025620   \n",
       "116         117    0.000201    0.066496   \n",
       "117         118    0.000109    0.044226   \n",
       "118         119    0.000315    0.081403   \n",
       "\n",
       "                                              geometry  \n",
       "0    POLYGON Z ((-38.51147 -3.71871 0.00000, -38.51...  \n",
       "1    POLYGON Z ((-38.50232 -3.73180 0.00000, -38.50...  \n",
       "2    POLYGON Z ((-38.49582 -3.72470 0.00000, -38.49...  \n",
       "3    POLYGON Z ((-38.48520 -3.73614 0.00000, -38.48...  \n",
       "4    POLYGON Z ((-38.47903 -3.72200 0.00000, -38.47...  \n",
       "..                                                 ...  \n",
       "114  POLYGON Z ((-38.45635 -3.74975 0.00000, -38.45...  \n",
       "115  POLYGON Z ((-38.46923 -3.75485 0.00000, -38.46...  \n",
       "116  POLYGON Z ((-38.49362 -3.76195 0.00000, -38.49...  \n",
       "117  POLYGON Z ((-38.48722 -3.76888 0.00000, -38.48...  \n",
       "118  POLYGON Z ((-38.48842 -3.76974 0.00000, -38.48...  \n",
       "\n",
       "[119 rows x 8 columns]"
      ]
     },
     "execution_count": 19,
     "metadata": {},
     "output_type": "execute_result"
    }
   ],
   "source": [
    "data"
   ]
  },
  {
   "cell_type": "code",
   "execution_count": null,
   "metadata": {},
   "outputs": [],
   "source": [
    "def teste(indata):\n",
    "    indf = gpd.GeoDataFrame.from_file(indata)\n",
    "    outdf = gpd.GeoDataFrame(columns=indf.columns)\n",
    "    for idx, row in indf.iterrows():\n",
    "        if type(row.geometry) == Polygon:\n",
    "            print(\"Certo\")\n",
    "        if type(row.geometry) == MultiPolygon:\n",
    "            print(\"Errado\")"
   ]
  }
 ],
 "metadata": {
  "kernelspec": {
   "display_name": "Python 3",
   "language": "python",
   "name": "python3"
  },
  "language_info": {
   "codemirror_mode": {
    "name": "ipython",
    "version": 3
   },
   "file_extension": ".py",
   "mimetype": "text/x-python",
   "name": "python",
   "nbconvert_exporter": "python",
   "pygments_lexer": "ipython3",
   "version": "3.7.4"
  }
 },
 "nbformat": 4,
 "nbformat_minor": 2
}
