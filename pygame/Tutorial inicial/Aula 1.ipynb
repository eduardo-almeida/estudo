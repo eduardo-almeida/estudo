{
 "cells": [
  {
   "cell_type": "code",
   "execution_count": 1,
   "metadata": {},
   "outputs": [
    {
     "name": "stdout",
     "output_type": "stream",
     "text": [
      "pygame 1.9.6\n",
      "Hello from the pygame community. https://www.pygame.org/contribute.html\n"
     ]
    }
   ],
   "source": [
    "import pygame, sys\n",
    "from pygame import *\n",
    " \n",
    "pygame.init()\n",
    "\n",
    "# Constants\n",
    "WINDOWWIDTH = 500\n",
    "WINDOWHEIGHT = 400\n",
    "FPS = 30 # frames per second\n",
    " \n",
    "BLACK = (0,0,0)\n",
    "WHITE = (255,255,255)\n",
    " \n"
   ]
  },
  {
   "cell_type": "code",
   "execution_count": 2,
   "metadata": {},
   "outputs": [],
   "source": [
    "class Player(pygame.sprite.Sprite):\n",
    "    '''This class represents the player'''\n",
    "    def __init__(self, width, height):\n",
    "        '''call the base (Sprite) constructor class'''\n",
    "        super().__init__()\n",
    " \n",
    "        # Create the player with width, height and color attributes\n",
    "        self.image = pygame.Surface([width,height])\n",
    "        self.image.fill(WHITE)\n",
    " \n",
    "        # Draw the hero\n",
    "        self.rect = self.image.get_rect()\n",
    "        # Create player variables\n",
    "        self.changex = 0 # value to move along x\n",
    "        self.changey = 0 # value to move along y\n",
    "        \n",
    "    def move_left(self, move_x):\n",
    "        '''move player left'''\n",
    "        self.changex -= move_x\n",
    " \n",
    "    def move_right(self, move_x):\n",
    "        '''move player right'''\n",
    "        self.changex += move_x\n",
    "        \n",
    "    def move_up(self, move_y):\n",
    "        '''move player right'''\n",
    "        self.changey -= move_y\n",
    " \n",
    "    def move_down(self, move_y):\n",
    "        '''move player right'''\n",
    "        self.changey += move_y\n",
    " \n",
    "    def update(self):\n",
    "        '''update player movement'''\n",
    "        self.rect.x += self.changex\n",
    "        self.rect.y += self.changey\n",
    " \n",
    "        '''boundary checking'''\n",
    "        if self.rect.x < 0:\n",
    "            self.rect.x = 0\n",
    "            \n",
    "        if self.rect.y < 0:\n",
    "            self.rect.y = 0\n",
    " \n",
    "        if self.rect.y > WINDOWHEIGHT - self.rect.height:\n",
    "            self.rect.y = WINDOWHEIGHT - self.rect.height\n",
    " \n",
    "        if self.rect.x > WINDOWWIDTH - self.rect.width:\n",
    "            self.rect.x = WINDOWWIDTH - self.rect.width"
   ]
  },
  {
   "cell_type": "code",
   "execution_count": 3,
   "metadata": {},
   "outputs": [],
   "source": [
    "# FPS to control screen updates\n",
    "FPSCLOCK = pygame.time.Clock()\n",
    " \n",
    "# create display surface\n",
    "DISPLAYSURF = pygame.display.set_mode((WINDOWWIDTH, WINDOWHEIGHT))\n",
    "pygame.display.set_caption('The Lone Character')\n",
    " \n",
    "# List that contains all sprites in the game\n",
    "active_sprites_list = pygame.sprite.Group()\n",
    "        \n",
    "# Spawn sprite and set x, y location\n",
    "player = Player(30, 30) # with width 30 and height 30\n",
    "player.rect.x = WINDOWWIDTH / 2 - player.rect.centerx\n",
    "player.rect.y = 330\n",
    " \n",
    "# Add the sprites to the list of objects\n",
    "active_sprites_list.add(player)"
   ]
  },
  {
   "cell_type": "code",
   "execution_count": 4,
   "metadata": {},
   "outputs": [
    {
     "ename": "SystemExit",
     "evalue": "",
     "output_type": "error",
     "traceback": [
      "An exception has occurred, use %tb to see the full traceback.\n",
      "\u001b[0;31mSystemExit\u001b[0m\n"
     ]
    },
    {
     "name": "stderr",
     "output_type": "stream",
     "text": [
      "/home/eduardo/anaconda3/lib/python3.7/site-packages/IPython/core/interactiveshell.py:3304: UserWarning: To exit: use 'exit', 'quit', or Ctrl-D.\n",
      "  warn(\"To exit: use 'exit', 'quit', or Ctrl-D.\", stacklevel=1)\n"
     ]
    }
   ],
   "source": [
    "while True: # main game loop\n",
    "    for event in pygame.event.get():\n",
    "        if event.type == QUIT:\n",
    "            pygame.quit()\n",
    "            sys.exit()\n",
    " \n",
    "        if event.type == pygame.KEYDOWN:\n",
    "            if event.key == pygame.K_LEFT:\n",
    "                player.move_left(5)\n",
    "            if event.key == pygame.K_RIGHT:\n",
    "                player.move_right(5)\n",
    "            if event.key == pygame.K_UP:\n",
    "                player.move_up(5)\n",
    "            if event.key == pygame.K_DOWN:\n",
    "                player.move_down(5)\n",
    " \n",
    " \n",
    "        if event.type == pygame.KEYUP:\n",
    "            if event.key == pygame.K_LEFT:\n",
    "                player.move_left(-5)\n",
    "            if event.key == pygame.K_RIGHT:\n",
    "                player.move_right(-5)\n",
    "            if event.key == pygame.K_UP:\n",
    "                player.move_up(-5)\n",
    "            if event.key == pygame.K_DOWN:\n",
    "                player.move_down(-5)\n",
    "    # Game logic goes here\n",
    "    active_sprites_list.update()\n",
    " \n",
    "    # Drawing code goes here\n",
    "    DISPLAYSURF.fill(BLACK)\n",
    "        \n",
    "    # Draw sprites at once all/refresh the position of the player\n",
    "    active_sprites_list.draw(DISPLAYSURF)\n",
    " \n",
    "    pygame.display.update() # update screen\n",
    "    FPSCLOCK.tick(FPS) # limit frames per second\n",
    "      "
   ]
  }
 ],
 "metadata": {
  "kernelspec": {
   "display_name": "Python 3",
   "language": "python",
   "name": "python3"
  },
  "language_info": {
   "codemirror_mode": {
    "name": "ipython",
    "version": 3
   },
   "file_extension": ".py",
   "mimetype": "text/x-python",
   "name": "python",
   "nbconvert_exporter": "python",
   "pygments_lexer": "ipython3",
   "version": "3.7.3"
  }
 },
 "nbformat": 4,
 "nbformat_minor": 2
}
