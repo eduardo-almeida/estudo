{
 "cells": [
  {
   "cell_type": "code",
   "execution_count": 1,
   "metadata": {},
   "outputs": [],
   "source": [
    "import geopandas as gpd\n",
    "import os\n",
    "import matplotlib.pyplot as plt\n",
    "\n",
    "%matplotlib inline"
   ]
  },
  {
   "cell_type": "code",
   "execution_count": 2,
   "metadata": {},
   "outputs": [
    {
     "name": "stdout",
     "output_type": "stream",
     "text": [
      "m_L4132R_p.shp\n"
     ]
    }
   ],
   "source": [
    "\n",
    "# Define path to folder\n",
    "#input_folder = r\"L2_data/NLS/2018/L4/L41/L4132R.shp\"\n",
    "\n",
    "# Join folder path and filename\n",
    "fp = os.path.join('', \"m_L4132R_p.shp\")\n",
    "\n",
    "# Print out the full file path\n",
    "print(fp)"
   ]
  },
  {
   "cell_type": "code",
   "execution_count": 3,
   "metadata": {},
   "outputs": [],
   "source": [
    "data = gpd.read_file(fp)"
   ]
  },
  {
   "cell_type": "code",
   "execution_count": 4,
   "metadata": {},
   "outputs": [
    {
     "data": {
      "text/plain": [
       "geopandas.geodataframe.GeoDataFrame"
      ]
     },
     "execution_count": 4,
     "metadata": {},
     "output_type": "execute_result"
    }
   ],
   "source": [
    "type(data)"
   ]
  },
  {
   "cell_type": "code",
   "execution_count": 5,
   "metadata": {},
   "outputs": [
    {
     "data": {
      "text/html": [
       "<div>\n",
       "<style scoped>\n",
       "    .dataframe tbody tr th:only-of-type {\n",
       "        vertical-align: middle;\n",
       "    }\n",
       "\n",
       "    .dataframe tbody tr th {\n",
       "        vertical-align: top;\n",
       "    }\n",
       "\n",
       "    .dataframe thead th {\n",
       "        text-align: right;\n",
       "    }\n",
       "</style>\n",
       "<table border=\"1\" class=\"dataframe\">\n",
       "  <thead>\n",
       "    <tr style=\"text-align: right;\">\n",
       "      <th></th>\n",
       "      <th>TEKSTI</th>\n",
       "      <th>RYHMA</th>\n",
       "      <th>LUOKKA</th>\n",
       "      <th>TASTAR</th>\n",
       "      <th>KORTAR</th>\n",
       "      <th>KORARV</th>\n",
       "      <th>KULKUTAPA</th>\n",
       "      <th>KOHDEOSO</th>\n",
       "      <th>AINLAHDE</th>\n",
       "      <th>SYNTYHETKI</th>\n",
       "      <th>...</th>\n",
       "      <th>KARTOGLK</th>\n",
       "      <th>ALUEJAKOON</th>\n",
       "      <th>VERSUH</th>\n",
       "      <th>SUUNTA</th>\n",
       "      <th>SIIRT_DX</th>\n",
       "      <th>SIIRT_DY</th>\n",
       "      <th>KORKEUS</th>\n",
       "      <th>ATTR2</th>\n",
       "      <th>ATTR3</th>\n",
       "      <th>geometry</th>\n",
       "    </tr>\n",
       "  </thead>\n",
       "  <tbody>\n",
       "    <tr>\n",
       "      <td>0</td>\n",
       "      <td>None</td>\n",
       "      <td>64</td>\n",
       "      <td>32421</td>\n",
       "      <td>5000</td>\n",
       "      <td>0</td>\n",
       "      <td>0.0</td>\n",
       "      <td>0</td>\n",
       "      <td>1812247077</td>\n",
       "      <td>1</td>\n",
       "      <td>20180125</td>\n",
       "      <td>...</td>\n",
       "      <td>0</td>\n",
       "      <td>0</td>\n",
       "      <td>0</td>\n",
       "      <td>0</td>\n",
       "      <td>0</td>\n",
       "      <td>0</td>\n",
       "      <td>0.0</td>\n",
       "      <td>0</td>\n",
       "      <td>0</td>\n",
       "      <td>POLYGON ((379394.248 6689991.936, 379389.790 6...</td>\n",
       "    </tr>\n",
       "    <tr>\n",
       "      <td>1</td>\n",
       "      <td>None</td>\n",
       "      <td>64</td>\n",
       "      <td>32421</td>\n",
       "      <td>5000</td>\n",
       "      <td>0</td>\n",
       "      <td>0.0</td>\n",
       "      <td>0</td>\n",
       "      <td>1718796908</td>\n",
       "      <td>1</td>\n",
       "      <td>20180120</td>\n",
       "      <td>...</td>\n",
       "      <td>0</td>\n",
       "      <td>0</td>\n",
       "      <td>0</td>\n",
       "      <td>0</td>\n",
       "      <td>0</td>\n",
       "      <td>0</td>\n",
       "      <td>0.0</td>\n",
       "      <td>0</td>\n",
       "      <td>0</td>\n",
       "      <td>POLYGON ((378980.811 6689359.377, 378983.401 6...</td>\n",
       "    </tr>\n",
       "    <tr>\n",
       "      <td>2</td>\n",
       "      <td>None</td>\n",
       "      <td>64</td>\n",
       "      <td>32421</td>\n",
       "      <td>20000</td>\n",
       "      <td>0</td>\n",
       "      <td>0.0</td>\n",
       "      <td>0</td>\n",
       "      <td>411167695</td>\n",
       "      <td>1</td>\n",
       "      <td>20180120</td>\n",
       "      <td>...</td>\n",
       "      <td>0</td>\n",
       "      <td>0</td>\n",
       "      <td>0</td>\n",
       "      <td>0</td>\n",
       "      <td>0</td>\n",
       "      <td>0</td>\n",
       "      <td>0.0</td>\n",
       "      <td>0</td>\n",
       "      <td>0</td>\n",
       "      <td>POLYGON ((378804.766 6689256.471, 378817.107 6...</td>\n",
       "    </tr>\n",
       "    <tr>\n",
       "      <td>3</td>\n",
       "      <td>None</td>\n",
       "      <td>64</td>\n",
       "      <td>32421</td>\n",
       "      <td>20000</td>\n",
       "      <td>0</td>\n",
       "      <td>0.0</td>\n",
       "      <td>0</td>\n",
       "      <td>411173768</td>\n",
       "      <td>1</td>\n",
       "      <td>20180120</td>\n",
       "      <td>...</td>\n",
       "      <td>0</td>\n",
       "      <td>0</td>\n",
       "      <td>0</td>\n",
       "      <td>0</td>\n",
       "      <td>0</td>\n",
       "      <td>0</td>\n",
       "      <td>0.0</td>\n",
       "      <td>0</td>\n",
       "      <td>0</td>\n",
       "      <td>POLYGON ((379229.695 6685025.111, 379233.366 6...</td>\n",
       "    </tr>\n",
       "    <tr>\n",
       "      <td>4</td>\n",
       "      <td>None</td>\n",
       "      <td>64</td>\n",
       "      <td>32421</td>\n",
       "      <td>20000</td>\n",
       "      <td>0</td>\n",
       "      <td>0.0</td>\n",
       "      <td>0</td>\n",
       "      <td>411173698</td>\n",
       "      <td>1</td>\n",
       "      <td>20180120</td>\n",
       "      <td>...</td>\n",
       "      <td>0</td>\n",
       "      <td>0</td>\n",
       "      <td>0</td>\n",
       "      <td>0</td>\n",
       "      <td>0</td>\n",
       "      <td>0</td>\n",
       "      <td>0.0</td>\n",
       "      <td>0</td>\n",
       "      <td>0</td>\n",
       "      <td>POLYGON ((379825.199 6685096.247, 379829.651 6...</td>\n",
       "    </tr>\n",
       "  </tbody>\n",
       "</table>\n",
       "<p>5 rows × 21 columns</p>\n",
       "</div>"
      ],
      "text/plain": [
       "  TEKSTI  RYHMA  LUOKKA  TASTAR  KORTAR  KORARV  KULKUTAPA    KOHDEOSO  \\\n",
       "0   None     64   32421    5000       0     0.0          0  1812247077   \n",
       "1   None     64   32421    5000       0     0.0          0  1718796908   \n",
       "2   None     64   32421   20000       0     0.0          0   411167695   \n",
       "3   None     64   32421   20000       0     0.0          0   411173768   \n",
       "4   None     64   32421   20000       0     0.0          0   411173698   \n",
       "\n",
       "   AINLAHDE SYNTYHETKI  ... KARTOGLK  ALUEJAKOON  VERSUH  SUUNTA  SIIRT_DX  \\\n",
       "0         1   20180125  ...        0           0       0       0         0   \n",
       "1         1   20180120  ...        0           0       0       0         0   \n",
       "2         1   20180120  ...        0           0       0       0         0   \n",
       "3         1   20180120  ...        0           0       0       0         0   \n",
       "4         1   20180120  ...        0           0       0       0         0   \n",
       "\n",
       "   SIIRT_DY  KORKEUS  ATTR2  ATTR3  \\\n",
       "0         0      0.0      0      0   \n",
       "1         0      0.0      0      0   \n",
       "2         0      0.0      0      0   \n",
       "3         0      0.0      0      0   \n",
       "4         0      0.0      0      0   \n",
       "\n",
       "                                            geometry  \n",
       "0  POLYGON ((379394.248 6689991.936, 379389.790 6...  \n",
       "1  POLYGON ((378980.811 6689359.377, 378983.401 6...  \n",
       "2  POLYGON ((378804.766 6689256.471, 378817.107 6...  \n",
       "3  POLYGON ((379229.695 6685025.111, 379233.366 6...  \n",
       "4  POLYGON ((379825.199 6685096.247, 379829.651 6...  \n",
       "\n",
       "[5 rows x 21 columns]"
      ]
     },
     "execution_count": 5,
     "metadata": {},
     "output_type": "execute_result"
    }
   ],
   "source": [
    "data.head()"
   ]
  },
  {
   "cell_type": "code",
   "execution_count": 6,
   "metadata": {},
   "outputs": [],
   "source": [
    "data = data[['RYHMA', 'LUOKKA',  'geometry']]\n",
    "colnames = {'RYHMA':'GROUP', 'LUOKKA':'CLASS'}\n",
    "data.rename(columns=colnames, inplace=True)"
   ]
  },
  {
   "cell_type": "code",
   "execution_count": 7,
   "metadata": {},
   "outputs": [
    {
     "data": {
      "text/html": [
       "<div>\n",
       "<style scoped>\n",
       "    .dataframe tbody tr th:only-of-type {\n",
       "        vertical-align: middle;\n",
       "    }\n",
       "\n",
       "    .dataframe tbody tr th {\n",
       "        vertical-align: top;\n",
       "    }\n",
       "\n",
       "    .dataframe thead th {\n",
       "        text-align: right;\n",
       "    }\n",
       "</style>\n",
       "<table border=\"1\" class=\"dataframe\">\n",
       "  <thead>\n",
       "    <tr style=\"text-align: right;\">\n",
       "      <th></th>\n",
       "      <th>GROUP</th>\n",
       "      <th>CLASS</th>\n",
       "      <th>geometry</th>\n",
       "    </tr>\n",
       "  </thead>\n",
       "  <tbody>\n",
       "    <tr>\n",
       "      <td>0</td>\n",
       "      <td>64</td>\n",
       "      <td>32421</td>\n",
       "      <td>POLYGON ((379394.248 6689991.936, 379389.790 6...</td>\n",
       "    </tr>\n",
       "    <tr>\n",
       "      <td>1</td>\n",
       "      <td>64</td>\n",
       "      <td>32421</td>\n",
       "      <td>POLYGON ((378980.811 6689359.377, 378983.401 6...</td>\n",
       "    </tr>\n",
       "    <tr>\n",
       "      <td>2</td>\n",
       "      <td>64</td>\n",
       "      <td>32421</td>\n",
       "      <td>POLYGON ((378804.766 6689256.471, 378817.107 6...</td>\n",
       "    </tr>\n",
       "    <tr>\n",
       "      <td>3</td>\n",
       "      <td>64</td>\n",
       "      <td>32421</td>\n",
       "      <td>POLYGON ((379229.695 6685025.111, 379233.366 6...</td>\n",
       "    </tr>\n",
       "    <tr>\n",
       "      <td>4</td>\n",
       "      <td>64</td>\n",
       "      <td>32421</td>\n",
       "      <td>POLYGON ((379825.199 6685096.247, 379829.651 6...</td>\n",
       "    </tr>\n",
       "  </tbody>\n",
       "</table>\n",
       "</div>"
      ],
      "text/plain": [
       "   GROUP  CLASS                                           geometry\n",
       "0     64  32421  POLYGON ((379394.248 6689991.936, 379389.790 6...\n",
       "1     64  32421  POLYGON ((378980.811 6689359.377, 378983.401 6...\n",
       "2     64  32421  POLYGON ((378804.766 6689256.471, 378817.107 6...\n",
       "3     64  32421  POLYGON ((379229.695 6685025.111, 379233.366 6...\n",
       "4     64  32421  POLYGON ((379825.199 6685096.247, 379829.651 6..."
      ]
     },
     "execution_count": 7,
     "metadata": {},
     "output_type": "execute_result"
    }
   ],
   "source": [
    "data.head()"
   ]
  },
  {
   "cell_type": "code",
   "execution_count": 8,
   "metadata": {},
   "outputs": [
    {
     "data": {
      "text/plain": [
       "Index(['GROUP', 'CLASS', 'geometry'], dtype='object')"
      ]
     },
     "execution_count": 8,
     "metadata": {},
     "output_type": "execute_result"
    }
   ],
   "source": [
    "data.columns"
   ]
  },
  {
   "cell_type": "code",
   "execution_count": 9,
   "metadata": {},
   "outputs": [
    {
     "name": "stdout",
     "output_type": "stream",
     "text": [
      "Number of rows 4311\n",
      "Number of classes 20\n",
      "Number of groups 1\n"
     ]
    }
   ],
   "source": [
    "print(\"Number of rows\", len(data['CLASS']))\n",
    "print(\"Number of classes\", data['CLASS'].nunique())\n",
    "print(\"Number of groups\", data['GROUP'].nunique())"
   ]
  },
  {
   "cell_type": "code",
   "execution_count": 10,
   "metadata": {},
   "outputs": [
    {
     "data": {
      "text/plain": [
       "<matplotlib.axes._subplots.AxesSubplot at 0x20f35cd7088>"
      ]
     },
     "execution_count": 10,
     "metadata": {},
     "output_type": "execute_result"
    },
    {
     "data": {
      "image/png": "[encoded data removed]",
      "text/plain": [
       "<Figure size 432x288 with 1 Axes>"
      ]
     },
     "metadata": {
      "needs_background": "light"
     },
     "output_type": "display_data"
    }
   ],
   "source": [
    "data.plot()"
   ]
  },
  {
   "cell_type": "code",
   "execution_count": 11,
   "metadata": {},
   "outputs": [
    {
     "name": "stdout",
     "output_type": "stream",
     "text": [
      "Polygon: POLYGON ((379394.248 6689991.936, 379389.79 6690000, 379408.646 6690000, 379394.248 6689991.936))\n",
      "Area: 76.0 square meters\n"
     ]
    }
   ],
   "source": [
    "print(\"Polygon:\", data.at[0, \"geometry\"])\n",
    "print(\"Area:\", round(data.at[0, \"geometry\"].area,0), \"square meters\")"
   ]
  },
  {
   "cell_type": "code",
   "execution_count": 12,
   "metadata": {},
   "outputs": [
    {
     "name": "stdout",
     "output_type": "stream",
     "text": [
      "Polygon area at index 0 is: 76.03 m^2\n",
      "Polygon area at index 1 is: 2652.05 m^2\n",
      "Polygon area at index 2 is: 3185.65 m^2\n",
      "Polygon area at index 3 is: 13075.17 m^2\n",
      "Polygon area at index 4 is: 3980.68 m^2\n"
     ]
    }
   ],
   "source": [
    "# Iterate over rows and print the area of a Polygon\n",
    "for index, row in data[0:5].iterrows():\n",
    "\n",
    "    # Get the area from the shapely-object stored in the geometry-column\n",
    "    poly_area = row['geometry'].area\n",
    "\n",
    "    # Print info\n",
    "    print(\"Polygon area at index {index} is: {area:.2f} m^2\".format(index=index, area=poly_area))"
   ]
  },
  {
   "cell_type": "code",
   "execution_count": 13,
   "metadata": {},
   "outputs": [
    {
     "data": {
      "text/plain": [
       "0       76.027392\n",
       "1     2652.054186\n",
       "2     3185.649995\n",
       "3    13075.165279\n",
       "4     3980.682621\n",
       "dtype: float64"
      ]
     },
     "execution_count": 13,
     "metadata": {},
     "output_type": "execute_result"
    }
   ],
   "source": [
    "data.area.head()"
   ]
  },
  {
   "cell_type": "code",
   "execution_count": 14,
   "metadata": {},
   "outputs": [],
   "source": [
    "# Create a new column called 'area' and assign the area of the Polygons into it\n",
    "data['area'] = data.area"
   ]
  },
  {
   "cell_type": "code",
   "execution_count": 15,
   "metadata": {},
   "outputs": [],
   "source": [
    "# Maximum area\n",
    "max_area = data['area'].max()\n",
    "# Minimum area\n",
    "min_area = data['area'].min()\n",
    "# Mean area\n",
    "mean_area = data['area'].mean()"
   ]
  },
  {
   "cell_type": "code",
   "execution_count": 16,
   "metadata": {},
   "outputs": [
    {
     "name": "stdout",
     "output_type": "stream",
     "text": [
      "Max area: 4084558.0 square meters\n",
      "Min area: 1.0 square meters\n",
      "Mean area: 11522.0 square meters\n"
     ]
    }
   ],
   "source": [
    "print(\"Max area: {maximum} square meters\".format(maximum=round(max_area, 0)))\n",
    "print(\"Min area: {minimum} square meters\".format(minimum=round(min_area, 0)))\n",
    "print(\"Mean area: {mean} square meters\".format(mean=round(mean_area, 0)))"
   ]
  },
  {
   "cell_type": "code",
   "execution_count": 17,
   "metadata": {},
   "outputs": [],
   "source": [
    "# Select a class\n",
    "selection = data.loc[data[\"CLASS\"]==36200]"
   ]
  },
  {
   "cell_type": "code",
   "execution_count": 18,
   "metadata": {},
   "outputs": [
    {
     "data": {
      "image/png": "[encoded data removed]",
      "text/plain": [
       "<Figure size 432x288 with 1 Axes>"
      ]
     },
     "metadata": {
      "needs_background": "light"
     },
     "output_type": "display_data"
    }
   ],
   "source": [
    "selection.plot();"
   ]
  },
  {
   "cell_type": "code",
   "execution_count": 19,
   "metadata": {},
   "outputs": [],
   "source": [
    "# Create a output path for the data\n",
    "#output_folder = r\"L2_data/\"\n",
    "output_fp = os.path.join(\"\", \"Class_36200.shp\")"
   ]
  },
  {
   "cell_type": "code",
   "execution_count": 20,
   "metadata": {},
   "outputs": [],
   "source": [
    "# Write those rows into a new file (the default output file format is Shapefile)\n",
    "selection.to_file(output_fp)"
   ]
  },
  {
   "cell_type": "code",
   "execution_count": 21,
   "metadata": {},
   "outputs": [
    {
     "data": {
      "text/html": [
       "<div>\n",
       "<style scoped>\n",
       "    .dataframe tbody tr th:only-of-type {\n",
       "        vertical-align: middle;\n",
       "    }\n",
       "\n",
       "    .dataframe tbody tr th {\n",
       "        vertical-align: top;\n",
       "    }\n",
       "\n",
       "    .dataframe thead th {\n",
       "        text-align: right;\n",
       "    }\n",
       "</style>\n",
       "<table border=\"1\" class=\"dataframe\">\n",
       "  <thead>\n",
       "    <tr style=\"text-align: right;\">\n",
       "      <th></th>\n",
       "      <th>GROUP</th>\n",
       "      <th>CLASS</th>\n",
       "      <th>geometry</th>\n",
       "      <th>area</th>\n",
       "    </tr>\n",
       "  </thead>\n",
       "  <tbody>\n",
       "    <tr>\n",
       "      <td>0</td>\n",
       "      <td>64</td>\n",
       "      <td>32421</td>\n",
       "      <td>POLYGON ((379394.248 6689991.936, 379389.790 6...</td>\n",
       "      <td>76.027392</td>\n",
       "    </tr>\n",
       "    <tr>\n",
       "      <td>1</td>\n",
       "      <td>64</td>\n",
       "      <td>32421</td>\n",
       "      <td>POLYGON ((378980.811 6689359.377, 378983.401 6...</td>\n",
       "      <td>2652.054186</td>\n",
       "    </tr>\n",
       "    <tr>\n",
       "      <td>2</td>\n",
       "      <td>64</td>\n",
       "      <td>32421</td>\n",
       "      <td>POLYGON ((378804.766 6689256.471, 378817.107 6...</td>\n",
       "      <td>3185.649995</td>\n",
       "    </tr>\n",
       "    <tr>\n",
       "      <td>3</td>\n",
       "      <td>64</td>\n",
       "      <td>32421</td>\n",
       "      <td>POLYGON ((379229.695 6685025.111, 379233.366 6...</td>\n",
       "      <td>13075.165279</td>\n",
       "    </tr>\n",
       "    <tr>\n",
       "      <td>4</td>\n",
       "      <td>64</td>\n",
       "      <td>32421</td>\n",
       "      <td>POLYGON ((379825.199 6685096.247, 379829.651 6...</td>\n",
       "      <td>3980.682621</td>\n",
       "    </tr>\n",
       "  </tbody>\n",
       "</table>\n",
       "</div>"
      ],
      "text/plain": [
       "   GROUP  CLASS                                           geometry  \\\n",
       "0     64  32421  POLYGON ((379394.248 6689991.936, 379389.790 6...   \n",
       "1     64  32421  POLYGON ((378980.811 6689359.377, 378983.401 6...   \n",
       "2     64  32421  POLYGON ((378804.766 6689256.471, 378817.107 6...   \n",
       "3     64  32421  POLYGON ((379229.695 6685025.111, 379233.366 6...   \n",
       "4     64  32421  POLYGON ((379825.199 6685096.247, 379829.651 6...   \n",
       "\n",
       "           area  \n",
       "0     76.027392  \n",
       "1   2652.054186  \n",
       "2   3185.649995  \n",
       "3  13075.165279  \n",
       "4   3980.682621  "
      ]
     },
     "execution_count": 21,
     "metadata": {},
     "output_type": "execute_result"
    }
   ],
   "source": [
    "data.head()"
   ]
  },
  {
   "cell_type": "code",
   "execution_count": 22,
   "metadata": {},
   "outputs": [
    {
     "data": {
      "text/plain": [
       "array([32421, 32200, 34300, 34100, 34700, 32500, 32112, 32111, 32611,\n",
       "       32612, 32800, 32900, 35300, 35412, 35411, 35421, 33000, 33100,\n",
       "       36200, 36313], dtype=int64)"
      ]
     },
     "execution_count": 22,
     "metadata": {},
     "output_type": "execute_result"
    }
   ],
   "source": [
    "data['CLASS'].uniqueque()"
   ]
  },
  {
   "cell_type": "code",
   "execution_count": 23,
   "metadata": {},
   "outputs": [
    {
     "data": {
      "text/plain": [
       "<pandas.core.groupby.generic.DataFrameGroupBy object at 0x0000020F3E445948>"
      ]
     },
     "execution_count": 23,
     "metadata": {},
     "output_type": "execute_result"
    }
   ],
   "source": [
    "# Group the data by class\n",
    "grouped = data.groupby('CLASS')\n",
    "\n",
    "# Let's see what we have\n",
    "grouped"
   ]
  },
  {
   "cell_type": "code",
   "execution_count": 24,
   "metadata": {},
   "outputs": [
    {
     "data": {
      "text/plain": [
       "dict_keys([32111, 32112, 32200, 32421, 32500, 32611, 32612, 32800, 32900, 33000, 33100, 34100, 34300, 34700, 35300, 35411, 35412, 35421, 36200, 36313])"
      ]
     },
     "execution_count": 24,
     "metadata": {},
     "output_type": "execute_result"
    }
   ],
   "source": [
    "grouped.groups.keys()"
   ]
  },
  {
   "cell_type": "code",
   "execution_count": 25,
   "metadata": {},
   "outputs": [
    {
     "name": "stdout",
     "output_type": "stream",
     "text": [
      "Terrain class: 32111\n",
      "Number of rows: 1 \n",
      "\n",
      "Terrain class: 32112\n",
      "Number of rows: 1 \n",
      "\n",
      "Terrain class: 32200\n",
      "Number of rows: 2 \n",
      "\n",
      "Terrain class: 32421\n",
      "Number of rows: 110 \n",
      "\n",
      "Terrain class: 32500\n",
      "Number of rows: 2 \n",
      "\n",
      "Terrain class: 32611\n",
      "Number of rows: 257 \n",
      "\n",
      "Terrain class: 32612\n",
      "Number of rows: 11 \n",
      "\n",
      "Terrain class: 32800\n",
      "Number of rows: 80 \n",
      "\n",
      "Terrain class: 32900\n",
      "Number of rows: 28 \n",
      "\n",
      "Terrain class: 33000\n",
      "Number of rows: 5 \n",
      "\n",
      "Terrain class: 33100\n",
      "Number of rows: 118 \n",
      "\n",
      "Terrain class: 34100\n",
      "Number of rows: 3005 \n",
      "\n",
      "Terrain class: 34300\n",
      "Number of rows: 1 \n",
      "\n",
      "Terrain class: 34700\n",
      "Number of rows: 3 \n",
      "\n",
      "Terrain class: 35300\n",
      "Number of rows: 134 \n",
      "\n",
      "Terrain class: 35411\n",
      "Number of rows: 35 \n",
      "\n",
      "Terrain class: 35412\n",
      "Number of rows: 449 \n",
      "\n",
      "Terrain class: 35421\n",
      "Number of rows: 5 \n",
      "\n",
      "Terrain class: 36200\n",
      "Number of rows: 56 \n",
      "\n",
      "Terrain class: 36313\n",
      "Number of rows: 8 \n",
      "\n"
     ]
    }
   ],
   "source": [
    "# Iterate over the group object\n",
    "for key, group in grouped:\n",
    "\n",
    "    # Let's check how many rows each group has:\n",
    "    print('Terrain class:', key)\n",
    "    print('Number of rows:', len(group), \"\\n\")"
   ]
  },
  {
   "cell_type": "code",
   "execution_count": 26,
   "metadata": {},
   "outputs": [
    {
     "data": {
      "text/html": [
       "<div>\n",
       "<style scoped>\n",
       "    .dataframe tbody tr th:only-of-type {\n",
       "        vertical-align: middle;\n",
       "    }\n",
       "\n",
       "    .dataframe tbody tr th {\n",
       "        vertical-align: top;\n",
       "    }\n",
       "\n",
       "    .dataframe thead th {\n",
       "        text-align: right;\n",
       "    }\n",
       "</style>\n",
       "<table border=\"1\" class=\"dataframe\">\n",
       "  <thead>\n",
       "    <tr style=\"text-align: right;\">\n",
       "      <th></th>\n",
       "      <th>GROUP</th>\n",
       "      <th>CLASS</th>\n",
       "      <th>geometry</th>\n",
       "      <th>area</th>\n",
       "    </tr>\n",
       "  </thead>\n",
       "  <tbody>\n",
       "    <tr>\n",
       "      <td>0</td>\n",
       "      <td>64</td>\n",
       "      <td>32421</td>\n",
       "      <td>POLYGON ((379394.248 6689991.936, 379389.790 6...</td>\n",
       "      <td>76.027392</td>\n",
       "    </tr>\n",
       "    <tr>\n",
       "      <td>1</td>\n",
       "      <td>64</td>\n",
       "      <td>32421</td>\n",
       "      <td>POLYGON ((378980.811 6689359.377, 378983.401 6...</td>\n",
       "      <td>2652.054186</td>\n",
       "    </tr>\n",
       "    <tr>\n",
       "      <td>2</td>\n",
       "      <td>64</td>\n",
       "      <td>32421</td>\n",
       "      <td>POLYGON ((378804.766 6689256.471, 378817.107 6...</td>\n",
       "      <td>3185.649995</td>\n",
       "    </tr>\n",
       "    <tr>\n",
       "      <td>3</td>\n",
       "      <td>64</td>\n",
       "      <td>32421</td>\n",
       "      <td>POLYGON ((379229.695 6685025.111, 379233.366 6...</td>\n",
       "      <td>13075.165279</td>\n",
       "    </tr>\n",
       "    <tr>\n",
       "      <td>4</td>\n",
       "      <td>64</td>\n",
       "      <td>32421</td>\n",
       "      <td>POLYGON ((379825.199 6685096.247, 379829.651 6...</td>\n",
       "      <td>3980.682621</td>\n",
       "    </tr>\n",
       "    <tr>\n",
       "      <td>...</td>\n",
       "      <td>...</td>\n",
       "      <td>...</td>\n",
       "      <td>...</td>\n",
       "      <td>...</td>\n",
       "    </tr>\n",
       "    <tr>\n",
       "      <td>4303</td>\n",
       "      <td>64</td>\n",
       "      <td>36313</td>\n",
       "      <td>POLYGON ((377127.305 6688073.257, 377116.045 6...</td>\n",
       "      <td>9619.307973</td>\n",
       "    </tr>\n",
       "    <tr>\n",
       "      <td>4304</td>\n",
       "      <td>64</td>\n",
       "      <td>36313</td>\n",
       "      <td>POLYGON ((371141.897 6677999.999, 371139.757 6...</td>\n",
       "      <td>25266.167705</td>\n",
       "    </tr>\n",
       "    <tr>\n",
       "      <td>4305</td>\n",
       "      <td>64</td>\n",
       "      <td>36313</td>\n",
       "      <td>POLYGON ((371498.720 6680399.799, 371497.585 6...</td>\n",
       "      <td>364.087680</td>\n",
       "    </tr>\n",
       "    <tr>\n",
       "      <td>4306</td>\n",
       "      <td>64</td>\n",
       "      <td>36313</td>\n",
       "      <td>POLYGON ((375668.607 6682942.062, 375671.489 6...</td>\n",
       "      <td>2651.800270</td>\n",
       "    </tr>\n",
       "    <tr>\n",
       "      <td>4307</td>\n",
       "      <td>64</td>\n",
       "      <td>36313</td>\n",
       "      <td>POLYGON ((368411.063 6679328.990, 368411.424 6...</td>\n",
       "      <td>376.503380</td>\n",
       "    </tr>\n",
       "  </tbody>\n",
       "</table>\n",
       "<p>80 rows × 4 columns</p>\n",
       "</div>"
      ],
      "text/plain": [
       "      GROUP  CLASS                                           geometry  \\\n",
       "0        64  32421  POLYGON ((379394.248 6689991.936, 379389.790 6...   \n",
       "1        64  32421  POLYGON ((378980.811 6689359.377, 378983.401 6...   \n",
       "2        64  32421  POLYGON ((378804.766 6689256.471, 378817.107 6...   \n",
       "3        64  32421  POLYGON ((379229.695 6685025.111, 379233.366 6...   \n",
       "4        64  32421  POLYGON ((379825.199 6685096.247, 379829.651 6...   \n",
       "...     ...    ...                                                ...   \n",
       "4303     64  36313  POLYGON ((377127.305 6688073.257, 377116.045 6...   \n",
       "4304     64  36313  POLYGON ((371141.897 6677999.999, 371139.757 6...   \n",
       "4305     64  36313  POLYGON ((371498.720 6680399.799, 371497.585 6...   \n",
       "4306     64  36313  POLYGON ((375668.607 6682942.062, 375671.489 6...   \n",
       "4307     64  36313  POLYGON ((368411.063 6679328.990, 368411.424 6...   \n",
       "\n",
       "              area  \n",
       "0        76.027392  \n",
       "1      2652.054186  \n",
       "2      3185.649995  \n",
       "3     13075.165279  \n",
       "4      3980.682621  \n",
       "...            ...  \n",
       "4303   9619.307973  \n",
       "4304  25266.167705  \n",
       "4305    364.087680  \n",
       "4306   2651.800270  \n",
       "4307    376.503380  \n",
       "\n",
       "[80 rows x 4 columns]"
      ]
     },
     "execution_count": 26,
     "metadata": {},
     "output_type": "execute_result"
    }
   ],
   "source": [
    "grouped.head()"
   ]
  },
  {
   "cell_type": "code",
   "execution_count": 27,
   "metadata": {},
   "outputs": [
    {
     "data": {
      "text/html": [
       "<div>\n",
       "<style scoped>\n",
       "    .dataframe tbody tr th:only-of-type {\n",
       "        vertical-align: middle;\n",
       "    }\n",
       "\n",
       "    .dataframe tbody tr th {\n",
       "        vertical-align: top;\n",
       "    }\n",
       "\n",
       "    .dataframe thead th {\n",
       "        text-align: right;\n",
       "    }\n",
       "</style>\n",
       "<table border=\"1\" class=\"dataframe\">\n",
       "  <thead>\n",
       "    <tr style=\"text-align: right;\">\n",
       "      <th></th>\n",
       "      <th>GROUP</th>\n",
       "      <th>CLASS</th>\n",
       "      <th>geometry</th>\n",
       "      <th>area</th>\n",
       "    </tr>\n",
       "  </thead>\n",
       "  <tbody>\n",
       "    <tr>\n",
       "      <td>4303</td>\n",
       "      <td>64</td>\n",
       "      <td>36313</td>\n",
       "      <td>POLYGON ((377127.305 6688073.257, 377116.045 6...</td>\n",
       "      <td>9619.307973</td>\n",
       "    </tr>\n",
       "    <tr>\n",
       "      <td>4304</td>\n",
       "      <td>64</td>\n",
       "      <td>36313</td>\n",
       "      <td>POLYGON ((371141.897 6677999.999, 371139.757 6...</td>\n",
       "      <td>25266.167705</td>\n",
       "    </tr>\n",
       "    <tr>\n",
       "      <td>4305</td>\n",
       "      <td>64</td>\n",
       "      <td>36313</td>\n",
       "      <td>POLYGON ((371498.720 6680399.799, 371497.585 6...</td>\n",
       "      <td>364.087680</td>\n",
       "    </tr>\n",
       "    <tr>\n",
       "      <td>4306</td>\n",
       "      <td>64</td>\n",
       "      <td>36313</td>\n",
       "      <td>POLYGON ((375668.607 6682942.062, 375671.489 6...</td>\n",
       "      <td>2651.800270</td>\n",
       "    </tr>\n",
       "    <tr>\n",
       "      <td>4307</td>\n",
       "      <td>64</td>\n",
       "      <td>36313</td>\n",
       "      <td>POLYGON ((368411.063 6679328.990, 368411.424 6...</td>\n",
       "      <td>376.503380</td>\n",
       "    </tr>\n",
       "  </tbody>\n",
       "</table>\n",
       "</div>"
      ],
      "text/plain": [
       "      GROUP  CLASS                                           geometry  \\\n",
       "4303     64  36313  POLYGON ((377127.305 6688073.257, 377116.045 6...   \n",
       "4304     64  36313  POLYGON ((371141.897 6677999.999, 371139.757 6...   \n",
       "4305     64  36313  POLYGON ((371498.720 6680399.799, 371497.585 6...   \n",
       "4306     64  36313  POLYGON ((375668.607 6682942.062, 375671.489 6...   \n",
       "4307     64  36313  POLYGON ((368411.063 6679328.990, 368411.424 6...   \n",
       "\n",
       "              area  \n",
       "4303   9619.307973  \n",
       "4304  25266.167705  \n",
       "4305    364.087680  \n",
       "4306   2651.800270  \n",
       "4307    376.503380  "
      ]
     },
     "execution_count": 27,
     "metadata": {},
     "output_type": "execute_result"
    }
   ],
   "source": [
    "group.head()"
   ]
  },
  {
   "cell_type": "code",
   "execution_count": 30,
   "metadata": {},
   "outputs": [],
   "source": [
    "# Determine output directory\n",
    "output_folder = \"data/\"\n",
    "\n",
    "# Create a new folder called 'Results'\n",
    "result_folder = os.path.join(output_folder, 'Results')\n",
    "\n",
    "# Check if the folder exists already\n",
    "if not os.path.exists(result_folder):\n",
    "    # If it does not exist, create one\n",
    "    os.makedirs(result_folder)"
   ]
  },
  {
   "cell_type": "code",
   "execution_count": 31,
   "metadata": {},
   "outputs": [
    {
     "name": "stdout",
     "output_type": "stream",
     "text": [
      "Saving file terrain_32111.shp\n",
      "Saving file terrain_32112.shp\n",
      "Saving file terrain_32200.shp\n",
      "Saving file terrain_32421.shp\n",
      "Saving file terrain_32500.shp\n",
      "Saving file terrain_32611.shp\n",
      "Saving file terrain_32612.shp\n",
      "Saving file terrain_32800.shp\n",
      "Saving file terrain_32900.shp\n",
      "Saving file terrain_33000.shp\n",
      "Saving file terrain_33100.shp\n",
      "Saving file terrain_34100.shp\n",
      "Saving file terrain_34300.shp\n",
      "Saving file terrain_34700.shp\n",
      "Saving file terrain_35300.shp\n",
      "Saving file terrain_35411.shp\n",
      "Saving file terrain_35412.shp\n",
      "Saving file terrain_35421.shp\n",
      "Saving file terrain_36200.shp\n",
      "Saving file terrain_36313.shp\n"
     ]
    }
   ],
   "source": [
    "# Iterate over the groups\n",
    "for key, group in grouped:\n",
    "    # Format the filename\n",
    "    output_name = \"terrain_%s.shp\" % str(key)\n",
    "\n",
    "    # Print information about the process\n",
    "    print(\"Saving file\", os.path.basename(output_name))\n",
    "\n",
    "    # Create an output path\n",
    "    outpath = os.path.join(result_folder, output_name)\n",
    "\n",
    "    # Export the data\n",
    "    group.to_file(outpath)"
   ]
  },
  {
   "cell_type": "code",
   "execution_count": 32,
   "metadata": {},
   "outputs": [
    {
     "data": {
      "text/plain": [
       "CLASS\n",
       "32111        1834.0\n",
       "32112        2148.0\n",
       "32200      105737.0\n",
       "32421      702073.0\n",
       "32500      109747.0\n",
       "32611    13135597.0\n",
       "32612      107343.0\n",
       "32800     1465278.0\n",
       "32900      617209.0\n",
       "33000      659465.0\n",
       "33100     3777595.0\n",
       "34100    12381611.0\n",
       "34300        1627.0\n",
       "34700        2786.0\n",
       "35300     1382940.0\n",
       "35411      411198.0\n",
       "35412     4710133.0\n",
       "35421       67864.0\n",
       "36200     9986966.0\n",
       "36313       43459.0\n",
       "Name: area, dtype: float64"
      ]
     },
     "execution_count": 32,
     "metadata": {},
     "output_type": "execute_result"
    }
   ],
   "source": [
    "area_info = grouped.area.sum().round()\n",
    "area_info"
   ]
  },
  {
   "cell_type": "code",
   "execution_count": 33,
   "metadata": {},
   "outputs": [],
   "source": [
    "# Create an output path\n",
    "area_info.to_csv(\"terrain_class_areas.csv\", header=True)"
   ]
  },
  {
   "cell_type": "code",
   "execution_count": null,
   "metadata": {},
   "outputs": [],
   "source": []
  }
 ],
 "metadata": {
  "kernelspec": {
   "display_name": "Python 3",
   "language": "python",
   "name": "python3"
  },
  "language_info": {
   "codemirror_mode": {
    "name": "ipython",
    "version": 3
   },
   "file_extension": ".py",
   "mimetype": "text/x-python",
   "name": "python",
   "nbconvert_exporter": "python",
   "pygments_lexer": "ipython3",
   "version": "3.7.4"
  }
 },
 "nbformat": 4,
 "nbformat_minor": 2
}
