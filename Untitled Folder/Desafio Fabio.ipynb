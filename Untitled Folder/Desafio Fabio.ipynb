{
 "cells": [
  {
   "cell_type": "code",
   "execution_count": 1,
   "metadata": {},
   "outputs": [
    {
     "name": "stdout",
     "output_type": "stream",
     "text": [
      "Collecting package metadata (repodata.json): | ^C\n"
     ]
    }
   ],
   "source": [
    "!conda install -c anaconda pandas-datareader"
   ]
  },
  {
   "cell_type": "code",
   "execution_count": 1,
   "metadata": {},
   "outputs": [],
   "source": [
    "from pandas_datareader import data as wb\n",
    "import pandas as pd\n",
    "tickers = ['USDBRL=X', 'BTC-USD', 'ARSBRL=X', 'EURBRL=X']\n",
    "mydata= pd.DataFrame()\n",
    "for i in tickers:\n",
    "    mydata[i] = wb.DataReader(i, data_source='yahoo', start='2020-06-25')['Close']\n",
    "    \n",
    "mydata.rename(columns={'USDBRL=X':'Dolar', 'BTC-USD':'Bitcoin', 'ARSBRL=X':'Peso Argentino', 'EURBRL=X': 'Euro'}, inplace = True)"
   ]
  },
  {
   "cell_type": "code",
   "execution_count": 2,
   "metadata": {},
   "outputs": [
    {
     "data": {
      "text/html": [
       "<div>\n",
       "<style scoped>\n",
       "    .dataframe tbody tr th:only-of-type {\n",
       "        vertical-align: middle;\n",
       "    }\n",
       "\n",
       "    .dataframe tbody tr th {\n",
       "        vertical-align: top;\n",
       "    }\n",
       "\n",
       "    .dataframe thead th {\n",
       "        text-align: right;\n",
       "    }\n",
       "</style>\n",
       "<table border=\"1\" class=\"dataframe\">\n",
       "  <thead>\n",
       "    <tr style=\"text-align: right;\">\n",
       "      <th></th>\n",
       "      <th>Dolar</th>\n",
       "      <th>Bitcoin</th>\n",
       "      <th>Peso Argentino</th>\n",
       "      <th>Euro</th>\n",
       "    </tr>\n",
       "    <tr>\n",
       "      <th>Date</th>\n",
       "      <th></th>\n",
       "      <th></th>\n",
       "      <th></th>\n",
       "      <th></th>\n",
       "    </tr>\n",
       "  </thead>\n",
       "  <tbody>\n",
       "    <tr>\n",
       "      <th>2020-06-25</th>\n",
       "      <td>5.3339</td>\n",
       "      <td>9224.641602</td>\n",
       "      <td>0.07572</td>\n",
       "      <td>5.9782</td>\n",
       "    </tr>\n",
       "  </tbody>\n",
       "</table>\n",
       "</div>"
      ],
      "text/plain": [
       "             Dolar      Bitcoin  Peso Argentino    Euro\n",
       "Date                                                   \n",
       "2020-06-25  5.3339  9224.641602         0.07572  5.9782"
      ]
     },
     "execution_count": 2,
     "metadata": {},
     "output_type": "execute_result"
    }
   ],
   "source": [
    "mydata.head()"
   ]
  },
  {
   "cell_type": "code",
   "execution_count": null,
   "metadata": {
    "scrolled": true
   },
   "outputs": [],
   "source": [
    "!pip3 install pycep-correios"
   ]
  },
  {
   "cell_type": "code",
   "execution_count": 3,
   "metadata": {},
   "outputs": [
    {
     "name": "stderr",
     "output_type": "stream",
     "text": [
      "/home/eduardo/anaconda3/lib/python3.7/site-packages/ipykernel_launcher.py:3: DeprecationWarning: Call to deprecated function (or staticmethod) consultar_cep. ('consultar_cep' is no longer supported and will be removed in a future release. Please, use 'get_address_from_cep' instead.) -- Deprecated since version 4.0.0.\n",
      "  This is separate from the ipykernel package so we can avoid doing imports until\n"
     ]
    },
    {
     "name": "stdout",
     "output_type": "stream",
     "text": [
      "Rua Geraldino Campista\n",
      "Santo Antônio\n",
      "Itajubá\n",
      "MG\n",
      "37503130\n"
     ]
    }
   ],
   "source": [
    "import pycep_correios\n",
    "\n",
    "endereco = pycep_correios.consultar_cep('37503130')\n",
    "\n",
    "print(endereco['end'])\n",
    "print(endereco['bairro'])\n",
    "print(endereco['cidade'])\n",
    "print(endereco['uf'])\n",
    "print(endereco['cep'])"
   ]
  },
  {
   "cell_type": "code",
   "execution_count": null,
   "metadata": {},
   "outputs": [],
   "source": []
  }
 ],
 "metadata": {
  "kernelspec": {
   "display_name": "Python 3",
   "language": "python",
   "name": "python3"
  },
  "language_info": {
   "codemirror_mode": {
    "name": "ipython",
    "version": 3
   },
   "file_extension": ".py",
   "mimetype": "text/x-python",
   "name": "python",
   "nbconvert_exporter": "python",
   "pygments_lexer": "ipython3",
   "version": "3.7.3"
  }
 },
 "nbformat": 4,
 "nbformat_minor": 2
}
